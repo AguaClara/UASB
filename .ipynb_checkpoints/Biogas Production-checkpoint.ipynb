{
 "cells": [
  {
   "cell_type": "code",
   "execution_count": 5,
   "metadata": {},
   "outputs": [],
   "source": [
    "from aide_design.play import*\n",
    "import math\n",
    "#from pytexit import py2tex"
   ]
  },
  {
   "cell_type": "markdown",
   "metadata": {},
   "source": [
    "<div class=\"alert alert-block alert-warning\">\n",
    "A general comment is that is would be cool to make user input cells a different color from the rest so that it is clear what is dependent and what is independent. This is something that can be done later once we put all the design calcs in the same doc, but I just wanted to mention it here so we don't forget."
   ]
  },
  {
   "cell_type": "markdown",
   "metadata": {},
   "source": [
    "## To-do (starting next semester)\n",
    "0. Add graphics (Zac)\n",
    "1. Calculate hydrostatic pressure within headspace for seal\n",
    "2. Make design decision on biogas capture: lidspace or bag (or other possible options)\n",
    "3. Document and write code for biogas capture"
   ]
  },
  {
   "cell_type": "markdown",
   "metadata": {},
   "source": [
    "# Biogas Production Calculations"
   ]
  },
  {
   "cell_type": "markdown",
   "metadata": {},
   "source": [
    "<div class=\"alert alert-block alert-warning\">\n",
    "Review this section for grammer issues (ex: evergy instead of energy)"
   ]
  },
  {
   "cell_type": "markdown",
   "metadata": {},
   "source": [
    "## Introduction\n",
    "Biogas is a mixture of methane, carbon dioxide, and other trace gases that are produced naturally through anaerobic breakdown of BOD.  As waste runs through the UASB reactor, biogas is naturally produced, and rises up through the reactor.  Biogas serves as a potential energy source, and if properly stored can be utilized for cooking, heating, or power generation.  If biogas is not utilized in this way, it must be burned off with a pilot light or similar apparatus to reduce greenhouse gas emissions.\n",
    "\n",
    "In order to capture biogas, we aimed to design a simple system that could be implemented in rural areas with small populations, and still provide biogas for home use in a simple and safe way.  We also want to minimize any leakages of biogas to the environment, for safety and environmental concerns.  "
   ]
  },
  {
   "cell_type": "markdown",
   "metadata": {},
   "source": [
    "<div class=\"alert alert-block alert-danger\">\n",
    "Update with new design once complete"
   ]
  },
  {
   "cell_type": "markdown",
   "metadata": {},
   "source": [
    "## Biogas Capture Design\n",
    "\n",
    "The design we settled on utilizes a headspace in the top of the reactor for biogas collection.  As biogas is produced in the blanket below, it rises, naturally stirring the tank water.  The gas is diverted from the effluent line by small triangular pieces, and makes its way into the headspace, where it builds up over time.  \n",
    "\n",
    "As gas builds up, it is kept in a hydrodynamic seal with water along the outside of the headspace.\n",
    "Add images and description of biogas capture system.  Describe design process and key ideas behind it"
   ]
  },
  {
   "cell_type": "markdown",
   "metadata": {},
   "source": [
    "## Design Parameters\n",
    "\n",
    "The table below summarizes the parameters we chose for our design, and the reasons they were chosen.  These values are subject to change with future design.\n",
    "\n",
    "Parameter| Value | Basis of Design\n",
    ":------------- |:-------------|:--------\n",
    "Height Reactor| 7 ft | Max allowed to fabricate in lab safely\n",
    "Diameter Reactor |3 ft | Based on 1 L/s plant design\n",
    "Height sludge blanket | 3.5 ft| Assumed half height of reactor\n",
    "Height Headspace | TBD | Based on size calculations and effluent tube placement \n",
    "Diameter Headspace | TBD| Based on size calculations\n",
    "COD Load | 200 mg/L | Average value for municipal wastewater (extremely variable)"
   ]
  },
  {
   "cell_type": "markdown",
   "metadata": {},
   "source": [
    "## Critical Assumptions\n",
    "\n",
    "In designing the biogas capture, there are many areas of uncertainty that are challenging to characterize before we can collect data from our own reactor.  In order to minimize uncertainty and provide the most accurate calculations, we used a series of assumptions for these areas.  The assumed values, and their justification and sources are detailed in the table below.\n",
    "\n",
    "Parameter| Value | Justification\n",
    ":------------- |:-------------|:--------\n",
    "WW_gen| 3 ml/s | Rule of thumb from Monroe\n",
    "HRT |4 hrs | Previous lab test and literature review\n",
    "COD Removal | 70% | Assumed efficiency of reactor in COD breakdown\n",
    "Maximum Biogas Production | 37.8% | Calculated using stoichiometry (see Spring 2014 UASB report) \n",
    "Average Biogas Production | 16% | Taken from average output of Aguaclara reactors (see Spring 2014 report)\n",
    "Minimum Biogas Production | 6% | From lower bound in [Van Lier report](https://courses.edx.org/c4x/DelftX/CTB3365STx/asset/Chap_4_Van_Lier_et_al.pdf)\n",
    "Max Stove Hours | 0.005 hrs/L Biogas | From biogas usage page on [SSWM](https://www.sswm.info/content/direct-use-biogas)\n",
    "Min Stove Hours | 0.0022 hrs/L Biogas | From biogas usage page on [SSWM](https://www.sswm.info/content/direct-use-biogas)\n"
   ]
  },
  {
   "cell_type": "code",
   "execution_count": 6,
   "metadata": {
    "collapsed": true
   },
   "outputs": [],
   "source": [
    "#Assumptions Defined\n",
    "Diameter = 3 * u.ft\n",
    "Height = 7 * u.ft\n",
    "COD_Load_min = 100 * u.mg/u.L\n",
    "COD_Load_mid = 200 * u.mg/u.L\n",
    "COD_Load_max = 300 * u.mg/u.L"
   ]
  },
  {
   "cell_type": "markdown",
   "metadata": {},
   "source": [
    "# Size Calculations (Will become seperate python file)"
   ]
  },
  {
   "cell_type": "code",
   "execution_count": 7,
   "metadata": {
    "collapsed": true
   },
   "outputs": [],
   "source": [
    "def UASBSize(diam, height):\n",
    "    \"\"\"Takes the inputs of diameter and height. The bottom of the UASB is sloped\n",
    "    at 60 degrees with a 3 inch space across the bottom of the UASB. Assumes that half the reactor \n",
    "    contains the settled bed, which is used for the HRT. Returns five outputs: 1. height of the sloped\n",
    "    sides of the bottom geometry, 2. volume of sludge in the reactor, 3. flow rate,\n",
    "    4. number of people served with graywater, 5. number of people served with blackwater. \n",
    "    \"\"\"\n",
    "    \n",
    "    WW_gen = 3 * u.mL/u.s        #Wastewater generated per person, rule of thumb from Monroe\n",
    "    WW_gen_bw = 0.6 * u.mL/u.s   #Assumes 20% of mixed wastewater\n",
    "    HRT = 4 * u.hr               #Hydraulic Residence Time, determined from lab scale tests\n",
    "    \n",
    "    centerspace = 3 * u.inch     #Center space allows for a 3 inch pipe across the bottom\n",
    "    phi = math.atan((diam/2)/(centerspace/2))\n",
    "    angle = 60 * u.deg           #Angle of the sloped bottom\n",
    "    \n",
    "    height_cyl_hoof = diam/2 * np.tan(angle)    #Hoof is if the sloped bottom meets in the centerline\n",
    "    height_cyl_wedge = height_cyl_hoof - ((centerspace/2) * math.tan(angle)) #Wedge is if the sloped bottom is offset from the centerline\n",
    "    vol_cyl_wedge = height_cyl_wedge * (diam/2)**2 / 3 * ((\n",
    "        3*math.sin(phi) - 3*phi*math.cos(phi) - math.sin(phi)**3)/(1-math.cos(phi)))\n",
    "    vol_reactor = (math.pi * (diam / 2)**2 * height / 2) - (2 * vol_cyl_wedge)\n",
    "    \n",
    "    flow = vol_reactor / HRT\n",
    "    people_served = int(flow / WW_gen)       #People served per reactor\n",
    "    people_served_BW = int(flow / WW_gen_bw) #People served per reactor treating only blackwater\n",
    "    \n",
    "    output = [height_cyl_wedge.to(u.m), vol_reactor.to(u.L), flow.to(u.L/u.s), people_served, people_served_BW]\n",
    "    \n",
    "    print(\"The height of the bottom geometry is\",height_cyl_wedge.to(u.m))\n",
    "    print('The volume of the sludge in the reactor is', vol_reactor.to(u.L))\n",
    "    print('The flow rate of the reactor is', flow.to(u.L/u.s))\n",
    "    print('The number of people served by this reactor is', people_served)\n",
    "    print('The number of people served by this reactor if only blackwater is treated is', people_served_BW)\n",
    "    return output"
   ]
  },
  {
   "cell_type": "markdown",
   "metadata": {},
   "source": [
    "## Check on Size Calculation"
   ]
  },
  {
   "cell_type": "code",
   "execution_count": 8,
   "metadata": {},
   "outputs": [
    {
     "name": "stdout",
     "output_type": "stream",
     "text": [
      "The height of the bottom geometry is 0.7259 meter\n",
      "The volume of the sludge in the reactor is 520.8 liter\n",
      "The flow rate of the reactor is 0.03617 liter / second\n",
      "The number of people served by this reactor is 12\n",
      "The number of people served by this reactor if only blackwater is treated is 60\n"
     ]
    }
   ],
   "source": [
    "UASB_design = UASBSize(Diameter, Height)\n",
    "Flow_design = UASB_design[2]"
   ]
  },
  {
   "cell_type": "markdown",
   "metadata": {},
   "source": [
    "# Biogas Calculations"
   ]
  },
  {
   "cell_type": "code",
   "execution_count": 12,
   "metadata": {
    "collapsed": true
   },
   "outputs": [],
   "source": [
    "#Calculate Biogas Rate of Production (L/s) in UASB\n",
    "def BiogasProd(Flow, COD_Load):\n",
    "    COD = Flow * COD_Load\n",
    "    COD_rem = COD * 0.7 #Assuming x% efficency of COD removal and conversion in reactor\n",
    "    BGMax = COD_rem * 0.378 *(u.ml/u.mg) #Theoretical Productiom, from Fall 2014 UASB team report\n",
    "    BGMin = COD_rem * 0.06 *(u.ml/u.mg) #Production using minimum value from Van Lier report\n",
    "    BGAvg = COD_rem * 0.16 *(u.ml/u.mg) #Production using average value from Spring 2014 tests\n",
    "    return [BGMax, BGAvg, BGMin]\n",
    "\n",
    "#Calculate Energy Production from Biogas Produced\n",
    "def EnergyProduction(Biogas):\n",
    "    Biogas = Biogas.to(u.L/u.days)\n",
    "    SM_high = Biogas * 60 * u.min / (200 * u.L) #Hours of stove usage, given maximum efficency of stove\n",
    "    SM_low = Biogas * 60 * u.min / (450 * u.L)  #Hours of stove usage, given minimum efficency\n",
    "    #KWH = Biogas / (700 * u.L/u.kwh) #Kilowatt Hours generated from biogas used \n",
    "    return [SM_high,SM_low]"
   ]
  },
  {
   "cell_type": "markdown",
   "metadata": {},
   "source": [
    "## Check on Biogas Produced"
   ]
  },
  {
   "cell_type": "code",
   "execution_count": 13,
   "metadata": {},
   "outputs": [
    {
     "name": "stdout",
     "output_type": "stream",
     "text": [
      "Maximum biogas production is 1.914 milliliter / second \n",
      "Average biogas production is 0.8102 milliliter / second \n",
      "Minimum biogas production is 0.3038 milliliter / second\n"
     ]
    }
   ],
   "source": [
    "Biogas = BiogasProd(Flow_design, COD_Load_mid)\n",
    "BGMax = Biogas[0]\n",
    "BGAvg = Biogas[1]\n",
    "BGMin = Biogas[2]\n",
    "print(\"Maximum biogas production is\", BGMax, \"\\n\" \"Average biogas production is\", BGAvg, \"\\n\" \n",
    "      \"Minimum biogas production is\", BGMin)"
   ]
  },
  {
   "cell_type": "markdown",
   "metadata": {},
   "source": [
    "## Check on Energy Production"
   ]
  },
  {
   "cell_type": "code",
   "execution_count": 14,
   "metadata": {},
   "outputs": [
    {
     "name": "stdout",
     "output_type": "stream",
     "text": [
      "Maximum biogas production is between 49.61 minute / day and 22.05 minute / day \n",
      "Average biogas production is between 21 minute / day and 9.333 minute / day \n",
      "Minimum biogas production is between 7.875 minute / day and 3.5 minute / day\n"
     ]
    }
   ],
   "source": [
    "NRGMax = EnergyProduction(BGMax)\n",
    "NRGAvg = EnergyProduction(BGAvg)\n",
    "NRGMin = EnergyProduction(BGMin)\n",
    "\n",
    "print(\"Total minutes of stove use produced per day are between\", NRGMax[0], \"and\", NRGMax[1], \"\\n\" \n",
    "      \"Total minutes of stove use produced per day are between\", NRGAvg[0], \"and\", NRGAvg[1], \"\\n\" \n",
    "      \"Total minutes of stove use produced per day are between\", NRGMin[0], \"and\", NRGMin[1])"
   ]
  },
  {
   "cell_type": "markdown",
   "metadata": {},
   "source": [
    "# Headspace Design"
   ]
  },
  {
   "cell_type": "markdown",
   "metadata": {},
   "source": [
    "<div class=\"alert alert-block alert-danger\">\n",
    "This area needs to be revisited!  Our hydrostatic seal calculations should be included here, along with our ultimate design decision for the biogas capture."
   ]
  },
  {
   "cell_type": "markdown",
   "metadata": {},
   "source": [
    "To properly capture and store biogas produced before usage in homes, a headspace will be utilized in the UASB.  This top layer will collect gas rising through the UASB, and store it within until a manual offgassing event moves the gas to further storage or use."
   ]
  },
  {
   "cell_type": "code",
   "execution_count": null,
   "metadata": {
    "collapsed": true
   },
   "outputs": [],
   "source": [
    "#Filltime: determine time taken to fill headspace and push water completely downwards below level of seal\n",
    "#time_offgas = Maximum time allows before offgasing event that returns water level to original height\n",
    "#Offgas_Vol: Volume of gas released in each offgassing event \n",
    "def filltime(Headspace_Diam, Headspace_Height, WaterLevel, BiogasRate):\n",
    "    Vol0 = (math.pi * (Headspace_Diam / 2)**2 * (Headspace_Height - WaterLevel)) #volume of headspace without water initially\n",
    "    VolW = (math.pi * (Headspace_Diam / 2)**2 * WaterLevel) #Volume of water initially within headspace\n",
    "    time_offgas = VolW / BiogasRate\n",
    "    Offgas_Vol = Vol0 + VolW\n",
    "    return [time_offgas, Offgas_Vol]"
   ]
  },
  {
   "cell_type": "markdown",
   "metadata": {},
   "source": [
    "## Check for Filltime"
   ]
  },
  {
   "cell_type": "markdown",
   "metadata": {},
   "source": [
    "<div class=\"alert alert-block alert-danger\">\n",
    "Again, here we should try to use predefined variables as inputs (as I changed for the biogas calc)\n"
   ]
  },
  {
   "cell_type": "code",
   "execution_count": null,
   "metadata": {},
   "outputs": [],
   "source": [
    "Offgas = filltime(2.5 * u.ft, 3 * u.ft, 3 * u.ft, 1 * u.ft**3/u.day)\n",
    "Time_Offgas = Offgas[0]\n",
    "Vol_Offgas = Offgas[1]\n",
    "print(\"The time between offgas event is\", Time_Offgas, \"\\n\", \"The volume builtup between offgas events is\", Vol_Offgas)"
   ]
  }
 ],
 "metadata": {
  "kernelspec": {
   "display_name": "Python 3",
   "language": "python",
   "name": "python3"
  },
  "language_info": {
   "codemirror_mode": {
    "name": "ipython",
    "version": 3
   },
   "file_extension": ".py",
   "mimetype": "text/x-python",
   "name": "python",
   "nbconvert_exporter": "python",
   "pygments_lexer": "ipython3",
   "version": "3.6.1"
  }
 },
 "nbformat": 4,
 "nbformat_minor": 2
}
