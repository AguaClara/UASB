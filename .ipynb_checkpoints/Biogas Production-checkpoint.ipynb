{
 "cells": [
  {
   "cell_type": "code",
   "execution_count": 2,
   "metadata": {
    "collapsed": true
   },
   "outputs": [],
   "source": [
    "from aide_design.play import*\n",
    "import math\n",
    "from pytexit import py2tex"
   ]
  },
  {
   "cell_type": "markdown",
   "metadata": {},
   "source": [
    "<div class=\"alert alert-block alert-warning\">\n",
    "A general comment is that is would be cool to make user input cells a different color from the rest so that it is clear what is dependent and what is independent. This is something that can be done later once we put all the design calcs in the same doc, but I just wanted to mention it here so we don't forget."
   ]
  },
  {
   "cell_type": "markdown",
   "metadata": {},
   "source": [
    "# Biogas Production Calculations"
   ]
  },
  {
   "cell_type": "markdown",
   "metadata": {},
   "source": [
    "<div class=\"alert alert-block alert-warning\">\n",
    "Review this section for grammer issues (ex: evergy instead of energy)"
   ]
  },
  {
   "cell_type": "markdown",
   "metadata": {},
   "source": [
    "## Introduction\n",
    "One major section of the UASB design is production of biogas, a mixture of methane, carbon dioxide, and other trace gases produced from anaerobic bacteria within the bed.  This biogas can be burned, similar to natural gas and used for heating, evergy production, or cooking.  One goal of the UASB design is to maximize biogas production, and provide an easy system to store, access, and use the biogas in small scale communities. These calculations serve to characterize the production of this biogas, and calculate the necessary parameters for our gas capture lid.  "
   ]
  },
  {
   "cell_type": "markdown",
   "metadata": {},
   "source": [
    "<div class=\"alert alert-block alert-warning\">\n",
    "Let's add these pictures in before the final report."
   ]
  },
  {
   "cell_type": "markdown",
   "metadata": {},
   "source": [
    "## Biogas Capture Design\n",
    "\n",
    "Add images and description of biogas capture system.  Describe design process and key ideas behind it\n",
    "\n",
    "To properly capture gas rising through the UASB reactor, we utilize a gas capture headspace built into the top of the reactor."
   ]
  },
  {
   "cell_type": "markdown",
   "metadata": {},
   "source": [
    "<div class=\"alert alert-block alert-warning\">\n",
    "This is very helpful! Another thing that would be important to include here is a quick note that the treatment flow rate is based off our design parameters and size constraints. Flow rate is always important to include because it is how we usually measure the treatment capacity of a system.\n",
    "<br>\n",
    "\n",
    "\n",
    "Perhaps this section and the Critical Assumptions section would be better organized in a simple table format? You can edit this example table to include the values we need!\n",
    "\n",
    "Parameter| Value | Basis of Design\n",
    ":------------- |:-------------|:--------\n",
    "Height Reactor| 7 ft | max allowed to fabricate in lab safely\n",
    "Diameter Reactor |3 ft | based on 1 L/s plant design\n",
    "Height sludge blanket | 3.5 ft| assumed half height of reactor\n",
    "Distance between plate settlers | 2.5 cm| based on sedimentation tank design \n",
    "Angle of tube settler | 60 degrees| based on sedimentation tank design\n",
    "Thickness of plates | 2 mm| taken from corrugated plastic thickness\n"
   ]
  },
  {
   "cell_type": "markdown",
   "metadata": {},
   "source": [
    "## Design Parameters\n",
    "\n",
    "Here, we set a series of parameters for the design of our pilot scale reactor.  These values are subject to change, but they offer our current ideas on the size and function of our reactor.  The parameters and the reasons for their decision is detailed below.\n",
    "\n",
    "1. Height Reactor: 7 ft , max allowed to fabricate in lab safely\n",
    "2. Diameter Reactor: 3 ft, based on 1 L/s plant design\n",
    "3. Height sludge blanket: 3.5 ft, assumed half height of reactor\n",
    "4. Height Headspace: TBD from production calculations\n",
    "5. Diameter Headspace: TBD from production calculations\n",
    "6. COD_Load: 750 mg/L, medium value from most plants (can be varied)"
   ]
  },
  {
   "cell_type": "markdown",
   "metadata": {},
   "source": [
    "## Critical Assumptions\n",
    "\n",
    "In designing the biogas capture, there are many areas of uncertainty that are challenging to characterize before we can collect data from our own reactor.  In order to minimize uncertainty and provide the most accurate calculations, we used a series of assumptions for these areas.  The assumed values, and their justification and sources are detailed below.\n",
    "\n",
    "1. WW_gen: 3 ml/s, rule of thumb for wastewater production per person, from Monroe\n",
    "2. HRT: 4 hours, Number taken from previous lab scale tests and literature reviews\n",
    "3. COD_rem: 70%, Assumed efficency of reactor for breaking down COD, general number from the literature\n",
    "4. BG_Max: 37.8% of COD_rem, calculated from theoretical efficency, using stoichiometry of reaction.  Detailed in Spring 2014 UASB team report\n",
    "5. BG_Min: 6%, Minimum biogas production from COD load, taken from lower bound in [Van Lier report](https://courses.edx.org/c4x/DelftX/CTB3365STx/asset/Chap_4_Van_Lier_et_al.pdf)\n",
    "6. BG_Avg: 16%, Middle value, taken from average output in AguaClara reactors (in Spring 2014 UASB team report)\n",
    "7. SH_high: Assuming maximum efficency of a stove, using results from [SSWM](https://www.sswm.info/content/direct-use-biogas)\n",
    "8. SH_low: Assuming minimum efficency of a stove, using results from [SSWM](https://www.sswm.info/content/direct-use-biogas)"
   ]
  },
  {
   "cell_type": "markdown",
   "metadata": {},
   "source": [
    "<div class=\"alert alert-block alert-warning\">\n",
    "This to-do list should be updated right at the end of the semester! :)"
   ]
  },
  {
   "cell_type": "markdown",
   "metadata": {},
   "source": [
    "## Current to-do\n",
    "\n",
    "1. Add new volume adjustments for sloped bottom\n",
    "2. Run calculation with set initial parameters\n",
    "3. Find height (and diameter) value that provides desired offgassing rate (every 1-2 days) and does not constrain tube settler or sludge weir (less than 2.5 feet)\n",
    "4. Use these values to determine tube settler and sludge weir location/geometry\n",
    "\n",
    "5. Edit the returns on the functions to return arrays"
   ]
  },
  {
   "cell_type": "markdown",
   "metadata": {},
   "source": [
    "# Size Calculations (Will become seperate python file)"
   ]
  },
  {
   "cell_type": "code",
   "execution_count": 13,
   "metadata": {
    "collapsed": true
   },
   "outputs": [],
   "source": [
    "def UASBSize(diam, height):\n",
    "    \"\"\"Takes the inputs of diameter and height. The bottom of the UASB is sloped\n",
    "    at 60 degrees with a 3 inch space across the bottom of the UASB. Assumes that half the reactor \n",
    "    contains the settled bed, which is used for the HRT. Returns five outputs: 1. height of the sloped\n",
    "    sides of the bottom geometry, 2. volume of sludge in the reactor, 3. flow rate,\n",
    "    4. number of people served with graywater, 5. number of people served with blackwater. \n",
    "    \"\"\"\n",
    "    \n",
    "    WW_gen = 3 * u.mL/u.s        #Wastewater generated per person, rule of thumb from Monroe\n",
    "    WW_gen_bw = 0.6 * u.mL/u.s   #Assumes 20% of mixed wastewater\n",
    "    HRT = 4 * u.hr               #Hydraulic Residence Time, determined from lab scale tests\n",
    "    \n",
    "    centerspace = 3 * u.inch     #Center space allows for a 3 inch pipe across the bottom\n",
    "    phi = math.atan((diam/2)/(centerspace/2))\n",
    "    angle = 60 * u.deg           #Angle of the sloped bottom\n",
    "    \n",
    "    height_cyl_hoof = diam/2 * np.tan(angle)    #Hoof is if the sloped bottom meets in the centerline\n",
    "    height_cyl_wedge = height_cyl_hoof - ((centerspace/2) * math.tan(angle)) #Wedge is if the sloped bottom is offset from the centerline\n",
    "    vol_cyl_wedge = height_cyl_wedge * (diam/2)**2 / 3 * ((\n",
    "        3*math.sin(phi) - 3*phi*math.cos(phi) - math.sin(phi)**3)/(1-math.cos(phi)))\n",
    "    vol_reactor = (math.pi * (diam / 2)**2 * height / 2) - (2 * vol_cyl_wedge)\n",
    "    \n",
    "    flow = vol_reactor / HRT\n",
    "    people_served = int(flow / WW_gen)       #People served per reactor\n",
    "    people_served_BW = int(flow / WW_gen_bw) #People served per reactor treating only blackwater\n",
    "    \n",
    "    output = [height_cyl_wedge.to(u.m), vol_reactor.to(u.L), flow.to(u.L/u.s), people_served, people_served_BW]\n",
    "    \n",
    "    print(\"The height of the bottom geometry is\",height_cyl_wedge.to(u.m))\n",
    "    print('The volume of the sludge in the reactor is', vol_reactor.to(u.L))\n",
    "    print('The flow rate of the reactor is', flow.to(u.L/u.s))\n",
    "    print('The number of people served by this reactor is', people_served)\n",
    "    print('The number of people served by this reactor if only blackwater is treated is', people_served_BW)\n",
    "    return output"
   ]
  },
  {
   "cell_type": "markdown",
   "metadata": {},
   "source": [
    "## Check on Size Calculation"
   ]
  },
  {
   "cell_type": "markdown",
   "metadata": {},
   "source": [
    "<div class=\"alert alert-block alert-warning\">\n",
    "I'm making some new variables here so that they're easier to call on (for the sake of code dependency)"
   ]
  },
  {
   "cell_type": "code",
   "execution_count": 15,
   "metadata": {},
   "outputs": [
    {
     "name": "stdout",
     "output_type": "stream",
     "text": [
      "The height of the bottom geometry is 0.7259 meter\n",
      "The volume of the sludge in the reactor is 520.8 liter\n",
      "The flow rate of the reactor is 0.03617 liter / second\n",
      "The number of people served by this reactor is 12\n",
      "The number of people served by this reactor if only blackwater is treated is 60\n"
     ]
    }
   ],
   "source": [
    "UASB_design = UASBSize(3 * u.ft, 7 * u.ft)\n",
    "Flow_design = UASB_design[2]"
   ]
  },
  {
   "cell_type": "markdown",
   "metadata": {},
   "source": [
    "# Biogas Calculations"
   ]
  },
  {
   "cell_type": "code",
   "execution_count": 16,
   "metadata": {
    "collapsed": true
   },
   "outputs": [],
   "source": [
    "#Calculate Biogas Rate of Production (L/s) in UASB\n",
    "def BiogasProd(Flow, COD_Load):\n",
    "    COD = Flow * COD_Load\n",
    "    COD_rem = COD * 0.7 #Assuming x% efficency of COD removal and conversion in reactor\n",
    "    BGMax = COD_rem * 0.378 *(u.ml/u.mg) #Theoretical Productiom, from Fall 2014 UASB team report\n",
    "    BGMin = COD_rem * 0.06 *(u.ml/u.mg) #Production using minimum value from Van Lier report\n",
    "    BGAvg = COD_rem * 0.16 *(u.ml/u.mg) #Production using average value from Spring 2014 tests\n",
    "    return [BGMax, BGAvg, BGMin]\n",
    "\n",
    "#Calculate Energy Production from Biogas Produced\n",
    "def EnergyProduction(Biogas):\n",
    "    Biogas = Biogas.to(u.L/u.days)\n",
    "    SH_high = Biogas / (200 * u.L) #Hours of stove usage, given maximum efficency of stove\n",
    "    SH_low = Biogas / (450 * u.L)  #Hours of stove usage, given minimum efficency\n",
    "    #KWH = Biogas / (700 * u.L/u.kwh) #Kilowatt Hours generated from biogas used \n",
    "    return [SH_high,SH_low]"
   ]
  },
  {
   "cell_type": "markdown",
   "metadata": {},
   "source": [
    "## Check on Biogas Produced"
   ]
  },
  {
   "cell_type": "markdown",
   "metadata": {},
   "source": [
    "<div class=\"alert alert-block alert-warning\">\n",
    "\n",
    "I'm changing the Biogas calculation to use the flow rate that we calculated from the UASB calculations above (so instead of using 0.01 * u.L/u.s, we can use Flow_design).\n",
    "<br>\n",
    "\n",
    "Where did the 7300 mg/L for COD load come from? We should make that a variable that is defined or set above so that we can put the variable name in the Biogas equation below.\n"
   ]
  },
  {
   "cell_type": "code",
   "execution_count": 17,
   "metadata": {},
   "outputs": [
    {
     "name": "stdout",
     "output_type": "stream",
     "text": [
      "Maximum biogas production is 69.86 milliliter / second \n",
      "Average biogas production is 29.57 milliliter / second \n",
      "Minimum biogas production is 11.09 milliliter / second\n"
     ]
    }
   ],
   "source": [
    "Biogas = BiogasProd(Flow_design, 7300 * u.mg/u.L)\n",
    "BGMax = Biogas[0]\n",
    "BGAvg = Biogas[1]\n",
    "BGMin = Biogas[2]\n",
    "print(\"Maximum biogas production is\", BGMax, \"\\n\" \"Average biogas production is\", BGAvg, \"\\n\" \n",
    "      \"Minimum biogas production is\", BGMin)"
   ]
  },
  {
   "cell_type": "markdown",
   "metadata": {},
   "source": [
    "## Check on Energy Production"
   ]
  },
  {
   "cell_type": "markdown",
   "metadata": {},
   "source": [
    "<div class=\"alert alert-block alert-warning\">\n",
    "This is supposed to be printing the energy produced from biogas produced, so the print statements should be edited to show the correct output. "
   ]
  },
  {
   "cell_type": "code",
   "execution_count": 18,
   "metadata": {},
   "outputs": [
    {
     "name": "stdout",
     "output_type": "stream",
     "text": [
      "Maximum biogas production is between 30.18 / day and 13.41 / day \n",
      "Average biogas production is between 12.77 / day and 5.678 / day \n",
      "Minimum biogas production is between 4.79 / day and 2.129 / day\n"
     ]
    }
   ],
   "source": [
    "NRGMax = EnergyProduction(BGMax)\n",
    "NRGAvg = EnergyProduction(BGAvg)\n",
    "NRGMin = EnergyProduction(BGMin)\n",
    "\n",
    "print(\"Maximum biogas production is between\", NRGMax[0], \"and\", NRGMax[1], \"\\n\" \n",
    "      \"Average biogas production is between\", NRGAvg[0], \"and\", NRGAvg[1], \"\\n\" \n",
    "      \"Minimum biogas production is between\", NRGMin[0], \"and\", NRGMin[1])\n"
   ]
  },
  {
   "cell_type": "markdown",
   "metadata": {},
   "source": [
    "# Headspace Design"
   ]
  },
  {
   "cell_type": "markdown",
   "metadata": {},
   "source": [
    "<div class=\"alert alert-block alert-warning\">\n",
    "Is this what we have decided? Or did we decide that there is going to be a collection bag connected to the top of the reactor? The only reason I bring this up is because in the final presentation, we mention and explain other systems which simply use collection bags. It would be valuable to add more discussion here about the decision to collect in the UASB, in a bag, etc. We should also link the information that we have to explain how other systems work. \n",
    "\n",
    "<br> \n",
    "\n",
    "I think that we should revisit this section as a team once we redo the hydrostatic pressure calculations. This is a good start and we just want to make sure that we have all of our justifications in the same place."
   ]
  },
  {
   "cell_type": "markdown",
   "metadata": {},
   "source": [
    "To properly capture and store biogas produced before usage in homes, a headspace will be utilized in the UASB.  This top layer will collect gas rising through the UASB, and store it within until a manual offgassing event moves the gas to further storage or use."
   ]
  },
  {
   "cell_type": "code",
   "execution_count": 6,
   "metadata": {
    "collapsed": true
   },
   "outputs": [],
   "source": [
    "#Filltime: determine time taken to fill headspace and push water completely downwards below level of seal\n",
    "#time_offgas = Maximum time allows before offgasing event that returns water level to original height\n",
    "#Offgas_Vol: Volume of gas released in each offgassing event \n",
    "def filltime(Headspace_Diam, Headspace_Height, WaterLevel, BiogasRate):\n",
    "    Vol0 = (math.pi * (Headspace_Diam / 2)**2 * (Headspace_Height - WaterLevel)) #volume of headspace without water initially\n",
    "    VolW = (math.pi * (Headspace_Diam / 2)**2 * WaterLevel) #Volume of water initially within headspace\n",
    "    time_offgas = VolW / BiogasRate\n",
    "    Offgas_Vol = Vol0 + VolW\n",
    "    return [time_offgas, Offgas_Vol]"
   ]
  },
  {
   "cell_type": "markdown",
   "metadata": {},
   "source": [
    "## Check for Filltime"
   ]
  },
  {
   "cell_type": "markdown",
   "metadata": {},
   "source": [
    "<div class=\"alert alert-block alert-warning\">\n",
    "Again, here we should try to use predefined variables as inputs (as I changed for the biogas calc)\n"
   ]
  },
  {
   "cell_type": "code",
   "execution_count": 7,
   "metadata": {},
   "outputs": [
    {
     "name": "stdout",
     "output_type": "stream",
     "text": [
      "The time between offgas event is 14.73 day \n",
      " The volume builtup between offgas events is 14.73 foot ** 3\n"
     ]
    }
   ],
   "source": [
    "Offgas = filltime(2.5 * u.ft, 3 * u.ft, 3 * u.ft, 1 * u.ft**3/u.day)\n",
    "Time_Offgas = Offgas[0]\n",
    "Vol_Offgas = Offgas[1]\n",
    "print(\"The time between offgas event is\", Time_Offgas, \"\\n\", \"The volume builtup between offgas events is\", Vol_Offgas)"
   ]
  },
  {
   "cell_type": "markdown",
   "metadata": {},
   "source": [
    "## Calculations using Design Assumptions"
   ]
  },
  {
   "cell_type": "markdown",
   "metadata": {},
   "source": [
    "<div class=\"alert alert-block alert-warning\">\n",
    "The function ReactorSize is not defined. Is this supposed to be the UASB design calc?\n",
    "\n",
    "\n",
    "\n",
    "I'm not totally sure what you're trying to do here. Let's talk about it! This also might be something that changes when we figure out the headspace decisions made above. "
   ]
  },
  {
   "cell_type": "code",
   "execution_count": 28,
   "metadata": {},
   "outputs": [
    {
     "ename": "NameError",
     "evalue": "name 'ReactorSize' is not defined",
     "output_type": "error",
     "traceback": [
      "\u001b[0;31m---------------------------------------------------------------------------\u001b[0m",
      "\u001b[0;31mNameError\u001b[0m                                 Traceback (most recent call last)",
      "\u001b[0;32m<ipython-input-28-5bbcc7b45bde>\u001b[0m in \u001b[0;36m<module>\u001b[0;34m()\u001b[0m\n\u001b[1;32m      1\u001b[0m \u001b[0;31m#Size and Biogas Production\u001b[0m\u001b[0;34m\u001b[0m\u001b[0;34m\u001b[0m\u001b[0m\n\u001b[0;32m----> 2\u001b[0;31m \u001b[0;34m(\u001b[0m\u001b[0mVolume\u001b[0m\u001b[0;34m,\u001b[0m \u001b[0mFlowrate\u001b[0m\u001b[0;34m)\u001b[0m \u001b[0;34m=\u001b[0m \u001b[0mReactorSize\u001b[0m\u001b[0;34m(\u001b[0m\u001b[0;36m3\u001b[0m \u001b[0;34m*\u001b[0m \u001b[0mu\u001b[0m\u001b[0;34m.\u001b[0m\u001b[0mft\u001b[0m\u001b[0;34m,\u001b[0m \u001b[0;36m3.5\u001b[0m \u001b[0;34m*\u001b[0m \u001b[0mu\u001b[0m\u001b[0;34m.\u001b[0m\u001b[0mft\u001b[0m\u001b[0;34m)\u001b[0m\u001b[0;34m\u001b[0m\u001b[0m\n\u001b[0m\u001b[1;32m      3\u001b[0m \u001b[0;34m(\u001b[0m\u001b[0mMax\u001b[0m\u001b[0;34m,\u001b[0m \u001b[0mMin\u001b[0m\u001b[0;34m,\u001b[0m \u001b[0mBiogas_Avg\u001b[0m\u001b[0;34m)\u001b[0m \u001b[0;34m=\u001b[0m \u001b[0mBiogasProd\u001b[0m\u001b[0;34m(\u001b[0m\u001b[0mFlowrate\u001b[0m\u001b[0;34m,\u001b[0m \u001b[0;36m750\u001b[0m \u001b[0;34m*\u001b[0m \u001b[0;34m(\u001b[0m\u001b[0mu\u001b[0m\u001b[0;34m.\u001b[0m\u001b[0mmg\u001b[0m \u001b[0;34m/\u001b[0m \u001b[0mu\u001b[0m\u001b[0;34m.\u001b[0m\u001b[0mL\u001b[0m\u001b[0;34m)\u001b[0m\u001b[0;34m)\u001b[0m\u001b[0;34m\u001b[0m\u001b[0m\n\u001b[1;32m      4\u001b[0m \u001b[0mprint\u001b[0m\u001b[0;34m(\u001b[0m\u001b[0mVolume\u001b[0m\u001b[0;34m)\u001b[0m\u001b[0;34m\u001b[0m\u001b[0m\n\u001b[1;32m      5\u001b[0m \u001b[0mprint\u001b[0m\u001b[0;34m(\u001b[0m\u001b[0mFlowrate\u001b[0m\u001b[0;34m)\u001b[0m\u001b[0;34m\u001b[0m\u001b[0m\n",
      "\u001b[0;31mNameError\u001b[0m: name 'ReactorSize' is not defined"
     ]
    }
   ],
   "source": [
    "#Size and Biogas Production\n",
    "(Volume, Flowrate) = ReactorSize(3 * u.ft, 3.5 * u.ft)\n",
    "(Max, Min, Biogas_Avg) = BiogasProd(Flowrate, 750 * (u.mg / u.L))\n",
    "print(Volume)\n",
    "print(Flowrate)\n",
    "print(Avg)"
   ]
  },
  {
   "cell_type": "code",
   "execution_count": null,
   "metadata": {
    "collapsed": true
   },
   "outputs": [],
   "source": [
    "#Headspace\n",
    "(time, vol) = filltime(2 * u.ft, 1 * u.ft, 0.5 * u.ft, Biogas_Avg.to(u.ft**3 / u.day))\n",
    "print(time, vol)"
   ]
  },
  {
   "cell_type": "code",
   "execution_count": null,
   "metadata": {
    "collapsed": true
   },
   "outputs": [],
   "source": []
  }
 ],
 "metadata": {
  "kernelspec": {
   "display_name": "Python 3",
   "language": "python",
   "name": "python3"
  },
  "language_info": {
   "codemirror_mode": {
    "name": "ipython",
    "version": 3
   },
   "file_extension": ".py",
   "mimetype": "text/x-python",
   "name": "python",
   "nbconvert_exporter": "python",
   "pygments_lexer": "ipython3",
   "version": "3.6.1"
  }
 },
 "nbformat": 4,
 "nbformat_minor": 2
}
