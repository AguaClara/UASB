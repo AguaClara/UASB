{
 "cells": [
  {
   "cell_type": "markdown",
   "metadata": {},
   "source": [
    "# Biogas Production Calculations\n",
    "\n",
    "## Determine Biogas Production Based on Design Parameters "
   ]
  },
  {
   "cell_type": "markdown",
   "metadata": {},
   "source": [
    "### Biogas Production Calculations\n",
    "\n",
    "**Critical Assumptions:**\n",
    "1. WW_gen: rule of thumb for wastewater production per person, from Monroe\n",
    "2. HRT: Number taken from previous lab scale tests and literature reviews (but may still be low)\n",
    "3. COD_rem: Assumed efficency of reactor for breaking down COD, general number from the literature\n",
    "4. BG_Max: Biogas production calculated from theoretical efficency, using stoichiometry of reaction.  Detailed in Spring 2014 report\n",
    "5. BG_Min: Minimum biogas production from COD load, taken from lower bound in [Van Lier report](https://courses.edx.org/c4x/DelftX/CTB3365STx/asset/Chap_4_Van_Lier_et_al.pdf)\n",
    "6. BG_Avg: Middle value, taken from average output in Aguaclara reactors (in Spring 2014 report)\n",
    "7. SH_high: Assuming maximum efficency of a stove, using results from [SSWM](https://www.sswm.info/content/direct-use-biogas)\n",
    "8. SH_low: Assuming minimum efficency of a stove, using results from [SSWM](https://www.sswm.info/content/direct-use-biogas)"
   ]
  },
  {
   "cell_type": "code",
   "execution_count": 6,
   "metadata": {
    "collapsed": true
   },
   "outputs": [],
   "source": [
    "from aide_design.play import*\n",
    "import math\n",
    "\n",
    "#Calculate Dimensions and Flow Rate \n",
    "def UASBSize(Diam, Height):\n",
    "    WW_gen = 0.003 * u.L/u.s #Wastewater generated per person\n",
    "    HRT = 4 * u.hr #Hydraulic Residence Time\n",
    "    Vol = math.pi * (Diam / 2)**2 * Height / 2\n",
    "    Flow = Vol.to(u.L) / HRT.to(u.s)\n",
    "    PS = Flow / WW_gen #People served per reactor\n",
    "    return (Vol, Flow)\n",
    "\n",
    "#Calculate Biogas Rate of Production (L/s) in UASB\n",
    "def BiogasProd(Flow, COD_Load):\n",
    "    COD = Flow * COD_Load\n",
    "    COD_rem = COD * 0.7 #Assuming x% efficency of COD removal and conversion in reactor\n",
    "    BGMax = COD_rem * 0.378 *(u.ml/u.mg) #Theoretical Productiom, from Fall 2014 UASB team report\n",
    "    BGMin = COD_rem * 0.06 *(u.ml/u.mg) #Production using minimum value from Van Lier report\n",
    "    BGAvg = COD_rem * 0.16 *(u.ml/u.mg) #Production using average value from Spring 2014 tests\n",
    "    return (BGMax, BGAvg, BGMin)\n",
    "\n",
    "#Calculate Energy Production from Biogas Produced\n",
    "def EnergyProduction(Biogas):\n",
    "    Biogas = Biogas.to(u.L/u.days)\n",
    "    SH_high = Biogas / (200 * u.L) #Hours of stove usage, given maximum efficency of stove\n",
    "    SH_low = Biogas / (450 * u.L) #Hours of stove usage, given minimum efficency\n",
    "    KWH = Biogas / (700 * u.L/u.kwh) #Kilowatt Hours generated from biogas used \n",
    "    return\n"
   ]
  },
  {
   "cell_type": "markdown",
   "metadata": {
    "collapsed": true
   },
   "source": [
    "#Biogas Production from Influent COD (estimates)"
   ]
  },
  {
   "cell_type": "markdown",
   "metadata": {
    "collapsed": true
   },
   "source": [
    "Headspace Design Functions"
   ]
  },
  {
   "cell_type": "code",
   "execution_count": null,
   "metadata": {
    "collapsed": true
   },
   "outputs": [],
   "source": []
  }
 ],
 "metadata": {
  "kernelspec": {
   "display_name": "Python 3",
   "language": "python",
   "name": "python3"
  },
  "language_info": {
   "codemirror_mode": {
    "name": "ipython",
    "version": 3
   },
   "file_extension": ".py",
   "mimetype": "text/x-python",
   "name": "python",
   "nbconvert_exporter": "python",
   "pygments_lexer": "ipython3",
   "version": "3.6.1"
  }
 },
 "nbformat": 4,
 "nbformat_minor": 2
}
