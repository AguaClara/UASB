{
 "cells": [
  {
   "cell_type": "markdown",
   "metadata": {},
   "source": [
    "# Biogas Production Calculations\n",
    "\n",
    "## Determine Biogas Production Based on Design Parameters "
   ]
  },
  {
   "cell_type": "markdown",
   "metadata": {},
   "source": [
    "Biogas Production Calculations"
   ]
  },
  {
   "cell_type": "code",
   "execution_count": 3,
   "metadata": {},
   "outputs": [
    {
     "name": "stdout",
     "output_type": "stream",
     "text": [
      "34.09 milliliter / second\n",
      "3.503 milliliter / second\n"
     ]
    }
   ],
   "source": [
    "from aide_design.play import*\n",
    "import math\n",
    "\n",
    "#Calculate Dimensions and Flow Rate \n",
    "def UASBSize(Diam, Height):\n",
    "    WW_gen = 0.003 * u.L/u.s #Wastewater generated per person, rule of thumb from Monroe\n",
    "    HRT = 4 * u.hr #Hydraulic Residence Time, determined from lab scale tests\n",
    "    Vol = math.pi * (Diam / 2)**2 * Height / 2\n",
    "    Flow = Vol.to(u.L) / HRT.to(u.s)\n",
    "    PS = Flow / WW_gen #People served per reactor\n",
    "    return (Vol, Flow)\n",
    "\n",
    "#Calculate Biogas Rate of Production in UASB\n",
    "def BiogasProd(Flow, COD_Load):\n",
    "    COD = Flow * COD_Load\n",
    "    COD_rem = COD * 0.7 #Assuming x% efficency of COD removal and conversion in reactor\n",
    "    BGMax = COD_rem * 0.378 *(u.ml/u.mg) #Theoretical Productiom, from Fall 2014 UASB team report\n",
    "    BGMin = COD_rem * 0.06 *(u.ml/u.mg) #Production using minimum value from ___\n",
    "    BGAvg = COD_rem * 0.16 *(u.ml/u.mg) #Production using average value from Van Lier report\n",
    "    return (BGMax, BGAvg, BGMin)\n",
    "\n",
    "#Calculate Energy Production from Biogas Produced\n",
    "#def EnergyProduction(Biogas)\n",
    "    \n",
    "    #return\n",
    "\n",
    "\n",
    "(Vol, Flow) = UASBSize(3*u.ft, 6*u.ft)\n",
    "(Max, Avg, Min) = BiogasProd(Flow, 7300 * (u.mg/u.L))\n",
    "(Max2, Avg2, Min2) = BiogasProd(Flow, 750*(u.mg/u.L))\n",
    "\n",
    "\n",
    "print(Avg)\n",
    "print(Avg2)"
   ]
  },
  {
   "cell_type": "markdown",
   "metadata": {
    "collapsed": true
   },
   "source": [
    "#Biogas Production from Influent COD (estimates)"
   ]
  },
  {
   "cell_type": "markdown",
   "metadata": {
    "collapsed": true
   },
   "source": [
    "Headspace Design Functions"
   ]
  },
  {
   "cell_type": "code",
   "execution_count": null,
   "metadata": {
    "collapsed": true
   },
   "outputs": [],
   "source": []
  }
 ],
 "metadata": {
  "kernelspec": {
   "display_name": "Python 3",
   "language": "python",
   "name": "python3"
  },
  "language_info": {
   "codemirror_mode": {
    "name": "ipython",
    "version": 3
   },
   "file_extension": ".py",
   "mimetype": "text/x-python",
   "name": "python",
   "nbconvert_exporter": "python",
   "pygments_lexer": "ipython3",
   "version": "3.6.1"
  }
 },
 "nbformat": 4,
 "nbformat_minor": 2
}
