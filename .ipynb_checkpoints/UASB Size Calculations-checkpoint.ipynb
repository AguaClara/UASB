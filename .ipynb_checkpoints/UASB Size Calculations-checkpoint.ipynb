{
 "cells": [
  {
   "cell_type": "markdown",
   "metadata": {},
   "source": [
    "# UASB Size Calculations\n",
    "\n",
    "Determine number of people served based on size of UASB design"
   ]
  },
  {
   "cell_type": "markdown",
   "metadata": {},
   "source": [
    "Constant Amounts Used for Calculation"
   ]
  },
  {
   "cell_type": "code",
   "execution_count": 24,
   "metadata": {
    "collapsed": true
   },
   "outputs": [],
   "source": [
    "from aide_design.units import unit_registry as u\n",
    "from aide_design import utility as ut\n",
    "import math\n",
    "\n",
    "WW_gen = 0.003 * u.L/u.s #Wastewater generated per person, rule of thumb from Monroe\n",
    "WW_gen_con = 0.00219 * u.L/u.s #Wastewater generated per person, taken from EPA case study (Washington State)\n",
    "WW_gen_bw = 0.0006 * u.L/u.s #Purely blackwater generated per person\n",
    "HRT = 4 * u.hr #Hydraulic Residence Time, determined from lab scale tests\n",
    "HRT_s = HRT.to(u.s) #Convert HRT to seconds"
   ]
  },
  {
   "cell_type": "markdown",
   "metadata": {},
   "source": [
    "Dimensions from Pipe in Honduras (Comparable to 1 L/s Plant Sizing)"
   ]
  },
  {
   "cell_type": "code",
   "execution_count": 29,
   "metadata": {},
   "outputs": [
    {
     "name": "stdout",
     "output_type": "stream",
     "text": [
      "The flow rate of the reactor is 0.0568 l/s\n",
      "The number of people served by this reactor is 18.9\n"
     ]
    }
   ],
   "source": [
    "Diam = 3.5 * u.ft\n",
    "Height = 6 * u.ft\n",
    "Vol = math.pi * (Diam / 2)**2 * Height / 2\n",
    "FlowR = Vol / HRT_s\n",
    "FlowRL = FlowR.to(u.L/u.s)\n",
    "PS = FlowRL / WW_gen #People served per reactor\n",
    "PS_bw = FlowRL / WW_gen_bw #People served per reactor treating only blackwater #hello\n",
    "print('The flow rate of the reactor is '+ut.sig(FlowRL,3))\n",
    "print('The number of people served by this reactor is '+ut.sig(PS,3))"
   ]
  },
  {
   "cell_type": "code",
   "execution_count": null,
   "metadata": {
    "collapsed": true
   },
   "outputs": [],
   "source": []
  }
 ],
 "metadata": {
  "kernelspec": {
   "display_name": "Python 3",
   "language": "python",
   "name": "python3"
  },
  "language_info": {
   "codemirror_mode": {
    "name": "ipython",
    "version": 3
   },
   "file_extension": ".py",
   "mimetype": "text/x-python",
   "name": "python",
   "nbconvert_exporter": "python",
   "pygments_lexer": "ipython3",
   "version": "3.6.1"
  }
 },
 "nbformat": 4,
 "nbformat_minor": 2
}
