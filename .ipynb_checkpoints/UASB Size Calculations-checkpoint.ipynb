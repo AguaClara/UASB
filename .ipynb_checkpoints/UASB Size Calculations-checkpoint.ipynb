{
 "cells": [
  {
   "cell_type": "markdown",
   "metadata": {},
   "source": [
    "# UASB Size Calculations\n",
    "\n",
    "Determine number of people served based on size of UASB design"
   ]
  },
  {
   "cell_type": "markdown",
   "metadata": {},
   "source": [
    "UASB Size Function: Calculate Flow Rate and People Served Based on Size"
   ]
  },
  {
   "cell_type": "code",
   "execution_count": 6,
   "metadata": {
    "collapsed": true
   },
   "outputs": [],
   "source": [
    "from aide_design.play import*\n",
    "import math\n",
    "def UASBSize(Diam, Height):\n",
    "    WW_gen = 0.003 * u.L/u.s #Wastewater generated per person, rule of thumb from Monroe\n",
    "    HRT = 4 * u.hr #Hydraulic Residence Time, determined from lab scale tests\n",
    "    Vol = math.pi * (Diam / 2)**2 * Height / 2\n",
    "    Flow = Vol.to(u.L) / HRT.to(u.s)\n",
    "    PS = Flow / WW_gen #People served per reactor\n",
    "    return(Vol, Flow)"
   ]
  },
  {
   "cell_type": "code",
   "execution_count": 7,
   "metadata": {},
   "outputs": [
    {
     "name": "stdout",
     "output_type": "stream",
     "text": [
      "The flow rate of the reactor is 0.0568 l/s\n",
      "The number of people served by this reactor is 18.9\n"
     ]
    }
   ],
   "source": [
    "UASBSize(3.5*u.ft, 6*u.ft)"
   ]
  },
  {
   "cell_type": "code",
   "execution_count": null,
   "metadata": {
    "collapsed": true
   },
   "outputs": [],
   "source": []
  }
 ],
 "metadata": {
  "kernelspec": {
   "display_name": "Python 3",
   "language": "python",
   "name": "python3"
  },
  "language_info": {
   "codemirror_mode": {
    "name": "ipython",
    "version": 3
   },
   "file_extension": ".py",
   "mimetype": "text/x-python",
   "name": "python",
   "nbconvert_exporter": "python",
   "pygments_lexer": "ipython3",
   "version": "3.6.1"
  }
 },
 "nbformat": 4,
 "nbformat_minor": 2
}
