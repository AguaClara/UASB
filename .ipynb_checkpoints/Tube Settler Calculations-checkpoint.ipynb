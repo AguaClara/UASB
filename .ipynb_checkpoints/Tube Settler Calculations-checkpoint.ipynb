{
 "cells": [
  {
   "cell_type": "code",
   "execution_count": 20,
   "metadata": {
    "collapsed": true
   },
   "outputs": [],
   "source": [
    "from aide_design.play import*\n",
    "import math\n",
    "from pytexit import py2tex\n"
   ]
  },
  {
   "cell_type": "markdown",
   "metadata": {},
   "source": [
    "# Tube Settler Calculations\n",
    "\n",
    "## Introduction\n",
    "The tube settler is an integral part of the UASB team's additions to a traditional UASB. The tube settler is modeled after the plate settlers in a sedimentation tank. This design addition will increase the overall solids retention time in the reactor body and improve the effluent quality by allowing particles that leave the body of the reactor time to settle back down. The calculations below determine the design parameters required for the tube settler. \n"
   ]
  },
  {
   "cell_type": "markdown",
   "metadata": {},
   "source": [
    "## Tube Settler Design \n",
    "\n",
    "The tube settler will be a larger diameter tube with plate settlers inside it. The tube settler will primariliy extrude from the body of the UASB reactor. \n"
   ]
  },
  {
   "cell_type": "markdown",
   "metadata": {},
   "source": [
    "## Design Parameters\n",
    "\n",
    "Here we set a series of parameters for the design of our pilot scale reactor.  These values are subject to change, but they offer our current ideas on the size and function of our reactor.  The parameters and the reasons for their decision is detailed below.\n",
    "\n",
    "1. Height Reactor: 7 ft , max allowed to fabricate in lab safely\n",
    "2. Diameter Reactor: 3 ft, based on 1 L/s plant design\n",
    "3. Height sludge blanket: 3.5 ft, assumed half height of reactor\n",
    "4. Distance between plate settlers: 2.5 cm, based on sedimentation tank design \n",
    "5. Angle of tube settler: 60 degrees, based on sedimentation tank design\n",
    "6. Thickness of plates: 2 mm, taken from corrugated plastic thickness"
   ]
  },
  {
   "cell_type": "markdown",
   "metadata": {},
   "source": [
    "## Critical Assumptions\n",
    "\n",
    "1. Capture velocity: set to upflow velocity through the tube settler, or 0.05 mm/s\n",
    "2. Length of the tube settler: set to the water elevation height in the body of the reactor\n",
    "3. HRT: 4 hours, Number taken from previous lab scale tests and literature reviews\n",
    "4. Diameter sludge weir: 6 inch, variable used for calculations\n",
    "5. Height of tube settler: 12 inch incorporated, above the sludge weir height; variable used for calculations \n",
    "6. Water elevation: 6.5 ft, 6 inches for safety below the full height of the reactor\n"
   ]
  },
  {
   "cell_type": "code",
   "execution_count": 29,
   "metadata": {},
   "outputs": [],
   "source": [
    "def UASBSize(diam, height):\n",
    "    \"\"\"Returns the flow rate of the UASB reactor given a cylindical body. \n",
    "    Assumes that half the reactor contains the settled bed, which is used for the HRT. \n",
    "    Takes the inputs of diameter and height.\"\"\"\n",
    "    \n",
    "    WW_gen = 3 * u.mL/u.s        #Wastewater generated per person, rule of thumb from Monroe\n",
    "    WW_gen_bw = 0.6 * u.mL/u.s   #Assumes 20% of mixed wastewater\n",
    "    HRT = 4 * u.hr               #Hydraulic Residence Time, determined from lab scale tests\n",
    "    \n",
    "    centerspace = 3 * u.inch     #Center space allows for a 3 inch pipe across the bottom\n",
    "    phi = math.atan((diam/2)/(centerspace/2))\n",
    "    angle = 60 * u.deg           #Angle of the sloped bottom\n",
    "    \n",
    "    height_cyl_hoof = diam/2 * np.tan(angle)    #Hoof is if \n",
    "    height_cyl_wedge = height_cyl_hoof - ((centerspace/2) * math.tan(angle))\n",
    "    vol_cyl_wedge = height_cyl_wedge * (diam/2)**2 / 3 * ((\n",
    "        3*math.sin(phi) - 3*phi*math.cos(phi) - math.sin(phi)**3)/(1-math.cos(phi)))\n",
    "    vol_reactor = (math.pi * (diam / 2)**2 * height / 2) - (2 * vol_cyl_wedge)\n",
    "    \n",
    "    flow = vol_reactor / HRT\n",
    "    people_served = int(flow / WW_gen)       #People served per reactor\n",
    "    people_served_BW = int(flow / WW_gen_bw) #People served per reactor treating only blackwater\n",
    "    \n",
    "    print(\"The height of the bottom geometry is\",height_cyl_wedge.to(u.m))\n",
    "    print('The volume of the sludge in the reactor is', vol_reactor.to(u.L))\n",
    "    print('The flow rate of the reactor is', flow.to(u.L/u.s))\n",
    "    print('The number of people served by this reactor is', people_served)\n",
    "    print('The number of people served by this reactor if only blackwater is treated is', people_served_BW)\n",
    "    return"
   ]
  },
  {
   "cell_type": "code",
   "execution_count": 30,
   "metadata": {},
   "outputs": [
    {
     "name": "stdout",
     "output_type": "stream",
     "text": [
      "The height of the bottom geometry is 0.7259 meter\n",
      "The volume of the sludge in the reactor is 520.8 liter\n",
      "The flow rate of the reactor is 0.03617 liter / second\n",
      "The number of people served by this reactor is 12\n",
      "The number of people served by this reactor if only blackwater is treated is 60\n"
     ]
    }
   ],
   "source": [
    "UASBSize(3*u.ft, 7*u.ft)"
   ]
  },
  {
   "cell_type": "code",
   "execution_count": 17,
   "metadata": {},
   "outputs": [
    {
     "name": "stdout",
     "output_type": "stream",
     "text": [
      "54 inch\n",
      "24 inch\n",
      "20.78 inch\n"
     ]
    }
   ],
   "source": [
    "flow = 0.03617 * (u.L/u.s)\n",
    "height_cyl_wedge = 0.7259 * (u.m)\n",
    "height_blanket = 3.5 * u.ft\n",
    "diam_sludge_weir = 6 * u.inch\n",
    "water_elevation = 6.5 * u.ft\n",
    "freespace = 12 * u.inch\n",
    "angle = 60 * u.deg\n",
    "thickness_sed_plate = 2 * u.mm\n",
    "plate_space = 2.5 * u.cm\n",
    "\n",
    "height_tube_settler = height_blanket + diam_sludge_weir + freespace\n",
    "print(height_tube_settler.to(u.inch))\n",
    "\n",
    "length_tube_settler_vertical = water_elevation - height_tube_settler\n",
    "print(length_tube_settler_vertical.to(u.inch))\n",
    "\n",
    "length_tube_settler = np.sin(angle) * length_tube_settler_vertical\n",
    "print(length_tube_settler.to(u.inch))\n",
    "\n"
   ]
  },
  {
   "cell_type": "code",
   "execution_count": 28,
   "metadata": {},
   "outputs": [
    {
     "name": "stdout",
     "output_type": "stream",
     "text": [
      "1.115 millimeter / second\n",
      "0.9659 millimeter / second\n",
      "0.6079 millimeter / second\n"
     ]
    }
   ],
   "source": [
    "diam_tube = 8 * u.inch\n",
    "velocity_tube_alpha = flow/(pc.area_circle(diam_tube))\n",
    "print(velocity_tube_alpha.to(u.mm/u.s))\n",
    "\n",
    "velocity_plate = np.sin(angle) * velocity_tube_alpha\n",
    "print(velocity_plate.to(u.mm/u.s))\n",
    "\n",
    "projected_area = (((length_tube_settler * np.cos(angle)\n",
    "                  ) + (plate_space/np.sin(angle))) * diam_tube)\n",
    "\n",
    "velocity_capture = ((velocity_plate * pc.area_circle(diam_tube))/(np.sin(angle))\n",
    "                   )/projected_area\n",
    "\n",
    "print(velocity_capture.to(u.mm/u.s))\n",
    "\n",
    "\n",
    "\n"
   ]
  },
  {
   "cell_type": "markdown",
   "metadata": {},
   "source": [
    "tube selttler into the reactor a smidge\n",
    "\n",
    "length\n",
    "    - capture velocity (0.05 mm/s or set to upflow veloctiy through the tube settler)\n",
    "    - **water elevation control, needs to be long enough to set height ontop of water lid** this sets the length\n",
    "    - multiple exits? potentially not necessary \n",
    "diameter\n",
    "    - S must be 2.5 cm  \n",
    "height \n",
    "\n",
    "dont know v capture and v up but we can get a ratio of the two "
   ]
  },
  {
   "cell_type": "code",
   "execution_count": null,
   "metadata": {
    "collapsed": true
   },
   "outputs": [],
   "source": []
  },
  {
   "cell_type": "code",
   "execution_count": null,
   "metadata": {
    "collapsed": true
   },
   "outputs": [],
   "source": []
  }
 ],
 "metadata": {
  "kernelspec": {
   "display_name": "Python 3",
   "language": "python",
   "name": "python3"
  },
  "language_info": {
   "codemirror_mode": {
    "name": "ipython",
    "version": 3
   },
   "file_extension": ".py",
   "mimetype": "text/x-python",
   "name": "python",
   "nbconvert_exporter": "python",
   "pygments_lexer": "ipython3",
   "version": "3.6.1"
  }
 },
 "nbformat": 4,
 "nbformat_minor": 2
}
