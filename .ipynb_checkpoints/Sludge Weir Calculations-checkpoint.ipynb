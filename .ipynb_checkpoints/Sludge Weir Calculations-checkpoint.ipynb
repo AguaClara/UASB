{
 "cells": [
  {
   "cell_type": "markdown",
   "metadata": {
    "collapsed": true
   },
   "source": [
    "# Sludge Weir and Growth Calculations"
   ]
  },
  {
   "cell_type": "markdown",
   "metadata": {},
   "source": [
    "## Introduction\n",
    "Over the length of operation, anaerobes within a UASB reactor will continue to grow creating excess sludge.  In order to maintain high effluent quality and prevent unintentional discharge of biomass, it is crucial to maintain the sludge blanket height of the UASB.  In conventional UASB reactors, the height of the sludge blanket is maintained manually by discharge through multiple sampling ports on the side of the reactor.  To improve maintanence and create a operator-friendly system,  a sludge weir, based on designs of the AguaClara 1 L/s plant, will be utilized.  This document serves to calculate the size of the sludge weir required and the time required between maintenance."
   ]
  },
  {
   "cell_type": "markdown",
   "metadata": {},
   "source": [
    "## Design Parameters\n",
    "\n",
    "Here we set a series of parameters for the design of our pilot scale reactor.  These values are subject to change, but they offer our current ideas on the size and function of our reactor.  The parameters and the reasons for their decision is detailed below.\n",
    "\n",
    "1. Height Reactor: 7 ft , max allowed to fabricate in lab safely\n",
    "2. Diameter Reactor: 3 ft, based on 1 L/s plant design\n",
    "3. Height sludge blanket: 3.5 ft, assumed half height of reactor\n",
    "4. Height Headspace: TBD from production calculations\n",
    "5. Diameter Headspace: TBD from production calculations\n",
    "6. COD_Load: 750 mg/L, medium value from most plants (can be varied)"
   ]
  },
  {
   "cell_type": "markdown",
   "metadata": {},
   "source": [
    "<div class=\"alert alert-block alert-warning\">\n",
    "Let's make a table for these sections too."
   ]
  },
  {
   "cell_type": "markdown",
   "metadata": {},
   "source": [
    "## Critical Assumptions\n",
    "\n",
    "In designing the sludge weir, there are many areas of uncertainty that are challenging to characterize before we can collect data from our own reactor.  In order to minimize uncertainty and provide the most accurate calculations, we used a series of assumptions for these areas.  The assumed values, and their justification and sources are detailed below.\n",
    "\n",
    "Assumption\n",
    "1. Steady state operating conditions\n",
    "2. Constant influent temperature, and upflow velocity\n",
    "3. Constant COD load\n",
    "4. Homogenous composition of microbial community \n",
    "\n",
    "Find data on these parameter\n",
    "1. COD_Load: 750 mg/L, Concetration of chemical  oxygen demand of influent wastewater \n",
    "2. Mu: Specific growth rate of micro organisms in reactor [(Pollard 2003)](https://www.overleaf.com/latex/templates/aguaclara-research-report-template/xchvsqctdmxy#.WKtqDmQrJhA) \n",
    "3. Rho_BioMi: Density of granules in the reactor\n",
    "4. Vol_BioMi: Volume taken up by microbes\n"
   ]
  },
  {
   "cell_type": "markdown",
   "metadata": {},
   "source": [
    "Assumptions| Parameters Needed\n",
    ":------------- |:-------------\n",
    "Steady State Operating Conditions| COD Load\n",
    "Constant Influent Temperature and Upflow Velocity |Specific Growth Rate [(Pollard 2003)](https://www.overleaf.com/latex/templates/aguaclara-research-report-template/xchvsqctdmxy#.WKtqDmQrJhA) \n",
    "Costant COD Load | Density of Granules\n",
    "Homogenous Composition of Microbial Community | Volume of Granules "
   ]
  },
  {
   "cell_type": "code",
   "execution_count": 1,
   "metadata": {
    "collapsed": true
   },
   "outputs": [],
   "source": [
    "from aide_design.play import*\n",
    "import math"
   ]
  },
  {
   "cell_type": "markdown",
   "metadata": {
    "collapsed": true
   },
   "source": [
    "## Qualitative Method\n",
    "The sludge weir is not a critical component of the UASB reactor.  It is simply used to allow for excess microbial growth to be easily controled and monitored based on the floc hopper concept used in AguaClara's 1 L/s sedimentation tank design.  The design of the sludge weir, therefore, does not need to be precisely calculated as it is not essential to the overall treatment provided by the UASB reactor.  While it would be ideal to conduct precisely determine the volume required of the sludge weir to collect X number of days of growth, it is not essential.  \n",
    "\n",
    "Moving forward, the sludge weir will be placed in manner in which the bottom of the entrance will be at the top of the sludge bed to control growth.  A valve will be used to close the sludge weir when maintence and cleaning is required.  The construction of the sludge weir will be similar to that of the 1 L/s plant as fabrication techniques have been well documented.  Once fabrication and pilot testing occur, specific methods of maintenance will be studied."
   ]
  },
  {
   "cell_type": "code",
   "execution_count": null,
   "metadata": {
    "collapsed": true
   },
   "outputs": [],
   "source": []
  }
 ],
 "metadata": {
  "kernelspec": {
   "display_name": "Python 3",
   "language": "python",
   "name": "python3"
  },
  "language_info": {
   "codemirror_mode": {
    "name": "ipython",
    "version": 3
   },
   "file_extension": ".py",
   "mimetype": "text/x-python",
   "name": "python",
   "nbconvert_exporter": "python",
   "pygments_lexer": "ipython3",
   "version": "3.6.1"
  }
 },
 "nbformat": 4,
 "nbformat_minor": 2
}
