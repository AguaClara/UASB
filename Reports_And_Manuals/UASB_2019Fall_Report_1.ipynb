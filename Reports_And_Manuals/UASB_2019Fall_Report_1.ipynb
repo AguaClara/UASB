{
  "nbformat": 4,
  "nbformat_minor": 0,
  "metadata": {
    "colab": {
      "name": "UASB_2019Fall_Report_1.ipynb",
      "provenance": [],
      "include_colab_link": true
    },
    "kernelspec": {
      "name": "python3",
      "display_name": "Python 3"
    }
  },
  "cells": [
    {
      "cell_type": "markdown",
      "metadata": {
        "id": "view-in-github",
        "colab_type": "text"
      },
      "source": [
        "<a href=\"https://colab.research.google.com/github/AguaClara/UASB/blob/master/Reports_And_Manuals/UASB_2019Fall_Report_1.ipynb\" target=\"_parent\"><img src=\"https://colab.research.google.com/assets/colab-badge.svg\" alt=\"Open In Colab\"/></a>"
      ]
    },
    {
      "cell_type": "markdown",
      "metadata": {
        "colab_type": "text",
        "id": "JyG45Qk3qQLS"
      },
      "source": [
        "# Pulsated Anaerobic Reactor (PAR), Fall 2019\n",
        "### Emily Liu, Shania Fang, Emily Wood, Dominic Grasso, Cara Smith, Lydia LaGorga, Ahad Ishfaq, Franny Bard, Kyra Frederick, Valentine Starnes\n",
        "### Aug 4nd, 2019"
      ]
    },
    {
      "cell_type": "markdown",
      "metadata": {
        "id": "EUclt0MXNthT",
        "colab_type": "text"
      },
      "source": [
        "## Abstract\n",
        "\n",
        "Since Spring 2017, the AguaClara Pulsated Anaerobic Reactor (PAR) team has been working on designing and fabricating a gravity-powered wastewater treatment system for communities looking for an alternative to releasing waste directly into streams and rivers. During Fall 2019, the UASB team’s goal is to fabricate and implement at least two reactors to compare the efficiencies of pulsated versus continuous flow by testing different contaminant levels in the effluent. So far, the team has set up a reactor with pulsated flow at the Ithaca Area Wastewater Treatment Facility and filled it with sludge."
      ]
    },
    {
      "cell_type": "markdown",
      "metadata": {
        "id": "JxuuP1brP-fe",
        "colab_type": "text"
      },
      "source": [
        "## Introduction\n",
        "Wastewater is any kind of water that has been affected by humans. This used water may include dissolved fecal and urine matter, pathogens, chemicals, and many more. These compounds come from a variety of sources such as agricultural, domestic, industrial, and commercial activities. Because water is a universal solvent, it becomes difficult to separate water from these harmful pollutants. After use, this water needs to be treated before it can be safely discharged into the environment and this is generally done in mechanized wastewater treatment plants. However, since industrial wastewater treatment plants are costly and require high energy consumption and acres of land, many areas in the world lack the resources to acquire this system.\n",
        "\n",
        "80% of the world releases untreated wastewater back into the environment. When wastewater is untreated and released directly into the environment, it can result in serious health and environmental problems.  When wastewater reaches drinking water sources, it can pose significant health risks for the community. Pathogens in wastewater destroy crop production and cause water-borne diseases. These include typhoid, giardia, hepatitis A, diarrhea, cholera, and E. coli,.  Wastewater can also contain decaying organic matter and nutrients such as phosphorus and nitrogen which can cause eutrophication, a term for excess nutrients. This causes algae blooms which leads to oxygen-deprived conditions. This makes it difficult to support aquaculture and damages the surrounding ecosystem.\n",
        "\n",
        "To achieve AguaClara’s mission of clean, safe drinking water is imperative that the team develops the most efficient reactor. By developing two reactors; pulsated flow and continuous flow, the most efficient one can be implemented.\n",
        "\n"
      ]
    },
    {
      "cell_type": "markdown",
      "metadata": {
        "id": "u-JYWKppQDLu",
        "colab_type": "text"
      },
      "source": [
        "## Literature Review and Previous Work\n",
        "\n",
        "Typically, wastewater treatment plants utilize biological, chemical or thermal oxidation processes to break down organic matter. Biological processes are more common however, since they require lower capital investments and operational costs without chemical or energy input (Mittal et. al, 2011).  Traditional UASB, or Upflow Anaerobic Sludge Blanket reactors are used as a preliminary wastewater treatment process to remove suspended solids organic matter in wastewater (Chong et. al, 2012). UASB reactors, instead of using fuel or electricity, rely mainly on gravity and biological processes to remove organic matter and convert it to biogas. \n",
        "\n",
        "<center>\n",
        " <p style=\"text-align: center;\">\n",
        "<img src=\"https://github.com/AguaClara/UASB/blob/master/Images/Conventional_UASB.PNG?raw=true\" height = 500 />\n",
        "  </p>\n",
        "\n",
        "**Figure 1:** This diagram shows a conventional Upflow Anaerobic Sludge Blanket Reactor\n",
        "\n",
        "</center>\n",
        "\n",
        "A UASB reactor is a single tank in which wastewater enters and flows upwards through a suspended sludge blanket made up of anaerobic microorganisms. This blanket filters and cleans wastewater by removing organic contaminants and pathogens. The UASB reactors are more feasible for small communities since they are less energy intensive and are highly efficient in treating high COD loads and biogas formation. Additionally, UASB reactors produce methane as a byproduct which can be captured and used for heating or energy production if electricity is available. \n",
        "\n",
        "UASBs utilize mixed cultures of anaerobic microorganisms to biologically process and remove organic matter (OM), chemical oxygen demand (COD), biological oxygen demand (BOD), and suspended solids (SS). They are designed to operate at short hydraulic retention times (HRT) and long solids retention time (SRT) to increase loading capacity and improve sludge stabilization. Due to the dispersion of influent to maximize sludge contact as shown in Figure 1, UASBs can achieve optimal levels of primary treatment quite quickly compared to other anaerobic treatment processes. In alternative processes such as anaerobic filters, anaerobic baffled reactors, and septic tanks, water passes over an exposed surface of sludge and organic matter is treated as it diffuses through (Chong et. al, 2012).\n",
        "While UASBs are able to provide treatment quickly, like other anaerobic treatment methods, post-treatment is often required through trickling filters or secondary clarifiers to achieve ideal reduction BOD, COD, and nutrients (Abbasi et. al, 2012).\n",
        "\n"
      ]
    }
  ]
}