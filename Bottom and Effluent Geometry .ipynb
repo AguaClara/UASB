{
 "cells": [
  {
   "cell_type": "code",
   "execution_count": 6,
   "metadata": {
    "collapsed": true
   },
   "outputs": [],
   "source": [
    "from aide_design.play import*\n",
    "import math\n",
    "\n",
    "def UASBFlow(Diam, Height):\n",
    "    \"\"\"Returns the flow rate of the UASB reactor given a cylindical body. \n",
    "    Assumes that half the reactor contains the settled bed, which is used for the HRT. \n",
    "    Takes the inputs of diameter and height.\"\"\"\n",
    "    \n",
    "    WW_gen = 3 * u.mL/u.s #Wastewater generated per person, rule of thumb from Monroe\n",
    "    WW_gen_bw = 0.6 * u.mL/u.s # Assumes 20% of mixed wastewater\n",
    "    HRT = 4 * u.hr #Hydraulic Residence Time, determined from lab scale tests\n",
    "    Vol = math.pi * (Diam / 2)**2 * Height / 2\n",
    "    Flow = Vol / HRT\n",
    "    PS = int(Flow / WW_gen) #People served per reactor\n",
    "    PS_bw = int(Flow / WW_gen_bw) #People served per reactor treating only blackwater\n",
    "    return Flow.to(u.L/u.s)"
   ]
  },
  {
   "cell_type": "markdown",
   "metadata": {},
   "source": [
    "# UASB Bottom and Effluent Geometry "
   ]
  },
  {
   "cell_type": "markdown",
   "metadata": {
    "collapsed": true
   },
   "source": [
    "## Influent Distribution System\n",
    "\n",
    "- require 50 cm of headloss in a full size UASB (how much do we need?)\n",
    "- upstream should have mesh of 6mm or smaller to degrit\n",
    "   "
   ]
  },
  {
   "cell_type": "markdown",
   "metadata": {},
   "source": [
    "### Inlet Pipe Diameter\n",
    "\n",
    "Two conflicting design requirements must be reconciled. \n",
    "1. The velocity at the top of the pipe should be low enough to allow any entrained air to escape back up the pipe\n",
    "1. The velocity should be high enough at the outlet of the pipe to prevent heavy inert suspended solids from settling in or around the outlet. "
   ]
  },
  {
   "cell_type": "markdown",
   "metadata": {},
   "source": [
    "## Granular Sludge Characterization\n",
    "\n",
    "Variability in granular sludge exists because of variations in wastewater composition and available substrate for biological activity, but granules generally comprise of \n",
    "1. inorganic material\n",
    "1. extracellular polymer\n",
    "\n",
    "Digested sludge was sourced from a methophilic anaerobic\n",
    "digester (35 ± 1 C) of a municipal wastewater treatment plant\n",
    "(WWTP) in Sendai, Japan. Anaerobic granular sludge was withdrawn\n",
    "from sludge treatment plant effluent mixture of ethanol\n",
    "and sugar factory waste water in Tokyo, Japan. The initial granular\n",
    "sludge, consisting of well-settled black granules with about 80%\n",
    "showing the size from 0.4 to 4.0 mm in diameter and 0.02 to\n",
    "0.03 m/s of the sedimentation velocity, had a mixed liquor volatile\n",
    "suspended solid (MLVSS) concentration of 28.5 g/L and mixed\n",
    "liquor suspended solids (MLSS) concentration of 35.0 g/L. \n",
    "\n",
    "*(Operation performance and granule characterization of upflow\n",
    "anaerobic sludge blanket (UASB) reactor treating wastewater with starch\n",
    "as the sole carbon source\n",
    "Xueqin Lu a\n",
    ", Guangyin Zhen b\n",
    ", Adriana Ledezma Estrada a\n",
    ", Mo Chen c\n",
    ", Jialing Ni a\n",
    ", Toshimasa Hojo a\n",
    ",\n",
    "Kengo Kubota a\n",
    ", Yu-You Li)*"
   ]
  },
  {
   "cell_type": "code",
   "execution_count": 2,
   "metadata": {},
   "outputs": [
    {
     "name": "stdout",
     "output_type": "stream",
     "text": [
      "1003 kilogram / meter ** 3\n"
     ]
    }
   ],
   "source": [
    "diam_granule = 0.5 * u.mm               # Zoe Maisel\n",
    "vel_settling_granule = 0.666 * u.mm/u.s # Zoe Maisel, experimental (Lu, 0.02 mm/s)\n",
    "nu_water = 1 * (u.mm**2/u.s)            # viscosity\n",
    "rho_water = 998 * (u.kg/u.m**3)         # density\n",
    "phi_granule = 0.4                       # porosity\n",
    "\n",
    "def rho_granule(vel_term, nu_water, rho_water, diam_min):\n",
    "    rho_granule = (vel_term * 18 * nu_water * rho_water)/(pc.gravity * diam_min**2) + rho_water\n",
    "    return rho_granule.to(u.kg/u.m**3)\n",
    "\n",
    "rho_granule = rho_granule(vel_settling_granule, nu_water, rho_water, diam_granule)\n",
    "print(rho_granule)\n",
    "\n"
   ]
  },
  {
   "cell_type": "markdown",
   "metadata": {},
   "source": [
    "Work flow\n",
    "\n",
    "1. *angle of spread* Zoe 4540 project\n",
    "1. number of inlets/ports to limit dead space and *short circuiting*\n",
    "1. do not focus too much on flow control right now or the equalization chamber, we can use pumps!\n",
    "1. diameter of the ports (sedimentation design challenge)limited by exit velocity, clogging < v < settled   "
   ]
  },
  {
   "cell_type": "code",
   "execution_count": 9,
   "metadata": {
    "collapsed": true
   },
   "outputs": [],
   "source": [
    "UASB_diam = 3.5 * u.ft\n",
    "UASB_height = 7 * u.ft\n",
    "\n",
    "flow_rate = UASBFlow(UASB_diam, UASB_height)\n",
    "unit_area = 1 * u.m**2\n",
    "flux = flow_rate / unit_area\n",
    "\n",
    "\n",
    "diam_orifice = \n",
    "vel_upflow = \n",
    "\n",
    "\n",
    "m = diam_orifice * vel_upflow\n",
    "\n",
    "angle_spread = flux * 2 * np.pi / m"
   ]
  },
  {
   "cell_type": "markdown",
   "metadata": {},
   "source": [
    "Fluid issues from the hole at a\n",
    "rate of *m* (m2s−1)\n",
    ". The velocity of flow over a circular boundary of 1-m radius is *m/2π* (m s−1)\n",
    ". Over a circular boundary of 2-m radius it is m/(2π × 2) (i.e., half as much,\n",
    "and over a circle of diameter 2r the velocity is m/2πrm s−1\n",
    ". Therefore, the velocity\n",
    "of flow is inversely proportional to the distance of the particle from the source."
   ]
  },
  {
   "cell_type": "code",
   "execution_count": null,
   "metadata": {
    "collapsed": true
   },
   "outputs": [],
   "source": []
  }
 ],
 "metadata": {
  "kernelspec": {
   "display_name": "Python 3",
   "language": "python",
   "name": "python3"
  },
  "language_info": {
   "codemirror_mode": {
    "name": "ipython",
    "version": 3
   },
   "file_extension": ".py",
   "mimetype": "text/x-python",
   "name": "python",
   "nbconvert_exporter": "python",
   "pygments_lexer": "ipython3",
   "version": "3.6.1"
  }
 },
 "nbformat": 4,
 "nbformat_minor": 2
}
