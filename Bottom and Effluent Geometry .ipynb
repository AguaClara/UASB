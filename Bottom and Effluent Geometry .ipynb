{
 "cells": [
  {
   "cell_type": "code",
   "execution_count": 2,
   "metadata": {
    "collapsed": true
   },
   "outputs": [],
   "source": [
    "from aide_design.play import*\n",
    "import math"
   ]
  },
  {
   "cell_type": "markdown",
   "metadata": {
    "collapsed": true
   },
   "source": [
    "# UASB Bottom and Effluent Geometry \n",
    "## Influent Distribution System\n",
    "\n",
    "\n",
    "### Inlet Pipe Diameter\n",
    "\n",
    "Two conflicting design requirements must be reconciled. \n",
    "1. The velocity at the top of the pipe should be low enough to allow any entrained air to escape back up the pipe\n",
    "1. The velocity should be high enough at the outlet of the pipe to prevent heavy inert suspended solids from settling in or around the outlet.    "
   ]
  },
  {
   "cell_type": "markdown",
   "metadata": {},
   "source": [
    "## Granular Sludge Characterization\n",
    "\n",
    "Variability in granular sludge exists because of variations in wastewater composition and available substrate for biological activity, but granules generally comprise of \n",
    "1. inorganic material\n",
    "1. extracellular polymer\n",
    "\n",
    "Digested sludge was sourced from a methophilic anaerobic\n",
    "digester (35 ± 1 C) of a municipal wastewater treatment plant\n",
    "(WWTP) in Sendai, Japan. Anaerobic granular sludge was withdrawn\n",
    "from sludge treatment plant effluent mixture of ethanol\n",
    "and sugar factory waste water in Tokyo, Japan. The initial granular\n",
    "sludge, consisting of well-settled black granules with about 80%\n",
    "showing the size from 0.4 to 4.0 mm in diameter and 0.02 to\n",
    "0.03 m/s of the sedimentation velocity, had a mixed liquor volatile\n",
    "suspended solid (MLVSS) concentration of 28.5 g/L and mixed\n",
    "liquor suspended solids (MLSS) concentration of 35.0 g/L. \n",
    "\n",
    "*(Operation performance and granule characterization of upflow\n",
    "anaerobic sludge blanket (UASB) reactor treating wastewater with starch\n",
    "as the sole carbon source\n",
    "Xueqin Lu a\n",
    ", Guangyin Zhen b\n",
    ", Adriana Ledezma Estrada a\n",
    ", Mo Chen c\n",
    ", Jialing Ni a\n",
    ", Toshimasa Hojo a\n",
    ",\n",
    "Kengo Kubota a\n",
    ", Yu-You Li)*"
   ]
  },
  {
   "cell_type": "code",
   "execution_count": 5,
   "metadata": {},
   "outputs": [
    {
     "name": "stdout",
     "output_type": "stream",
     "text": [
      "The granule density is 1003 kilogram / meter ** 3\n"
     ]
    }
   ],
   "source": [
    "diam_granule = 0.5 * u.mm               # Zoe Maisel\n",
    "vel_settling_granule = 0.666 * u.mm/u.s # Zoe Maisel, experimental (Lu, 0.02 mm/s)\n",
    "nu_water = 1 * (u.mm**2/u.s)            # viscosity\n",
    "rho_water = 998 * (u.kg/u.m**3)         # density\n",
    "phi_granule = 0.4                       # porosity\n",
    "\n",
    "def rho_granule(vel_term, nu_water, rho_water, diam_min):\n",
    "    rho_granule = (vel_term * 18 * nu_water * rho_water)/(pc.gravity * diam_min**2) + rho_water\n",
    "    return rho_granule.to(u.kg/u.m**3)\n",
    "\n",
    "rho_granule = rho_granule(vel_settling_granule, nu_water, rho_water, diam_granule)\n",
    "print('The granule density is', rho_granule.to(u.kg/u.m**3))\n",
    "\n"
   ]
  },
  {
   "cell_type": "code",
   "execution_count": 8,
   "metadata": {},
   "outputs": [
    {
     "name": "stdout",
     "output_type": "stream",
     "text": [
      "2.598 foot\n"
     ]
    }
   ],
   "source": [
    "diam = 3 * u.ft\n",
    "height = 7 * u.ft\n",
    "    \n",
    "WW_gen = 3 * u.mL/u.s        #Wastewater generated per person, rule of thumb from Monroe\n",
    "WW_gen_bw = 0.6 * u.mL/u.s   #Assumes 20% of mixed wastewater\n",
    "HRT = 4 * u.hr               #Hydraulic Residence Time, determined from lab scale tests\n",
    "    \n",
    "angle = 60 * u.deg \n",
    "height_cyl_hoof = diam/2 * np.tan(angle) \n",
    "vol_cyl_hoof = 2/3 * (diam/2)**2 * height_cyl_hoof\n",
    "vol_reactor = (math.pi * (diam / 2)**2 * height / 2) - (2 * vol_cyl_hoof)\n",
    "    \n",
    "flow = vol_reactor / HRT\n",
    "people_served = int(flow / WW_gen)       #People served per reactor\n",
    "people_served_BW = int(flow / WW_gen_bw) #People served per reactor treating only blackwater\n",
    "    \n",
    "print(height_cyl_hoof)"
   ]
  },
  {
   "cell_type": "code",
   "execution_count": 10,
   "metadata": {
    "collapsed": true
   },
   "outputs": [],
   "source": [
    "area_reactor = np.pi * diam**2 / 4   #May be erroneous because we do not have a circular active plan area\n",
    "\n",
    "n_port = 4                           #Arbitrary\n",
    "diam_port = 1 * u.inch               #Arbitrary\n",
    "area_port = pc.area_circle(1 * u.inch)\n",
    "\n",
    "vel_reactor = flow * area_reactor\n",
    "vel_port = flow/n_port * area_port \n",
    "\n",
    "height_freefall = vel_port**2 / (2 * pc.gravity) # Does not account for minor losses from fittings, adapters, geometry \n",
    "\n"
   ]
  },
  {
   "cell_type": "code",
   "execution_count": null,
   "metadata": {
    "collapsed": true
   },
   "outputs": [],
   "source": []
  }
 ],
 "metadata": {
  "kernelspec": {
   "display_name": "Python 3",
   "language": "python",
   "name": "python3"
  },
  "language_info": {
   "codemirror_mode": {
    "name": "ipython",
    "version": 3
   },
   "file_extension": ".py",
   "mimetype": "text/x-python",
   "name": "python",
   "nbconvert_exporter": "python",
   "pygments_lexer": "ipython3",
   "version": "3.6.1"
  }
 },
 "nbformat": 4,
 "nbformat_minor": 2
}
