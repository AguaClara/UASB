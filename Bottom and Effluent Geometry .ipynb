{
 "cells": [
  {
   "cell_type": "code",
   "execution_count": null,
   "metadata": {
    "collapsed": true
   },
   "outputs": [],
   "source": [
    "from aide_design.play import*"
   ]
  },
  {
   "cell_type": "markdown",
   "metadata": {},
   "source": [
    "# UASB Bottom and Effluent Geometry "
   ]
  },
  {
   "cell_type": "markdown",
   "metadata": {},
   "source": [
    "## Characterization of Granular Sludge\n",
    "\n",
    "Variability in granular sludge exists because of variations in wastewater composition and available substrate for biological activity, but granules generally comprise of \n",
    "1. inorganic material\n",
    "1. extracellular polymer"
   ]
  },
  {
   "cell_type": "markdown",
   "metadata": {},
   "source": [
    "http://accessengineeringlibrary.com/browse/wastewater-treatment-for-pollution-control-and-reuse-third-edition/c9780070620995ch07#c9780070620995ch07lev1sec01"
   ]
  },
  {
   "cell_type": "markdown",
   "metadata": {
    "collapsed": true
   },
   "source": [
    "## Influent Distribution System\n",
    "\n",
    "- require 50 cm of headloss in a full size UASB (how much do we need?)\n",
    "- upstream should have mesh of 6mm or smaller to degrit\n",
    "   "
   ]
  },
  {
   "cell_type": "markdown",
   "metadata": {},
   "source": [
    "### Inlet Pipe Diameter\n",
    "\n",
    "Two conflicting design requirements must be reconciled. \n",
    "1. The velocity at the top of the pipe should be low enough to allow any entrained air to escape back up the pipe\n",
    "1. The velocity should be high enough at the outlet of the pipe to prevent heavy inert suspended solids from settling in or around the outlet. "
   ]
  },
  {
   "cell_type": "markdown",
   "metadata": {},
   "source": [
    "## Granular Sludge Characterization\n",
    "\n",
    "Digested sludge was sourced from a methophilic anaerobic\n",
    "digester (35 ± 1 C) of a municipal wastewater treatment plant\n",
    "(WWTP) in Sendai, Japan. Anaerobic granular sludge was withdrawn\n",
    "from sludge treatment plant effluent mixture of ethanol\n",
    "and sugar factory waste water in Tokyo, Japan. The initial granular\n",
    "sludge, consisting of well-settled black granules with about 80%\n",
    "showing the size from 0.4 to 4.0 mm in diameter and 0.02 to\n",
    "0.03 m/s of the sedimentation velocity, had a mixed liquor volatile\n",
    "suspended solid (MLVSS) concentration of 28.5 g/L and mixed\n",
    "liquor suspended solids (MLSS) concentration of 35.0 g/L. \n",
    "\n",
    "*(Operation performance and granule characterization of upflow\n",
    "anaerobic sludge blanket (UASB) reactor treating wastewater with starch\n",
    "as the sole carbon source\n",
    "Xueqin Lu a\n",
    ", Guangyin Zhen b\n",
    ", Adriana Ledezma Estrada a\n",
    ", Mo Chen c\n",
    ", Jialing Ni a\n",
    ", Toshimasa Hojo a\n",
    ",\n",
    "Kengo Kubota a\n",
    ", Yu-You Li)*"
   ]
  },
  {
   "cell_type": "code",
   "execution_count": null,
   "metadata": {
    "collapsed": true
   },
   "outputs": [],
   "source": [
    "diam_granule = np.linspace(0.4,4) * u.mm\n",
    "vel_settling_granule = 0.025 * u.m/u.s\n"
   ]
  }
 ],
 "metadata": {
  "kernelspec": {
   "display_name": "Python 3",
   "language": "python",
   "name": "python3"
  },
  "language_info": {
   "codemirror_mode": {
    "name": "ipython",
    "version": 3
   },
   "file_extension": ".py",
   "mimetype": "text/x-python",
   "name": "python",
   "nbconvert_exporter": "python",
   "pygments_lexer": "ipython3",
   "version": "3.6.1"
  }
 },
 "nbformat": 4,
 "nbformat_minor": 2
}
