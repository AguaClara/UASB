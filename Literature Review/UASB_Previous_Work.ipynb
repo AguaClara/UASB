{
  "nbformat": 4,
  "nbformat_minor": 0,
  "metadata": {
    "colab": {
      "name": "UASB_Previous_Work.ipynb",
      "provenance": []
    },
    "kernelspec": {
      "name": "python3",
      "display_name": "Python 3"
    }
  },
  "cells": [
    {
      "cell_type": "markdown",
      "metadata": {
        "id": "LIpvC_CfwBF9",
        "colab_type": "text"
      },
      "source": [
        "# Upflow Anaerobic Sludge Blanket (UASB) Reactor\n",
        "## Summary of Previous Work\n",
        "\n",
        "### Summer 2016\n",
        "The objective of the team was to design and implement a functional lab-scale UASB reactor to treat synthetic blackwater. Blackwater is wastewater from toilets; synthetic blackwater is a mixture of proteins, lipids and starches mixed together (usually with a few other chemicals as well; recipes for synthetic wastewater vary) The team constructed four small-scale UASB reactors and found that those small-scale reactors could successfully treat synthetic wastewater. The team also found that increased wastewater concentration and higher residence times resulted in higher biogas removal and increased Chemical Oxygen Demand (COD) removal.\n",
        " \n",
        "### Fall 2016\n",
        "In the fall of 2016, the UASB team underwent several changes. First, the team altered the design of the small-scale UASB reactors by implementing shorter and narrower influent lines. The team also changed the synthetic wastewater recipe. More specifically, the team substituted glucose with insoluble carbon compounds. The team also researched retention time in the reactors with fluoride tracer tests, and found a HRT of 3.22 hours in one of the reactors (close to the target of 4 hours).\n",
        " \n",
        "### Spring 2017\n",
        "During the spring of 2017, the team worked on assessing the efficiency of two modifications to the UASB reactor: plate settlers and the submerged gas collection lid. After conducting granule settling tests, the team was unable to conclude whether or not plate settlers significantly improve solid retention time. The team also conducted a Submerged Gas Capture Lid Test and concluded that a check valve would be useful to allow for continuous collection into a gas tank without the loss of biogas.\n",
        " \n",
        "### Summer 2017\n",
        "In the summer of 2017, the UASB team continued with similar research and testing to that of the Spring 2017 semester. This time, the team determined that large, bulky plate settlers were not required for a full scale reactor. Instead, a smaller settling apparatus, such as a sloped exit weir, can achieve similar sludge retention time(SRT).\n",
        " \n",
        "### Fall 2017\n",
        "During the fall of 2017, the team made critical design assumptions such as: a reactor diameter of 3 feet, a reactor height of 7 feet, a 4 hour hydraulic residence time, and a flow rate of .036 L/s. The team also designed a biogas capture lid. In this system, as biogas is produced in the reactor, it displaces water out from under the lid. Gas is then stored there until it is manually removed. In addition, the team wrote Python calculations in Jupyter notebook (available on GitHub) to estimate biogas production based on COD input. Finally, the team decided to add plate settlers back to the effluent tube to prevent dislodged granules from escaping the reactor and  worked on designing a sludge weir for the UASB reactor.\n",
        " \n",
        "### Spring 2018\n",
        "UASB continued efforts to improve the design of the pilot-scale UASB reactor in Spring 2018. After extensive research, the team chose top influent flow - where the wastewater flows down the inlet pipe until it reaches the bottom of tank -  in order to prevent clogs. Next, the team decided to incorporate pulse flow into the reactor through either a tipping bucket design or a siphon.\n",
        "UASB also worked on biogas production. The team wrote code to estimate COD concentration of influent, the temperature of the reactor, and biogas production rate based on the flow rate through the reactor. The team decided on a gas bag system to store biogas and also wrote code to determine the required volume and dimensions for the lid of the biogas system. The team looked into removal of fats, oils and greases (FOG) and developed a design for the pilot UASB reactor's sludge sampling and removal system. Lastly, the team wrote code to calculate the optimal size of the pilot UASB reactor's tube settler, the number of plates required, and the overall height of the settling arm.\n",
        " \n",
        "### Summer 2018\n",
        "The summer team continued work on the hydraulic design of the UASB system.  The major design project was creating the tipping bucket system to deliver wastewater in pulses. The system consists of a pivoting bucket which fills with wastewater before tipping and delivering the wastewater in a large pulse at a high flow rate. After brainstorming the idea, the team designed and tested models to determine optimal design and flow rates for the system. The team also continued developing code for the entire system, and made a Computer Aided Design (CAD) [model of the UASB reactor](https://cornell47.autodesk360.com/g/shares/SH7f1edQT22b515c761e1224485004ae7e44?viewState=NoIgbgDAdAjCA0IDeAdEAXAngBwKZoC40ARXAZwEsBzAOzXjQEMyzd1C0IBOAEx4GYeAFgBsAWgBMjAGY8xQgKwTxjLl3H8A7KoBGEABwQd-IZrQBfEAF0gA) using Fusion 360.\n",
        " \n",
        "### Fall 2018\n",
        " \n",
        "  During the fall of 2018, the team tested a benchtop UASB model in the lab. Because actual sludge granules were not readily available, the team used tapioca to model the sludge blanket. Tapioca has similar material properties as sludge, inexpensive and readily available made it a suitable alternate material. Red dye was added to the water to identify preferential paths in the UASB reactor. Preferential pathways are the uneven distribution of wastewater flow throughout the reactor; the presence of these make the UASB reactor less efficient.\n",
        "  The result of the testing shows that the layer of tapioca did not lift entirely off the bottom of the reactor, but instead it stretched as influent “wastewater” traveled through it. The red dye in the influent revealed the formation of preferential pathways through the tapioca layer.\n",
        " \n",
        "### Spring 2019\n",
        " \n",
        "  During the Spring 2019 Semester, the team focused on completing a design for the UASB reactor that will be fabricated and tested at the Ithaca Area Waste Water Treatment Facility (IAWWTF). The team decided to make reactor canisters out of 10\" diameter clear PVC pipe, so that multiple reactors could be tested at the IAWWTF to determine whether or not pulsated flow affects reactor efficiency. To design the reactors, the team made a python class to represent the hydraulics of the UASB reactors and made an [onShape ](https://cad.onshape.com/documents/53ab6bf4dad0f6e53a3d53e2/w/d059456663ed700ebb9a2f16/e/29660576307cd46c4ec811dc) model of the reactors.\n",
        " \n",
        "### Summer 2019\n",
        "During the Summer of 2019, the team completed the fabrication of the first pilot pulsated UASB and brought it to the IAWWTF for installation. During fabrication, the team tested out the ideal pivot point on the tipping bucket to dump out a specific amount of water for each pulse, worked out kinks in the fabrication process such as gluing the flanges onto the 10” pipe, and wrote an extensive fabrication manual. \n",
        "\n",
        "### Fall 2019\n",
        "The team inoculated the seed, which contained 1/2 Activated Sludge from IAWWTF and 1/2 Ruth's brewery sludge, for the first reactor. Since then the sludge bed has grown significantly in height but has yet to reach the tip of the sludge weir. The team also learned how to test for Biological Oxygen Demand (BOD), Chemical Oxygen Demand (COD), Phophorus, and fecal coliforms (Bacti). The team also managed to move the second reactor to the IAWWTF and drill holes in the side of the second reactor to be able to measure sludge blanket height because the second reactor is not a clear pipe. The effluent connections to the drain line on both reactors were modified to allow for easier effluent sampling. The CAD model was updated as the team modified the reactor. \n"
      ]
    }
  ]
}