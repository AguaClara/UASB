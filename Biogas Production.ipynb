{
 "cells": [
  {
   "cell_type": "markdown",
   "metadata": {},
   "source": [
    "# Biogas Production Calculations\n",
    "##Determine Biogas Production Based on Design Parameters "
   ]
  },
  {
   "cell_type": "markdown",
   "metadata": {},
   "source": [
    "Size Constraints"
   ]
  },
  {
   "cell_type": "code",
   "execution_count": null,
   "metadata": {
    "collapsed": true
   },
   "outputs": [],
   "source": [
    "from aide_design.play import*\n",
    "import math\n",
    "def UASBSize(Diam, Height):\n",
    "    WW_gen = 0.003 * u.L/u.s #Wastewater generated per person, rule of thumb from Monroe\n",
    "    HRT = 4 * u.hr #Hydraulic Residence Time, determined from lab scale tests\n",
    "    Vol = math.pi * (Diam / 2)**2 * Height / 2\n",
    "    Flow = Vol / HRT_s\n",
    "    FlowL = Flow.to(u.L/u.s)\n",
    "    PS = FlowRL / WW_gen #People served per reactor\n",
    "    PS_bw = FlowRL / WW_gen_bw #People served per reactor treating only blackwater\n",
    "    print('The flow rate of the reactor is '+ut.sig(FlowRL,3))\n",
    "    print('The number of people served by this reactor is '+ut.sig(PS,3))\n",
    "    return"
   ]
  },
  {
   "cell_type": "markdown",
   "metadata": {
    "collapsed": true
   },
   "source": [
    "Influent COD "
   ]
  },
  {
   "cell_type": "code",
   "execution_count": null,
   "metadata": {
    "collapsed": true
   },
   "outputs": [],
   "source": [
    "def BiogasProduction(Flow, COD_Load)\n",
    "    COD = Flow * COD-Load\n",
    "    BiogasMax = \n",
    "    BiogasMin = \n",
    "    BiogasAvg = \n",
    "    return\n",
    "\n",
    "def EnergyProduction(Biogas)\n",
    "\n",
    "    return"
   ]
  },
  {
   "cell_type": "markdown",
   "metadata": {},
   "source": [
    "Lid Size: The lid volume should be adequate to store a day's worth of biogas production"
   ]
  },
  {
   "cell_type": "code",
   "execution_count": null,
   "metadata": {
    "collapsed": true
   },
   "outputs": [],
   "source": [
    "def LidStorage(Biogas_Prod, Diam)\n",
    "    Area_Lid = math.pi * (Diam/2)**2\n",
    "    Height_Lid = Biogas_Prod/Area_Lid\n",
    "    return\n",
    "    "
   ]
  }
 ],
 "metadata": {
  "kernelspec": {
   "display_name": "Python 3",
   "language": "python",
   "name": "python3"
  },
  "language_info": {
   "codemirror_mode": {
    "name": "ipython",
    "version": 3
   },
   "file_extension": ".py",
   "mimetype": "text/x-python",
   "name": "python",
   "nbconvert_exporter": "python",
   "pygments_lexer": "ipython3",
   "version": "3.6.1"
  }
 },
 "nbformat": 4,
 "nbformat_minor": 2
}
