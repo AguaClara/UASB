{
 "cells": [
  {
   "cell_type": "markdown",
   "metadata": {},
   "source": [
    "# Biogas Production Calculations\n",
    "\n",
    "   ## Determine Biogas Production Based on Design Parameters "
   ]
  },
  {
   "cell_type": "markdown",
   "metadata": {},
   "source": [
    "### Biogas Production Calculations\n",
    "\n",
    "**Critical Assumptions:**\n",
    "1. WW_gen: rule of thumb for wastewater production per person, from Monroe\n",
    "2. HRT: Number taken from previous lab scale tests and literature reviews (but may still be low)\n",
    "3. COD_rem: Assumed efficency of reactor for breaking down COD, general number from the literature\n",
    "4. BG_Max: Biogas production calculated from theoretical efficency, using stoichiometry of reaction.  Detailed in Spring 2014 report\n",
    "5. BG_Min: Minimum biogas production from COD load, taken from lower bound in [Van Lier report](https://courses.edx.org/c4x/DelftX/CTB3365STx/asset/Chap_4_Van_Lier_et_al.pdf)\n",
    "6. BG_Avg: Middle value, taken from average output in Aguaclara reactors (in Spring 2014 report)\n",
    "7. SH_high: Assuming maximum efficency of a stove, using results from [SSWM](https://www.sswm.info/content/direct-use-biogas)\n",
    "8. SH_low: Assuming minimum efficency of a stove, using results from [SSWM](https://www.sswm.info/content/direct-use-biogas)"
   ]
  },
  {
   "cell_type": "code",
   "execution_count": 38,
   "metadata": {
    "collapsed": true
   },
   "outputs": [],
   "source": [
    "from aide_design.play import*\n",
    "import math\n",
    "\n",
    "#Calculate Dimensions and Flow Rate \n",
    "def ReactorSize(Diam, Height):\n",
    "    WW_gen = 0.003 * u.L/u.s #Wastewater generated per person\n",
    "    HRT = 4 * u.hr #Hydraulic Residence Time\n",
    "    Vol = math.pi * (Diam / 2)**2 * Height / 2\n",
    "    Flow = Vol.to(u.L) / HRT.to(u.s)\n",
    "    PS = Flow / WW_gen #People served per reactor\n",
    "    return (Vol, Flow)\n",
    "\n",
    "#Calculate Biogas Rate of Production (L/s) in UASB\n",
    "def BiogasProd(Flow, COD_Load):\n",
    "    COD = Flow * COD_Load\n",
    "    COD_rem = COD * 0.7 #Assuming x% efficency of COD removal and conversion in reactor\n",
    "    BGMax = COD_rem * 0.378 *(u.ml/u.mg) #Theoretical Productiom, from Fall 2014 UASB team report\n",
    "    BGMin = COD_rem * 0.06 *(u.ml/u.mg) #Production using minimum value from Van Lier report\n",
    "    BGAvg = COD_rem * 0.16 *(u.ml/u.mg) #Production using average value from Spring 2014 tests\n",
    "    return (BGMax, BGAvg, BGMin)\n",
    "\n",
    "#Calculate Energy Production from Biogas Produced\n",
    "def EnergyProduction(Biogas):\n",
    "    Biogas = Biogas.to(u.L/u.days)\n",
    "    SH_high = Biogas / (200 * u.L) #Hours of stove usage, given maximum efficency of stove\n",
    "    SH_low = Biogas / (450 * u.L) #Hours of stove usage, given minimum efficency\n",
    "    #KWH = Biogas / (700 * u.L/u.kwh) #Kilowatt Hours generated from biogas used \n",
    "    return(SH_high,SH_low)"
   ]
  },
  {
   "cell_type": "markdown",
   "metadata": {
    "collapsed": true
   },
   "source": [
    "### Calculations using current design (3ft diam, 4ft sludge blanket height)"
   ]
  },
  {
   "cell_type": "code",
   "execution_count": 39,
   "metadata": {},
   "outputs": [
    {
     "name": "stdout",
     "output_type": "stream",
     "text": [
      "0.8757 milliliter / second 0.3783 / day\n"
     ]
    }
   ],
   "source": [
    "(Volume, Flowrate) = ReactorSize(3 * u.ft, 4 * u.ft)\n",
    "(Max, Min, Avg) = BiogasProd(Flowrate, 750 * (u.mg / u.L))\n",
    "(Cooking_high, Cooking_low) = EnergyProduction(Avg)\n",
    "print(Avg, Cooking_high)"
   ]
  },
  {
   "cell_type": "markdown",
   "metadata": {},
   "source": [
    "# Headspace Design"
   ]
  },
  {
   "cell_type": "markdown",
   "metadata": {},
   "source": [
    "To properly capture and store biogas produced before usage in homes, we designed a headspace in the UASB.  This top layer will collect gas rising through the UASB, and store it within until a manual offgassing event moves the gas to further storage or use."
   ]
  },
  {
   "cell_type": "code",
   "execution_count": 40,
   "metadata": {},
   "outputs": [],
   "source": [
    "#Filltime: determine time taken to fill headspace and push water completely downwards below level of seal\n",
    "#time_offgas = Maximum time allows before offgasing event that returns water level to original height\n",
    "def filltime(Diam, Height, WaterLevel, BiogasRate):\n",
    "    Vol0 = (math.pi * (Diam / 2)**2 * (Height - WaterLevel)) #volume of headspace without water initially\n",
    "    VolW = (math.pi * (Diam / 2)**2 * WaterLevel) #Volume of water initially within headspace\n",
    "    time_offgas = VolW / BiogasRate\n",
    "    Offgas_Vol = Vol0 + VolW\n",
    "    return (time_offgas, Offgas_Vol)"
   ]
  },
  {
   "cell_type": "markdown",
   "metadata": {},
   "source": [
    "### Calculations using current values (Diam = 2ft, Height = 1ft, WaterLevel = 6in)"
   ]
  },
  {
   "cell_type": "code",
   "execution_count": 41,
   "metadata": {},
   "outputs": [
    {
     "name": "stdout",
     "output_type": "stream",
     "text": [
      "0.5879 day 3.142 foot ** 3\n"
     ]
    }
   ],
   "source": [
    "(time, vol) = filltime(2 * u.ft, 1 * u.ft, 0.5 * u.ft, Avg.to(u.ft**3 / u.day))\n",
    "print(time, vol)"
   ]
  },
  {
   "cell_type": "code",
   "execution_count": null,
   "metadata": {
    "collapsed": true
   },
   "outputs": [],
   "source": []
  }
 ],
 "metadata": {
  "kernelspec": {
   "display_name": "Python 3",
   "language": "python",
   "name": "python3"
  },
  "language_info": {
   "codemirror_mode": {
    "name": "ipython",
    "version": 3
   },
   "file_extension": ".py",
   "mimetype": "text/x-python",
   "name": "python",
   "nbconvert_exporter": "python",
   "pygments_lexer": "ipython3",
   "version": "3.6.1"
  }
 },
 "nbformat": 4,
 "nbformat_minor": 2
}
