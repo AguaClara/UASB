{
 "cells": [
  {
   "cell_type": "code",
   "execution_count": 2,
   "metadata": {},
   "outputs": [],
   "source": [
    "from aide_design.play import*\n",
    "import math"
   ]
  },
  {
   "cell_type": "markdown",
   "metadata": {},
   "source": [
    "# Tube Settler Calculations\n",
    "## Determine the size of a tube settler in a UASB reactor"
   ]
  },
  {
   "cell_type": "markdown",
   "metadata": {},
   "source": [
    "## Critical Assumptions\n",
    "\n",
    "- assume capture velocity is 1.2 mm/s\n",
    "- assume diameter is "
   ]
  },
  {
   "cell_type": "code",
   "execution_count": null,
   "metadata": {
    "collapsed": true
   },
   "outputs": [],
   "source": []
  },
  {
   "cell_type": "code",
   "execution_count": 10,
   "metadata": {},
   "outputs": [
    {
     "name": "stdout",
     "output_type": "stream",
     "text": [
      "0.2182 foot\n"
     ]
    }
   ],
   "source": [
    "V_reactor_up = 1 * u.mm/u.s    #we have this\n",
    "V_capture = 1.2 * u.mm/u.s       #needs research?!\n",
    "angle = 60 * u.deg\n",
    "diam = 2 * u. inch\n",
    "\n",
    "\n",
    "\n",
    "# slide Q/As\n",
    "def len_tube(diam, angle, v_up, v_cap):\n",
    "    len = ((v_up * np.pi * diam) / (4 * v_cap * math.cos(angle)))\n",
    "    return len.to(u.ft)\n",
    "\n",
    "print(len_tube(diam, angle, V_reactor_up, V_capture))"
   ]
  },
  {
   "cell_type": "code",
   "execution_count": null,
   "metadata": {
    "collapsed": true
   },
   "outputs": [],
   "source": []
  },
  {
   "cell_type": "code",
   "execution_count": null,
   "metadata": {
    "collapsed": true
   },
   "outputs": [],
   "source": []
  }
 ],
 "metadata": {
  "kernelspec": {
   "display_name": "Python 3",
   "language": "python",
   "name": "python3"
  },
  "language_info": {
   "codemirror_mode": {
    "name": "ipython",
    "version": 3
   },
   "file_extension": ".py",
   "mimetype": "text/x-python",
   "name": "python",
   "nbconvert_exporter": "python",
   "pygments_lexer": "ipython3",
   "version": "3.6.1"
  }
 },
 "nbformat": 4,
 "nbformat_minor": 2
}
