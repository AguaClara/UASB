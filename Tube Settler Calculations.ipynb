{
 "cells": [
  {
   "cell_type": "code",
   "execution_count": 1,
   "metadata": {},
   "outputs": [],
   "source": [
    "from aide_design.play import*\n",
    "import math\n"
   ]
  },
  {
   "cell_type": "markdown",
   "metadata": {},
   "source": [
    "# Tube Settler Calculations\n",
    "## Determine the size of a tube settler in a UASB reactor"
   ]
  },
  {
   "cell_type": "markdown",
   "metadata": {},
   "source": [
    "## Critical Assumptions\n",
    "\n",
    "- assume capture velocity is 1.2 mm/s\n",
    "- assume diameter is 4 inches"
   ]
  },
  {
   "cell_type": "code",
   "execution_count": 31,
   "metadata": {},
   "outputs": [
    {
     "name": "stdout",
     "output_type": "stream",
     "text": [
      "0.05508 millimeter / second\n",
      "4.461 millimeter / second\n"
     ]
    }
   ],
   "source": [
    "diam = 3 * u.ft\n",
    "\n",
    "area_reactor = np.pi * diam**2 / 4\n",
    "\n",
    "v_up = (0.03617 * u.L/u.s) / area_reactor\n",
    "\n",
    "print(v_up. to (u.mm/u.s))\n",
    "\n",
    "\n",
    "diam_tube = 4 * u. inch\n",
    "\n",
    "\n",
    "# upflow velocity through the tube settler\n",
    "v = 0.03617 * u.L/u.s / pc.area_circle(diam_tube)\n",
    "\n",
    "print (v.to(u.mm/u.s))"
   ]
  },
  {
   "cell_type": "code",
   "execution_count": 28,
   "metadata": {},
   "outputs": [
    {
     "name": "stdout",
     "output_type": "stream",
     "text": [
      "0.2884 inch\n"
     ]
    }
   ],
   "source": [
    "V_reactor_up = 1 * u.mm/u.s    #we have this\n",
    "V_capture = 1.2 * u.mm/u.s       #needs research?!\n",
    "angle = 60 * u.deg\n",
    "\n",
    "\n",
    "\n",
    "\n",
    "# slide Q/As\n",
    "def len_tube(diam, angle, v_up, v_cap):\n",
    "    len = ((v_up * np.pi * diam) / (4 * v_cap * math.cos(angle)))\n",
    "    return len.to(u.inch)\n",
    "\n",
    "print(len_tube(diam_tube, angle, v_up, V_capture))"
   ]
  },
  {
   "cell_type": "markdown",
   "metadata": {},
   "source": [
    "tube selttler into the reactor a smidge\n",
    "\n",
    "length\n",
    "    - capture velocity (0.05 mm/s or set to upflow veloctiy through the tube settler)\n",
    "    - **water elevation control, needs to be long enough to set height ontop of water lid** this sets the length\n",
    "    - multiple exits? potentially not necessary \n",
    "diameter\n",
    "    - S must be 2.5 cm  \n",
    "height \n",
    "\n",
    "dont know v capture and v up but we can get a ratio of the two "
   ]
  },
  {
   "cell_type": "code",
   "execution_count": null,
   "metadata": {
    "collapsed": true
   },
   "outputs": [],
   "source": []
  },
  {
   "cell_type": "code",
   "execution_count": null,
   "metadata": {
    "collapsed": true
   },
   "outputs": [],
   "source": []
  }
 ],
 "metadata": {
  "kernelspec": {
   "display_name": "Python 3",
   "language": "python",
   "name": "python3"
  },
  "language_info": {
   "codemirror_mode": {
    "name": "ipython",
    "version": 3
   },
   "file_extension": ".py",
   "mimetype": "text/x-python",
   "name": "python",
   "nbconvert_exporter": "python",
   "pygments_lexer": "ipython3",
   "version": "3.6.1"
  }
 },
 "nbformat": 4,
 "nbformat_minor": 2
}
