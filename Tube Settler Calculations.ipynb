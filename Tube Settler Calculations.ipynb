{
 "cells": [
  {
   "cell_type": "code",
   "execution_count": 2,
   "metadata": {
    "collapsed": true
   },
   "outputs": [],
   "source": [
    "from aide_design.play import*\n",
    "import math\n",
    "from pytexit import py2tex\n"
   ]
  },
  {
   "cell_type": "markdown",
   "metadata": {},
   "source": [
    "# Tube Settler Calculations\n",
    "\n",
    "## Introduction\n",
    "The tube settler is an integral part of the UASB team's additions to a traditional UASB. The tube settler is modeled after the plate settlers in a sedimentation tank. This design addition will increase the overall solids retention time in the reactor body and improve the effluent quality by allowing particles that leave the body of the reactor time to settle back down. The calculations below determine the design parameters required for the tube settler. \n"
   ]
  },
  {
   "cell_type": "markdown",
   "metadata": {},
   "source": [
    "## Tube Settler Design \n",
    "\n",
    "The tube settler will be a larger diameter tube with plate settlers inside it. The tube settler will primariliy extrude from the body of the UASB reactor. \n"
   ]
  },
  {
   "cell_type": "markdown",
   "metadata": {},
   "source": [
    "[Google Drive Image, UASB Reactor Side View](https://docs.google.com/drawings/d/1YEYftDpw_Mzjo6H_TVIifUeApaDGMiU-Yh6jBr0SFlM/edit)"
   ]
  },
  {
   "cell_type": "markdown",
   "metadata": {},
   "source": [
    "![](UASB_Reactor_Side.jpg)"
   ]
  },
  {
   "cell_type": "markdown",
   "metadata": {},
   "source": [
    "**Figure 1:** This section will focus on the tube settler used for the effluent shown in the upper right of the diagram of the proposed UASB reactor."
   ]
  },
  {
   "cell_type": "markdown",
   "metadata": {},
   "source": [
    "## Design Parameters\n",
    "\n",
    "Here we set a series of parameters for the design of our pilot scale reactor.  These values are subject to change, but they offer our current ideas on the size and function of our reactor.  The parameters and the reasons for their decision is detailed below.\n",
    "\n",
    "Parameter| Value | Basis of Design\n",
    ":------------- |:-------------|:--------\n",
    "Height of reactor| 7 ft | max allowed to fabricate in lab safely\n",
    "Diameter of reactor |3 ft | based on 1 L/s plant design\n",
    "Height of sludge blanket | 3.5 ft| assumed half height of reactor\n",
    "Distance between plate settlers | 2.5 cm | based on sedimentation tank design \n",
    "Angle of tube settler | 60 degrees | based on sedimentation tank design\n",
    "Thickness of plates | 2 mm| taken from corrugated plastic thickness\n"
   ]
  },
  {
   "cell_type": "markdown",
   "metadata": {},
   "source": [
    "## Critical Assumptions\n",
    "\n",
    "Parameter| Value | Basis of Design\n",
    ":------------- |:-------------|:--------\n",
    "Capture velocity|  | set to upflow velocity through the tube settler, or 0.05 mm/s\n",
    "Length of the tube settler |3 ft | set to the water elevation height in the body of the reactor\n",
    "Hydraulic residence time | 4 hr | number taken from previous lab scale tests and literature reviews\n",
    "Diameter sludge weir | 6 inch | variable used for calculations\n",
    "Sludge weir tube settler separation distance | 12 inch | arbitrary separation distance for ease of fabrication <sup>1</sup> \n",
    "Water elevation | 6.5 ft | 6 inches for safety below the full height of the reactor\n",
    "\n",
    "<sup>1</sup>If this separation distance is too large the tube settler won't be long enough, if it is too low it will touch the sludge blanket.  "
   ]
  },
  {
   "cell_type": "code",
   "execution_count": 3,
   "metadata": {
    "collapsed": true
   },
   "outputs": [],
   "source": [
    "def UASBSize(diam, height):\n",
    "    \"\"\"Takes the inputs of diameter and height. The bottom of the UASB is sloped\n",
    "    at 60 degrees with a 3 inch space across the bottom of the UASB. Assumes that half the reactor \n",
    "    contains the settled bed, which is used for the HRT. Returns five outputs: 1. height of the sloped\n",
    "    sides of the bottom geometry, 2. volume of sludge in the reactor, 3. flow rate,\n",
    "    4. number of people served with graywater, 5. number of people served with blackwater. \n",
    "    \"\"\"\n",
    "    \n",
    "    WW_gen = 3 * u.mL/u.s        #Wastewater generated per person, rule of thumb from Monroe\n",
    "    WW_gen_bw = 0.6 * u.mL/u.s   #Assumes 20% of mixed wastewater\n",
    "    HRT = 4 * u.hr               #Hydraulic Residence Time, determined from lab scale tests\n",
    "    \n",
    "    centerspace = 3 * u.inch     #Center space allows for a 3 inch pipe across the bottom\n",
    "    phi = math.atan((diam/2)/(centerspace/2))\n",
    "    angle = 60 * u.deg           #Angle of the sloped bottom\n",
    "    \n",
    "    height_cyl_hoof = diam/2 * np.tan(angle)    #Hoof is if \n",
    "    height_cyl_wedge = height_cyl_hoof - ((centerspace/2) * math.tan(angle))\n",
    "    vol_cyl_wedge = height_cyl_wedge * (diam/2)**2 / 3 * ((\n",
    "        3*math.sin(phi) - 3*phi*math.cos(phi) - math.sin(phi)**3)/(1-math.cos(phi)))\n",
    "    vol_reactor = (math.pi * (diam / 2)**2 * height / 2) - (2 * vol_cyl_wedge)\n",
    "    \n",
    "    flow = vol_reactor / HRT\n",
    "    people_served = int(flow / WW_gen)       #People served per reactor\n",
    "    people_served_BW = int(flow / WW_gen_bw) #People served per reactor treating only blackwater\n",
    "    \n",
    "    output = [height_cyl_wedge.to(u.m), vol_reactor.to(u.L), flow.to(u.L/u.s), people_served, people_served_BW]\n",
    "    \n",
    "    print(\"The height of the bottom geometry is\",height_cyl_wedge.to(u.m))\n",
    "    print('The volume of the sludge in the reactor is', vol_reactor.to(u.L))\n",
    "    print('The flow rate of the reactor is', flow.to(u.L/u.s))\n",
    "    print('The number of people served by this reactor is', people_served)\n",
    "    print('The number of people served by this reactor if only blackwater is treated is', people_served_BW)\n",
    "    return output"
   ]
  },
  {
   "cell_type": "code",
   "execution_count": 4,
   "metadata": {},
   "outputs": [
    {
     "name": "stdout",
     "output_type": "stream",
     "text": [
      "The height of the bottom geometry is 0.7259 meter\n",
      "The volume of the sludge in the reactor is 520.8 liter\n",
      "The flow rate of the reactor is 0.03617 liter / second\n",
      "The number of people served by this reactor is 12\n",
      "The number of people served by this reactor if only blackwater is treated is 60\n"
     ]
    }
   ],
   "source": [
    "UASB = UASBSize(3*u.ft, 7*u.ft)"
   ]
  },
  {
   "cell_type": "code",
   "execution_count": 6,
   "metadata": {
    "collapsed": true
   },
   "outputs": [],
   "source": [
    "# Design Parameters\n",
    "height_blanket = 3.5 * u.ft \n",
    "plate_space = 2.5 * u.cm\n",
    "angle = 60 * u.deg\n",
    "thickness_sed_plate = 2 * u.mm\n",
    "flow = UASB[2]\n",
    "\n",
    "# Assumptions\n",
    "diam_sludge_weir = 6 * u.inch\n",
    "sep_dist = 12 * u.inch\n",
    "water_elevation = 6.5 * u.ft  ## figure out from previous reports"
   ]
  },
  {
   "cell_type": "code",
   "execution_count": 6,
   "metadata": {},
   "outputs": [
    {
     "name": "stdout",
     "output_type": "stream",
     "text": [
      "The vertical velocity component beneath the plate settlers is [ 0.96585625  0.618148  ] millimeter / second\n",
      "The vertical velocity component between the plate settlers is [ 1.04312475  0.66759984] millimeter / second\n",
      "The velocity between the plate settlers is [ 1.2044967   0.77087789] millimeter / second\n"
     ]
    }
   ],
   "source": [
    "diam_tube = np.array([8,10]) * u.inch\n",
    "\n",
    "B = (plate_space + thickness_sed_plate).to(u.cm)\n",
    "\n",
    "velocity_active_up = (flow * np.sin(angle)/(pc.area_circle(diam_tube))).to(u.mm/u.s)\n",
    "print(\"The vertical velocity component beneath the plate settlers is\", velocity_active_up.magnitude,velocity_active_up.units )\n",
    "\n",
    "velocity_plate_up = velocity_active_up * B / plate_space\n",
    "print(\"The vertical velocity component between the plate settlers is\", velocity_plate_up.magnitude, velocity_plate_up.units)\n",
    "\n",
    "velocity_plate = (velocity_plate_up / np.sin(angle)).to(u.mm/u.s)\n",
    "print(\"The velocity between the plate settlers is\", velocity_plate.magnitude, velocity_plate.units)\n",
    "\n"
   ]
  },
  {
   "cell_type": "code",
   "execution_count": 7,
   "metadata": {},
   "outputs": [
    {
     "name": "stdout",
     "output_type": "stream",
     "text": [
      "The height of the center of the tube settler where is attaches to the body of the reactor is [ 64.  65.] inch\n",
      "The vertical length of the tube settler is [ 14.  13.] inch\n",
      "The length of the tube setter is [ 41.06115114  38.12821178] centimeter\n",
      "The projected area of the plates is [ 0.04758401  0.05575518] meter ** 2\n",
      "The capture veloctiy is [ 0.12859033  0.08779588] millimeter / second\n",
      "The number of plate settlers is [ 7.  9.] dimensionless\n"
     ]
    }
   ],
   "source": [
    "\n",
    "height_tube_settler = (height_blanket + diam_sludge_weir + sep_dist + 0.5*diam_tube).to(u.inch)  # height of the center of the tube setler\n",
    "print(\"The height of the center of the tube settler where is attaches to the body of the reactor is\",height_tube_settler.magnitude, height_tube_settler.units)\n",
    "\n",
    "length_tube_settler_vertical = (water_elevation - height_tube_settler).to(u.inch)\n",
    "print(\"The vertical length of the tube settler is\", length_tube_settler_vertical.magnitude, length_tube_settler_vertical.units)\n",
    "\n",
    "length_tube_settler = (length_tube_settler_vertical / np.sin(angle)).to(u.cm)\n",
    "print(\"The length of the tube setter is\",length_tube_settler.magnitude, length_tube_settler.units)\n",
    "\n",
    "projected_area = (((length_tube_settler * np.cos(angle)\n",
    "                  ) + (plate_space/np.sin(angle))) * diam_tube).to(u.m**2)\n",
    "print(\"The projected area of the plates is\", projected_area.magnitude, projected_area.units)\n",
    "\n",
    "velocity_capture = (plate_space.to(u.mm) * velocity_plate_up.to(u.mm/u.s))/(length_tube_settler.to(u.mm) * np.sin(angle) * np.cos(angle) + plate_space.to(u.mm))\n",
    "print(\"The capture veloctiy is\", velocity_capture.magnitude, velocity_capture.units)\n",
    "\n",
    "number_plate_settler = np.floor(diam_tube / (plate_space.to(u.inch) + thickness_sed_plate.to(u.inch)))\n",
    "print(\"The number of plate settlers is\", number_plate_settler.magnitude, number_plate_settler.units)"
   ]
  },
  {
   "cell_type": "code",
   "execution_count": null,
   "metadata": {
    "collapsed": true
   },
   "outputs": [],
   "source": []
  }
 ],
 "metadata": {
  "kernelspec": {
   "display_name": "Python 3",
   "language": "python",
   "name": "python3"
  },
  "language_info": {
   "codemirror_mode": {
    "name": "ipython",
    "version": 3
   },
   "file_extension": ".py",
   "mimetype": "text/x-python",
   "name": "python",
   "nbconvert_exporter": "python",
   "pygments_lexer": "ipython3",
   "version": "3.6.1"
  }
 },
 "nbformat": 4,
 "nbformat_minor": 2
}
