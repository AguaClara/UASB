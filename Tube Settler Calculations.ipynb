{
 "cells": [
  {
   "cell_type": "code",
   "execution_count": 48,
   "metadata": {},
   "outputs": [
    {
     "name": "stdout",
     "output_type": "stream",
     "text": [
      "/Users/cynthia/Documents/GitHub/UASB\n"
     ]
    },
    {
     "ename": "ImportError",
     "evalue": "",
     "output_type": "error",
     "traceback": [
      "\u001b[0;31m---------------------------------------------------------------------------\u001b[0m",
      "\u001b[0;31mModuleNotFoundError\u001b[0m                       Traceback (most recent call last)",
      "\u001b[0;32m<ipython-input-48-9912c3ca8cbe>\u001b[0m in \u001b[0;36mimport_file\u001b[0;34m(full_path_to_module)\u001b[0m\n\u001b[1;32m     11\u001b[0m         \u001b[0mos\u001b[0m\u001b[0;34m.\u001b[0m\u001b[0mchdir\u001b[0m\u001b[0;34m(\u001b[0m\u001b[0mmodule_dir\u001b[0m\u001b[0;34m)\u001b[0m\u001b[0;34m\u001b[0m\u001b[0m\n\u001b[0;32m---> 12\u001b[0;31m         \u001b[0mmodule_obj\u001b[0m \u001b[0;34m=\u001b[0m \u001b[0m__import__\u001b[0m\u001b[0;34m(\u001b[0m\u001b[0mmodule_name\u001b[0m\u001b[0;34m)\u001b[0m\u001b[0;34m\u001b[0m\u001b[0m\n\u001b[0m\u001b[1;32m     13\u001b[0m         \u001b[0mmodule_obj\u001b[0m\u001b[0;34m.\u001b[0m\u001b[0m__file__\u001b[0m \u001b[0;34m=\u001b[0m \u001b[0mfull_path_to_module\u001b[0m\u001b[0;34m\u001b[0m\u001b[0m\n",
      "\u001b[0;31mModuleNotFoundError\u001b[0m: No module named 'UASB_size'",
      "\nDuring handling of the above exception, another exception occurred:\n",
      "\u001b[0;31mImportError\u001b[0m                               Traceback (most recent call last)",
      "\u001b[0;32m<ipython-input-48-9912c3ca8cbe>\u001b[0m in \u001b[0;36m<module>\u001b[0;34m()\u001b[0m\n\u001b[1;32m     17\u001b[0m         \u001b[0;32mraise\u001b[0m \u001b[0mImportError\u001b[0m\u001b[0;34m\u001b[0m\u001b[0m\n\u001b[1;32m     18\u001b[0m \u001b[0;34m\u001b[0m\u001b[0m\n\u001b[0;32m---> 19\u001b[0;31m \u001b[0mimport_file\u001b[0m\u001b[0;34m(\u001b[0m\u001b[0;34m'/Users/cynthia/Documents/GitHub/UASB/UASB_size.py'\u001b[0m\u001b[0;34m)\u001b[0m\u001b[0;34m\u001b[0m\u001b[0m\n\u001b[0m",
      "\u001b[0;32m<ipython-input-48-9912c3ca8cbe>\u001b[0m in \u001b[0;36mimport_file\u001b[0;34m(full_path_to_module)\u001b[0m\n\u001b[1;32m     15\u001b[0m         \u001b[0mos\u001b[0m\u001b[0;34m.\u001b[0m\u001b[0mchdir\u001b[0m\u001b[0;34m(\u001b[0m\u001b[0msave_cwd\u001b[0m\u001b[0;34m)\u001b[0m\u001b[0;34m\u001b[0m\u001b[0m\n\u001b[1;32m     16\u001b[0m     \u001b[0;32mexcept\u001b[0m\u001b[0;34m:\u001b[0m\u001b[0;34m\u001b[0m\u001b[0m\n\u001b[0;32m---> 17\u001b[0;31m         \u001b[0;32mraise\u001b[0m \u001b[0mImportError\u001b[0m\u001b[0;34m\u001b[0m\u001b[0m\n\u001b[0m\u001b[1;32m     18\u001b[0m \u001b[0;34m\u001b[0m\u001b[0m\n\u001b[1;32m     19\u001b[0m \u001b[0mimport_file\u001b[0m\u001b[0;34m(\u001b[0m\u001b[0;34m'/Users/cynthia/Documents/GitHub/UASB/UASB_size.py'\u001b[0m\u001b[0;34m)\u001b[0m\u001b[0;34m\u001b[0m\u001b[0m\n",
      "\u001b[0;31mImportError\u001b[0m: "
     ]
    }
   ],
   "source": [
    "from aide_design.play import*\n",
    "import math\n",
    "\n",
    "import os\n",
    "print(os.getcwd())\n",
    "\n",
    "\n",
    "def import_file(full_path_to_module):\n",
    "    try:\n",
    "        import os\n",
    "        module_dir, module_file = os.path.split(full_path_to_module)\n",
    "        module_name, module_ext = os.path.splitext(module_file)\n",
    "        save_cwd = os.getcwd()\n",
    "        os.chdir(module_dir)\n",
    "        module_obj = __import__(module_name)\n",
    "        module_obj.__file__ = full_path_to_module\n",
    "        globals()[module_name] = module_obj\n",
    "        os.chdir(save_cwd)\n",
    "    except:\n",
    "        raise ImportError\n",
    "\n",
    "import_file('/Users/cynthia/Documents/GitHub/UASB/UASB_size.py')"
   ]
  },
  {
   "cell_type": "markdown",
   "metadata": {},
   "source": [
    "# Tube Settler Calculations\n",
    "## Determine the size of a tube settler in a UASB reactor"
   ]
  },
  {
   "cell_type": "markdown",
   "metadata": {},
   "source": [
    "## Critical Assumptions\n",
    "\n",
    "- assume capture velocity is 1.2 mm/s\n",
    "- assume diameter is 4 inches"
   ]
  },
  {
   "cell_type": "code",
   "execution_count": 31,
   "metadata": {},
   "outputs": [
    {
     "name": "stdout",
     "output_type": "stream",
     "text": [
      "0.05508 millimeter / second\n",
      "4.461 millimeter / second\n"
     ]
    }
   ],
   "source": [
    "diam = 3 * u.ft\n",
    "\n",
    "area_reactor = np.pi * diam**2 / 4\n",
    "\n",
    "v_up = (0.03617 * u.L/u.s) / area_reactor\n",
    "\n",
    "print(v_up. to (u.mm/u.s))\n",
    "\n",
    "\n",
    "diam_tube = 4 * u. inch\n",
    "\n",
    "\n",
    "# upflow velocity through the tube settler\n",
    "v = 0.03617 * u.L/u.s / pc.area_circle(diam_tube)\n",
    "\n",
    "print (v.to(u.mm/u.s))"
   ]
  },
  {
   "cell_type": "code",
   "execution_count": 28,
   "metadata": {},
   "outputs": [
    {
     "name": "stdout",
     "output_type": "stream",
     "text": [
      "0.2884 inch\n"
     ]
    }
   ],
   "source": [
    "V_reactor_up = 1 * u.mm/u.s    #we have this\n",
    "V_capture = 1.2 * u.mm/u.s       #needs research?!\n",
    "angle = 60 * u.deg\n",
    "\n",
    "\n",
    "\n",
    "\n",
    "# slide Q/As\n",
    "def len_tube(diam, angle, v_up, v_cap):\n",
    "    len = ((v_up * np.pi * diam) / (4 * v_cap * math.cos(angle)))\n",
    "    return len.to(u.inch)\n",
    "\n",
    "print(len_tube(diam_tube, angle, v_up, V_capture))"
   ]
  },
  {
   "cell_type": "markdown",
   "metadata": {},
   "source": [
    "tube selttler into the reactor a smidge\n",
    "\n",
    "length\n",
    "    - capture velocity (0.05 mm/s or set to upflow veloctiy through the tube settler)\n",
    "    - **water elevation control, needs to be long enough to set height ontop of water lid** this sets the length\n",
    "    - multiple exits? potentially not necessary \n",
    "diameter\n",
    "    - S must be 2.5 cm  \n",
    "height \n",
    "\n",
    "dont know v capture and v up but we can get a ratio of the two "
   ]
  },
  {
   "cell_type": "code",
   "execution_count": null,
   "metadata": {
    "collapsed": true
   },
   "outputs": [],
   "source": []
  },
  {
   "cell_type": "code",
   "execution_count": null,
   "metadata": {
    "collapsed": true
   },
   "outputs": [],
   "source": []
  }
 ],
 "metadata": {
  "kernelspec": {
   "display_name": "Python 3",
   "language": "python",
   "name": "python3"
  },
  "language_info": {
   "codemirror_mode": {
    "name": "ipython",
    "version": 3
   },
   "file_extension": ".py",
   "mimetype": "text/x-python",
   "name": "python",
   "nbconvert_exporter": "python",
   "pygments_lexer": "ipython3",
   "version": "3.6.1"
  }
 },
 "nbformat": 4,
 "nbformat_minor": 2
}
