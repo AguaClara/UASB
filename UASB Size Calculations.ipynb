{
 "cells": [
  {
   "cell_type": "markdown",
   "metadata": {},
   "source": [
    "# UASB Size Calculations\n",
    "\n",
    "Determine number of people served based on size of UASB design"
   ]
  },
  {
   "cell_type": "markdown",
   "metadata": {},
   "source": [
    "UASB Size Function: Calculate Flow Rate and People Served Based on Size"
   ]
  },
  {
   "cell_type": "code",
<<<<<<< HEAD
   "execution_count": 6,
=======
   "execution_count": 21,
>>>>>>> 18bb37ec9ee15f6bd8b324cc579549e83aed087b
   "metadata": {
    "collapsed": true
   },
   "outputs": [],
   "source": [
    "from aide_design.play import*\n",
    "import math\n",
    "def UASBSize(Diam, Height):\n",
    "    \"\"\"Returns the flow rate of the UASB reactor given a cylindical body. \n",
    "    Assumes that half the reactor contains the settled bed, which is used for the HRT. \n",
    "    Takes the inputs of diameter and height.\"\"\"\n",
    "    \n",
    "    WW_gen = 3 * u.mL/u.s #Wastewater generated per person, rule of thumb from Monroe\n",
    "    WW_gen_bw = 0.6 * u.mL/u.s # Assumes 20% of mixed wastewater\n",
    "    HRT = 4 * u.hr #Hydraulic Residence Time, determined from lab scale tests\n",
    "    Vol = math.pi * (Diam / 2)**2 * Height / 2\n",
<<<<<<< HEAD
    "    Flow = Vol.to(u.L) / HRT.to(u.s)\n",
    "    PS = Flow / WW_gen #People served per reactor\n",
    "    return(Vol, Flow)"
=======
    "    Flow = Vol / HRT\n",
    "    PS = int(Flow / WW_gen) #People served per reactor\n",
    "    PS_bw = int(Flow / WW_gen_bw) #People served per reactor treating only blackwater\n",
    "    print('The flow rate of the reactor is', Flow.to(u.L/u.s))\n",
    "    print('The number of people served by this reactor is', PS)\n",
    "    print('The number of people served by this reactor if only blackwater is treated is', PS_bw)\n",
    "    return"
>>>>>>> 18bb37ec9ee15f6bd8b324cc579549e83aed087b
   ]
  },
  {
   "cell_type": "code",
   "execution_count": 22,
   "metadata": {},
   "outputs": [
    {
     "name": "stdout",
     "output_type": "stream",
     "text": [
      "The flow rate of the reactor is 0.05676 liter / second\n",
      "The number of people served by this reactor is 18\n",
      "The number of people served by this reactor if only blackwater is treated is 94\n"
     ]
    }
   ],
   "source": [
    "UASBSize(3.5*u.ft, 6*u.ft)"
   ]
  },
  {
   "cell_type": "code",
   "execution_count": null,
   "metadata": {
    "collapsed": true
   },
   "outputs": [],
   "source": []
  }
 ],
 "metadata": {
  "kernelspec": {
   "display_name": "Python 3",
   "language": "python",
   "name": "python3"
  },
  "language_info": {
   "codemirror_mode": {
    "name": "ipython",
    "version": 3
   },
   "file_extension": ".py",
   "mimetype": "text/x-python",
   "name": "python",
   "nbconvert_exporter": "python",
   "pygments_lexer": "ipython3",
   "version": "3.6.1"
  }
 },
 "nbformat": 4,
 "nbformat_minor": 2
}
