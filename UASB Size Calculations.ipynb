{
 "cells": [
  {
   "cell_type": "code",
   "execution_count": 3,
   "metadata": {
    "collapsed": true
   },
   "outputs": [],
   "source": [
    "from aide_design.play import*\n",
    "import math\n",
    "from pytexit import py2tex"
   ]
  },
  {
   "cell_type": "markdown",
   "metadata": {},
   "source": [
    "# UASB Size Calculations\n",
    "\n",
    "Determine number of people served based on size of UASB design. The reactor will have a 60$^{\\circ}$ sloped bottom for structural integrity, primarily based on the designs of the 1 L/s plant. The reactor will thus have a reduced volume from the two cylindrical hooves that have been removed from housing active granules. \n",
    "\n",
    "Perhaps consider leaving a space between the two cylindrical hooves? 1 L/s report from Fall 2016 leaves 6 inch space for the jet reverser. https://www.overleaf.com/6186375zdpjfc#/20717591/"
   ]
  },
  {
   "cell_type": "markdown",
   "metadata": {},
   "source": [
    "<div class=\"alert alert-block alert-danger\">\n",
    "fix the return function, should return variables to be used elsewhere"
   ]
  },
  {
   "cell_type": "markdown",
   "metadata": {},
   "source": [
    "UASB Size Function: Calculate Flow Rate and People Served Based on Size"
   ]
  },
  {
   "cell_type": "code",
   "execution_count": 6,
   "metadata": {
    "collapsed": true
   },
   "outputs": [],
   "source": [
    "def UASBSize(diam, height):\n",
    "    \"\"\"Returns the flow rate of the UASB reactor given a cylindical body. \n",
    "    Assumes that half the reactor contains the settled bed, which is used for the HRT. \n",
    "    Takes the inputs of diameter and height.\"\"\"\n",
    "    \n",
    "    WW_gen = 3 * u.mL/u.s        #Wastewater generated per person, rule of thumb from Monroe\n",
    "    WW_gen_bw = 0.6 * u.mL/u.s   #Assumes 20% of mixed wastewater\n",
    "    HRT = 4 * u.hr               #Hydraulic Residence Time, determined from lab scale tests\n",
    "    \n",
    "    centerspace = 3 * u.inch     #Center space allows for a 3 inch pipe across the bottom\n",
    "    phi = math.atan((diam/2)/(centerspace/2))\n",
    "    angle = 60 * u.deg           #Angle of the sloped bottom\n",
    "    \n",
    "    height_cyl_hoof = diam/2 * np.tan(angle)    #Hoof is if \n",
    "    height_cyl_wedge = height_cyl_hoof - ((centerspace/2) * math.tan(angle))\n",
    "    vol_cyl_wedge = height_cyl_wedge * (diam/2)**2 / 3 * ((\n",
    "        3*math.sin(phi) - 3*phi*math.cos(phi) - math.sin(phi)**3)/(1-math.cos(phi)))\n",
    "    vol_reactor = (math.pi * (diam / 2)**2 * height / 2) - (2 * vol_cyl_wedge)\n",
    "    \n",
    "    flow = vol_reactor / HRT\n",
    "    people_served = int(flow / WW_gen)       #People served per reactor\n",
    "    people_served_BW = int(flow / WW_gen_bw) #People served per reactor treating only blackwater\n",
    "    \n",
    "    print(\"The height of the bottom geometry is\",height_cyl_wedge.to(u.m))\n",
    "    print('The volume of the sludge in the reactor is', vol_reactor.to(u.L))\n",
    "    print('The flow rate of the reactor is', flow.to(u.L/u.s))\n",
    "    print('The number of people served by this reactor is', people_served)\n",
    "    print('The number of people served by this reactor if only blackwater is treated is', people_served_BW)\n",
    "    return"
   ]
  },
  {
   "cell_type": "code",
   "execution_count": 7,
   "metadata": {},
   "outputs": [
    {
     "name": "stdout",
     "output_type": "stream",
     "text": [
      "The height of the bottom geometry is 0.7259 meter\n",
      "The volume of the sludge in the reactor is 520.8 liter\n",
      "The flow rate of the reactor is 0.03617 liter / second\n",
      "The number of people served by this reactor is 12\n",
      "The number of people served by this reactor if only blackwater is treated is 60\n"
     ]
    }
   ],
   "source": [
    "UASBSize(3*u.ft, 7*u.ft)"
   ]
  },
  {
   "cell_type": "code",
   "execution_count": null,
   "metadata": {
    "collapsed": true
   },
   "outputs": [],
   "source": []
  }
 ],
 "metadata": {
  "kernelspec": {
   "display_name": "Python 3",
   "language": "python",
   "name": "python3"
  },
  "language_info": {
   "codemirror_mode": {
    "name": "ipython",
    "version": 3
   },
   "file_extension": ".py",
   "mimetype": "text/x-python",
   "name": "python",
   "nbconvert_exporter": "python",
   "pygments_lexer": "ipython3",
   "version": "3.6.1"
  }
 },
 "nbformat": 4,
 "nbformat_minor": 2
}
