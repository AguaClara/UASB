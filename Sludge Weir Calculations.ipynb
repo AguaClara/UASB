{
 "cells": [
  {
   "cell_type": "markdown",
   "metadata": {
    "collapsed": true
   },
   "source": [
    "# Sludge Weir and Growth Calculations"
   ]
  },
  {
   "cell_type": "markdown",
   "metadata": {},
   "source": [
    "## Introduction\n",
    "Over the length of operation, anaerobes within a UASB reactor will continue to grow creating excess sludge.  In order to maintain high effluent quality and prevent unintentional discharge of biomass, it is crucial to maintain the sludge blanket height of the UASB.  In conventional UASB reactors, the height of the sludge blanket is maintained manually by discharge through multiple sampling ports on the side of the reactor.  To improve maintanence and create a operator-friendly system,  a sludge weir, based on designs of the AguaClara 1 L/s plant, will be utilized.  This document serves to calculate the size of the sludge weir required and the time required between maintenance."
   ]
  },
  {
   "cell_type": "markdown",
   "metadata": {},
   "source": [
    "## Design Parameters\n",
    "\n",
    "Here we set a series of parameters for the design of our pilot scale reactor.  These values are subject to change, but they offer our current ideas on the size and function of our reactor.  The parameters and the reasons for their decision is detailed below.\n",
    "\n",
    "1. Height Reactor: 7 ft , max allowed to fabricate in lab safely\n",
    "2. Diameter Reactor: 3 ft, based on 1 L/s plant design\n",
    "3. Height sludge blanket: 3.5 ft, assumed half height of reactor\n",
    "4. Height Headspace: TBD from production calculations\n",
    "5. Diameter Headspace: TBD from production calculations\n",
    "6. COD_Load: 750 mg/L, medium value from most plants (can be varied)"
   ]
  },
  {
   "cell_type": "markdown",
   "metadata": {},
   "source": [
    "## Critical Assumptions\n",
    "\n",
    "In designing the biogas capture, there are many areas of uncertainty that are challenging to characterize before we can collect data from our own reactor.  In order to minimize uncertainty and provide the most accurate calculations, we used a series of assumptions for these areas.  The assumed values, and their justification and sources are detailed below.\n",
    "\n",
    "1. Steady state operating conditions\n",
    "2. Constant influent temperature, and upflow velocity\n",
    "3. Constant COD load\n",
    "4. Constant composition of microbial community \n",
    "\n",
    "Revise this\n",
    "1. WW_gen: 3 ml/s, rule of thumb for wastewater production per person, from Monroe\n",
    "2. HRT: 4 hours, Number taken from previous lab scale tests and literature reviews\n",
    "3. COD_rem: 70%, Assumed efficency of reactor for breaking down COD, general number from the literature\n",
    "4. BG_Max: 37.8% of COD_rem, calculated from theoretical efficency, using stoichiometry of reaction.  Detailed in Spring 2014 UASB team report\n",
    "5. BG_Min: 6%, Minimum biogas production from COD load, taken from lower bound in [Van Lier report](https://courses.edx.org/c4x/DelftX/CTB3365STx/asset/Chap_4_Van_Lier_et_al.pdf)\n",
    "6. BG_Avg: 16%, Middle value, taken from average output in Aguaclara reactors (in Spring 2014 UASB team report)\n",
    "7. SH_high: Assuming maximum efficency of a stove, using results from [SSWM](https://www.sswm.info/content/direct-use-biogas)\n",
    "8. SH_low: Assuming minimum efficency of a stove, using results from [SSWM](https://www.sswm.info/content/direct-use-biogas)"
   ]
  },
  {
   "cell_type": "code",
   "execution_count": 1,
   "metadata": {},
   "outputs": [],
   "source": [
    "from aide_design.play import*\n",
    "import math"
   ]
  },
  {
   "cell_type": "code",
   "execution_count": null,
   "metadata": {
    "collapsed": true
   },
   "outputs": [],
   "source": []
  }
 ],
 "metadata": {
  "kernelspec": {
   "display_name": "Python 3",
   "language": "python",
   "name": "python3"
  },
  "language_info": {
   "codemirror_mode": {
    "name": "ipython",
    "version": 3
   },
   "file_extension": ".py",
   "mimetype": "text/x-python",
   "name": "python",
   "nbconvert_exporter": "python",
   "pygments_lexer": "ipython3",
   "version": "3.6.1"
  }
 },
 "nbformat": 4,
 "nbformat_minor": 2
}
