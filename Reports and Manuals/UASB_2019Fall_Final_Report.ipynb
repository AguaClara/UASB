{
  "nbformat": 4,
  "nbformat_minor": 0,
  "metadata": {
    "colab": {
      "name": "UASB_2019Fall_Final_Report.ipynb",
      "provenance": [],
      "collapsed_sections": []
    },
    "kernelspec": {
      "name": "python3",
      "display_name": "Python 3"
    }
  },
  "cells": [
    {
      "cell_type": "markdown",
      "metadata": {
        "colab_type": "text",
        "id": "JyG45Qk3qQLS"
      },
      "source": [
        "# Upflow Anaerobic Sludge Blanket Reactor (UASB), Fall 2019\n",
        "### Francesca Bard, Katrina Chen, Shania Fang, Kyra Frederick, Dominic Grasso, Ahad Ishfaq, Lydia LaGorga, Emily Liu, Cara Smith, Valentine Starnes, Emily Wood\n",
        "### 13 December 2019"
      ]
    },
    {
      "cell_type": "markdown",
      "metadata": {
        "id": "EUclt0MXNthT",
        "colab_type": "text"
      },
      "source": [
        "## Abstract\n",
        "Since spring 2017, the AguaClara Upflow Anaerobic Sludge Blanket (UASB) team has been working on designing and fabricating a gravity-powered wastewater treatment system for communities looking for an alternative to releasing waste directly into streams and rivers. During fall 2019, the team installed a Pulsated Flow Reactor (PFR) at the Ithaca Area Wastewater Treatment Facility (IAWWTF), fabricated a Continuous Flow Reactor, and began construction on a third reactor. Different design parameters in the reactors will help determine which features optimize reactor efficiency.  Finally, the team conducted a set of laboratory tests in order to better characterize the influent quality, effluent quality, and site characteristics which may impact reactor efficiency. \n"
      ]
    },
    {
      "cell_type": "markdown",
      "metadata": {
        "id": "JxuuP1brP-fe",
        "colab_type": "text"
      },
      "source": [
        "## Introduction\n",
        "Wastewater is any kind of water that has been affected by humans. This used water may include dissolved fecal and urine matter, pathogens, chemicals, and many more. These compounds come from a variety of sources such as agricultural, domestic, industrial, and commercial activities. Because water is a universal solvent, it becomes difficult to separate water from these harmful pollutants. After use, this water needs to be treated before it can be safely discharged into the environment and this is generally done in mechanized wastewater treatment plants. However, since industrial wastewater treatment plants are costly and require high energy consumption and acres of land, many areas in the world lack the resources to acquire this system.\n",
        "\n",
        "80% of the world releases untreated wastewater back into the environment. When wastewater is untreated and released directly into the environment, it can result in serious health and environmental problems.  For exmaple, when wastewater reaches drinking water sources, it can pose significant health risks to a community. Pathogens in wastewater destroy crop production and cause water-borne diseases such as typhoid, giardia, hepatitis A, diarrhea, cholera, and E. coli,.  Wastewater may also contain decaying organic matter and nutrients such as phosphorus and nitrogen which can cause eutrophication, a term for excess nutrients. This causes algae blooms which leads to oxygen-deprived conditions. This makes it difficult to support aquaculture and damages the surrounding ecosystem.\n",
        "\n",
        "To achieve AguaClara’s mission of clean, safe drinking water is imperative that the team develops the most efficient reactor. By developing two reactors; pulsated flow and continuous flow, the most efficient one can be implemented.\n",
        "\n"
      ]
    },
    {
      "cell_type": "markdown",
      "metadata": {
        "id": "u-JYWKppQDLu",
        "colab_type": "text"
      },
      "source": [
        "## Literature Review and Previous Work\n",
        "\n",
        "### Upflow Anaerobic Sludge Blanket Reactor\n",
        "   \n",
        "Current wastewater systems in the US have incredibly high costs and operate at a scale too large for developing countries.  Similar to Aguaclara water purification, smaller, modular designs are needed to fit the economic and logistical needs of these developing countries. \n",
        "\n",
        "Conventional wastewater treatment in the United States is a multistep process that is energy-consuming, lengthy and costly (Kassab et al., 2010). In the US, wastewater treatment includes preliminary, primary, secondary and tertiary treatment, and disinfection. Preliminary treatment removes garbage and other large solids, typically through coarse screening. Primary treatment is a physical step of the treatment that removes settleable organic and inorganic solids by sedimentation. Secondary treatment removes residual organics and suspended solids (Ma et al., 2015). Tertiary treatment removes nitrogen and phosphorus, heavy metals, dissolved solids, and suspended solids. Disinfection by chlorine is the last step of the process. Overall, conventional wastewater treatment systems have long retention times, require large land areas, and have a high fixed cost per capita (Chong et al,. 2012). These high fixed costs make conventional wastewater treatment systems inaccessible for small communities. \n",
        "\n",
        "For developing countries, biological treatment processes are more common, since they require lower capital investments and operational costs without chemical or energy input (Mittal et. al, 2011).  Upflow Anaerobic Sludge Blanket (UASB) reactors are a well established technology for wastewater use in the global south. Traditional UASB  reactors are used as a preliminary wastewater treatment process to remove suspended solid organic matter in wastewater (Chong et. al, 2012). UASB reactors rely mainly on gravity and biological processes to remove organic matter and convert it to biogas,  instead of using fuel or electricity. They are anaerobic reactors which do not require energy-intensive or expensive aeration. Organic pollutants are converted into biogas, primarily composed of methane (CH4) and carbon dioxide (CO2) and may also contain hydrogen sulfide (H2S) (Abbasi & Abbasi, 2012). Biogas can be collected and used for fuel, or burned to reduce greenhouse gases emissions. Biogas as fuel is promising in areas that do not have access to electricity (Chong et al., 2012).\n",
        "\n",
        "<center>\n",
        " <p style=\"text-align: center;\">\n",
        "<img src=\"https://github.com/AguaClara/UASB/blob/master/Images/Conventional_UASB.PNG?raw=true\" height = 500 />\n",
        "  </p>\n",
        "\n",
        "**Figure 1:** This diagram shows a conventional Upflow Anaerobic Sludge Blanket Reactor\n",
        "\n",
        "</center>\n",
        "\n",
        "A UASB reactor is a single tank in which wastewater enters and flows upwards through a suspended sludge blanket made up of anaerobic microorganisms, as shown in Figure 1. This blanket filters and cleans wastewater by removing organic contaminants and pathogens. UASB reactors are more feasible for small communities since they are less energy intensive, highly efficient in treating high COD loads, and form biogas. This biogas includes methane as a byproduct which can be captured and used for heating or energy production if electricity is unavailable. \n",
        "\n",
        "UASBs utilize mixed cultures of anaerobic microorganisms to biologically process and remove organic matter (OM), chemical oxygen demand (COD), biological oxygen demand (BOD), and suspended solids (SS). They are designed to operate at short hydraulic retention times (HRT) and long solids retention time (SRT) to increase loading capacity and improve sludge stabilization. Due to the dispersion of influent to maximize sludge contact as shown in Figure 1, UASBs can achieve optimal levels of primary treatment quite quickly compared to other anaerobic treatment processes. In alternative processes such as anaerobic filters, anaerobic baffled reactors, and septic tanks, water passes over an exposed surface of sludge and organic matter is treated as it diffuses through (Chong et. al, 2012).\n",
        "While UASBs are able to provide treatment quickly, like other anaerobic treatment methods, post-treatment is often required through trickling filters or secondary clarifiers to achieve ideal reduction in BOD, COD, and nutrients (Abbasi et. al, 2012).\n",
        "\n",
        "### Efficiency of UASB Reactors\n",
        "\n",
        "The overall effectiveness of a UASB reactor depends on the start up period (Escudie et. al, 2011). The start up time for UASB reactors can take to 3-8 months for the granules to develop (Subramanyam, 2013). This time can be shortened by adding zeolites. Zeolites are porous and characterized by their ability to gain and lose water, act as a sieve through absorption of molecules, and exchange their cations without structural changes (Montalvo et. al, 2012). This material is ideal for biological wastewater reactors like the UASB because it helps with hydrogen and proton transfer, stimulating the growth of microorganisms (Montalvo et. al, 2012). These zeolites can also help with efficiency by removing ammonium in the sludge blanket (Montalvo et. al, 2012). Another way to speed up start up time is by adding metal cations like Fe2+ or Mg2+ (Escudie et. al, 2011). These can be added during the start up period to encourage particles to stick together. Other factors affecting the efficiency of UASB reactors are the temperature and pH. The ideal temperature for a UASB reactor should be around 35 °C (Ghaniyari-Benis et. al, 2009). Temperature affects the growth of microorganisms as well as BOD and COD removal (Abdelgadir et. al, 2014). For example, at 35 °C, bacteria can generate in 3 days. In 10°C, it can take up to 50 days for bacteria to generate (Escudie et. al, 2011). At 15 °C, COD removal can decrease to 50% from the optimal 70% (Khan et. al, 2011). Additionally, methane production can be affected by the temperature of the wastewater effluent. Although methane is relatively insoluble (Henry's constant = 776 bar•L/mol), the lower the temperature, the higher the methane solubility and therefore an increase in energy loss (Shoener et al,. 2014). Moreover, the optimal pH for microbial growth is 6.8 - 7.2 and low pH can inhibit methanogenesis (Latif et. al, 2011). The pH inside the granules can also affect the rate of substrate conversion (Saravanan et. al, 2006). Additionally, the structure of the granules can affect the efficiency of the UASB. Some models include the multi-layer model (Figure 2), syntrophic microcolony model, non-layered structure model, and granule cluster structure (Figure 3).\n",
        "\n",
        "\n",
        "<center>\n",
        " <p style=\"text-align: center;\">\n",
        "<img src=\"https://ars.els-cdn.com/content/image/1-s2.0-S0301479705003439-gr6.jpg?raw=true\" height = 150 />\n",
        "  </p>\n",
        "\n",
        "**Figure 2 :** This figure is a multi-layer model of a granule with three layers (Saravanan et al., 2016).\n",
        "\n",
        " <p style=\"text-align: center;\">\n",
        "<img src=\"https://ars.els-cdn.com/content/image/1-s2.0-S0301479705003439-gr7.jpg?raw=true\" height = 150 />\n",
        "  </p>\n",
        "\n",
        "**Figure 3:** This figure is a granule cluster structure with aggregate (Saravanan et al., 2016).\n",
        "\n",
        "</center>\n",
        "\n",
        "### Measuring Reactor Performance\n",
        "Both biological oxygen demand (BOD) and chemical oxygen demand (COD) measure the amount of organic matter present in wastewater. BOD refers to the amount of dissolved oxygen needed by microorganisms to decompose organic waste [(Gu et. al, 2013)](https://www.sciencedirect.com/science/article/pii/S0021967313011990#bib0005). In contrast, COD refers to the amount of oxygen needed to chemically oxidize the organic compounds present [(Cazaudehore et. al, 2019)](https://www.sciencedirect.com/science/article/pii/S030147971931182X). \n",
        "\n",
        "The BOD test is typically conducted at wastewater plants, even though measuring organic content in this way is not very practical. The biggest drawback to the BOD test is that it does not provide immediate feedback about water quality. The standard BOD test is conducted over a 5 day period, and the results are not read until the 5 day. This wait makes BOD tests unsuitable for determining short term trends in water quality. Additionally, the BOD test itself is extremely labor intensive and time consuming. In contrast, the COD test is relatively easy to conduct, and the results can be determined within 3-4 hours. \n",
        "\n",
        "Under certain conditions there is a correlation between the COD and BOD of a sample. The ratio of BOD to COD is called the biodegradability index (BI), and is highly dependent on the type of waste and reactor [(Abdalla, 2014)](https://pdfs.semanticscholar.org/2629/9e0f5b734f1b1b14de684c79caa4d91f081b.pdf). The biodegradability index can be found by creating a plot of BOD vs. COD values. Figure 4 below shows an example graph generated by a wastewater plant in Egypt. The slope of the linear trendline, indicated in blue, represents the biodegradability index. This index is considered to be the cut off point that marks biodegradable waste from non-biodegradable waste. Once this constant is established for a reactor, COD tests can be used to predict BOD values. For reference, the BOD to COD ratio is about 0.1 for a well-stabilized secondary effluent, 0.5 - 1 for raw wastewater, 0.4 - 0.8 for municipal raw wastewater, and can be higher than 10 for industrial wastewater [(Abdalla, 2014)](https://pdfs.semanticscholar.org/2629/9e0f5b734f1b1b14de684c79caa4d91f081b.pdf). Therefore, a value between 0.1 and 1 is expected for a UASB reactor. \n",
        "\n",
        "<center>\n",
        " <p style=\"text-align: center;\">\n",
        "<img src=\"https://github.com/AguaClara/UASB/blob/master/Images/biodegradability_index_example.PNG?raw=true\" height = 250 />\n",
        "  </p>\n",
        "  \n",
        "**Figure 4:** This figure shows an example graph of BOD vs.COD for the influent of a wastewater treatment plant in Egypt. The biodegradability index is the slope of the graph, which can be used to predict BOD values from COD tests  [(Abdalla, 2014)](https://pdfs.semanticscholar.org/2629/9e0f5b734f1b1b14de684c79caa4d91f081b.pdf). \n",
        "\n",
        "</center>\n",
        "\n",
        "\n"
      ]
    },
    {
      "cell_type": "markdown",
      "metadata": {
        "id": "Oc6NDm9HXTAd",
        "colab_type": "text"
      },
      "source": [
        "## Previous Work\n",
        "\n",
        "### Summer 2016\n",
        "The UASB team was formed in the Summer of 2016. The objective of the team was to design and implement a functional lab-scale UASB reactor to treat synthetic blackwater. Blackwater is wastewater from toilets; synthetic blackwater is a mixture of proteins, lipids and starches mixed together (usually with a few other chemicals as well; recipes for synthetic wastewater vary) The team constructed four small-scale UASB reactors and found that those small-scale reactors could successfully treat synthetic wastewater. The team also found that increased wastewater concentration and higher residence times resulted in higher biogas removal and increased Chemical Oxygen Demand (COD) removal.\n",
        " \n",
        "### Fall 2016\n",
        "In the fall of 2016, the UASB team underwent several changes. First, the team altered the design of the small-scale UASB reactors by implementing shorter and narrower influent lines. The team also changed the synthetic wastewater recipe. More specifically, the team substituted glucose with insoluble carbon compounds. The team also researched retention time in the reactors with fluoride tracer tests, and found a HRT of 3.22 hours in one of the reactors (close to the target of 4 hours).\n",
        " \n",
        "### Spring 2017\n",
        "During the spring of 2017, the team worked on assessing the efficiency of two modifications to the UASB reactor: plate settlers and the submerged gas collection lid. After conducting granule settling tests, the team was unable to conclude whether or not plate settlers significantly improve solid retention time. The team also conducted a Submerged Gas Capture Lid Test and concluded that a check valve would be useful to allow for continuous collection into a gas tank without the loss of biogas.\n",
        " \n",
        "### Summer 2017\n",
        "In the summer of 2017, the UASB team continued with similar research and testing to that of the Spring 2017 semester. This time, the team determined that large, bulky plate settlers were not required for a full scale reactor. Instead, a smaller settling apparatus, such as a sloped exit weir, can achieve similar sludge retention time(SRT).\n",
        " \n",
        "### Fall 2017\n",
        "During the fall of 2017, the team made critical design assumptions such ass: a reactor diameter of 3 feet, a reactor height of 7 feet, a 4 hour hydraulic residence time, and a flow rate of .036 L/s. The team also designed a biogas capture lid. In this system, as biogas is produced in the reactor, it displaces water out from under the lid. Gas is then stored there until it is manually removed. In addition, the team wrote Python calculations in Jupyter notebook (available on GitHub) to estimate biogas production based on COD input. Finally, the team decided to add plate settlers back to the effluent tube to prevent dislodged granules from escaping the reactor and  worked on designing a sludge weir for the UASB reactor.\n",
        " \n",
        "### Spring 2018\n",
        "UASB continued efforts to improve the design of the pilot-scale UASB reactor in Spring 2018. After extensive research, the team chose top influent flow - where the wastewater flows down the inlet pipe until it reaches the bottom of tank -  in order to prevent clogs. Next, the team decided to incorporate pulse flow into the reactor through either a tipping bucket design or a siphon.\n",
        "UASB also worked on biogas production. The team wrote code to estimate COD concentration of influent, the temperature of the reactor, and biogas production rate based on the flow rate through the reactor. The team decided on a gas bag system to store biogas and also wrote code to determine the required volume and dimensions for the lid of the biogas system. The team looked into removal of fats, oils and greases (FOG) and developed a design for the pilot UASB reactor's sludge sampling and removal system. Lastly, the team wrote code to calculate the optimal size of the pilot UASB reactor's tube settler, the number of plates required, and the overall height of the settling arm.\n",
        " \n",
        "### Summer 2018\n",
        "The summer team continued work on the hydraulic design of the UASB system.  The major design project was creating the tipping bucket system to deliver wastewater in pulses. The system consists of a pivoting bucket which fills with wastewater before tipping and delivering the wastewater in a large pulse at a high flow rate. After brainstorming the idea, the team designed and tested models to determine optimal design and flow rates for the system. The team also continued developing code for the entire system, and made a Computer Aided Design (CAD) [model of the UASB reactor](https://cornell47.autodesk360.com/g/shares/SH7f1edQT22b515c761e1224485004ae7e44?viewState=NoIgbgDAdAjCA0IDeAdEAXAngBwKZoC40ARXAZwEsBzAOzXjQEMyzd1C0IBOAEx4GYeAFgBsAWgBMjAGY8xQgKwTxjLl3H8A7KoBGEABwQd-IZrQBfEAF0gA) using Fusion 360.\n",
        " \n",
        "### Fall 2018\n",
        " \n",
        "  During the fall of 2018, the team tested a benchtop UASB model in the lab. Because actual sludge granules were not readily available, the team used tapioca to model the sludge blanket. Tapioca has similar material properties as sludge, inexpensive and readily available made it a suitable alternate material. Red dye was added to the water to identify preferential paths in the UASB reactor. Preferential pathways are the uneven distribution of wastewater flow throughout the reactor; the presence of these make the UASB reactor less efficient.\n",
        "  The result of the testing shows that the layer of tapioca did not lift entirely off the bottom of the reactor, but instead it stretched as influent “wastewater” traveled through it. The red dye in the influent revealed the formation of preferential pathways through the tapioca layer.\n",
        " \n",
        "### Spring 2019\n",
        " \n",
        "  During the Spring 2019 Semester, the team focused on completing a design for the UASB reactor that will be fabricated and tested at the Ithaca Area Waste Water Treatment Facility (IAWWTF). The team decided to make reactor canisters out of 10\" diameter clear PVC pipe, so that multiple reactors could be tested at the IAWWTF to determine whether or not pulsated flow affects reactor efficiency. To design the reactors, the team made a python class to represent the hydraulics of the UASB reactors and made an [onShape ](https://cad.onshape.com/documents/53ab6bf4dad0f6e53a3d53e2/w/d059456663ed700ebb9a2f16/e/29660576307cd46c4ec811dc) model of the reactors.\n",
        " \n",
        "### Summer 2019\n",
        "During the Summer of 2019, the team completed the fabrication of the first pilot pulsated UASB and brought it to the IAWWTF for installation. During fabrication, the team tested out the ideal pivot point on the tipping bucket to dump out a specific amount of water for each pulse, worked out kinks in the fabrication process such as gluing the flanges onto the 10” pipe, and wrote an extensive fabrication manual. \n"
      ]
    },
    {
      "cell_type": "markdown",
      "metadata": {
        "id": "PxYYbTDO6yuG",
        "colab_type": "text"
      },
      "source": [
        "## Methods"
      ]
    },
    {
      "cell_type": "markdown",
      "metadata": {
        "id": "iRme4FwBXZWU",
        "colab_type": "text"
      },
      "source": [
        "###  Experimental Apparatus\n",
        "\n",
        "AguaClara’s UASB reactor is primarily powered by gravity. Currently, in the experimental setting, a peristaltic pump brings wastewater from the Ithaca Area Wastewater Treatment Facility (IAWWTF) influent to the tipping bucket system of the reactor. \n",
        "\n",
        "<center>\n",
        " <p style=\"text-align: center;\">\n",
        "<img src=\"https://github.com/AguaClara/UASB/blob/master/Images/Top%20View%20Tipping%20Bucket%20Apparatus%20AguaClara%20UASB.png?raw=true\" height = 400 />\n",
        "  </p>\n",
        "\n",
        "**Figure 5 :** Top view of AguaClara’s UASB Reactor\n",
        "</center>\n",
        "\n",
        "Wastewater is pumped into a bucket at the top of the UASB. Every fifteen minutes, this bucket fills to its tipping point, and dumps into the pulse pipe, giving a sweep of wastewater to the UASB. The flow rate of the peristaltic pump affects the timing of the bucket tip, which in turn affects the hydraulic retention time within the reactor. After the start-up period of this UASB, these factors can be altered to observe changes that occur in effluent quality. The bucket dump then enters the interior of the reactor with an elbow pipe, which insures that the wastewater touches the bottom of the reactor before flowing upward through the sludge blanket. This design aspect is important to the function of the UASB because it reduces preferential flow. The water is forced back up in many different directions, rather than in one path with each dump. Preferential flow is harmful to UASB function because it increases the difficulty of microorganism growth within the sludge. The microorganisms consume the organics in the wastewater as flows move up through the sludge blanket. The water level in the reactor rises to the effluent pipe, where it then flows out of the reactor. The effluent line has two pipes: one facilitates sampling and the other brings the UASB treated waste back to the IAWWTF influent for formal treatment.\n",
        "\n",
        "\n",
        "<center>\n",
        " <p style=\"text-align: center;\">\n",
        "<img src=\"https://github.com/AguaClara/UASB/blob/master/Images/Wastewater%20Flow%20Through%20AguaClara%20UASB.png?raw=true\" height = 500 />\n",
        "  </p>\n",
        "\n",
        "**Figure 6 :** The red arrows follow the path of wastewater flow through the UASB reactor.\n",
        "</center>\n",
        "\n",
        "The anaerobic consumption of organic material produces gas in the reactor. This gas flows through the top of the UASB into a biogas tube, which is collected in a gas tight bag. \n",
        "\n",
        "The upper most weir on the reactor is known as the FOG weir. It allows operators to skim off the top layer of fats, oils, and grease, should they accumulate. Below is the sludge weir, which allows for height control of the sludge blanket.\n"
      ]
    },
    {
      "cell_type": "markdown",
      "metadata": {
        "id": "YrSe0FEiMn2s",
        "colab_type": "text"
      },
      "source": [
        "### Installation of 1st UASB Reactor\n",
        "The first UASB reactor set up at the Ithaca Area Wastewater Treatment Facility (IAWWTF) this semester was the Pulsated Flow Reactor (Figure 7). The Pulsated Flow Reactor employs a “tipping bucket”, that disrupts the formation of preferential pathways, to deliver influent wastewater to the reactor. The Pulsated Flow Reactor was constructed by the Summer 2019 UASB team; however, the drain system, biogas, and influent pipes had not yet been connected to the wastewater treatment facility’s system.  The first step in setting up the reactor was to connect the influent and effluent pipes to the plant’s system.\n",
        "\n",
        "<center>\n",
        " <p style=\"text-align: center;\">\n",
        "<img src=\"https://github.com/AguaClara/UASB/blob/master/Images/UASB%20Reactor%201.png?raw=true\" height = 500 />\n",
        "  </p>\n",
        "\n",
        "**Figure 7:** The first UASB reactor set up in the Ithaca Wastewater Treatment Plant\n",
        "</center>\n",
        "\n",
        "The influent wastewater (Figure 8) comes from the facility’s primary influent (after it has been filtered for large, suspended solids) and the effluent from the UASB reactor is returned to the facility’s primary settling tank. Biogas (predominantly in the form of methane) is produced by methanogens and this gas is collected by a 60 L bag at the top of the reactor (Figure 9). The two weirs on the side allow for the removal of excess sludge and any fats or oils that may accumulate on the top of the water.  \n",
        "\n",
        "<center>\n",
        " <p style=\"text-align: center;\">\n",
        "<img src=\"https://github.com/AguaClara/UASB/blob/master/Images/Flow.png?raw=true\" height = 400 />\n",
        "  </p>\n",
        "\n",
        "**Figure 8:** Influent wastewater from IAWWTP is pumped into the UASB reactor\n",
        "</center>\n",
        "\n",
        "After connecting the influent and effluent pipes to the facility’s system, reactor was inoculated with sludge.  The sludge granules came from a local brewery, the wastewater treatment facility’s aeration tank, and from the facility’s anaerobic digester. The 'activation' time for the sludge blanket to build up and begin effectively processing wastewater can be very long and dependent upon a lot of factors: organic loading rate, presence of metal ions and trace metals, temperature, pH, and reactor hydrodynamics (Abbasi, 2012). The height of the sludge blanket and the production of biogas was measured on a continuous basis, as the reactor continued through its startup process. \n",
        "\n",
        "<center>\n",
        " <p style=\"text-align: center;\">\n",
        "<img src=\"https://github.com/AguaClara/UASB/blob/master/Images/Biogas%20bag.png?raw=true\" height = 500 />\n",
        "  </p>\n",
        "\n",
        "**Figure 9:** The air-tight bag connected to the top of the reactor to collect biogas\n",
        "</center>\n"
      ]
    },
    {
      "cell_type": "markdown",
      "metadata": {
        "id": "gbWdp2TFMpVL",
        "colab_type": "text"
      },
      "source": [
        "### Installation of 2nd UASB Reactor \n",
        "\n",
        "The second reactor installed at the wastewater plant utilized continuous flow.  The initial design of this reactor was identical to the first reactor, except for its lack of a tipping bucket and the actual reactor chamber, which was built with opaque PVC rather than translucent. The main motivation for this adjustment was that it lowered the cost of the reactor. Both reactors can be seen in Figure 10 below. \n",
        "\n",
        "<center>\n",
        " <p style=\"text-align: center;\">\n",
        "<img src=\"https://github.com/AguaClara/UASB/blob/master/Images/2nd%20UASB%20reactor.png?raw=true\" height = 500 />\n",
        "  </p>\n",
        "\n",
        "**Figure 10:** Left: 1st UASB reactor, Right: 2nd UASB reactor\n",
        "</center>\n",
        "\n",
        "The installation of the 2nd reactor will allow the UASB subteam to directly compare the performance of pulsated flow and continuous flow treatment systems. This reactor is currently in the Ithaca Area Wastewater Treatment Facility, in the installation phase. In order for flow to begin, the team needs to first make adjustments to the reactor that will simplify the sampling process. This will be the final fabrication step before the reactor can be filled with activated sludge. The composition of sludge will be as similar to the original pulse flow reactor as possible to minimize extraneous variables. The effluent line, peristaltic pump, and influent line, will then need to be connected before the reactor can start running. The biogas line needs to also be installed to collect gaseous emissions from the treatment process.Due to the non-translucent material of this reactor, a procedure needs to be determined for monitoring the height of the sludge blanket. This issue and others will be further addressed in the future work section.\n",
        "\n"
      ]
    },
    {
      "cell_type": "markdown",
      "metadata": {
        "id": "3fh9j4h1OXO6",
        "colab_type": "text"
      },
      "source": [
        "### Installation Challenges and Modifications \n",
        "\n",
        "The team ran into various issues during and after installation of the two reactors and had to make adjustments accordingly. To begin, the team first determined that a volumetric flow rate of 3.5 ml/sec was needed to achieve a desired hydraulic residence time of 8 hours in the UASB reactor. The subteam experimentally determined the RPM needed by the peristaltic pump to achieve this flow rate. To go about this, trials were run at the IAWWTF using a graduated cylinder. When the pump was set to 20 RPM it took 281 seconds to reach the 400 ml mark on the graduated cylinder. This corresponds to a flow rate of 1.42 ml/sec. Consequently, each RPM for the pump corresponds to a volumetric flow rate of 71 𝜇L/sec. Therefore, the pump needed to be set to 3.5/.071 = 49.3 RPM to reach the desired flow rate of 3.5 ml/sec. To verify this, the pump was set to 50 RPM and it took 114 seconds to reach the 400 ml mark on the graduated cylinder. This corresponded to a flow rate of 3.51 ml/sec, confirming our calculations. Therefore, the peristaltic pump was set to 50 RPM.\n",
        "\n",
        "A challenge that came up during our installation of the continuous flow reactor is the reactor’s opaque casing, which we implemented because of its significantly lower cost compared to the transparent casing for the pulsated flow reactor. Unfortunately, the opaque casing prevents us from monitoring the development of the sludge blanket inside the continuous flow reactor. Without being able to see inside the reactor it is difficult to determine whether the microbial community has properly established itself inside the reactor. Another issue that we encountered concerned the splash shield that was placed on top of the pulsated flow reactor to prevent incoming wastewater from splashing outside when the tipping bucket reaches its threshold and tips over. The splash shield was originally placed in the holding tank housing the tipping bucket. Unfortunately, due to its proximity to the tipping bucket, the splash shield was preventing the tipping bucket from rotating freely and was preventing it from dumping the water by coming into contact with the tipping bucket. To get around this problem, we had to fabricate a larger splash shield that could be placed on top of the holding tank, instead of within it. The newly fabricated and placed splash shield stopped interfering with the tipping bucket’s range of motion and solved this issue.\n",
        "\n",
        "Another issue that arose for the pulsated flow reactor vessel was with the tipping bucket itself. The tipping bucket originally had two rods attached to it from each side of the holding tank, keeping it suspended within the holding tank. However, this was putting excess stress on the pivots attached to the tipping bucket and caused them to break. To solve this problem, we decided to use a single rod that goes through the length of the entire holding tank and through the tipping bucket. We haven’t run into issues with this modified approach as of yet.\n",
        "\n",
        "Finally, another challenge that has arisen is not being able to quickly and easily access the effluent. A wye was added to the effluent drain line to facilitate the sampling process (Figure 11). The left side continues directly to the drain line as before, and the right side ends with a valve that can be opened for sampling, as seen in Figure 12. The valve on the left branch can be closed to trap the water that is pushed out from a pulse, allowing the water to instead be removed from the right side. Note that the sample side should be drained before receiving a 'fresh' pulse from the tipping bucket.\n",
        "\n",
        "\n",
        "<center>\n",
        " <p style=\"text-align: center;\">\n",
        "<img src=\"https://github.com/AguaClara/UASB/blob/master/Images/Screen%20Shot%202019-10-30%20at%208.26.28%20PM.png?raw=true\" height = 200 />\n",
        "  </p>\n",
        " \n",
        "**Figure 11:** Change in Effluent Design\n",
        " \n",
        "</center>\n",
        "\n",
        "\n",
        "<center>\n",
        " <p style=\"text-align: center;\">\n",
        "<img src=\"https://github.com/AguaClara/UASB/blob/master/Images/Sample%20Ports.png?raw=true\" height = 200 />\n",
        "  </p>\n",
        " \n",
        "**Figure 12:** This image shows the newly installed wye for accessing the effluent. The branch on the left connects directly to the drain line. The branch on the right is closed off with a valve and is used for sampling.\n",
        " \n",
        "</center>\n",
        "\n",
        "In addition, the design has undergone minor changes which require fabrication at the IAWWTF. To determine the height of the sludge blanket in the opaque reactor, holes were drilled lengthwise at every foot. After multiple runs of trial and error, the team determined that holes with a diameter of 0.5” would be appropriate to serve our purpose. These holes were then fit into a 0.5” pipe,and each pipe has a valve at the end so that the valve can be opened and the sludge blanket can be accessed to determine its density, quality, and its height in the reactor vessel. \n",
        "\n"
      ]
    },
    {
      "cell_type": "markdown",
      "metadata": {
        "id": "K8jQH-djvXBm",
        "colab_type": "text"
      },
      "source": [
        "### Fabrication of the Third Reactor\n",
        "This semester the fabrication of the third reactor began. So far all of the components (40/20 and 80/20 extrusions) have been cut, all the necessary holes and stubs have been glued into the main reactor, and the influent, FOG, and sludge weir parts have been cut. All the cut parts still need to be assembled and pieced onto the main reactor, the effluent piece of the reactor needs to be built, and it still has not been decided whether or not the third reactor will have pulsated or continuous flow. This is because testing results for the second and third reactors are still in progress. Although the first reactor has been installed for weeks, the microbial community in the reactor has not yet stabilized. Research literature has been done by the whole team to figure out ways to speed up the start-up phase. The second reactor has not yet been tested due to design modifications (as stated above) and space restrictions at the IAWWTF.\n"
      ]
    },
    {
      "cell_type": "markdown",
      "metadata": {
        "id": "VLnuwFSxwtEF",
        "colab_type": "text"
      },
      "source": [
        "###CAD Design\n",
        "\n",
        "Individual members were made responsible for updating the existing CAD model as modifications were made to the reactor throughout the semester. UASB is still using the OnShape platform for CAD modeling. In coming semesters, further remodeling is expected as testing is likely to identify areas of improvement. An attempt was made to parameterize Part Studios within the reactor Assembly however as the design specifications in need of altercation were difficult to predetermine (prior to testing), the current model is still without adaptable input variables. This is something which should be considered by future UASB generations as having an easily scalable design will be integral for successful implementation of our wastewater treatment solution. See Figure 13 below for a current OnShape CAD model of the UASB digester. \n",
        "\n",
        "<center>\n",
        " <p style=\"text-align: center;\">\n",
        "<img src=\"https://github.com/AguaClara/UASB/blob/master/fall%202019%20UASB%20Onshape%20Model.png\n",
        "?raw=true\" height = 500 />\n",
        "  </p>\n",
        "\n",
        "**Figure 13:** An image the fall 2019 UASB Onshape Model\n",
        "</center>\n",
        "\n"
      ]
    },
    {
      "cell_type": "markdown",
      "metadata": {
        "id": "7zb-DVkNyZ3V",
        "colab_type": "text"
      },
      "source": [
        "\n",
        "### Laboratory Training\n",
        "\n",
        "Members of the UASB subteam were trained at the IAWWTF lab to conduct [Biological Oxygen Demand](https://github.com/AguaClara/UASB/blob/master/Pilot%20Plant%20Testing/bod_testing_protocol.pdf) (BOD), [Chemical Oxygen Demand](https://github.com/AguaClara/UASB/blob/master/Pilot%20Plant%20Testing/cod_testing_protocol.pdf) (COD), [Phosphorus](https://github.com/AguaClara/UASB/blob/master/Pilot%20Plant%20Testing/PHOS_testing_protocol.pdf) (PHOS), and [Fecal Coliform](https://github.com/AguaClara/UASB/blob/master/Pilot%20Plant%20Testing/bacti__testing_protocol.pdf) (Bacti) tests.The standard operating procedure for each test can be found in the links above. \n"
      ]
    },
    {
      "cell_type": "markdown",
      "metadata": {
        "id": "XuA6PvpQyVig",
        "colab_type": "text"
      },
      "source": [
        "### Laboratory Testing Schedule\n",
        "\n",
        "*Note: The files linked in this section will be uploaded to github at a later date. Contact Emily Wood ew465@cornell.edu with questions.*\n",
        "\n",
        "Four water quality tests (BOD, COD, PHOS, Bacti) were conducted using the effluent of the 1st UASB reactor, and compared to the IAWWTF influent parameters. Each test was conducted once to get a baseline value of reactor performance. The reactor was not expected to improve water quality much in the fall 2019 semester, because it was still in its start-up phase. This means that sludge granules and microorganisms were still in the process of forming. \n",
        "\n",
        "The subteam determined an ideal testing frequency for future semesters. Since comparing the organic content of the influent and effluent of the reactor is a primary way to gauge efficiency, it was decided that BOD and COD tests should be conducted on a weekly basis. However, as reactor performance stabilizes and the relationship between BOD and COD beomces clear, conducting BOD tests may become redundant. UASB reactors are not known to remove considerable amounts of phosphorus and fecal coliforms, so these tests only need to be run once a month to confirm that the AguaClara UASB design behaves similarly to conventional designs. \n",
        "\n",
        "Determining a laboratory testing schedule presented logistical challenges for the subteam due to timing constraints with classes, the work day of lab technicians, and the testing procedures themselves. Cornell AguaClara members are required to be supervised by a lab technician at all times while working in the IAWWTF lab. Additionally, all work must be completed from Monday - Friday between 6:30 AM and 5 PM. The results for each test had to be read within a certain time-frame, and involved long waiting periods for incubation or digestion. The chart below summarizes the timing constraints for each of the four tests conducted by the UASB subteam.\n",
        "\n",
        "**Table 1:** A summary of timing considerations when scheduling tests at IAWWTF\n",
        "\n",
        "|Test|Sampling Logistics| Inactive Time |Active Time|\n",
        "|---|---|---|---|\n",
        "|BOD Prep|take samples the day before BOD Sample Prep|overnight aeration|~15 min|\n",
        "|BOD Sample Prep|complete Sample Prep within 24 hours of sample collection|5 day digestion period|2 hrs|\n",
        "|BOD Sample Reading|occurs 5 days after BOD Sample Prep|None|1.5 - 2 hrs|\n",
        "|COD|test should be run the same day that the BOD buffer is made|~2 hr heating and cooling  period|30 - 45 min|\n",
        "|Bacti|store up to 6 hours in fridge with Sodium Thiosulfate reagent|18-22 hr incubation period|30 min|\n",
        "|PHOS| preserved with sulfuric acid for up to 28 days in fridge|1 hour incubation|1.5 hrs|\n",
        "\n",
        "Fecal Coliform (bacti) samples must be collected in a pre-sealed container containing a sodium thiosulfate reagent. The sample must be stored immediately in a fridge, and tested  within 6 hours of collection. Testing involves mixing the sample with colilert 18 media and incubating it in a sealed tray containing an array of wells as shown in Figure 16. The results must be read after 18 hours of incubation, and at most 22 hours. However, waiting  until the 20th or 22nd hour may make results more discernible. The results are read by comparing the color of each well to a standard tray containing no fecal coliforms. Wells that are equally or more yellow than the standard are marked with a slash. The total small and large wells that are contaminated are counted and recorded. These numbers are used to look up the most probable number of fecal coliforms present per 100 mL in a standard table. This table also reports the 95% confidence interval range. These values were reported in the subteam's laboratory notebook rather than a bench sheet, and can also be found on the [UASB github repository](https://github.com/AguaClara/UASB/tree/master/Pilot%20Plant%20Testing). \n",
        "\n",
        "Phosphorus samples must be preserved with sulfuric acid ($H_2SO_4$) and can be stored in the fridge for up to 28 days before testing. The total phosphorus procedure involves creating an absorbance calibration curve using phosphorus standards. Additionally, a spiked effluent sample is used to determine the percent yield of the reaction. The curve standards, spiked samples, and reactor samples are autoclaved for 1 hour, and their absorbances are read using a spectrophotometer. Results should be read as soon as the samples are cool enough to touch. The absorbances are recorded on an [Excel bench sheet](https://github.com/AguaClara/UASB/tree/master/Pilot%20Plant%20Testing), which creates a calibration curve and calculates the corresponding phosphorus concentrations in mg/L.The test takes about 2.5 hours in total to complete. Note that it is particularly easy to make mistakes throughout this procedure and it may be helpful to conduct two tests on the same sample simultaneously, to have a greater chance of significant results. For reference, the Ithaca Area Wastewater treatment plant is allowed to input 40 lbs of phosphorus per day into Cayuga Lake, calculated as a 12 month rolling average. However, the plant's average phosphorus input for the year of 2018 was 9.225 lbs/day. \n",
        "\n",
        "The Biological Oxygen Demand (BOD) test consists of (1) BOD prep, (2) sample prep, (3) a digestion period, and (4) sample reading. The BOD preparation must occur the day before the test is scheduled to start, because samples must be used within 24 hours of collection to achieve accurate results. BOD prep consists of making a buffer solution, using the results from the COD test to determine buffer concentration. This buffer solution must aerate overnight. The sample preparation must occur the day after BOD prep. First the microorganism seed is prepared and allowed to mix for 1 hour, after which residual seed particles are allowed to settle for 15 minutes. Other prepation may occur during this waiting time period. The rest of sample prep involves filling the BOD bottles and reading the initial dissolved oxygen (DO) values. Once the samples are prepared, they are incubated for 5 days. To clarify, if sample prep occurs on Wednesday (as done at the IAWWTF), sample reading should happen on the following Monday. Sample reading consists of recording the final dissolved oxygen concentration of each sample on an [Excel bench sheet](https://github.com/AguaClara/UASB/tree/master/Pilot%20Plant%20Testing), which calculates seed depletion, DO depletion, and BOD values. Note that data is not valid if the final DO concentration is less than 1 mg/L or the depletion is less than 2 mg/L. For reference, IAWWTF must meet a 45 mg/L weekly average BOD standard and a 30 mg/L monthly average BOD standard. \n",
        "\n",
        "The Chemical Oxygen Demand (COD) test should be conducted on the same day that the BOD buffer is made, because the results are used to determine the volumes needed for the BOD test. The COD test involves reacting the sample with potassium dichromate  (a strong oxidizing  agent) and incubating for 2 hours. Note that if the sample immediately turns a dark green-blue color upon combination with the oxidation agent, the sample dilution needs to be adjusted. Sample absorbance is read in the spectrophotometer and recorded on an [Excel bench sheet](https://github.com/AguaClara/UASB/tree/master/Pilot%20Plant%20Testing), which calculated the corresponding COD values in mg/L. \n",
        "\n"
      ]
    },
    {
      "cell_type": "markdown",
      "metadata": {
        "id": "joA-Mcb-6nKw",
        "colab_type": "text"
      },
      "source": [
        "## Results\n",
        "\n",
        "### Sludge Bed Height\n",
        "\n",
        "A few weeks after the first UASB installation at the IAWWTF, sludge blanket showed growth of approximately 1 cm in height every week. As of early December, the sludge blanket was about 60 cm from the bottom of the reactor.\n",
        "\n",
        "<center>\n",
        " <p style=\"text-align: center;\">\n",
        "<img src=\"https://github.com/AguaClara/UASB/blob/master/Images/Sludge%20Blanket.png?raw=true\" height = 300 />\n",
        "  </p>\n",
        "\n",
        "**Figure 14:** Sludge blanket of the 1st UASB reactor\n",
        "</center>\n",
        "\n",
        "### Biogas Production\n",
        "The gas bag showed very little visible change in volume over the course of the semester. This could be due to a hole or leak in the gas bag, a lack of air-tightness in the experimental apparatus as a whole, or that the microbes were not producing as much gas as anticipated. To figure out the issue, the subteam inflated a gas bag in the laboratory to confirm that there were no leaks in the bag. For a qualitative check of the reactor, air was pumped into the reactor from a sample port from a gas pump. As air flowed into the reactor, the gas bag noticeably expanded, indicating that air (at least most of it) was able to travel into the gas bag from the reactor. Therefore it was concluded that there was little biogas production occuring, since the microbes were still in their start-up period. \n",
        "\n",
        "### Pulsed Flow Reactor Effluent Quality\n",
        "\n",
        "The subteam has completed BOD, COD, Bacti, and PHOS tests on the effluent of the UASB reactor. The results were compared to the IAWWTF’s influent wastewater from the day where the samples were collected. An image of the UASB effluent water used for testing can be seen in Figure 15 below.\n",
        "\n",
        "<center>\n",
        " <p style=\"text-align: center;\">\n",
        "<img src=\"https://github.com/AguaClara/UASB/blob/master/Images/Effluent.jpg?raw=true\" height = 300 />\n",
        "  </p>\n",
        "\n",
        "**Figure 15:** Effluent from UASB reactor\n",
        "</center>\n",
        "\n",
        "**BOD:** The BOD of UASB effluent was calculated to be 156.91mg/L. A table of the results is shown below:\n",
        "\n",
        "**Table 2:**\n",
        "\n",
        "| Sample | Results (mg/L) | \n",
        "| --- | :--- |\n",
        "| UASB effluent | 156.91 |\n",
        "| IAWWTF influent | 212.56 |\n",
        "| IAWWTF primary | 163.45 |\n",
        "| IAWWTF secondary | 20.93  |\n",
        "| IAWWTF effluent | 10.93 |\n",
        "\n",
        "This indicates that the reactor’s effluent biological oxygen demand was hovering around the plant’s primary biological oxygen demand. The team will need to do more regular testing to monitor effluent quality as reactor performance stabilizes, and to collect data values to calculate the BOD:COD ratio for this specific waste. However, these results do show that the UASB reactor is working to some extent. \n",
        "\n",
        "**COD:** The COD of the UAS effluent was calculated to be 6000mg/L. *This report will be updated  with the IAWWTF's COD values for comparison at a later date. Contact Cara Smith cjs354@cornell.edu with questions.*\n",
        "\n",
        "**Bacti:** The results for the test gave a most probable number (MPN) greater than 2419.6, with a 95% Confidence Interval between 1439.5 and infinity. This indicates that an extremely high number of fecal coliforms were present in our effluent. However, this was expected since UASB reactors are not designed for pathogen removal. Pathogens are primarily dealt with in secondary treatment and chlorine addition. An image of the Quantitray 2000 (used for the bacti test) is shown below (Figure 16). The yellow trays indicate wells with high bacteria concentrations; at low concentrations, the trays range from pale-yellow to clear.\n",
        "\n",
        "\n",
        "<center>\n",
        " <p style=\"text-align: center;\">\n",
        "<img src=\"https://github.com/AguaClara/UASB/blob/master/Images/Bacti.JPG?raw=true\" height = 400 />\n",
        "  </p>\n",
        "\n",
        "**Figure 16:** Results from the first fecal coliform test\n",
        "</center>\n",
        "\n",
        "**PHOS:**  For the first round of phosphorus testing, two tests were run on the  same sample to maximize the chances of getting significant results. For the first test, the UASB effluent yielded averages of 4.029 mg/L and 4.156 mg/L, while the second test yielded 3.793 mg/L and 3.818 mg/L. This final data point (3.818 mg/L) had a percent recovery that was out of range for the total phosphorus test and is not a valid result. If the UASB reactor processed the same amount of water as IAWWTF (6.5 MGD) with this same reactor performance,  it would release 205.46 lbs of phosphorous per day. This is well above the 40 lb/day limit allowed by the city of Ithaca. However, the UASB reactor is also not really designed to remove phosphorus, so these high levels were not an immediate cause for concern.\n",
        "\n",
        "The previous calculation can be conducted as follows:\n",
        "\n",
        "**Equation 1**\n",
        "\n",
        "$$ \\frac{lbs Phos}{day} = Q \\cdot C \\cdot \\frac{1 L}{0.264 gal} \\cdot \\frac{1 lb}{453,592 mg}$$\n",
        "\n",
        "**Variables**\n",
        "\n",
        "Q = plant or reactor flow rate [MGD]\n",
        "\n",
        "C = Effluent phosphorous concentration [mg/L]\n",
        "\n",
        "\n",
        "\n",
        "\n",
        "\n"
      ]
    },
    {
      "cell_type": "markdown",
      "metadata": {
        "id": "aceVUTtP5liZ",
        "colab_type": "text"
      },
      "source": [
        "## Future Work\n",
        "\n",
        "The UASB reactor effluent will be regularly tested at the Ithaca Area Wastewater Treatment Facility (IAWWTF) using the standard procedures the facility uses to test their wastewater. The UASB reactors’ test values will then be compared against the facility’s influent and effluent values in order to measure the performance of the UASB reactors against conventional designs. The effluent will be tested for biological oxygen demand (BOD), chemical oxygen demand (COD), phosphorus (PHOS) and fecal coliform (Bacti). BOD and COD tests will be the predominant way in which the quality of the effluent will be assessed, so these tests will ideally be completed once a week. PHOS and Bacti levels are not expected to vary as much, so these tests will ideally be completed once a month. A regular testing schedule will need to be established next semester. In addition, after reading the literature review recommended by Professor Ruth Richardson, the team has decided to begin testing pH and temperature values because they are important factors that affect sludge bed growth.\n",
        "\n",
        "\n",
        "The second reactor is currently at the IAWWTF; however, it still needs to be water tested again and gas tested. Once the reactor has been tested for leaks, additional plumbing is needed to connect the biogas to a biogas bag, connect the IAWWTF influent to the reactor’s influent, and connect the reactor’s effluent back into the IAWWTF influent. The reactor can then be filled with sludge to begin the startup process. Ideally the startup for the second reactor will begin during the Spring 2020 semester.\n",
        "The third reactor is currently undergoing fabrication. The team still needs to finish fabricating various parts of this reactor such as the holding tank cover, the sludge ports, and gluing on the flanges. \n",
        "Finally, more research is needed to understand how site-specific characteristics in rural Honduran villages will affect the efficiency of Agua Clara’s UASB reactors.  For example, the small size of the villages which will be employing Agua Clara reactors introduces a highly variable Organic Loading Rate which may disrupt the reaction kinetics of a UASB reactor.  Design modifications to fabrication or implementation may be required in order to accommodate specific field conditions. \n"
      ]
    },
    {
      "cell_type": "markdown",
      "metadata": {
        "id": "Z3WXChCN4sW0",
        "colab_type": "text"
      },
      "source": [
        "## Manual\n",
        "*The Fall 2019 Fabrication Manual can be found [here](https://colab.research.google.com/drive/1zH5OSLZTqCiaCzPmeThUA1cQXdPcWN5o).*"
      ]
    },
    {
      "cell_type": "markdown",
      "metadata": {
        "id": "towEyAkg7Lvh",
        "colab_type": "text"
      },
      "source": [
        "## Bibliography\n",
        "\n",
        "Abbasi, T., Abbasi, S.A., 2012. Formation and impact of granules in fostering clean energy production and wastewater treatment in upflow anaerobic sludge blanket (UASB) reactors. RENEWABLE & SUSTAINABLE ENERGY REVIEWS 16, 1696–1708. https://doi.org/10.1016/j.rser.2011.11.017\n",
        "\n",
        "Abdalla, K. Z. (2014). Correlation between Biochemical Oxygen Demand and Chemical Oxygen Demand for Various Wastewater Treatment Plants in Egypt to Obtain the Biodegradability Indices. International Journal of Sciences: Basic and Applied Research (IJSBAR), 13(1), 42–48. Retrieved from https://pdfs.semanticscholar.org/2629/9e0f5b734f1b1b14de684c79caa4d91f081b.pdf\n",
        "\n",
        "Abdelgadir, A., Chen, X., Liu, J., Xie, X., Zhang, J., Zhang, K., Wang, H., Liu, N. (2014). Characteristics, Process Parameters, and Inner Components of Anaerobic Bioreactors. BIOMED RESEARCH INTERNATIONAL. https://doi.org/10.1155/2014/841573\n",
        "\n",
        "Cazaudehore, G.; Schraauwers, B.; Peyrelasse, C.; Lagnet, C.; Monlau, F.. (2019). Determination of chemical oxygen demand of agricultural wastes by combining acid hydrolysis and commercial COD kit analysis. Journal of Environmental Management, 250, doi:10.1016/j.jenvman.2019.109464. \n",
        "\n",
        "Escudie, R., Cresson, R., Delgenes, J.-P., Bernet, N. (2011). Control of start-up and operation of anaerobic biofilm reactors: An overview of 15 years of research. WATER RESEARCH 45, 1–10. https://doi.org/10.1016/j.watres.2010.07.081\n",
        "\n",
        "Ghaniyari-Benis, S., Borja, R., Monemian, S.A., Goodarzi, V. (2009). Anaerobic treatment of synthetic medium-strength wastewater using a multistage biofilm reactor. BIORESOURCE TECHNOLOGY 100, 1740–1745. https://doi.org/10.1016/j.biortech.2008.09.046\n",
        "\n",
        "Gu, Juan-Juan; Hu, Hui-Chao; Chai, Xin-Sheng; Tian, Ying-Xin; Barnes, Donald G.; Huang, Shaobin. (2013). A new method for the determination of biological oxygen demand in domestic wastewater by headspace gas chromatography. Journal of Chromatography A, 1308, 32-36. doi:10.1016/j.chroma.2013.07.098. \n",
        "\n",
        "Khan, A.A., Gaur, R.Z., Tyagi, V.K., Khursheed, A., Lew, B., Mehrotra, I., Kazmi, A.A. (2011). Sustainable options of post treatment of UASB effluent treating sewage: A review. RESOURCES CONSERVATION AND RECYCLING 55, 1232–1251. https://doi.org/10.1016/j.resconrec.2011.05.017\n",
        "\n",
        "Latif, M.A., Ghufran, R., Wahid, Z.A., Ahmad, A. (2011). Integrated application of upflow anaerobic sludge blanket reactor for the treatment of wastewaters. WATER RESEARCH 45, 4683–4699. https://doi.org/10.1016/j.watres.2011.05.049\n",
        "\n",
        "Montalvo, S., Guerrero, L., Borja, R., Sanchez, E., Milan, Z., Cortes, I., Angeles de la la Rubia, M. (2012). Application of natural zeolites in anaerobic digestion processes: A review. APPLIED CLAY SCIENCE 58, 125–133. https://doi.org/10.1016/j.clay.2012.01.013\n",
        "\n",
        "Saravanan, V., Sreekrishnan, T.R. (2006). Modelling anaerobic biofilm reactors - A review. JOURNAL OF ENVIRONMENTAL MANAGEMENT 81, 1–18. https://doi.org/10.1016/j.jenvman.2005.10.002\n",
        "\n",
        "Shoener, B.D., Bradley, I.M., Cusick, R.D., Guest, J.S. (2014). Energy positive domestic wastewater treatment: the roles of anaerobic and phototrophic technologies. ENVIRONMENTAL SCIENCE-PROCESSES & IMPACTS 16, 1204–1222. https://doi.org/10.1039/c3em00711a\n",
        "\n",
        "Subramanyam, R. (2013). Physicochemical and Morphological Characteristics of Granular Sludge in Upflow Anaerobic Sludge Blanket Reactors. ENVIRONMENTAL ENGINEERING SCIENCE 30, 201–212. https://doi.org/10.1089/ees.2012.0347\n"
      ]
    }
  ]
}