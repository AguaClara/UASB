{
  "nbformat": 4,
  "nbformat_minor": 0,
  "metadata": {
    "colab": {
      "name": "UASB Spring 2021 - Final Report",
      "provenance": [],
      "collapsed_sections": [],
      "include_colab_link": true
    },
    "kernelspec": {
      "name": "python3",
      "display_name": "Python 3"
    }
  },
  "cells": [
    {
      "cell_type": "markdown",
      "metadata": {
        "id": "view-in-github",
        "colab_type": "text"
      },
      "source": [
        "<a href=\"https://colab.research.google.com/github/AguaClara/UASB/blob/master/Reports%20and%20Manuals/UASB_Spring_2021_Final_Report.ipynb\" target=\"_parent\"><img src=\"https://colab.research.google.com/assets/colab-badge.svg\" alt=\"Open In Colab\"/></a>"
      ]
    },
    {
      "cell_type": "markdown",
      "metadata": {
        "id": "pusLKbD64YGm"
      },
      "source": [
        "# Upflow Anaerobic Sludge Blanket (UASB), Spring 2021 Final Report\n",
        "### Mohamed Aden, Katrina Chen, Erica Ruan, Emily Wood\n",
        "### May 14, 2021"
      ]
    },
    {
      "cell_type": "markdown",
      "metadata": {
        "id": "zuz_nNQcyzsy"
      },
      "source": [
        "## Abstract\n",
        " \n"
      ]
    },
    {
      "cell_type": "markdown",
      "metadata": {
        "id": "wzqPRd7Eyypj"
      },
      "source": [
        "The primary goal of the Upflow Anaerobic Sludge Blanket (UASB) subteam during the Spring 2021 semester was to troubleshoot the current gas collection system of the UASB reactor by comparing gas flow rate measurements from two different devices: a MilliGascounter and a wet test meter. The team found that the wet test meter was able to precisely and accurately measure gas flow rates down to 5 mL/min. The model of the MilliGascounter the team has will not work accurately for biogas, but the team found that the wet test meter is sufficient. The team also worked on compiling key design decisions and calculations into a concise and easily digestible form so that it is easier for future subteam members to understand the UASB reactor."
      ]
    },
    {
      "cell_type": "markdown",
      "metadata": {
        "id": "p_iyy2gL4tF_"
      },
      "source": [
        "## Introduction "
      ]
    },
    {
      "cell_type": "markdown",
      "metadata": {
        "id": "Q3zCp1KjuDS1"
      },
      "source": [
        "### Research Overview and Goals"
      ]
    },
    {
      "cell_type": "markdown",
      "metadata": {
        "id": "qB73z4LtQN8b"
      },
      "source": [
        "Untreated wastewater is a human health risk that contributes to water-borne diseases such as typhoid fever, cholera, and dysentery. Wastewater also contains excess amounts of nitrogen and phosphorus, which leads to eutrophication and anoxic conditions in bodies of water. The United Nations World Water Assessment Programme (2017) estimates that over 80% of the world’s wastewater is released into the environment without treatment, putting both ecosystems and human health at risk.  \n",
        "\n",
        "Conventional wastewater treatment methods used in the United States are not suitable for many small rural communities as they are expensive, energy intensive, and use mechanical parts that require a reliable source of electricity. The objective of this research is to develop a small-scale, decentralized wastewater treatment system that will be affordable and accessible to rural communities. This research focuses on Upflow Anaerobic Sludge Blanket (UASB) technology, which can remove organic matter from wastewater and be designed to operate without electricity. UASB reactors have the additional benefit of incorporating waste-to-energy technology by producing methane gas which can be harvested and burned as stovetop cooking fuel. Before release to the environment, the UASB effluent would be polished using an activated sludge tank, trickling filter, constructed wetland, or lagoon for additional removal of nutrients and pathogens. \n",
        "\n",
        "The UASB subteam received two grants (Phase I and Phase II) as part of the EPA People, Prosperity, and the Planet (P3) program to support small-scale testing of a prototype UASB reactor at the Ithaca Area Wastewater Treatment Facility (IAWWTF). Phase I of research focused on developing a complete design for a gravity-powered UASB reactor, including a gas capture system and influent dosing system. Phase II research (the current phase) focuses on four main goals:\n",
        "1. Improving the influent dosing system and floatables removal\n",
        "1. Characterizing startup and performance of gravity-powered UASB reactors\n",
        "1. Determining appropriate options for effluent post treatment and biogas utilization\n",
        "1. Iterating designs and installing and testing a distributed UASB reactor in Honduras\n",
        "\n",
        "More specifically, the team hypothesizes that the influent dosing system of the UASB reactor can be improved by sending water into the reactor in pulses instead of a continuous flow. The high velocity of water in a pulsed-flow system may reduce the chance of clogging and may also help mix the bed of sludge granules in the main body of the reactor. Without mixing, wastewater may preferentially flow through one area of the reactor instead of being evenly distributed through the sludge granules. These preferential pathways reduce reactor efficiency, because they lower the surface area of the wastewater-granules interface. \n",
        "\n",
        "The team’s goal is to set up two reactors at the Ithaca Area Wastewater Treatment Facility (IAWWTF) to test this hypothesis. The first reactor has a pulsed-flow influent system and the second has a continuous flow system. Unfortunately, current UASB research efforts have been paused due to the COVID-19 pandemic and imminent construction at the IAWWTF. In March 2020, access to the IAWWTF was restricted to city employees, preventing team members from accessing the UASB reactor. At this time, the team was also informed that construction at the wastewater plant would block access to the influent wastewater connection-point needed to supply the UASB reactor with wastewater. Construction at the wastewater plant is anticipated to conclude in August 2021, and research at IAWWTF will be able to resume at that time. The UASB reactors have been disassembled and are temporarily being stored at the IAWWTF. Additionally, the sludge granules are being fed with wastewater on a weekly basis by IAWWTF personnel to maintain their viability.\n",
        "\n",
        "The team’s goal for the Spring 2021 semester was to fully prepare for UASB research to resume at the IAWWTF, which consists of three main tasks: troubleshooting the biogas collection system, documenting important information about the UASB experimental apparatus for future subteam members to reference, and clearly defining goals and measures of success for future research.\n"
      ]
    },
    {
      "cell_type": "markdown",
      "metadata": {
        "id": "AXPcXaaQt5ec"
      },
      "source": [
        "### UASB Experimental Setup"
      ]
    },
    {
      "cell_type": "markdown",
      "metadata": {
        "id": "KgDgVQcGc2g2"
      },
      "source": [
        "####Connection to IAWWTF Wastewater\n",
        "The influent wastewater comes from the IAWWTF’s primary influent (after it has been filtered for large, suspended solids). The connection to the facility’s influent wastewater contains a tee (Figure 1a), splitting the pipe into two directions. Wastewater is pulled through the vertical branch of the pipe (Figure 1b) by a peristaltic pump (Figure 1c), and travels to the UASB reactor through clear, flexible tubing (Figure 1d). The horizontal branch (Figure 1e) of the pipe serves two purposes: first, it provides an access point to push water through the system in the case of clogging. Second, it provides an easy way to divide the flow of wastewater into different directions, allowing multiple UASB reactors to be installed in parallel. To add another UASB reactor to the system, the fernco (Figure 1e, boxed) can be loosened to split the horizontal branch of pipe into two pieces, and an additional tee can be installed in between the fixed end and the capped end (Figure 1f) of the pipe. An additional pumping system for the new UASB reactor can be added by either stacking another pump-head onto the peristaltic pump already present, or adding a new peristaltic pump entirely. \n",
        "\n",
        " \n",
        "<center>\n",
        "<img src=\"https://github.com/AguaClara/UASB/blob/master/Images/20191212_InfluentConnectionLabeled.png?raw=true\" height = 300 />\n",
        "<img src=\"https://github.com/AguaClara/UASB/blob/master/Images/202003_InfluentFlexTubingLabeled.png?raw=true\" height = 300 />\n",
        "<img src=\"https://github.com/AguaClara/UASB/blob/master/Images/202003_InfluentFlexTubingConnectionLabeled.png?raw=true\" height = 250\n",
        " />\n",
        " \n",
        "**Figure 1:** The UASB reactor’s influent connection to wastewater at the Ithaca Area Wastewater Treatment Facility (IAWWTF): a) tee, b) vertical branch, c) peristaltic pump, d) clear flexible tubing, e) horizontal branch, f) capped-end of the horizontal branch, g) peristaltic pump tubing.\n",
        "</center> \n",
        " \n",
        "The peristaltic pump tubing (Figure 1g) tends to wear out over the course of operation, and can fail if it becomes so flattened that wastewater cannot get through or if the tubing splits. The state of the peristaltic pump tubing should therefore be monitored on a regular basis. \n",
        "\n",
        "\n"
      ]
    },
    {
      "cell_type": "markdown",
      "metadata": {
        "id": "pO7eEjTtHqPe"
      },
      "source": [
        "#### UASB Holding Tank and Influent Pipe\n",
        "Wastewater traveling from the peristaltic pump enters the UASB reactor through a holding tank on top of the reactor (Figure 2). For the pulsed flow reactor, water collects in a tipping bucket until it reaches a volume predetermined by the placement of the pivots on the side of the bucket (Figure 3). Once filled, the bucket tips, sending a pulse of wastewater down the pulse pipe approximately every 15 minutes (Figure 4). A clear plastic sheet installed on top of the holding tank prevents wastewater from splashing (Figure 5). \n",
        "\n",
        "\n",
        "\n",
        "<center>\n",
        " <p style=\"text-align: center;\">\n",
        "<img src=\"https://github.com/AguaClara/UASB/blob/master/Images/Wastewater%20Flow%20Through%20AguaClara%20UASB.png?raw=true\" height =300 />\n",
        "  </p>\n",
        "\n",
        "**Figure 2 :** The red arrows demonstrate the direction of flow through the UASB reactor.\n",
        "</center>\n",
        "\n",
        "\n",
        "<center>\n",
        " <p style=\"text-align: center;\">\n",
        "<img src=\"https://github.com/AguaClara/UASB/blob/master/Images/top%20view%20of%20influent%20system%20editt.png?raw=true\" height =300 />\n",
        "  </p>\n",
        "\n",
        "**Figure 3:** A top view of the holding tank showing the tipping bucket for the pulsed-flow UASB reactor\n",
        "</center>\n",
        "\n",
        "\n",
        "<center>\n",
        " <p style=\"text-align: center;\">\n",
        "<img src=\"https://github.com/AguaClara/UASB/blob/master/Images/201907_UASBpulseFlow.gif?raw=true\" height =300 />\n",
        "  </p>\n",
        "\n",
        "**Figure 4:** A pulse of water enters the UASB reactor by traveling down the pulse pipe and the influent pipe. An elbow directs the influent water straight downwards into the reactor. The flow of water reverses when it hits the bottom of the reactor and flows straight upwards through the sludge granules (granules not pictured)\n",
        "</center>\n",
        " \n",
        "\n",
        "<center>\n",
        " <p style=\"text-align: center;\">\n",
        "<img src=\"https://github.com/AguaClara/UASB/blob/master/Images/Side%20view%20of%20holding%20tank%20cover%20edit.png?raw=true\" height =300 />\n",
        "  </p>\n",
        "\n",
        "**Figure 5:** A top view of the holding tank showing a clear cover that prevents splashing, and the flexible tubing that delivers wastewater from the peristaltic pump to the tipping bucket. \n",
        "</center>\n",
        "\n",
        "When the continuous flow design is fully implemented, the clear-flex tubing connected to the peristaltic pump (Figure 1d and Figure 5) will be fed directly into the influent pipe, rather than a tipping bucket system. The team may also consider removing the holding tank and pulse pipe from the continuous flow design in the future. \n",
        "\n",
        "The purpose of the pulse pipe (Figure 6) is to slow down the incoming wastewater to allow gas bubbles to escape. The pulse pipe is designed so that the head gain (ie. the change in water level) inside the main body of the reactor per dump is equal to the volume of water in one dump of the tipping bucket divided by the cross-sectional area of the pulse pipe. The holding tank also contains a drain valve on the bottom primarily for cleaning purposes (Figure 6 and Figure 2). \n",
        "\n",
        "\n",
        "\n",
        "<center>\n",
        " <p style=\"text-align: center;\">\n",
        "<img src=\"https://github.com/AguaClara/UASB/blob/master/Images/Top%20View%20Tipping%20Bucket%20Apparatus%20AguaClara%20UASB.png?raw=true\" height =300 />\n",
        "  </p>\n",
        "\n",
        "**Figure 6 :** A top view of the AguaClara UASB reactor, showing the pulse pipe, tipping bucket, effluent pipe, emergency drain, and the location of the connection to the biogas collection tubing.  Note that the current tipping bucket design uses a rectangular container and not a round bucket placed in a square frame shown here. \n",
        "</center>\n",
        "\n"
      ]
    },
    {
      "cell_type": "markdown",
      "metadata": {
        "id": "mi3PTC_MHw6H"
      },
      "source": [
        "#### Inside the UASB Reactor\n",
        "A series of elbows directs wastewater from the influent pipe straight downwards into the reactor (Figure 7). The flow of water immediately reverses direction when it hits the bottom of the reactor and flows upwards through the bed of sludge granules (Figure 8). Sludge granules are aggregates of organic matter which contain communities of anaerobic microorganisms embedded inside (Figure 9). These microorganisms consume organic waste in the wastewater as it passes through. \n",
        "\n",
        "\n",
        "<center>\n",
        " <p style=\"text-align: center;\">\n",
        "<img src=\"https://github.com/AguaClara/UASB/blob/master/Images/Influent%20Elbows%20Labeled.png?raw=true\" height =300 />\n",
        "  </p>\n",
        "\n",
        "**Figure 7:** Red arrows demonstrate the flow of water into the main body of the UASB reactor. A series of elbows direct the water from the influent pipe straight downwards into the reactor. The water reverses directions and then flows upwards. \n",
        "</center>\n",
        "\n",
        "\n",
        "<center>\n",
        " <p style=\"text-align: center;\">\n",
        "<img src=\"https://github.com/AguaClara/UASB/blob/master/Images/Sludge%20Blanket%20Labeled.png?raw=true\" height =300 />\n",
        "  </p>\n",
        "\n",
        "**Figure 8:** Sludge granules inside of the UASB reactor. The arrow indicates the direction of water flow. The yellow glow is created by a flashlight shining through the reactor. \n",
        "</center>\n",
        "\n",
        "\n",
        "<center>\n",
        " <p style=\"text-align: center;\">\n",
        "<img src=\"https://github.com/AguaClara/UASB/blob/master/Images/202003_Sludge%20Granules.JPG?raw=true\" height =300 />\n",
        "  </p>\n",
        "\n",
        "**Figure 9:** Sludge granules found in the UASB reactor April 2020\n",
        "</center>"
      ]
    },
    {
      "cell_type": "markdown",
      "metadata": {
        "id": "QX8IjTmVH0lO"
      },
      "source": [
        "####  Effluent Pipe System\n",
        "Clean water exits the UASB reactor through the effluent pipe system near the top of the reactor (Figure 10 and Figure 11). A wye fitting splits the effluent pipe system into two directions: one contains a valve on one end to facilitate effluent sampling (labeled a) and the other brings the UASB treated waste back to the IAWWTF primary settling tank for formal treatment (labeled b). The open-ended vertical pvc pipe (labeled c) protruding from the effluent line serves as a vent and prevents biogas from being sucked into the effluent by maintaining atmospheric pressure inside the reactor.\n",
        "\n",
        "In order to take effluent samples from the reactor, the valve on the waste line (labeled b) must first be closed so that water flows towards the sampling valve (labeled a). Then, after a pulse of water enters the reactor from the tipping bucket, the sampling valve can be opened to collect the effluent wastewater. After taking a sample, both valve handles must be returned to their original positions to avoid the overflow of wastewater out through the vent and onto the floor. \n",
        "\n",
        " \n",
        "<center>\n",
        " <p style=\"text-align: center;\">\n",
        "<img src=\"https://github.com/AguaClara/UASB/blob/master/Images/Effluent%20Tubing%20Labeled.png?raw=true\" height =300 />\n",
        "  </p>\n",
        " \n",
        "**Figure 10:** A CAD drawing of the UASB effluent system: a) sampling line, b) waste line, c) vent\n",
        "</center>\n",
        " \n",
        " \n",
        "<center>\n",
        " <p style=\"text-align: center;\">\n",
        "<img src=\"https://github.com/AguaClara/UASB/blob/master/Images/Effluent%20Wye%20Labeled.png?raw=true\" height =300 />\n",
        "  </p>\n",
        " \n",
        "**Figure 11:** A close-up of the UASB effluent line: a) sampling line with the valve shown in the closed position, b) waste line, with the valve shown in the open position. Note that the tape measure attached to the side of the reactor is used to measure the height of the sludge blanket for the clear-walled UASB reactor.\n",
        "</center>"
      ]
    },
    {
      "cell_type": "markdown",
      "metadata": {
        "id": "IQrTPRsUH5HM"
      },
      "source": [
        "#### Sludge Weir, FOG Weir, & Sampling Ports\n",
        "##### Sludge Weir\n",
        "Periodically, excess sludge granules need to be removed from the reactor. This is accomplished by a weir, which consists of a 2-foot pipe cut at a 45 degree angle at one end (Figure 12 b). When sludge granules build up inside of the reactor to the height of the sludge weir opening, they fall into the weir and can be removed from the reactor by opening a valve (valve not pictured in Figure 12).\n",
        "##### FOG Weir\n",
        "Floatables are wastes such as fats, oils, and grease (FOG) that accumulate on the surface of the water, and are removed from the reactor using a weir (Figure 12 a) in a similar way that excess sludge granules are removed. The 45 degree angle end of the FOG weir sits slightly above the water level to skim FOG from the top of the water. When the valve  on the end of the FOG weir (not pictured) is opened, a mixture of FOG and water is drained from the reactor. \n",
        "##### Sludge Sampling Ports\n",
        "The sludge sampling ports consist of evenly spaced PVC pipe stubs with a ball valve attached on the outer end (Figure 12 c). The purpose of the sludge sampling ports is to be able to take samples of the sludge blanket at different heights along the reactor. This is especially important for determining the height of the sludge blanket for a UASB reactor that uses white PVC for the main reactor body rather than clear PVC. Note that the clear UASB reactor has a measuring tape attached to the side of the reactor for easy measuring of the sludge blanket height (Figure 11)\n",
        "\n",
        "\n",
        "<center>\n",
        " <p style=\"text-align: center;\">\n",
        "<img src=\"https://github.com/AguaClara/UASB/blob/master/Images/CADModel_SludgeAndFogWeirs.PNG?raw=true\" height =300 />\n",
        "  </p>\n",
        "\n",
        "**Figure 12:** a) FOG weir, b) sludge weir, c) sampling ports. Note that the complete effluent tubing system is not shown in this diagram.\n",
        "</center>"
      ]
    },
    {
      "cell_type": "markdown",
      "metadata": {
        "id": "12pIuXyRH-O7"
      },
      "source": [
        "#### Gas Collection Measuring & Storage System\n",
        "\n",
        "Biogas produced by microorganisms in the anaerobic digestion process exits the reactor at the very top through clear flexible tubing. It then travels through a wet test meter which is a measuring device that records the total volume of gas that has passed through it (Figure 13). The wet test meter is used to measure biogas production rates, which are important for quantifying reactor performance. A timelapse camera aimed at the face of the wet test meter collects data remotely over the course of the day by taking pictures at 1-hour intervals (Figure 14). The rate of data collection can be adjusted manually on the camera as needed. Average biogas production rate is calculated for a specific period of time as follows:\n",
        "\n",
        "$$Q_{avg} =\\frac{V_2 - V_1}{\\Delta t}$$\n",
        "Where,\n",
        "\n",
        "$V_2$ = the wet test meter volume reading at the end of the time period\n",
        "\n",
        "$V_1$ = the wet test meter volume reading at the beginning of the time period\n",
        "\n",
        "$\\Delta t$ = the time period\n",
        "\n",
        "For more information on how to read a wet test meter, see the instructions in [this](https://docs.google.com/document/d/1HWJ884loZ8cqnuQFut8nooVC-YEBmlgIgDZ69sgw4No/edit?usp=sharing) document.\n",
        "\n",
        "\n",
        "<center>\n",
        " <p style=\"text-align: center;\">\n",
        "<img src=\"https://github.com/AguaClara/UASB/blob/master/Images/202003_WetTestMeter.JPG?raw=true\" height =300 />\n",
        "  </p>\n",
        "\n",
        "**Figure 13:** The wet test meter displays how much gas passed through it to indicate the amount of biogas produced by the UASB reactor.\n",
        "</center>\n",
        "\n",
        "\n",
        "<center>\n",
        " <p style=\"text-align: center;\">\n",
        "<img src=\"https://github.com/AguaClara/UASB/blob/master/Images/202003_WetTestAndCamera_Setup_Sideview.JPG?raw=true\" height =300 />\n",
        "  </p>\n",
        "\n",
        "**Figure 14:** A time lapse camera (right) takes pictures of the wet test meter (left) at regular intervals, allowing for remote monitoring of biogas production.\n",
        "</center>\n",
        "\n",
        "Biogas flowing through the wet test meter is collected and stored in a 60 L clear plastic bag designed for gas storage (Figure 15). When the gas bag is filled, the gas inside can be flared to convert any methane (a highly potent greenhouse gas) into CO2 (a less potent greenhouse gas) before release. Note that the details of this flaring system have not been developed yet.\n",
        "\n",
        " \n",
        "<center>\n",
        " <p style=\"text-align: center;\">\n",
        "<img src=\"https://github.com/AguaClara/UASB/blob/master/Images/Biogas%20bag.png?raw=true\" height =300 />\n",
        "  </p>\n",
        " \n",
        "**Figure 15:** The gas bag used to collect biogas from the UASB reactor\n",
        "</center>\n",
        "\n",
        "Also note that this setup only applies to a laboratory setting.The end goal is to generate enough biogas from anaerobic digestion that a family could burn it for stovetop cooking. Therefore, instead of a wet test meter and a gas collection bag, biogas generated by a UASB reactor implemented in a small community would travel directly to a storage tank for cooking fuel. \n"
      ]
    },
    {
      "cell_type": "markdown",
      "metadata": {
        "id": "LxDzXrxQICHE"
      },
      "source": [
        "#### Temperature Control System\n",
        "In order to maintain temperatures inside the UASB reactor conducive to biological activity, the bottom half of the reactor is wrapped with heat tape (Figure 16) which turns on and off automatically depending on the temperature of the effluent water. A temperature probe installed through a port near the top of the reactor (Figure 17) measures the temperature of the treated water and transfers this information to a Process Control and Data Acquisition system called ProCoDA. ProCoDA consists of both the hardware and software through which the temperature probe and the heat tape are able to communicate. The heat tape is connected to the ProCoDA hardware through a relay box. \n",
        "\n",
        "<center>\n",
        " <p style=\"text-align: center;\">\n",
        "<img src=\"https://github.com/AguaClara/UASB/blob/master/Images/202003_UASBReactor.JPG?raw=true\" height =300 />\n",
        "  </p>\n",
        "\n",
        "**Figure 16:** Heat tape wrapped around UASB reactor at the IAWWTF\n",
        "</center>\n",
        "\n",
        "\n",
        "<center>\n",
        " <p style=\"text-align: center;\">\n",
        "<img src=\"https://github.com/AguaClara/UASB/blob/master/Images/202003_TempProbeInstallation.JPG?raw=true\" height =300 />\n",
        "  </p>\n",
        "\n",
        "**Figure 17:** Temperature probe inserted near the top of the reactor\n",
        "</center>\n",
        "\n",
        "ProCoDA is a free and open-source software that can be downloaded [here](https://github.com/monroews/LabVIEW/wiki/ProCoDA). The ProCoDA file used to control the temperature of the UASB reactor can be found [Here](https://github.com/AguaClara/UASB/blob/4d39d33a2ab27c3fd9984d0b5361d338df77eb07/HeatTapeMethodUASB.pcm?raw=true). For a brief overview on how to use ProCoDA, visit the [AguaClara github tutorial](https://aguaclara.github.io/aguaclara_tutorial/research/procoda.html) or for a more in-depth description of ProCoDAs functionality and usages, visit this [Environmental Engineering Laboratory Textbook](https://monroews.github.io/EnvEngLabTextbook/ProCoDA/ProCoDA.html) developed at Cornell University. \n",
        "\n",
        "The purchased heat tape reaches a constant temperature of 49˚C at equilibrium. However, the ProCoDA box is currently programmed to turn on the heat tape through the relay box whenever the temperature of the effluent water falls below 21˚C. Similarly, it is turned off when the effluent water reaches 25˚C. These temperature ranges can be adjusted easily through the ProCoDA software as needed to ensure the reactor temperature remains in the desired temperature range"
      ]
    },
    {
      "cell_type": "markdown",
      "metadata": {
        "id": "q3wtTDpNEZ3E"
      },
      "source": [
        "## Literature Review"
      ]
    },
    {
      "cell_type": "markdown",
      "metadata": {
        "id": "Vb78_jedzgrX"
      },
      "source": [
        "### Upflow Anaerobic Sludge Blanket Reactor\n",
        "   \n",
        "Current wastewater systems in the US have incredibly high costs and operate at a scale too large for developing countries.  Similar to Aguaclara water purification, smaller, modular designs are needed to fit the economic and logistical needs of these developing countries. \n",
        "\n",
        "Conventional wastewater treatment in the United States is a multistep process that is energy-consuming, lengthy and costly (Kassab et al., 2010). In the US, wastewater treatment includes preliminary, primary, secondary and tertiary treatment, and disinfection. Preliminary treatment removes garbage and other large solids, typically through coarse screening. Primary treatment is a physical step of the treatment that removes settleable organic and inorganic solids by sedimentation. Secondary treatment removes residual organics and suspended solids (Ma et al., 2015). Tertiary treatment removes nitrogen and phosphorus, heavy metals, dissolved solids, and suspended solids. Disinfection by chlorine is the last step of the process. Overall, conventional wastewater treatment systems have long retention times, require large land areas, and have a high fixed cost per capita (Chong et al,. 2012). These high fixed costs make conventional wastewater treatment systems inaccessible for small communities. \n",
        "\n",
        "For developing countries, biological treatment processes are more common, since they require lower capital investments and operational costs without chemical or energy input (Mittal, 2011).  Upflow Anaerobic Sludge Blanket (UASB) reactors are a well established technology for wastewater use in the global south. Traditional UASB  reactors are used as a preliminary wastewater treatment process to remove suspended solid organic matter in wastewater (Chong et. al, 2012). UASB reactors rely mainly on gravity and biological processes to remove organic matter and convert it to biogas, instead of using fuel or electricity. They are anaerobic reactors which do not require energy-intensive or expensive aeration. Organic pollutants are converted into biogas, primarily composed of methane (CH4) and carbon dioxide (CO2) and may also contain hydrogen sulfide (H2S) (Abbasi & Abbasi, 2012). Biogas can be collected and used for fuel, or burned to reduce greenhouse gases emissions. Biogas as fuel is promising in areas that do not have access to electricity (Chong et al., 2012).\n",
        "\n",
        "A UASB reactor is a single tank in which wastewater enters and flows upwards through a sludge blanket made up of anaerobic microorganisms, as shown in Figure 18. This blanket filters and cleans wastewater by removing organic contaminants and pathogens. UASB reactors are more feasible for small communities since they are less energy intensive, highly efficient in treating high COD loads, and form biogas. This biogas includes methane as a byproduct which can be captured and used for heating or energy production if electricity is unavailable. \n",
        "\n",
        "\n",
        "<center>\n",
        " <p style=\"text-align: center;\">\n",
        "<img src=\"https://raw.githubusercontent.com/AguaClara/UASB/master/Images/Conventional_UASB.PNG\" height =300 />\n",
        "  </p>\n",
        "\n",
        "**Figure 18:** This diagram shows a conventional Upflow Anaerobic Sludge Blanket Reactor (Chen, 2017)\n",
        "</center>\n",
        "\n",
        "UASBs utilize mixed cultures of anaerobic microorganisms to biologically process and remove organic matter (OM), chemical oxygen demand (COD), biological oxygen demand (BOD), and suspended solids (SS). They are designed to operate at short hydraulic retention times (HRT) and long solids retention time (SRT) to increase loading capacity and improve sludge stabilization. Due to the dispersion of influent to maximize sludge contact, UASBs can achieve optimal levels of primary treatment quite quickly compared to other anaerobic treatment processes. In alternative processes such as anaerobic filters, anaerobic baffled reactors, and septic tanks, water passes over an exposed surface of sludge and organic matter is treated as it diffuses through (Chong et. al, 2012).\n",
        "\n",
        "While UASBs are able to provide treatment quickly, like other anaerobic treatment methods, post-treatment is often required through trickling filters or secondary clarifiers to achieve ideal reduction in BOD, COD, and nutrients (Abbasi & Abbasi, 2012)."
      ]
    },
    {
      "cell_type": "markdown",
      "metadata": {
        "id": "VBJQTUrWIRUx"
      },
      "source": [
        "### Anaerobic Digestion\n",
        " \n",
        "There are multiple biological processes that occur during anaerobic digestion in a UASB. A few key processes are hydrolysis, acidogenesis, acetogenesis, and methanogenesis.\n",
        " \n",
        " \n",
        "<center>\n",
        " <p style=\"text-align: center;\">\n",
        "<img src=\"https://static-01.hindawi.com/articles/bmri/volume-2014/841573/figures/841573.fig.002.jpg\" height = 500 />\n",
        "  </p>\n",
        " \n",
        "**Figure 19:** A Diagram of Biological Processes Occurring During Anaerobic Digestion (Abdelgadir, A., et. al, 2014)\n",
        "</center>\n",
        " \n",
        "#### Hydrolysis\n",
        "The first step to anaerobic digestion is hydrolysis. This process is driven by hydrolytic enzymes that are secreted by microbes (Abdelgadir, A., et. al, 2014). These enzymes break down complex organic compounds into simpler compounds such as monomers. For example, polysaccharides such as cellulose will hydrolyze to sugars. \\\n",
        "$$Lipids \\rightarrow Fatty Acids$$\n",
        "$$Polysaccharides \\rightarrow Monosaccharides$$\n",
        "$$Protein \\rightarrow Amino Acids$$\n",
        "$$C_{24}H_{40}O_{20}:H_2O+3H_2O \\rightarrow 4C_6H_{12}O_6$$ \n",
        " \n",
        " \n",
        "#### Acidogenesis\n",
        "During acidogenesis, which is also known as fermentation, acidogenic bacteria transform the simpler compounds into carbon dioxide, hydrogen, ammonia, and organic acids. While most of the products from acidogenesis are substrates available for methanogenic microbes, approximately 30% of the products are short chain fatty acids or alcohols (K. M. Kangle, et. al 2011). Thus, acetogenesis is needed to break down the short chain fatty acids and alcohols.\n",
        "$$C_6H_{12}O_6\\rightarrow2CH_3CH_2OH+2CO_2$$\n",
        "$$C_6H_{12}O_6+2H_2\\rightarrow 2CH_3CH_2COOH+2H_2O$$\n",
        "$$C_6H_{12}O_6+2H_2O \\rightarrow 2CH_3COOH+2CO_2+4H_2$$\n",
        " \n",
        "#### Acetogenesis\n",
        "These short chain fatty acids and alcohols are next converted into carbon dioxide, acetic acid, and hydrogen by acetogenic bacteria. \n",
        "$$CH_3CH_2COO^-+3H_2O \\rightarrow CH_3COO^-+H^++HCO_3^-+3H_2$$\n",
        "$$C_6H_{12}O_6+2H_2O \\rightarrow 2CH_3COOH+2CO_2+4H_2$$\n",
        "$$CH_3CH_2OH+2H_2O \\rightarrow CH_3COO^-+2H_2+H^+$$\n",
        " \n",
        "#### Methanogenesis\n",
        "Finally, carbon dioxide, acetic acid, and hydrogen are transformed by methanogens into methane and carbon dioxide. Methanogens can be divided into two groups: acetate and H2/CO2 consumers. \n",
        "$$CH_3COOH \\rightarrow CH_4+CO_2$$\n",
        "$$CO_2+4H_2 \\rightarrow CH_4+2H_2O$$\n"
      ]
    },
    {
      "cell_type": "markdown",
      "metadata": {
        "id": "cEabODdHIXAR"
      },
      "source": [
        "### Measuring Reactor Performance\n",
        "Both biological oxygen demand (BOD) and chemical oxygen demand (COD) measure the amount of organic matter present in wastewater. BOD refers to the amount of dissolved oxygen needed by microorganisms to decompose organic waste (Gu et. al, 2013). In contrast, COD refers to the amount of oxygen needed to chemically oxidize the organic compounds present (Cazaudehore et. al, 2019). \n",
        " \n",
        "The BOD test is typically conducted at wastewater plants, even though measuring organic content in this way is not very practical. The biggest drawback to the BOD test is that it does not provide immediate feedback about water quality. The standard BOD test is conducted over a 5 day period, and the results are not read until the 5 day. This wait makes BOD tests unsuitable for determining short term trends in water quality. Additionally, the BOD test itself is extremely labor intensive and time consuming. In contrast, the COD test is relatively easy to conduct, and the results can be determined within 3-4 hours. \n",
        " \n",
        "Under certain conditions there is a correlation between the COD and BOD of a sample. The ratio of BOD to COD is called the biodegradability index (BI), and is highly dependent on the type of waste and reactor (Zarka, 2014). The biodegradability index can be found by creating a plot of BOD vs. COD values. Figure 20 below shows an example graph generated by a wastewater plant in Egypt. The slope of the linear trendline, indicated in blue, represents the biodegradability index. This index is considered to be the cut off point that marks biodegradable waste from non-biodegradable waste. Once this constant is established for a reactor, COD tests can be used to predict BOD values. For reference, the BOD to COD ratio is about 0.1 for a well-stabilized secondary effluent, 0.5 - 1 for raw wastewater, 0.4 - 0.8 for municipal raw wastewater, and can be higher than 10 for industrial wastewater (Zarka, 2014). Therefore, a value between 0.1 and 1 is expected for a UASB reactor. \n",
        " \n",
        "<center>\n",
        " <p style=\"text-align: center;\">\n",
        "<img src=\"https://github.com/AguaClara/UASB/blob/master/Images/biodegradability_index_example.PNG?raw=true\" height = 250 />\n",
        "  </p>\n",
        "  \n",
        "**Figure 20:** This figure shows an example graph of BOD vs.COD for the influent of a wastewater treatment plant in Egypt. The biodegradability index is the slope of the graph, which can be used to predict BOD values from COD tests (Zarka, 2014)\n",
        "</center>\n",
        "\n",
        "\n"
      ]
    },
    {
      "cell_type": "markdown",
      "metadata": {
        "id": "u3iW-D5jIeka"
      },
      "source": [
        "### Efficiency of UASB Reactors\n",
        "\n",
        "Some factors affecting the efficiency of UASB reactors are the temperature and pH. The ideal temperature for a UASB reactor should be around 35 °C (Ghaniyari-Benis et. al, 2009). Temperature affects the growth of microorganisms as well as BOD and COD removal (Abdelgadir et. al, 2014). For example, at 35 °C, bacteria can generate in 3 days. In 10°C, it can take up to 50 days for bacteria to generate (Escudie et. al, 2011). At 15 °C, COD removal can decrease to 50% from the optimal 70% (Khan et. al, 2011). Additionally, methane production can be affected by the temperature of the wastewater effluent. Although methane is relatively insoluble (Henry's constant = 776 bar•L/mol), the lower the temperature, the higher the methane solubility and therefore an increase in energy loss (Shoener et al,. 2014). Moreover, the optimal pH for microbial growth is 6.8 - 7.2 and low pH can inhibit methanogenesis (Latif et. al, 2011). The pH inside the granules can also affect the rate of substrate conversion (Saravanan et. al, 2006). Additionally, the structure of the granules can affect the efficiency of the UASB. Some models include the multi-layer model (Figure 21), syntrophic microcolony model, non-layered structure model, and granule cluster structure (Figure 22).\n",
        "\n",
        "\n",
        "<center>\n",
        " <p style=\"text-align: center;\">\n",
        "<img src=\"https://ars.els-cdn.com/content/image/1-s2.0-S0301479705003439-gr6.jpg\" height =100 />\n",
        "  </p>\n",
        "\n",
        "**Figure 21:** This figure is a multi-layer model of a granule with three layers (Saravanan et al., 2006). \n",
        "</center>\n",
        "\n",
        "\n",
        "<center>\n",
        " <p style=\"text-align: center;\">\n",
        "<img src=\"https://ars.els-cdn.com/content/image/1-s2.0-S0301479705003439-gr7.jpg\" height =100 /> \n",
        "  </p>\n",
        "\n",
        "**Figure 22:** This figure is a granule cluster structure with aggregates (Saravanan et al., 2006).\n",
        "</center>"
      ]
    },
    {
      "cell_type": "markdown",
      "metadata": {
        "id": "gjO2G3huIi1z"
      },
      "source": [
        "### Biogas Production Parameters\n",
        "\n",
        "The UASB reactor heavily relies on microorganisms to anaerobically breakdown organic matter in wastewater, a byproduct of which is biogas, more specifically, methane and carbon dioxide. As mentioned previously, biogas can be used as fuel for common household uses. Due to its reliance on live microorganisms, many factors and parameters contribute to the health of sludge granules, and therefore their production of biogas. These factors can also affect the cost and the efficiency of each reactor, and for the goals of supplying developing communities with wastewater treatment, it is best to keep costs low and the reactor efficient to ensure that the reactors are economically viable. Some parameters include, but are not limited to, pH, temperature, and hydraulic retention rate (Yadvika et al, 2004).\n",
        "\n",
        "In addition to additives, there are many operational parameters that can affect biogas production. One of the most important parameters being temperature. There are different ranges of temperature for anaerobic fermentation: psychrophilic, mesophilic, and thermophilic, each of which ranges from less than 30˚C, between 30˚C to 40˚C, and between 50˚C to 60˚C (Yadvika et al, 2004). The optimum temperature range (based on many studies) for an anaerobic digester is the mesophilic range. It is also favorable to construct reactors facing the sun to prevent drastic temperature drops (Yadvika et al, 2004).\n",
        "\n",
        "Another important parameter is pH. pH can vary a lot due to the biogas that microbes produce. The desired range for pH is 6.8 – 7.2, and fatty acid concentration should be less than 2000 mg/L (Yadvika et al, 2004). It was also found that biomethanation at pH 5.0 and 4.0 was 67% and 34% respectively relative to production at pH 7.0 (Jain et al, 1998). These findings indicate keeping these microbes in an optimal pH environment is crucial for biogas production.\n",
        "\n",
        "Hydraulic retention times (HRT) can also affect biogas production. Shorter retention times increases the risk of active bacteria leaving during the washout period, and longer retention times carry a larger financial burden, as it requires larger volume to support the same flow rate (Yadvika et al, 2004). Driven by the lower economic costs, researchers have tried to reduce HRT without compromising the production of biogas. It was found that the optimum period was 16 to 20 days (Yadvika et al, 2004).\n",
        "\n",
        "There have also been studies on how different additives like powdered leaves stimulate the production of biogas. A study of the effect of the addition of tomato-plant wastes to rabbit waste improved methane production by over 40%, given the same proportions of waste, for several hydraulic retention rates (Trujillo et al, 1993). These additives are economically feasible and produce great results, as seen by the much higher efficiency in biogas production. "
      ]
    },
    {
      "cell_type": "markdown",
      "metadata": {
        "id": "7v8ogFCVEsOa"
      },
      "source": [
        "## Previous Work\n"
      ]
    },
    {
      "cell_type": "markdown",
      "metadata": {
        "id": "lHnuYHFJ47ci"
      },
      "source": [
        "### Summer 2016\n",
        "The UASB team was formed in the Summer of 2016. The objective of the team was to design and implement a functional lab-scale UASB reactor to treat synthetic blackwater. Blackwater is wastewater from toilets; synthetic blackwater is a mixture of proteins, lipids and starches mixed together (usually with a few other chemicals as well; recipes for synthetic wastewater vary) The team constructed four small-scale UASB reactors and found that those small-scale reactors could successfully treat synthetic wastewater. The team also found that increased wastewater concentration and higher residence times resulted in higher biogas removal and increased Chemical Oxygen Demand (COD) removal.\n",
        " \n",
        "\n",
        "\n"
      ]
    },
    {
      "cell_type": "markdown",
      "metadata": {
        "id": "-MDrUofNJTJq"
      },
      "source": [
        "### Fall 2016\n",
        "In the fall of 2016, the UASB team underwent several changes. First, the team altered the design of the small-scale UASB reactors by implementing shorter and narrower influent lines. The team also changed the synthetic wastewater recipe. More specifically, the team substituted glucose with insoluble carbon compounds. The team also researched retention time in the reactors with fluoride tracer tests, and found a HRT of 3.22 hours in one of the reactors (close to the target of 4 hours).\n",
        " "
      ]
    },
    {
      "cell_type": "markdown",
      "metadata": {
        "id": "D0ziPCc9JWeb"
      },
      "source": [
        "### Spring 2017\n",
        "During the spring of 2017, the team worked on assessing the efficiency of two modifications to the UASB reactor: plate settlers and the submerged gas collection lid. After conducting granule settling tests, the team was unable to conclude whether or not plate settlers significantly improve solid retention time. The team also conducted a Submerged Gas Capture Lid Test and concluded that a check valve would be useful to allow for continuous collection into a gas tank without the loss of biogas.\n",
        " "
      ]
    },
    {
      "cell_type": "markdown",
      "metadata": {
        "id": "evUAevktJb2c"
      },
      "source": [
        "### Summer 2017\n",
        "In the summer of 2017, the UASB team continued with similar research and testing to that of the Spring 2017 semester. This time, the team determined that large, bulky plate settlers were not required for a full scale reactor. Instead, a smaller settling apparatus, such as a sloped exit weir, can achieve similar sludge retention time (SRT).\n",
        " "
      ]
    },
    {
      "cell_type": "markdown",
      "metadata": {
        "id": "LUhr9htCJedX"
      },
      "source": [
        "### Fall 2017\n",
        "During the fall of 2017, the team made critical design assumptions such ass: a reactor diameter of 3 feet, a reactor height of 7 feet, a 4 hour hydraulic residence time, and a flow rate of .036 L/s. The team also designed a biogas capture lid. In this system, as biogas is produced in the reactor, it displaces water out from under the lid. Gas is then stored there until it is manually removed. In addition, the team wrote Python calculations in Jupyter notebook (available on GitHub) to estimate biogas production based on COD input. Finally, the team decided to add plate settlers back to the effluent tube to prevent dislodged granules from escaping the reactor and  worked on designing a sludge weir for the UASB reactor.\n",
        " "
      ]
    },
    {
      "cell_type": "markdown",
      "metadata": {
        "id": "g6MnP7EOJgvy"
      },
      "source": [
        "### Spring 2018\n",
        "UASB continued efforts to improve the design of the pilot-scale UASB reactor in Spring 2018. After extensive research, the team chose top influent flow - where the wastewater flows down the inlet pipe until it reaches the bottom of the tank -  in order to prevent clogs. Next, the team decided to incorporate pulse flow into the reactor through either a tipping bucket design or a siphon.\n",
        "UASB also worked on biogas production. The team wrote code to estimate COD concentration of influent, the temperature of the reactor, and biogas production rate based on the flow rate through the reactor. The team decided on a gas bag system to store biogas and also wrote code to determine the required volume and dimensions for the lid of the biogas system. The team looked into removal of fats, oils and greases (FOG) and developed a design for the pilot UASB reactor's sludge sampling and removal system. Lastly, the team wrote code to calculate the optimal size of the pilot UASB reactor's tube settler, the number of plates required, and the overall height of the settling arm.\n",
        " "
      ]
    },
    {
      "cell_type": "markdown",
      "metadata": {
        "id": "MHwjjB5DJkjr"
      },
      "source": [
        "### Summer 2018\n",
        "The summer team continued work on the hydraulic design of the UASB system.  The major design project was creating the tipping bucket system to deliver wastewater in pulses. The system consists of a pivoting bucket which fills with wastewater before tipping and delivering the wastewater in a large pulse at a high flow rate. After brainstorming the idea, the team designed and tested models to determine optimal design and flow rates for the system. The team also continued developing code for the entire system, and made a Computer Aided Design (CAD) [model of the UASB reactor](https://cornell47.autodesk360.com/g/shares/SH7f1edQT22b515c761e1224485004ae7e44?viewState=NoIgbgDAdAjCA0IDeAdEAXAngBwKZoC40ARXAZwEsBzAOzXjQEMyzd1C0IBOAEx4GYeAFgBsAWgBMjAGY8xQgKwTxjLl3H8A7KoBGEABwQd-IZrQBfEAF0gA) using Fusion 360.\n",
        " "
      ]
    },
    {
      "cell_type": "markdown",
      "metadata": {
        "id": "qTqZV4IGJms8"
      },
      "source": [
        "### Fall 2018\n",
        "During the fall of 2018, the team tested a benchtop UASB model in the lab. Because actual sludge granules were not readily available, the team used tapioca to model the sludge blanket. Tapioca has similar material properties as sludge, inexpensive and readily available made it a suitable alternate material. Red dye was added to the water to identify preferential paths in the UASB reactor. Preferential pathways are the uneven distribution of wastewater flow throughout the reactor; the presence of these make the UASB reactor less efficient.\n",
        "The result of the testing shows that the layer of tapioca did not lift entirely off the bottom of the reactor, but instead it stretched as influent “wastewater” traveled through it. The red dye in the influent revealed the formation of preferential pathways through the tapioca layer.\n",
        " "
      ]
    },
    {
      "cell_type": "markdown",
      "metadata": {
        "id": "DNiCalVYJoys"
      },
      "source": [
        "### Spring 2019\n",
        "During the Spring 2019 Semester, the team focused on completing a design for the UASB reactor that will be fabricated and tested at the Ithaca Area Wastewater Treatment Facility (IAWWTF). The team decided to make reactor canisters out of 10\" diameter clear PVC pipe, so that multiple reactors could be tested at the IAWWTF to determine whether or not pulsated flow affects reactor efficiency. To design the reactors, the team made a python class to represent the hydraulics of the UASB reactors and made an [onShape](https://cad.onshape.com/documents/5b375d42804fe92275d92ea2/w/cd20213a21780e7c93073fc1/e/88dae7ab80356e3bfbbda91f) model of the reactors.\n",
        " "
      ]
    },
    {
      "cell_type": "markdown",
      "metadata": {
        "id": "yQ6h7UObJqhp"
      },
      "source": [
        "### Summer 2019\n",
        "During the Summer of 2019, the team completed the fabrication of the first pilot pulsated UASB and brought it to the IAWWTF for installation. During fabrication, the team tested out the ideal pivot point on the tipping bucket to dump out a specific amount of water for each pulse, worked out kinks in the fabrication process such as gluing the flanges onto the 10” pipe, and wrote an extensive fabrication manual. \n",
        " "
      ]
    },
    {
      "cell_type": "markdown",
      "metadata": {
        "id": "LUB7hVcAJtWc"
      },
      "source": [
        "### Fall 2019\n",
        "In Fall 2019, a reactor with pulsed flow was installed at the Ithaca Area Wastewater Treatment Facility (IAWWTF) and sludge granules were added to initiate organic decomposition. The team monitored the growth of the sludge blanket throughout the semester. Near the end of the semester, the team ran one round of Biological Oxygen Demand (BOD), Chemical Oxygen Demand (COD), Phosphorus (PHOS), and Fecal Coliform (Bacti) tests on the effluent to assess its quality. The fecal coliform test indicated that the level of bacteria in the effluent is extremely high but UASBs are not usually meant to remove bacteria and pathogens. From the BOD and COD tests, the results showed that the UASB’s BOD and COD concentrations are about halfway between the wastewater plant’s influent and primary. \n",
        " "
      ]
    },
    {
      "cell_type": "markdown",
      "metadata": {
        "id": "mtFRLbGlJxyb"
      },
      "source": [
        "### Spring 2020\n",
        "At the start of Spring 2020, the team began to closely monitor select parameters of the installed UASB. pH, sludge blanket height, wet test meter/biogas produced, and room temperature were all recorded in [this spreadsheet](https://docs.google.com/spreadsheets/d/1PljL4R5JXXJFVJyiDmP10JYdl03GN7sYJFytbTsUkqQ/edit?usp=sharing). The temperature of Ithaca’s wastewater is significantly lower than 20˚C to 25˚C, which is the ideal temperature for the sludge granules. A temperature probe, heat tape, ProCoDa box, and relay box were installed to monitor the temperature of the effluent inside the reactor. However, the team was shut down due to the Covid-19 pandemic. The reactor was deconstructed and healthy sludge granules were found from inside the reactor.\n"
      ]
    },
    {
      "cell_type": "markdown",
      "metadata": {
        "id": "WSHRgnq7J0ER"
      },
      "source": [
        "### Fall 2020\n",
        "Due to the COVID-19 pandemic and construction at the Ithaca Area Wastewater Treatment Facility (IAWWTF), UASB research was paused for the Fall 2020 semester."
      ]
    },
    {
      "cell_type": "markdown",
      "metadata": {
        "id": "2sViWJMAEycA"
      },
      "source": [
        "## Barrancaray Pulsed Flow System for APP\n"
      ]
    },
    {
      "cell_type": "markdown",
      "metadata": {
        "id": "lP_W1w8T0j64"
      },
      "source": [
        "The UASB team has an opportunity to apply its research to a wastewater system in Honduras in partnership with Agua Para el Pueblo (APP). APP is AguaClara’s long-standing NGO partner in the region and has created a preliminary design for a wastewater system for a community in Barrancaray, Aguanqueterique, La Paz, Honduras. This community has a total of 50 houses and the wastewater plant would serve approximately 310 people. APP expressed interest in adding pulsed-flow to their wastewater treatment design, based on preliminary results showing healthy sludge granule formation in the AguaClara UASB reactor. These results are not sufficient to claim that a pulsed-flow or tipping bucket system improves reactor performance, and therefore any design modifications to APP’s Barrancaray design would be experimental. \n",
        "\n",
        "This semester, the team translated APP’s design calculations from Spanish into English and determined that the most realistic location to implement a pulsed flow system would be before the secondary treatment unit process, which is an Upflow Anaerobic Filter. This decision was reached since the primary treatment process, an Anaerobic Baffled Reactor, already involves sufficient mixing of water inside the reactor. Several high-level questions need to be answered before considering possible designs. For example, how does water currently enter the Upflow Anaerobic Filter in APP’s original design? What materials are currently available to APP in this region of Honduras? \n",
        "\n",
        "The team should communicate with Aminta (Minty) Nuñez, an APP engineer, to reassess APP’s interest in incorporating pulsed flow to their design and to discuss possible next steps. \n",
        "\n",
        "Agua Para el Pueblo's preliminary design calculations can be found in Spanish [here](https://drive.google.com/file/d/1nqPLbfusFZyzFAGvIoGYB6CIHamh0-qq/view?usp=sharing) [original] and English [here](https://docs.google.com/document/d/1sqyl0MwiSTdNDBthB1BIP5NTGFDCJPxFU_Uh6xTS4CM/edit) [translated]\n",
        "\n",
        "For future reference, the [Summer 2018](https://github.com/AguaClara/UASB/blob/master/Reports%20and%20Manuals/summer2018report.md) and [Spring 2019](https://github.com/AguaClara/UASB/blob/master/Reports%20and%20Manuals/spring2019report_design.md) final reports both describe how the UASB tipping bucket system was designed.\n"
      ]
    },
    {
      "cell_type": "markdown",
      "metadata": {
        "id": "TRL1Ytus5Ru3"
      },
      "source": [
        "## Methods\n",
        "\n"
      ]
    },
    {
      "cell_type": "markdown",
      "metadata": {
        "id": "KIXRWC2jzm3T"
      },
      "source": [
        "### Gas Collection Experiment Overview \n",
        "This semester, the team has been working in the lab to better understand the gas collection system in preparation to restart the UASB reactors at the IAWWTF in September 2021. The team planned to run experiments to see if low pressure gas is affecting the gas collection system by comparing two different gas counters. One is the wet test meter (Figure 23) that has been used at the IAWWTF and the other is a MilliGascounter (Figure 24). \n",
        "\n",
        "\n",
        "<center>\n",
        " <p style=\"text-align: center;\">\n",
        "<img src=\"https://github.com/AguaClara/UASB/blob/master/Images/Wet%20Test%20Meter.jpg?raw=true\" height =300 />\n",
        "  </p>\n",
        "\n",
        "**Figure 23:** Wet test meter used to track how much gas is passing through it.\n",
        "</center>\n",
        "\n",
        "\n",
        "\n",
        "<center>\n",
        " <p style=\"text-align: center;\">\n",
        "<img src=\"https://github.com/AguaClara/UASB/blob/master/Images/Milligascounter%20Callibration%20Details.jpg?raw=true\" height =350 /> \n",
        "  </p>\n",
        "\n",
        "**Figure 24:** MilliGascounter used to track how much gas is passing through it\n",
        "</center>\n",
        "\n",
        "The MilliGascounter is more accurate for smaller flow rates of gas while the wet test meter is less sensitive to smaller flow rates. The end goal is not to switch to the MilliGascounter, as it is very pricey (around $2000), however this may be necessary if the wet test meter cannot accurately measure the small biogas flow rates expected during the startup period of the reactor. The team wanted to test the sensitivities of both of the gas counters and compare them to each other. \n",
        "\n",
        "Soapy water was applied at all the joints in the set up to make sure that everything is airtight. This is important for accuracy so make sure no gas is leaking. The team will also use soapy water when reimplementing the UASB reactor next semester at the IAWWTF.\n",
        "\n"
      ]
    },
    {
      "cell_type": "markdown",
      "metadata": {
        "id": "OxZGerllKCPJ"
      },
      "source": [
        "### Expected Biogas Production Calculations\n",
        "The team modified code from the [Summer 2018 Report](https://github.com/AguaClara/UASB/blob/master/Reports%20and%20Manuals/summer2018report.md#biogas-production) to better gauge what the expected biogas production is for both blackwater and greywater. This helped the team pick a starting flow rate for their experiments. The function from Summer 2018 is `BiogasFlow (Q, COD_Load, T)`, and the new function is `gasFlow (Q, COD_Load, T)`. The code can be found in the [Manual](#Manual) section of this report. \n",
        "\n",
        "There are two functions to calculate biogas production. The function `BiogasFlow` assumes other factors like efficiency percentage and sludge production. This function was taken from UASB Summer 2018, which makes assumptions based off of [Anaerobic Reactors](https://www.iwapublishing.com/sites/default/files/ebooks/9781780402116.pdf) (Chernicharo, 2007). This semester, the team wanted to create a function (`gasFlow`) to calculate the theoretical gas production in a day, which is why many of the assumptions that were previously made were removed. The `gasFlow` function is used to calculate the biogas production rate given the average influent rate, COD_Load, and the temperature. There are assumptions based on [Anaerobic Reactors](https://www.iwapublishing.com/sites/default/files/ebooks/9781780402116.pdf) (Chernicharo, 2007). \n",
        "\n",
        "\n",
        "For the specific estimated calculation done with Dr. Richardson (`gasFlow`), the team used an approximate influent rate of 300 L/day, which is calculated from the height and retention rate of the reactor. By molar ratio, the function will calculate the amount of biogas for the COD_Load input. The volume that the gas occupies can then be calculated with the temperature. The pressure is assumed to be standard pressure, since the pressure will vary much less (than the temperature) and any change can be neglected since it is very minimal compared to the other factors from the reactor.\n"
      ]
    },
    {
      "cell_type": "markdown",
      "metadata": {
        "id": "1aaAFxXbKILy"
      },
      "source": [
        "### Water Displacement Method\n",
        "The team first tested the accuracy of the wet test meter with a water displacement method. The wet test meter’s inlet tube was open to the surroundings and the outlet tube was connected to an airtight container of water, as seen in Figure 25. The outlet of the container has a valve. When the valve is opened, the container acted as a vacuum and the air that passes through the wet test meter will displace water that the team collected in a graduated cylinder. \n",
        "\n",
        "\n",
        "<center>\n",
        " <p style=\"text-align: center;\">\n",
        "<img src=\"https://github.com/AguaClara/UASB/blob/de349eeeb0490ecaf4fd592d580556f467dff466/Images/Lab%20testing%20accuracy%20of%20wet%20test%20meter.JPG?raw=true\" height =300 /> \n",
        "  </p>\n",
        "\n",
        "**Figure 25:** Water displacement method for testing amount of gas passing through the wet test meter.\n",
        "</center>\n",
        "\n",
        "However, with this method, the team could not control the flow rate to see how that may affect the gas meters."
      ]
    },
    {
      "cell_type": "markdown",
      "metadata": {
        "id": "7tsTlp-_KK2T"
      },
      "source": [
        "### Peristaltic Pump Method\n",
        "The team switched to using a peristaltic pump to control the flow rate of air going into the gas counters. A fixed amount of time was selected to run the pump and calculations were done to see how much gas the team was expecting to read on the devices. This value would then be compared to what the device actually portrayed. To see if low pressure is affecting the accuracy of the wet test meter readings, the team varied the flow rates of air being pumped in. For each of the flow rates, the team planned to do identical experiments on both devices to see if/how their readings differ. \n",
        "\n",
        "\n",
        "<center>\n",
        " <p style=\"text-align: center;\">\n",
        "<img src=\"https://github.com/AguaClara/UASB/blob/master/Images/Pump%20and%20wet%20test%20meter%20set%20up.JPG?raw=true\" height =300 /> \n",
        "  </p>\n",
        "\n",
        "**Figure 26:** Lab set up for wet test meter with peristaltic pump\n",
        "</center>\n",
        "\n",
        "It is important to note that there could be precision errors in the MilliGacounter based on the fluid uses. The model the team has is V 3.2 (Figure 24), and was calibrated with silox fluid. However, the manual notes that silox fluid works best for gas mixtures with no CO2 since the CO2 will dissolve into the fluid and outgas at the liquid surfaces. For gases with CO2, it is recommended to use 1.8% HCl, but this only works with V 3.4 since it is the only model resistant to HCl. If silox fluid is used, future teams should change the solution in the MilliGascounter more often than usual to get rid of buildup of CO2 in the fluid. \n"
      ]
    },
    {
      "cell_type": "markdown",
      "metadata": {
        "id": "4U_bNNV8KNYo"
      },
      "source": [
        "### Gas Chromatography\n",
        "The team learned how to use the gas chromatograph (Figure 27) to determine the nitrogen, oxygen, and methane composition in a gas mixture. The gas chromatograph uses helium as a carrier gas. The team will use this in the future to test the biogas produced by their UASB reactor. \n",
        "\n",
        "\n",
        "\n",
        "<center>\n",
        " <p style=\"text-align: center;\">\n",
        "<img src=\"https://github.com/AguaClara/UASB/blob/master/Images/Gas%20Chromatograph.JPG?raw=true\" height =300 /> \n",
        "  </p>\n",
        "\n",
        "**Figure 27:** Gas chromatograph that uses helium as carrier gas to detect methane."
      ]
    },
    {
      "cell_type": "markdown",
      "metadata": {
        "id": "W47NX2Urz77P"
      },
      "source": [
        "## Results\n"
      ]
    },
    {
      "cell_type": "markdown",
      "metadata": {
        "id": "GkuR3j2tz-ia"
      },
      "source": [
        "###Expected Biogas Production Calculations\n",
        "The function calculated that for an influent rate of 300 Liters/day, 500 mg of COD per Liter of wastewater, and standard room temperature (25˚C), around 57.34 Liters of biogas is produced per a day, which is roughly the amount of gas that the team calculated by hand (~52 L/day). The team also calculated the biogas production rate for black water. According to the article on black water (Slompo, 2019), each liter of black water has approximately 2206 mg/L of COD. With the same influent rate and temperature, the function calculates that the black water will produce 253 Liters of biogas per day.\n",
        "\n",
        "Below (Table 1) are the values of estimated biogas production per day from the code in the [Manual](#Manual).\n",
        "\n",
        "**Table 1:** Estimated Daily Biogas Production\n",
        "\n",
        "| Greywater | Blackwater |\n",
        "|:---:|:---:|\n",
        "| 57.34 L/day | 253 L/day |"
      ]
    },
    {
      "cell_type": "markdown",
      "metadata": {
        "id": "EbYeJN-jKUoz"
      },
      "source": [
        "### Water Displacement Method\n",
        "The team ran two rounds where they let roughly 0.5 L of gas get pulled through the wet test meter by looking at the dials turn and compared it to the amount of water collected in the graduated cylinder. The data is shown below in Table 2. \n",
        "\n",
        "**Table 2:** Data for Water Displacement Method\n",
        "\n",
        "| Time (s) | Reading on meter before (L) | Reading on meter after (L) | Gas passed through meter (L) | Displaced water (L) |\n",
        "|:---:|:---:|:---:|:---:|:---:|\n",
        "| 14.39 | 2071.5 | 2072 | 0.5 | 0.495 |\n",
        "| 14.35 | 2077.515 | 2078 | 0.485 | 0.476 |\n"
      ]
    },
    {
      "cell_type": "markdown",
      "metadata": {
        "id": "SAUjLrWDKXSp"
      },
      "source": [
        "### Peristaltic Pump Method\n",
        "The team was only able to test the wet test meter with the peristaltic pump this semester. 40 mL/min was taken as the baseline, since it was [calculated](#Manual) as the expected amount of biogas produced at maximum efficiency. From there, the team wanted to mimic a startup phase by decreasing the flow rate to see how accurate the wet test is at low rates. The data is shown below in Table 3. \n",
        "\n",
        "**Table 3:** Data for Wet Test Meter at Different Flow Rates \n",
        "\n",
        "| Flow Rate (mL/min) | Time (min) | Expected net reading (L)| Reading on meter before (L) | Reading on meter after (L) | Gas passed through meter (L) | Leaks? |\n",
        "|:---:|:---:|:---:|:---:|:---:|:---:|:---:|\n",
        "| 40 | 10 | 0.4 | 2076.29 | 2076.72 | 0.43 | no |\n",
        "| 40 | 10 | 0.4 | 2076.29 | 2077.15 | 0.43 | no |\n",
        "| 30 | 10 | 0.3 | 2080.22 | 2080.54 | 0.32 | no |\n",
        "| 30 | 10 | 0.3 | 2080.54 | 2080.88 | 0.34 | no |\n",
        "| 20 | 10 | 0.2 | 2080.88 | 2081.1 | 0.22 | no |\n",
        "| 20 | 10 | 0.2 | 2081.1 | 2081.32 | 0.22 | no |\n",
        "| 10 | 10 | 0.1 | 2081.32 | 2081.43 | 0.11 | no |\n",
        "| 10 | 10 | 0.1 | 2081.43 | 2081.55 | 0.12 | no |\n",
        "| 5 | 10 | 0.05 | 2081.55 | 2081.61 | 0.06 | no |"
      ]
    },
    {
      "cell_type": "markdown",
      "metadata": {
        "id": "y2PGxkG4z_Wq"
      },
      "source": [
        "##Analysis"
      ]
    },
    {
      "cell_type": "markdown",
      "metadata": {
        "id": "ke-Jszn10CNQ"
      },
      "source": [
        "###Expected Biogas Production Calculations\n",
        "It is important to note that this equation only gives an approximation of the actual biogas produced, and a fairly inaccurate one at that. Methanogenesis is a very complicated biochemical process, and there are many other areas to consider that are not included in this equation, such as losses due to leakage, temperature effects, and the varying bacterial composition of the sludge blanket. As most considerations are losses, the value given by this equation will be considered as an overapproximation and design accordingly. For safety reasons, it is better to overestimate the volume produced rather than underestimate and design a system that will produce flammable gas. Despite its problems, this equation still provides a good baseline value of the output biogas to inform the design process.\n",
        "\n",
        "\n"
      ]
    },
    {
      "cell_type": "markdown",
      "metadata": {
        "id": "opes-v1GKcnj"
      },
      "source": [
        "### Water Displacement Method\n",
        "The water displaced, or the water collected in the graduated cylinder, indicates the amount of air that was pulled through the wet test meter. As seen in Table 2, these values only differ from 0.005 to 0.009 L from the wet test meter readings. This indicates that our wet test meter readings are precise and accurate. However, it is important to note that flow rates were uncontrolled for this experiment. From the data in Table 2, the flow rates can be calculated to be:\n",
        "\n",
        "Trial 1:\n",
        "\n",
        "$$\\frac{0.495 L}{14.39 s} \\cdot \\frac{60 s}{ 1 min} \\cdot \\frac{1000 mL}{1 L} = 2063.93 \\frac{mL}{min}$$\n",
        "\n",
        "Trial 2:\n",
        "\n",
        "$$\\frac{0.476 L}{14.35 s} \\cdot \\frac{60 s}{ 1 min} \\cdot \\frac{1000 mL}{1 L} = 1990.24 \\frac{mL}{min}$$\n",
        "\n",
        "Both these flow rates are relatively high compared to the 40 mL/min baseline. Overall, at high flow rates, the wet test meter can be considered precise and accurate.\n",
        "\n"
      ]
    },
    {
      "cell_type": "markdown",
      "metadata": {
        "id": "tv9nxsC-KeqQ"
      },
      "source": [
        "### Peristaltic Pump Method\n",
        "For the majority of the flow rates, the team did two trials to test the precision of the wet test meter. As seen in Table 3, for rates of 40 mL, 30 mL, 20 mL, and 10 mL, the values between the two trials differed a maximum of 0.02 L. These results indicate that the wet test meter is precise, even at lower flow rates. \n",
        "The team also evaluated the accuracy of the wet test meter by comparing wet test meter reading to the expected value. The expected values were calculated by multiplying the flow rate by the time the team ran the experiment. When comparing the readings to the expected values, the differences vary from 0.01 to 0.04 L. Compared to the water displacement method, these values are not as accurate. This could be due to significantly slower flow rates. More likely, it could be due to the peristaltic pump. The peristaltic pump could be less accurate and also there could be error in the tubing size and if the tubing wore out. Overall, the wet test meter is precise and accurate enough at lower flow rates for the UASB team’s purposes. "
      ]
    },
    {
      "cell_type": "markdown",
      "metadata": {
        "id": "gI1XLwET0Cmc"
      },
      "source": [
        "## Conclusions\n"
      ]
    },
    {
      "cell_type": "markdown",
      "metadata": {
        "id": "mj9htehf0Kk7"
      },
      "source": [
        "This past semester, the team focused on tackling the gas collection system by improving the expected biogas production calculations and by running experiments with the gas meter. For the expected  biogas calculations for greywater, an influent rate of 300 Liters/day, 500 mg of COD per Liter of wastewater, and standard room temperature (25˚C), will produce 57.34 liters of biogas per day. For blackwater in similar conditions but with a COD value of 2206 mg/L, the estimated biogas production will be around 253 liters per day. These values give the team a baseline of what to expect from greywater (used for testing at the IAWWTF) versus blackwater (the type of water that would likely be used for a community-scale AguaClara UASB).  \n",
        "\n",
        "The team ran experiments to test the sensitivity of the wet test meter by varying the flow rates with a peristaltic pump. From the lab experiments, the team concluded that a MilliGascounter is not needed for the team’s purposes of measuring biogas because of inaccuracies with silox fluid and because the wet test meter is precise and accurate enough. The team only needs a rough estimate of how much biogas is produced. The next step is to set up the reactor again with the wet test meter to track biogas production. If the team runs into problems with the data, it is safe to say that the wet test meter itself is not the issue. \n"
      ]
    },
    {
      "cell_type": "markdown",
      "metadata": {
        "id": "1sFJSJTGE54Z"
      },
      "source": [
        "## Future Work\n"
      ]
    },
    {
      "cell_type": "markdown",
      "metadata": {
        "id": "fxNuxZOV0Shr"
      },
      "source": [
        "Future work for the UASB subteam is organized below based on the relative timeline and priority of each task:\n",
        "\n",
        "### Immediate Tasks\n",
        "- The gas bag currently being used by the UASB subteam has been damaged by wastewater. A new one needs to be ordered at the beginning of the Fall 2021 semester. \n",
        "- The first priority for the UASB subteam is to set up the transparent UASB reactor at the Ithaca Area Wastewater Treatment Facility (IAWWTF) as soon as construction concludes. This reactor will be used to start the process of generating healthy sludge granules.\n",
        "\n"
      ]
    },
    {
      "cell_type": "markdown",
      "metadata": {
        "id": "rZ7pKKHpKlIE"
      },
      "source": [
        "### Short Term Tasks\n",
        "- Several tasks remaining from the Spring 2021 semester need to be completed: \n",
        "  - Finish documenting the literature and research that has guided the design of the UASB reactor [here](https://docs.google.com/document/d/164XzhqBxfKn19QAkwA88QqF6RE_DOA16t2av_1VrxHY/edit#heading=h.d174h9qb57k2) \n",
        "  - Analyze and expand the team’s existing [UASB literature](https://drive.google.com/drive/folders/1GI0RNCNXsGt6flR0Ctc9cSV9RbHt0-yF?usp=sharing) to ensure that all team members have a substantive understanding of UASB technology. Use this literature review to clearly define goals and measures of success for experiments at the Ithaca Area Wastewater Treatment Facility \n",
        "  - Consider reaching out to Aminta (Minty) Nuñez from Agua Para el Pueblo (APP) to determine the status of UASB/APP collaboration on the [Barrancaray Wastewater Plant](https://drive.google.com/drive/folders/1TFlgPkqG2IzOeUYF18arXj3vWu1TtpQ6?usp=sharing).\n",
        "- Finish fabricating the 3rd UASB reactor which is currently being stored in the basement laboratory of Hollister Hall. See *Fabrication of the Third Reactor* in the [Fall 2019 final report](https://colab.research.google.com/drive/16LqSTNm3uMTZszE3yJi99dxljTtplRKP#scrollTo=JyG45Qk3qQLS) for more information.\n",
        "- Develop a system to flare biogas from the UASB reactor at IAWWTF before biogas production rates exceed those that can realistically be collected in a biogas bag and disposed of by team members.\n",
        "- Consider replacing the peristaltic pump tubing in the experimental apparatus with one that is more resistant to deformation and splitting. See *Peristaltic Pump Complications* in the [Spring 2020 report](https://colab.research.google.com/github/AguaClara/UASB/blob/master/Reports%20and%20Manuals/Spring2020_Report1_UASB.ipynb#scrollTo=TiFiywtFA-hE) for more information.\n"
      ]
    },
    {
      "cell_type": "markdown",
      "metadata": {
        "id": "M15N4SkMKn3h"
      },
      "source": [
        "### Medium Term Tasks\n",
        "- Set up the second and third (white PVC) UASB reactors at the IAWWTF. One should be a pulsed-flow system and the other should be a continuous flow system. It is recommended that the first (clear PVC) UASB reactor be used to generate sludge granules for the subsequent reactors for two reasons: first, several changes to the fabrication process were made after the first UASB reactor was built and therefore it would be more meaningful to compare the performance of the two opaque reactors to each other, rather than the performance of the transparent reactor and one of the opaque reactors. Secondly, transferring sludge granules from the first reactor to the second and third reactors decreases the time needed for them to reach their optimum performance and ensures that the initial microbial communities in each reactor are the same on average. \n",
        "- The BOD, COD, pH, temperature, and biogas production rates of each reactor should be monitored on a regular basis to draw conclusions about reactor performance. Note that BOD measurements may eventually be replaced by COD measurements as described in *Measuring Reactor Performance* in the [Fall 2019 Final Report](https://colab.research.google.com/drive/16LqSTNm3uMTZszE3yJi99dxljTtplRKP#scrollTo=JyG45Qk3qQLS). Additionally, gas chromatography should be used to determine the composition of biogas produced by the UASB reactor. \n",
        "- After all reactors have completed their start up phase (as indicated by stable biogas production rates and healthy sludge granules) measure the phosphorus and fecal coliform content of the effluent water in order to make recommendations for post-treatment technologies. Note, however, that the UASB reactor is not expected to remove either phosphorus or fecal coliforms. \n"
      ]
    },
    {
      "cell_type": "markdown",
      "metadata": {
        "id": "ROCmCEG2Kpxt"
      },
      "source": [
        "### Long Term Tasks\n",
        "- Compare the performance of the pulsed-flow and continuous-flow systems and draw conclusions about their relative advantages and disadvantages.\n",
        "- Consider fabricating additional UASB reactors to test design modifications. \n",
        "- Make recommendations for post-treatment based on the analysis of effluent water quality\n",
        "- Collaborate with Agua Para el Pueblo (APP) or another partner organization to pilot-test an AguaClara UASB in a small-scale community setting. "
      ]
    },
    {
      "cell_type": "markdown",
      "metadata": {
        "id": "hSPsAUnp0TWh"
      },
      "source": [
        "<a name=\"Manual\"></a>\n",
        "## Manual\n"
      ]
    },
    {
      "cell_type": "markdown",
      "metadata": {
        "id": "uaAdc-JtuHkn"
      },
      "source": [
        "### Expected Biogas Production Calculations\n",
        "The following calculations and explanations were adapted from the [Summer 2018](https://github.com/AguaClara/UASB/blob/master/Reports%20and%20Manuals/summer2018report.md#biogas-production) Report\n",
        "\n",
        "$K_COD$ corresponds to the amount of methane produced by the degradation of 1 g COD, by the following reaction:\n",
        "\n",
        "$$CH_4 + 2 O_2 \\Rightarrow CO_2 + 2 H_2O$$\n",
        "\n",
        "$$(16 g) + (64 g) \\Rightarrow (44 g) + (36 g)$$\n",
        "\n",
        "See equation 2.14 in [Anaerobic Reactors](https://www.iwapublishing.com/sites/default/files/ebooks/9781780402116.pdf) (Chernicharo, 2007)\n",
        "\n",
        "Biogas production is quantified using the following equation, taken from the [Anaerobic Reactors](https://www.iwapublishing.com/sites/default/files/ebooks/9781780402116.pdf) (Chernicharo, 2007):\n",
        "\n",
        "$COD_{CH_4} = Q(S_o-S) - Y_{obs} Q S_o$\n",
        "\n",
        "Where:\n",
        "\n",
        "$COD_{CH_4}$ is the mass of COD converted to methane ($kgCOD_{CH4} / day$)\n",
        "\n",
        "$Q$ is the average influent flow ($m^3 / day$)\n",
        "\n",
        "$S_o$ is the influent COD concentration ($kgCOD/m^3$)\n",
        "\n",
        "$S$ is the effluent COD concentration ($kgCOD/m^3$)\n",
        "\n",
        "$Y_{obs}$ is the coefficient of solid production within the system in terms of COD (the amount of sludge created from input COD) ($kgCOD_{sludge}/kgCOD_{applied}$)\n",
        "\n",
        "In the literature, $Y_{obs}$ ranges from 0.11 to 0.23. To assume lower production, we chose the highest value for our calculations (as this is the removal of COD)\n",
        "Next, this methane mass can be converted to volumetric production as follows:\n",
        "\n",
        "$Q_{CH4} = \\frac{COD_{CH4}}{K(t)}$\n",
        "\n",
        "Where\n",
        "\n",
        "$Q_{CH4}$ = volumetric methane production ($m^3 / day$)\n",
        "\n",
        "and\n",
        "\n",
        "$K(t)$ = correction factor for operational temp of reactor ($kgCOD/m^3$)\n",
        "\n",
        "$K(t)$ is defined using the ideal gas law:\n",
        "\n",
        "$K(t) = \\frac{P * K_{COD}}{R * (273 + T)}$\n",
        "\n",
        "$P$ = atmospheric pressure (1 atm)\n",
        "\n",
        "$K_{COD}$ = COD corresponding to 1 mole of CH4 ($\\frac{64g COD}{mole}$)\n",
        "\n",
        "$R$ = Ideal Gas Constant = 0.08206 ${\\frac{atmL}{molK}}$\n",
        "\n",
        "$T$ = Temperature ( ${^\\circ}C$)\n",
        "\n",
        "Since biogas contains other gases such as CO2, a correction factor to account for their contributions to the overall volume must be employed. The assumption is that biogas is composed 75% of methane, as given in Anaerobic Reactors(https://www.iwapublishing.com/sites/default/files/ebooks/9781780402116.pdf) (Chernicharo, 2007).\n"
      ]
    },
    {
      "cell_type": "code",
      "metadata": {
        "colab": {
          "base_uri": "https://localhost:8080/"
        },
        "id": "4hfJwEZ3qV8C",
        "outputId": "d09556c2-cafc-4c1e-c798-efab63bdbb2b"
      },
      "source": [
        "!pip install aguaclara\n",
        "#from aide_design.play import*\n",
        "import aguaclara as ac\n",
        "from aguaclara.core.units import u\n",
        "import math\n",
        "#import doctest\n",
        "\"\"\"Got BiogasFlow code from Spring 2018\"\"\"\n",
        "def BiogasFlow(Q, COD_Load, T):\n",
        "    \"\"\"Calculates the biogas production rate from the flow rate through the \n",
        "    reactor, the COD concentration of the influent, and the temperature of the \n",
        "    reactor.\n",
        "\n",
        "    For the doctest to pass, one must initialize the flow from UASB_design using \n",
        "    UASB_Size(3 * u.ft, 7 * u.ft)\n",
        "    \n",
        "    Parameter [Q]: The average influent rate with the units L/s\n",
        "    Precondition [Q]: Q is a float or an int with units (L/s) attached\n",
        "\n",
        "    Parameter [COD_Load]: The load of COD with the units (u.mg / u.L)\n",
        "    Precondition [COD_Load]: COD_Load is a float or an int with units (u.mg / u.L)\n",
        "\n",
        "    Parameter [T]: Room temperature of the reactor with the units ˚C\n",
        "    Precondition [T]: T is a float or an int with units ˚C\n",
        "    \"\"\"\n",
        "    # Calculating methane production by mass\n",
        "    #COD_Load= 274.6* (u.mg / u.L)\n",
        "    #Q=0.0013 * (u.L / u.s)\n",
        "    COD_Load = COD_Load.to(u.g / u.L)\n",
        "    COD_eff = 0.7 # Assuming 70% efficency of COD removal and conversion in reactor\n",
        "    COD_rem = COD_Load * COD_eff\n",
        "    Y_obs = 0.23 # Upper limit of sludge production, taken from Anerobic Reactions\n",
        "    COD_CH4 = (Q * COD_rem) - (Y_obs * Q * COD_Load)\n",
        "    # Calculating correction factor for operational temperature of the reactor\n",
        "    T = T.to(u.degK)\n",
        "    P = 1 * u.atm #assuming standard pressure\n",
        "    K_COD = 64 * (u.g / u.mol) #taken from Anerobic Reactions\n",
        "    R = 0.08206 * ((u.atm * u.L) / (u.mol * u.degK))\n",
        "    K = (P * K_COD) / (R * T)\n",
        "    #Calculate the volumetric flow rate of methane production\n",
        "    Q_CH4 = COD_CH4 / K # per second\n",
        "    Q_day = Q_CH4 * 86400 * (u.s / u.day) # seconds per day\n",
        "\n",
        "    print(\"The volumetric methane production per second is\", Q_CH4, \"\\n\"  \\\n",
        "          \"The volumetric methane production per day is\", Q_day)\n",
        "    return [Q_CH4, Q_day]\n",
        "\n",
        "def gasFlow(Q, COD_Load, T):\n",
        "    \"\"\"Calculates the biogas production rate from the flow rate through the \n",
        "    reactor, the COD concentration of the influent, and the temperature of the \n",
        "    reactor. This function assumes standard pressure. [From calculations w/ Dr.]\n",
        "\n",
        "    For the doctest to pass, one must initialize the flow from UASB_design using \n",
        "    UASB_Size(3 * u.ft, 7 * u.ft)\n",
        "    \n",
        "    Parameter [Q]: The average influent rate with the units L/day\n",
        "    Precondition [Q]: Q is a float or an int with units (L/day) attached\n",
        "\n",
        "    Parameter [COD_Load]: The load of COD with the units (u.mg / u.L)\n",
        "    Precondition [COD_Load]: COD_Load is a float or an int with units (u.mg / u.L)\n",
        "\n",
        "    Parameter [T]: Room temperature of the reactor with the units ˚C\n",
        "    Precondition [T]: T is a float or an int with units ˚C\n",
        "    \"\"\"\n",
        "    K_COD = 64 * (u.g / u.mol) #taken from Anerobic Reactions\n",
        "    COD_Load = COD_Load.to(u.g / u.L)\n",
        "    ammol = COD_Load / K_COD\n",
        "    T = T.to(u.degK)\n",
        "    P = 1 * u.atm #assuming standard pressure\n",
        "    R = 0.08206 * ((u.atm * u.L) / (u.mol * u.degK))\n",
        "    V = (ammol * R * T)/P\n",
        "    Q_day = Q * V #Liters of methane gas/day\n",
        "\n",
        "    print(\"The volumetric methane production per day is\", Q_day)\n",
        "\n",
        "\n",
        "#doctest.testmod(verbose=True)\n",
        "\n",
        "def UASB_Size(diam, height, HRT, sludge_percent):\n",
        "    \"\"\"Takes in diameter, height, average hydraulic residence time (HRT),\n",
        "    and percentage of volume occupied by sludge blanket of model UASB.\n",
        "    Outputs volume, required average flow rate, and the number of people served\n",
        "     per reactor for both mixed wastewater and blackwater (pure toilet water)\n",
        "    \n",
        "    >>> UASB_Size(3 * u.ft, 7 * u.ft, 4 * u.hr, 0.7)\n",
        "    [<Quantity(1401.1199563135376, 'liter')>,\n",
        "     <Quantity(0.06810999787635252, 'liter / second')>, 22, 113]\n",
        "    \n",
        "    Parameter [diam]: Diameter of the reactor in ft\n",
        "    Precondition [diam]: diam is a float or an int with units u.ft attached\n",
        "\n",
        "    Parameter [height]: Height of the reactor in ft\n",
        "    Precondition [height]: height is a float or an int with units u.ft\n",
        "\n",
        "    Parameter [HRT]: average hydralic residence time \n",
        "    Precondition [HRT]: HRT is a float or an int with units u.hr\n",
        "\n",
        "    Parameter [sludge_percent]: percentage of volume occupied by sludge blanket\n",
        "    Precondition [sludge_percent]: is a float or an int (without units)\n",
        "    \"\"\"\n",
        "    WW_gen = 3 * u.mL/u.s\n",
        "    #Wastewater generated per person, rule of thumb from Monroe\n",
        "    WW_gen_bw = 0.6 * u.mL/u.s   \n",
        "    #Assumes 20% of mixed wastewater\n",
        "    vol_reactor = (diam/2)**2 * math.pi * height\n",
        "    vol_reactor_sludge = vol_reactor * sludge_percent\n",
        "    #Calculate total volume of reactor containing sludge blanket\n",
        "    # used in HRT calculation\n",
        "    flow = vol_reactor_sludge / HRT\n",
        "    #Average flow rate through reactor given by volume and residence time\n",
        "    people_served = int(flow / WW_gen)  #People served per reactor\n",
        "    people_served_BW = int(flow / WW_gen_bw)\n",
        "    #People served per reactor treating only blackwater\n",
        "    output = [vol_reactor.to(u.L), flow.to(u.L/u.s), \\\n",
        "    people_served, people_served_BW]\n",
        "    return output\n",
        "  \n",
        "UASB_design = UASB_Size(3 * u.ft, 7 * u.ft, 4 * u.hr, 0.7)\n",
        "# Flow rate through UASB reactor\n",
        "Flow_design = UASB_design[1]\n",
        "#print(Flow_design)\n",
        "\n",
        "Temp = 25 * u.degC  # Assuming mesophilic conditions\n",
        "COD_removal_eff = 0.7 # 70% removal efficiency\n",
        "\n",
        "#Approximate loading rates for domestic wastewater\n",
        "COD_Load_min = 100 * (u.mg / u.L)\n",
        "COD_Load_mid = 200 * (u.mg / u.L)\n",
        "COD_Load_max = 300 * (u.mg / u.L)\n",
        "COD_ITHACA= 274.6* (u.mg / u.L) # Avg from Table 2\n",
        "COD_Load= 274.6* (u.mg / u.L)\n",
        "#Q_Biogas = BiogasFlow(Flow_design, COD_ITHACA, Temp)\n",
        "#Calculating size of storage device\n",
        "#print(Q_Biogas)\n",
        "\n",
        "\n",
        "#step 1. (COD methane /KCOD) = 500/64 = 7.81mM\n",
        "#step 2. V = nRT/P = (0.0078*0.08206*293)/1 = \n",
        "\n",
        "#BiogasFlow(0.0013 * (u.L / u.s),274.6* (u.mg / u.L),25* (u.degC))\n",
        "#BiogasFlow((300/(24*3600)) *(u.L / u.s), 500 * (u.mg/ u.L),25* (u.degC) )\n",
        "gasFlow(300 * (u.L / u.day), 500 *(u.mg / u.L),25* (u.degC))\n",
        "gasFlow(300 * (u.L / u.day), 2206 *(u.mg / u.L),25* (u.degC))"
      ],
      "execution_count": null,
      "outputs": [
        {
          "output_type": "stream",
          "text": [
            "Collecting aguaclara\n",
            "\u001b[?25l  Downloading https://files.pythonhosted.org/packages/ee/c5/d5af18ac620a47d5cf16b7bc2fc0da9d74cbbfb8cafe2ebbc801a1ea0900/aguaclara-0.2.10.tar.gz (94kB)\n",
            "\u001b[K     |████████████████████████████████| 102kB 6.7MB/s \n",
            "\u001b[?25hRequirement already satisfied: matplotlib in /usr/local/lib/python3.7/dist-packages (from aguaclara) (3.2.2)\n",
            "Requirement already satisfied: urllib3 in /usr/local/lib/python3.7/dist-packages (from aguaclara) (1.24.3)\n",
            "Collecting pint\n",
            "\u001b[?25l  Downloading https://files.pythonhosted.org/packages/33/de/53a77b82553579affab7438d299f850acbc1c4dd741c5ce52594513cb0ef/Pint-0.17-py2.py3-none-any.whl (204kB)\n",
            "\u001b[K     |████████████████████████████████| 215kB 27.4MB/s \n",
            "\u001b[?25hRequirement already satisfied: pandas in /usr/local/lib/python3.7/dist-packages (from aguaclara) (1.1.5)\n",
            "Requirement already satisfied: scipy in /usr/local/lib/python3.7/dist-packages (from aguaclara) (1.4.1)\n",
            "Collecting onshape_client\n",
            "\u001b[?25l  Downloading https://files.pythonhosted.org/packages/e7/e4/687bad02d5f0b04d507e029b7728269706c51c5caf1280223e423a2ac05a/onshape_client-1.6.3-py3-none-any.whl (2.1MB)\n",
            "\u001b[K     |████████████████████████████████| 2.1MB 24.9MB/s \n",
            "\u001b[?25hRequirement already satisfied: cycler>=0.10 in /usr/local/lib/python3.7/dist-packages (from matplotlib->aguaclara) (0.10.0)\n",
            "Requirement already satisfied: numpy>=1.11 in /usr/local/lib/python3.7/dist-packages (from matplotlib->aguaclara) (1.19.5)\n",
            "Requirement already satisfied: pyparsing!=2.0.4,!=2.1.2,!=2.1.6,>=2.0.1 in /usr/local/lib/python3.7/dist-packages (from matplotlib->aguaclara) (2.4.7)\n",
            "Requirement already satisfied: kiwisolver>=1.0.1 in /usr/local/lib/python3.7/dist-packages (from matplotlib->aguaclara) (1.3.1)\n",
            "Requirement already satisfied: python-dateutil>=2.1 in /usr/local/lib/python3.7/dist-packages (from matplotlib->aguaclara) (2.8.1)\n",
            "Requirement already satisfied: packaging in /usr/local/lib/python3.7/dist-packages (from pint->aguaclara) (20.9)\n",
            "Requirement already satisfied: importlib-metadata; python_version < \"3.8\" in /usr/local/lib/python3.7/dist-packages (from pint->aguaclara) (3.10.1)\n",
            "Requirement already satisfied: pytz>=2017.2 in /usr/local/lib/python3.7/dist-packages (from pandas->aguaclara) (2018.9)\n",
            "Requirement already satisfied: requests-oauthlib in /usr/local/lib/python3.7/dist-packages (from onshape_client->aguaclara) (1.3.0)\n",
            "Requirement already satisfied: six>=1.10 in /usr/local/lib/python3.7/dist-packages (from onshape_client->aguaclara) (1.15.0)\n",
            "Collecting ruamel.yaml\n",
            "\u001b[?25l  Downloading https://files.pythonhosted.org/packages/29/4e/c3105bbbbc662f6a671a505f00ec771e93b5254f09fbb06002af9087071a/ruamel.yaml-0.17.4-py3-none-any.whl (101kB)\n",
            "\u001b[K     |████████████████████████████████| 102kB 9.5MB/s \n",
            "\u001b[?25hRequirement already satisfied: certifi>=2017.4.17 in /usr/local/lib/python3.7/dist-packages (from onshape_client->aguaclara) (2020.12.5)\n",
            "Collecting nulltype\n",
            "  Downloading https://files.pythonhosted.org/packages/00/0f/47dde1a3cceac9858da0bfb92d2279bf5f993ed075b72983e92efc297db3/nulltype-2.3.1-py2.py3-none-any.whl\n",
            "Requirement already satisfied: typing-extensions>=3.6.4; python_version < \"3.8\" in /usr/local/lib/python3.7/dist-packages (from importlib-metadata; python_version < \"3.8\"->pint->aguaclara) (3.7.4.3)\n",
            "Requirement already satisfied: zipp>=0.5 in /usr/local/lib/python3.7/dist-packages (from importlib-metadata; python_version < \"3.8\"->pint->aguaclara) (3.4.1)\n",
            "Requirement already satisfied: requests>=2.0.0 in /usr/local/lib/python3.7/dist-packages (from requests-oauthlib->onshape_client->aguaclara) (2.23.0)\n",
            "Requirement already satisfied: oauthlib>=3.0.0 in /usr/local/lib/python3.7/dist-packages (from requests-oauthlib->onshape_client->aguaclara) (3.1.0)\n",
            "Collecting ruamel.yaml.clib>=0.1.2; platform_python_implementation == \"CPython\" and python_version < \"3.10\"\n",
            "\u001b[?25l  Downloading https://files.pythonhosted.org/packages/5e/6e/f652c56bbb2c3d3fca252ffc7c0358597f57a1bbdf484dac683054950c63/ruamel.yaml.clib-0.2.2-cp37-cp37m-manylinux1_x86_64.whl (547kB)\n",
            "\u001b[K     |████████████████████████████████| 552kB 69.3MB/s \n",
            "\u001b[?25hRequirement already satisfied: chardet<4,>=3.0.2 in /usr/local/lib/python3.7/dist-packages (from requests>=2.0.0->requests-oauthlib->onshape_client->aguaclara) (3.0.4)\n",
            "Requirement already satisfied: idna<3,>=2.5 in /usr/local/lib/python3.7/dist-packages (from requests>=2.0.0->requests-oauthlib->onshape_client->aguaclara) (2.10)\n",
            "Building wheels for collected packages: aguaclara\n",
            "  Building wheel for aguaclara (setup.py) ... \u001b[?25l\u001b[?25hdone\n",
            "  Created wheel for aguaclara: filename=aguaclara-0.2.10-cp37-none-any.whl size=107246 sha256=b613ac0a40e065c7db33700064fb8d11a4c4e6ade48bec4eb1e7a5b617a1bf5e\n",
            "  Stored in directory: /root/.cache/pip/wheels/ca/49/8d/cd190eac424c74d5d164af69b86bc6ab405affbaa22e22e57b\n",
            "Successfully built aguaclara\n",
            "Installing collected packages: pint, ruamel.yaml.clib, ruamel.yaml, nulltype, onshape-client, aguaclara\n",
            "Successfully installed aguaclara-0.2.10 nulltype-2.3.1 onshape-client-1.6.3 pint-0.17 ruamel.yaml-0.17.4 ruamel.yaml.clib-0.2.2\n",
            "The volumetric methane production per day is 57.34 liter / day\n",
            "The volumetric methane production per day is 253 liter / day\n"
          ],
          "name": "stdout"
        }
      ]
    },
    {
      "cell_type": "markdown",
      "metadata": {
        "id": "yYMWStCTrS8k"
      },
      "source": [
        "### Peristaltic Pump Method\n",
        "The data collected from this semester can be found [here](https://docs.google.com/spreadsheets/d/1bWQnL9i-dW9NmhcIrj8LvNhfsV0LHxXzFCJB4gBV9Aw/edit?usp=sharing).\n",
        "A guide to reading the wet test meter can be found [here](https://docs.google.com/document/d/1HWJ884loZ8cqnuQFut8nooVC-YEBmlgIgDZ69sgw4No/edit?usp=sharing) \n",
        "1. Set up the lab as shown in Figure 28, using connectors and hose clamps where needed.\n",
        "1. Make sure to select the correct tubing size on the peristaltic pump if applicable. The Spring 2021 team used size 17 tubing. \n",
        "1. Check that the wet test meter is calibrated.\n",
        "1. Put soapy water where there could be a leak (usually at connectors).\n",
        "1. Selected a flow rate (mL/min) to pump the air through the wet test meter.\n",
        "1. Selected a fixed amount of time to run the pump.\n",
        "1. Recorded the wet test meter reading before turning on the pump.\n",
        "1. Run the peristaltic pump for the amount of time selected in step 6\n",
        "1. Recorded the wet test meter reading after the pump has run.\n",
        "1. Note any bubbling from soapy water if applicable. If there is bubbling, fix it so it is air tight and then run the experiment again.\n",
        "\n",
        "\n",
        "<center>\n",
        " <p style=\"text-align: center;\">\n",
        "<img src=\"https://github.com/AguaClara/UASB/blob/master/Images/Wet%20Test%20Meter%20and%20Peristaltic%20Pump%20Lab%20Schematic.png?raw=true\" height =200 /> \n",
        "  </p>\n",
        "\n",
        "**Figure 28:** Schematic of lab setup with peristaltic pump and wet test meter.\n",
        "</center>\n"
      ]
    },
    {
      "cell_type": "markdown",
      "metadata": {
        "id": "4KN288loFATg"
      },
      "source": [
        "## EPA Funding Assurance"
      ]
    },
    {
      "cell_type": "markdown",
      "metadata": {
        "id": "bNtjhODzP-PF"
      },
      "source": [
        "This publication Upflow Anaerobic Sludge Blanket (UASB) Spring 2021 Report 1 was developed under Assistance Agreement No. SU-83926801 awarded by the U.S. Environmental Protection Agency to Cornell University. It has not been formally reviewed by EPA. The views expressed in this document are solely those of AguaClara Cornell and do not necessarily reflect those of the Agency. EPA does not endorse any products or commercial services mentioned in this publication."
      ]
    },
    {
      "cell_type": "markdown",
      "metadata": {
        "id": "Kvfz9JbeEmLc"
      },
      "source": [
        "## Bibliography\n"
      ]
    },
    {
      "cell_type": "markdown",
      "metadata": {
        "id": "SUMdPWfy0Zyk"
      },
      "source": [
        "Abbasi, T., & Abbasi, S. A. (2012). Formation and impact of granules in    fostering clean energy production and wastewater treatment in upflow anaerobic sludge blanket (UASB) reactors. Renewable and Sustainable Energy Reviews, 16(3), 1696–1708. https://doi.org/10.1016/j.rser.2011.11.017\n",
        "\n",
        "Abdelgadir, A., Chen, X., Liu, J., Xie, X., Zhang, J., Zhang, K., Wang, H., & Liu, N. (2014). Characteristics, Process Parameters, and Inner Components of Anaerobic Bioreactors. BioMed Research International, 2014, e841573. https://doi.org/10.1155/2014/841573\n",
        "\n",
        "Cazaudehore, G., Schraauwers, B., Peyrelasse, C., Lagnet, C., & Monlau, F. (2019). Determination of chemical oxygen demand of agricultural wastes by combining acid hydrolysis and commercial COD kit analysis. Journal of Environmental Management, 250, 109464. https://doi.org/10.1016/j.jenvman.2019.10946\n",
        "\n",
        "Chen, Z. (2017). Upflow Anaerobic Sludge Blanket (UASB), Summer 2017. AguaClara Cornell. Retrieved from https://www.overleaf.com/project/5e47ee48580a4b0001012158\n",
        "\n",
        "Chernicharo, C. A. de L., Sperling, M. von, & Chernicharo, C. A. de L. (2007). Anaerobic reactors. IWA Publ.\n",
        "\n",
        "Chong, S., Sen, T. K., Kayaalp, A., & Ang, H. M. (2012). The performance enhancements of upflow anaerobic sludge blanket (UASB) reactors for domestic sludge treatment – A State-of-the-art review. Water Research, 46(11), 3434–3470. https://doi.org/10.1016/j.watres.2012.03.066\n",
        "\n",
        "Escudié, R., Cresson, R., Delgenès, J.-P., & Bernet, N. (2011). Control of start-up and operation of anaerobic biofilm reactors: An overview of 15 years of research. Water Research, 45(1), 1–10. https://doi.org/10.1016/j.watres.2010.07.081\n",
        "\n",
        "Ghaniyari-Benis, S., Borja, R., Monemian, S. A., & Goodarzi, V. (2009). Anaerobic treatment of synthetic medium-strength wastewater using a multistage biofilm reactor. Bioresource Technology, 100(5), 1740–1745. https://doi.org/10.1016/j.biortech.2008.09.046\n",
        "\n",
        "Gu, J.-J., Hu, H.-C., Chai, X.-S., Tian, Y.-X., Barnes, D. G., & Huang, S. (2013). A new method for the determination of biological oxygen demand in domestic wastewater by headspace gas chromatography. Journal of Chromatography A, 1308, 32–36. https://doi.org/10.1016/j.chroma.2013.07.098\n",
        "\n",
        "Jain, S., Mattiasson, B. Acclimatization of Methanogenic Consortia for Low pH Biomethanation Process. Biotechnology Letters 20, 771–775 (1998). https://doi.org/10.1023/B:BILE.0000015920.45724.29\n",
        "\n",
        "Kangle, K., Kore, S., & S, K. (2011). Recent Trends in Anaerobic Codigestion: A Review. Universal Journal of Environmental Research and Technology 2249 0256, 2, 210–219.\n",
        "\n",
        "Kassab, G., Halalsheh, M., Klapwijk, A., Fayyad, M., & van Lier, J. B. (2010). Sequential anaerobic–aerobic treatment for domestic wastewater – A review. Bioresource Technology, 101(10), 3299–3310. https://doi.org/10.1016/j.biortech.2009.12.039\n",
        "\n",
        "Khan, A. A., Gaur, R. Z., Tyagi, V. K., Khursheed, A., Lew, B., Mehrotra, I., & Kazmi, A. A. (2011). Sustainable options of post treatment of UASB effluent treating sewage: A review. Resources, Conservation and Recycling, 55(12), 1232–1251. https://doi.org/10.1016/j.resconrec.2011.05.017\n",
        "\n",
        "Latif, M. A., Ghufran, R., Wahid, Z. A., & Ahmad, A. (2011). Integrated application of upflow anaerobic sludge blanket reactor for the treatment of wastewaters. Water Research, 45(16), 4683–4699. https://doi.org/10.1016/j.watres.2011.05.049\n",
        "\n",
        "Ma, X. (Cissy), Xue, X., González-Mejía, A., Garland, J., & Cashdollar, J. (2015). Sustainable Water Systems for the City of Tomorrow—A Conceptual Framework. Sustainability, 7(9), 12071–12105. https://doi.org/10.3390/su70912071\n",
        "\n",
        "Mittal, Arun. “Biological Wastewater Treatment.” Water Today, Aug. 2011, pp. 32–44\n",
        "\n",
        "Nathalie Dyane Miranda Slompo, Larissa Quartaroli, Grietje Zeeman, Gustavo Henrique Ribeiro da Silva, Luiz Antonio Daniel; Black water treatment by an upflow anaerobic sludge blanket (UASB) reactor: a pilot study. Water Sci Technol 15 October 2019; 80 (8): 1505–1511. doi: https://doi.org/10.2166/wst.2019.402\n",
        "\n",
        "Saravanan, V., & Sreekrishnan, T. R. (2006). Modelling anaerobic biofilm reactors—A review. Journal of Environmental Management, 81(1), 1–18. https://doi.org/10.1016/j.jenvman.2005.10.002\n",
        "\n",
        "Shoener, B. D., Bradley, I. M., Cusick, R. D., & Guest, J. S. (2014). Energy positive domestic wastewater treatment: The roles of anaerobic and phototrophic technologies. Environmental Science: Processes & Impacts, 16(6), 1204–1222. https://doi.org/10.1039/C3EM00711A\n",
        "\n",
        "Slompo, N. D. M., Quartaroli, L., Zeeman, G., da Silva, G. H. R., & Daniel, L. A. (2019). Black water treatment by an upflow anaerobic sludge blanket (UASB) reactor: A pilot study. Water Science and Technology, 80(8), 1505–1511. https://doi.org/10.2166/wst.2019.402\n",
        "\n",
        "Trujillo, D., Pérez, J., & Cebreros, F. (1993). Energy recovery from wastes. anaerobic digestion of tomato plant mixed with rabbit wastes. Bioresource Technology, 45(2), 81-83. doi:10.1016/0960-8524(93)90093-q\n",
        "\n",
        "WWAP (United Nations World Water Assessment Programme). 2017. The United Nations World Water Development Report 2017: Wastewater, The Untapped Resource. Paris, UNESCO.\n",
        "Yadvika, Santosh, Sreekrishnan, T., Kohli, S., & Rana, V. (2004). Enhancement of biogas production from solid substrates using different techniques––a review. Bioresource Technology, 95(1), 1-10. doi:10.1016/j.biortech.2004.02.010\n",
        "Zarka, E., Damietta, Gamalia, E., Dakahlia, E., Mubarak, E., & Alexandria. (2014). Correlation between Biochemical Oxygen Demand and Chemical Oxygen Demand for Various Wastewater Treatment Plants in Egypt to Obtain the Biodegradability Indices. https://pdfs.semanticscholar.org/2629/9e0f5b734f1b1b14de684c79caa4d91f081b.pdf \n",
        "\n"
      ]
    }
  ]
}