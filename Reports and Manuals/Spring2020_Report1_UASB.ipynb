{
  "nbformat": 4,
  "nbformat_minor": 0,
  "metadata": {
    "colab": {
      "name": "Spring2020_Report1_UASB.ipynb",
      "provenance": [],
      "collapsed_sections": [],
      "include_colab_link": true
    },
    "kernelspec": {
      "name": "python3",
      "display_name": "Python 3"
    }
  },
  "cells": [
    {
      "cell_type": "markdown",
      "metadata": {
        "id": "view-in-github",
        "colab_type": "text"
      },
      "source": [
        "<a href=\"https://colab.research.google.com/github/AguaClara/UASB/blob/master/Reports%20and%20Manuals/Spring2020_Report1_UASB.ipynb\" target=\"_parent\"><img src=\"https://colab.research.google.com/assets/colab-badge.svg\" alt=\"Open In Colab\"/></a>"
      ]
    },
    {
      "cell_type": "markdown",
      "metadata": {
        "id": "TiFiywtFA-hE"
      },
      "source": [
        "# Upflow Anaerobic Sludge Blanket Reactor (UASB), Spring 2020\n",
        "### Emily Liu, Emily Wood, Lydia LaGorga, Katrina Chen, Winnie Chan\n",
        "### 6 March 2020"
      ]
    },
    {
      "cell_type": "markdown",
      "metadata": {
        "id": "6i1bJiSz-lmE"
      },
      "source": [
        "## Abstract\n",
        "\n",
        "The Upflow Anaerobic Sludge Blanket (UASB) team has been designing, fabricating, and testing a gravity-powered wastewater treatment system for communities seeking an alternative to releasing waste directly into streams and rivers. A reactor with pulsed flow was installed at the Ithaca Area Wastewater Treatment Facility (IAWWTF) in Fall 2019, and sludge granules were added to initiate organic decomposition. The Spring 2020 subteam began monitoring pH, biogas accumulation, and sludge blanket height on a regular basis, and implemented a system to control reactor temperature. When the reactor completes its startup phase, the subteam will begin monitoring its performance with Biological Oxygen Demand (BOD) and Chemical Oxygen Demand (COD) tests."
      ]
    },
    {
      "cell_type": "markdown",
      "metadata": {
        "id": "1Cza-gPC-jsa"
      },
      "source": [
        "## Introduction\n",
        "Many communities in the world do not have proper wastewater treatment. Unfortunately untreated wastewater leads to serious ramifications on both the environment and human health. Some of these consequences include pathogens impacting drinking water sources downstream from the wastewater effluent and eutrophication. Eutrophication occurs as a result of decaying organic matter and nutrients such as phosphorus and nitrogen in wastewater which increases algae production within water bodies. After the algae die, oxygen-consuming bacteria break down the algae and produce anoxic conditions which makes it difficult to support aquaculture and damages the surrounding ecosystem. In addition, traditional wastewater treatment in the US typically requires large areas, a long start-up time, and is expensive to build, operate, and maintain. \\\n",
        "While AguaClara has continuously worked on its mission of providing safe drinking water to communities lacking potable water since 2004, the team expanded its mission to include sustainable wastewater treatment in 2013 in collaboration with Professor Ruth Richardson focusing on UASBs. In order to address the need for wastewater treatment in smaller, rural communities, the AguaClara UASB team has been working on constructing a gravity-powered, pulsated UASB reactor to treat the wastewater produced by a small family. Not only will the reactor not require electricity, but it will also ideally provide biogas that can be collected and used to power stoves. The focus of this semester is to improve the reactor’s efficiency in decreasing BOD and collecting biogas. \\\n",
        "Although the UASB team is in the beginning stages of the research process, successful application is a major focus. Some key considerations are real life variability in UASB flow rates, and organic loading rates, as well as the importance that fluctuating temperature will play in treatment success.  \n"
      ]
    },
    {
      "cell_type": "markdown",
      "metadata": {
        "id": "6vj-KrR0-p0Q"
      },
      "source": [
        "## Literature Review\n",
        "A list of recommended literature review for future teams can be found on the github [here](https://github.com/AguaClara/UASB/tree/master/Literature%20Review). \n",
        "\n",
        "### Upflow Anaerobic Sludge Blanket Reactor\n",
        "   \n",
        "Current wastewater systems in the US have incredibly high costs and operate at a scale too large for developing countries.  Similar to AguaClara water purification, smaller, modular designs are needed to fit the economic and logistical needs of these developing countries. \n",
        "\n",
        "Conventional wastewater treatment in the United States is a multistep process that is energy-consuming, lengthy and costly (Kassab et al., 2010). In the US, wastewater treatment includes preliminary, primary, secondary and tertiary treatment, and disinfection. Preliminary treatment removes garbage and other large solids, typically through coarse screening. Primary treatment is a physical step of the treatment that removes settleable organic and inorganic solids by sedimentation. Secondary treatment removes residual organics and suspended solids (Ma et al., 2015). Tertiary treatment removes nitrogen and phosphorus, heavy metals, dissolved solids, and suspended solids. Disinfection by chlorine is the last step of the process. Overall, conventional wastewater treatment systems have long retention times, require large land areas, and have a high fixed cost per capita (Chong et al,. 2012). These high fixed costs make conventional wastewater treatment systems inaccessible for small communities. \n",
        "\n",
        "For developing countries, biological treatment processes are more common, since they require lower capital investments and operational costs without chemical or energy input (Mittal et. al, 2011).  Upflow Anaerobic Sludge Blanket (UASB) reactors are a well established technology for wastewater use in the global south. Traditional UASB  reactors are used as a preliminary wastewater treatment process to remove suspended solid organic matter in wastewater (Chong et. al, 2012). UASB reactors rely mainly on gravity and biological processes to remove organic matter and convert it to biogas, instead of using fuel or electricity. They are anaerobic reactors which do not require energy-intensive or expensive aeration. Organic pollutants are converted into biogas, primarily composed of methane (CH4) and carbon dioxide (CO2) and may also contain hydrogen sulfide (H2S) (Abbasi & Abbasi, 2012). Biogas can be collected and used for fuel, or burned to reduce greenhouse gases emissions. Biogas as fuel is promising in areas that do not have access to electricity (Chong et al., 2012).\n",
        "\n",
        "<center>\n",
        " <p style=\"text-align: center;\">\n",
        "<img src=\"https://github.com/AguaClara/UASB/blob/master/Images/Conventional_UASB.PNG?raw=true\" height = 500 />\n",
        "  </p>\n",
        "\n",
        "**Figure 1:** This diagram shows a conventional Upflow Anaerobic Sludge Blanket Reactor\n",
        "\n",
        "</center>\n",
        "\n",
        "A UASB reactor is a single tank in which wastewater enters and flows upwards through a suspended sludge blanket made up of anaerobic microorganisms, as shown in Figure 1. This blanket filters and cleans wastewater by removing organic contaminants and pathogens. UASB reactors are more feasible for small communities since they are less energy intensive, highly efficient in treating high COD loads, and form biogas. This biogas includes methane as a byproduct which can be captured and used for heating or energy production if electricity is unavailable. \n",
        "\n",
        "UASBs utilize mixed cultures of anaerobic microorganisms to biologically process and remove organic matter (OM), chemical oxygen demand (COD), biological oxygen demand (BOD), and suspended solids (SS). They are designed to operate at short hydraulic retention times (HRT) and long solids retention time (SRT) to increase loading capacity and improve sludge stabilization. Due to the dispersion of influent to maximize sludge contact as shown in Figure 1, UASBs can achieve optimal levels of primary treatment quite quickly compared to other anaerobic treatment processes. In alternative processes such as anaerobic filters, anaerobic baffled reactors, and septic tanks, water passes over an exposed surface of sludge and organic matter is treated as it diffuses through (Chong et. al, 2012).\\\n",
        "While UASBs are able to provide treatment quickly, like other anaerobic treatment methods, post-treatment is often required through trickling filters or secondary clarifiers to achieve ideal reduction in BOD, COD, and nutrients (Abbasi et. al, 2012). A more detailed description of post-treatment options is summarized [here](https://github.com/AguaClara/UASB/blob/master/Literature%20Review/LitReview_12.2019.pdf) on the UASB Github page and focuses on the review by Chong et al. (2012) and complementing research papers. This summary gives a description of seven different post-treatment options and lists the advantages and disadvantages of each one.\n",
        "\n",
        "### Anaerobic Digestion\n",
        "\n",
        "There are multiple biological processes that occur during anaerobic digestion in a UASB. A few key processes are hydrolysis, acidogenesis, acetogenesis, and methanogenesis.\n",
        "\n",
        "<center>\n",
        " <p style=\"text-align: center;\">\n",
        "<img src=\"https://static-01.hindawi.com/articles/bmri/volume-2014/841573/figures/841573.fig.002.jpg\" height = 500 />\n",
        "  </p>\n",
        "\n",
        "**Figure 2:** A Diagram of Biological Processes Occurring During Anaerobic Digestion (Abdelgadir, A., et. al, 2014)\n",
        "\n",
        "</center>\n",
        "\n",
        "#### Hydrolysis\n",
        "The first step to anaerobic digestion is hydrolysis. This process is driven by hydrolytic enzymes that are secreted by microbes (Abdelgadir, A., et. al, 2014). These enzymes break down complex organic compounds into simpler compounds such as monomers. For example, polysaccharides such as cellulose will hydrolyze to sugars. \\\n",
        "$$Lipids \\rightarrow Fatty Acids$$\n",
        "$$Polysaccharides \\rightarrow Monosaccharides$$\n",
        "$$Protein \\rightarrow Amino Acids$$\n",
        "$$C_{24}H_{40}O_{20}:H_2O+3H_2O \\rightarrow 4C_6H_{12}O_6$$ \n",
        "\n",
        "\n",
        "#### Acidogenesis\n",
        "\n",
        "During acidogenesis, which is also known as fermentation, acidogenic bacteria transform the simpler compounds into carbon dioxide, hydrogen, ammonia, and organic acids. While most of the products from acidogenesis are substrates available for methanogenic microbes, approximately 30% of the products are short chain fatty acids or alcohols (K. M. Kangle, et. al 2012). Thus, acetogenesis is needed to break down the short chain fatty acids and alcohols.\n",
        "$$C_6H_{12}O_6\\rightarrow2CH_3CH_2OH+2CO_2$$\n",
        "$$C_6H_{12}O_6+2H_2\\rightarrow 2CH_3CH_2COOH+2H_2O$$\n",
        "$$C_6H_{12}O_6+2H_2O \\rightarrow 2CH_3COOH+2CO_2+4H_2$$\n",
        "\n",
        "#### Acetogenesis\n",
        "These short chain fatty acids and alcohols are next converted into carbon dioxide, acetic acid, and hydrogen by acetogenic bacteria. \n",
        "$$CH_3CH_2COO^-+3H_2O \\rightarrow CH_3COO^-+H^++HCO_3^-+3H_2$$\n",
        "$$C_6H_{12}O_6+2H_2O \\rightarrow 2CH_3COOH+2CO_2+4H_2$$\n",
        "$$CH_3CH_2OH+2H_2O \\rightarrow CH_3COO^-+2H_2+H^+$$\n",
        "#### Methanogenesis\n",
        "Finally, carbon dioxide, acetic acid, and hydrogen are transformed by methanogens into methane and carbon dioxide. Methanogens can be divided into two groups: acetate and H2/CO2 consumers. \n",
        "$$CH_3COOH \\rightarrow CH_4+CO_2$$\n",
        "$$CO_2+4H_2 \\rightarrow CH_4+2H_2O$$\n"
      ]
    },
    {
      "cell_type": "markdown",
      "metadata": {
        "id": "k-kNuj4X-pe7"
      },
      "source": [
        "## Previous Work\n",
        " \n",
        "*Note:* A more in-depth summary of the team's previous work can be found on the [UASB github repository](https://github.com/AguaClara/UASB/blob/master/Literature%20Review/UASB_Previous_Work.ipynb)\n",
        " \n",
        "Since the Spring of 2017, the subteam began designing a pilot-plant scale UASB reactor, to be tested at the Ithaca Area Wastewater Treatment Facility (IAWWTF) with real wastewater. During preliminary research,the subteam learned that plate settlers are not a necessary component of the design, and that a smaller settling apparatus, such as a slope exit weir, could achieve similar sludge retention time (SRT) to that of the bulkier plate settlers. It was also determined that a check valve would be useful to allow for continuous collection into a gas tank without the loss of biogas. Python calculations were written in Jupyter notebook (available on GitHub)to estimate biogas production based on COD input. \n",
        " \n",
        "  During the fall of 2018, the team tested a benchtop UASB model in the lab. Because actual sludge granules were not readily available, the team used tapioca to model the sludge blanket. Tapioca has similar material properties as sludge, inexpensive and readily available made it a suitable alternate material. Red dye was added to the water to identify preferential paths in the UASB reactor. The result of the testing shows that the layer of tapioca did not lift entirely off the bottom of the reactor, but instead it stretched as influent “wastewater” traveled through it. The red dye in the influent revealed the formation of preferential pathways through the tapioca layer.\n",
        " \n",
        "Over subsequent semesters, the subteam completed the design for the pilot-scale UASB reactor. Important components of the reactor design included a tipping bucket system to deliver wastewater in pulses. After extensive research, the team chose top influent flow - where wastewater flows down the inlet pipe until it reaches the bottom of the tank - in order to prevent clogs. The team decided on a gas bag system to store biogas and also wrote code to determine the required volume and dimensions for the lid of the biogas system. A removal system for fats, oils, and greases (FOG), as well as sludge was developed. Code was written to calculate the optimal size of the pilot UASB reactor's tube settler, the number of plates required, and the overall height of the settling arm. Finally, the team made a python class to represent the hydraulics of the UASB reactor and made an [onShape ](https://cad.onshape.com/documents/53ab6bf4dad0f6e53a3d53e2/w/d059456663ed700ebb9a2f16/e/29660576307cd46c4ec811dc) model of the reactor.\n",
        " \n",
        "During the Summer of 2019, the team completed the fabrication of the first pilot pulsated UASB and brought it to the IAWWTF for installation. The team inoculated the seed, which contained 1/2 Activated Sludge from IAWWTF and 1/2 Ruth's brewery sludge, for the first reactor. The team also learned how to test for Biological Oxygen Demand (BOD), Chemical Oxygen Demand (COD), Total Phophorus, and fecal coliforms (Bacti). A second fabricated reactor was transported to IAWWTF and ports were drilled along the side for future sampling of the sludge blanket height.  The effluent connections to the drain line on both reactors were modified to allow for easier effluent sampling. The CAD model was updated as the team modified the reactor. \n"
      ]
    },
    {
      "cell_type": "markdown",
      "metadata": {
        "id": "82DYJ-YW-ply"
      },
      "source": [
        "## Methods\n",
        "\n"
      ]
    },
    {
      "cell_type": "markdown",
      "metadata": {
        "id": "rKKzrAXm-p3n"
      },
      "source": [
        "### Experimental Apparatus"
      ]
    },
    {
      "cell_type": "markdown",
      "metadata": {
        "id": "35-dXMX1AwHY"
      },
      "source": [
        "AguaClara’s UASB reactor is primarily powered by gravity. Currently, in the experimental setting, a peristaltic pump brings wastewater from the Ithaca Area Wastewater Treatment Facility (IAWWTF) influent to the tipping bucket system of the reactor. \n",
        "\n",
        "<center>\n",
        " <p style=\"text-align: center;\">\n",
        "<img src=\"https://github.com/AguaClara/UASB/blob/master/Images/Top%20View%20Tipping%20Bucket%20Apparatus%20AguaClara%20UASB.png?raw=true\" height = 300 />\n",
        "  </p>\n",
        "\n",
        "**Figure 3 :** Top view of AguaClara’s UASB Reactor\n",
        "</center>\n",
        "\n",
        "Wastewater is pumped into a bucket at the top of the UASB. Every fifteen minutes, this bucket fills to its tipping point, and dumps into the pulse pipe, giving a sweep of wastewater to the UASB. The flow rate of the peristaltic pump affects the timing of the bucket tip, which in turn affects the hydraulic retention time within the reactor. After the start-up period of this UASB, these factors can be altered to observe changes that occur in effluent quality. The bucket dump then enters the interior of the reactor with an elbow pipe, which insures that the wastewater touches the bottom of the reactor before flowing upward through the sludge blanket. This design aspect is important to the function of the UASB because it reduces preferential flow. The water is forced back up in many different directions, rather than in one path with each dump. Preferential flow is harmful to UASB function because it increases the difficulty of microorganism growth within the sludge. The microorganisms consume the organics in the wastewater as flows move up through the sludge blanket. The water level in the reactor rises to the effluent pipe, where it then flows out of the reactor. The effluent line has two pipes: one facilitates sampling and the other brings the UASB treated waste back to the IAWWTF influent for formal treatment.\n",
        "\n",
        "\n",
        "<center>\n",
        " <p style=\"text-align: center;\">\n",
        "<img src=\"https://github.com/AguaClara/UASB/blob/master/Images/Wastewater%20Flow%20Through%20AguaClara%20UASB.png?raw=true\" height = 500 />\n",
        "  </p>\n",
        "\n",
        "**Figure 4:** The red arrows follow the path of wastewater flow through the UASB reactor.\n",
        "</center>\n",
        "\n",
        "The anaerobic consumption of organic material produces gas in the reactor. This gas flows through the top of the UASB into a biogas tube, which is collected in a gas tight bag. \n",
        "\n",
        "The upper most weir on the reactor is known as the FOG weir. It allows operators to skim off the top layer of fats, oils, and grease, should they accumulate. Below is the sludge weir, which allows for height control of the sludge blanket.\n",
        "\n",
        "#### Adding Heat Tape\n",
        "\n",
        "There has been a large focus on warming up the reactor because of the prediction that because the reactor is too cold, there is little microbial activity. Additionally, a goal is to mimic Honduras’s tropical environment. Heat tape was purchased to wrap around the reactor to heat up the sludge and wastewater. The heat tape purchased reaches a constant 49˚C. To monitor the heating, a relay box, ProCoDA box, and temperature probe was used. The temperature probe indicates how hot/cold the reactor is. When the reactor gets below a certain temperature (21˚C), the ProCoDA box signal the heat tape to turn on through the relay box. Similarly, when the reactor reaches a certain temperature (25˚C), ProCoDA will turn off the heat tape through the relay box. \n",
        "\n",
        "#### Considering the Need for Insulation\n",
        "\n",
        "With the addition of heat tape, the need or lack thereof of insulation must be considered. To determine if insulation is needed, the amount of power needed to heat the water from a lower temperature to the desired temperature is calculated as follows:\n",
        "\n",
        "**Equation 1**\n",
        "\n",
        "$$ Q_w = m C_{P} \\Delta T $$\n",
        "\n",
        "where\n",
        "\n",
        "$ Q_w = power\\ needed\\ to\\ heat\\ water $\n",
        "\n",
        "$ m = mass\\ flow\\ rate\\ of\\ water = \\rho q $\n",
        "\n",
        "$ \\rho = density\\ of\\ water\\ at\\ starting\\ temperature $\n",
        "\n",
        "$ q = volumetric\\ flow\\ rate\\ of\\ water $\n",
        "\n",
        "$ \\Delta T = T_f - T_i = desired\\ temperature\\ - starting\\ tamperature\\ $\n",
        "\n",
        "**Equation 2**\n",
        "\n",
        "$$ Q_h = 2 \\pi k N \\frac{T_p-T_i}{\\ln{ \\frac{R_i}{R_p} }} $$\n",
        "\n",
        "where\n",
        "\n",
        "$ Q_h = power\\ the\\ heat\\ tape\\ provides\\ through\\ the\\ PVC\\ reactor $\n",
        "\n",
        "$ k = thermal\\ conductivity\\ of\\ the\\ PVC $\n",
        "\n",
        "$ N = length\\ of\\ the\\ reactor\\ that\\ the\\ tape\\ covers $\n",
        "\n",
        "$ T_p = temperature\\ of\\ the\\ water\\ inside\\ the\\ reactor $\n",
        "\n",
        "$ T_i = temperature\\ of\\ the\\ heat\\ tape $\n",
        "\n",
        "$ R_p = inner\\ radius\\ of\\ the\\ reactor $\n",
        "\n",
        "$ R_i = outer\\ radius\\ of\\ the\\ reactor $\n"
      ]
    },
    {
      "cell_type": "markdown",
      "metadata": {
        "id": "e9ZDsggX-p6x"
      },
      "source": [
        "### Experimental Procedure\n",
        "\n",
        "#### Initiating a 24 hr 'No Flow' Period\n",
        "\n",
        "With minimal biogas collection since the installation of the first UASB recator in Fall 2019, Professor Richardson advised a 24 hour no flow period to potentially help the microbial communities ferment. The influent to the reactor was turned off around 10 AM on February 19th, 2020 and turned back on around 2 pm the next day, for a total of 27 hours without an input of wastewater. The reading of the wet test meter was compared before and after this time period.\n"
      ]
    },
    {
      "cell_type": "markdown",
      "metadata": {
        "id": "6Nw8sAFx-pp4"
      },
      "source": [
        "## Results"
      ]
    },
    {
      "cell_type": "markdown",
      "metadata": {
        "id": "bNzidkG2Nyk7"
      },
      "source": [
        "\n",
        "**Table 1:** Data Collection for UASB Reactor\n",
        "\n",
        "|Date (m/d/y)|pH|Sludge Blanket Height (cm)|Wet Test Meter (L)|Peristaltic Pump Rate (mL/s)|Room Temperature (˚C)|\n",
        "|:---:|:---:|:---:|:---:|:---:|:---:|\n",
        "| 2/13/20 | X | 86-89 before dump, 95 after dump) | 1810.2 | 3.48 (3.175 before fixing) | X |\n",
        "| 2/19/20 | 7/8 | 89 before dump | 1810.5 | X | X |\n",
        "| 2/20/20 | 8 | 93-94 after dump | 1810.1 | X | 12.1 |\n",
        "| 2/27/20 | X | 80 before dump | 1816.15 | X | 12.4 (min:11.4, max:17.1) |\n",
        "| 2/18/20 | 8 | 81 before dump, 86-87 after dump | X | X | X |\n",
        "| 3/3/20 | X | 80-81 before dump | 1961.8 | X | 13.7 |\n",
        "| 3/5/20 | X | 84 before dump, 89-90 after dump | 2080.51 | X | 13.2 (min: 14.5, max: 11.2) |"
      ]
    },
    {
      "cell_type": "markdown",
      "metadata": {
        "id": "_n0v96cXB6V4"
      },
      "source": [
        "#### Initiating a 24 hr 'No Flow' Period\n",
        "\n",
        "After turning the peristaltic pump back on, the first pulse of wastewater in the reactor caused large gas bubbles to rise to the top of the reactor for almost a minute (Figure 5).\n",
        "\n",
        "<center>\n",
        " <p style=\"text-align: center;\">\n",
        "<img src=\"https://github.com/AguaClara/UASB/blob/master/bubbles%20in%20sludge%20blanket%20gif.GIF?raw=true\" height = 300 />\n",
        "  </p>\n",
        " \n",
        "**Figure 5:** This gif shows large bubbles rising through the UASB reactor after the first addition of wastewater in 27 hrs. \n",
        " \n",
        "</center>\n",
        "\n",
        "This release of bubbles suggested that methanogens were successfully breaking down organic waste, but at a very slow rate. Even though gas bubbles were released, the wet test meter did not show a significant change in gas volume. Wet test meter readings from 2/19/20 and 2/20/20 (Table 1) show that only 0.05 L of gas entered the collection bag during this experimentation period. It is possible that the gas bubbles exited the reactor at an unanticipated location, and were therefore not registered by the wet test meter. Alternatively, the lack of biogas could be caused by the reactor being in its start-up phase. \n",
        "\n",
        "\n"
      ]
    },
    {
      "cell_type": "markdown",
      "metadata": {
        "id": "BHXUXdgKAPvV"
      },
      "source": [
        "### pH Readings\n",
        "\n",
        "Methanogenesis is strongly affected by pH and if the pH in the reactor drops too low, it could cause acidification and process failure. pH also affects microbial growth. Because maintaining a relatively neutral pH is critical for anaerobic digesters, pH was a new parameter that was measured this semester. The pH inside the reactor has been pretty consistent this past month, remaining around 8.0. To test the pH of the reactor, litmus paper was used, since only a general reading was needed. A neutral pH indicates that there is no buildup of organic acids in the reactor. \n",
        "\n",
        "<center>\n",
        " <p style=\"text-align: center;\">\n",
        "<img src=\"https://github.com/AguaClara/UASB/blob/master/Images/2_20.HEIC?raw=true\" height = 200 />\n",
        "  </p>\n",
        "\n",
        "**Figure 6:** Litmus paper for testing pH\n",
        "</center>\n",
        "\n",
        "### Sludge Blanket Height\n",
        "\n",
        "In December 2019, the sludge blanket reached a height of 60 cm measured from the bottom of the reactor. In February 2020, the settled height of the blanket grew to 86-89 cm. The sludge was not perfectly flat leading to a range of height values. The sludge blanket height was reduced on February 19, when a gallon was removed for research by another student. Additionally, the height of the sludge blanket was observed to expand around 5 cm during a pulse of influent wastewater. It is unclear how much of the sludge blanket consisted of sludge granules and how much consisted of particles from the influent wastewater.   \n",
        "\n",
        "### Wet Test Meter\n",
        "\n",
        "The wet test meter was reattached to the reactor and gas bag this semester to help track the amount of gas that is being produced. The readings have remained around 1810 L. There was not much change and there was visibly little to no gas being collected in the gas bag. \n",
        "\n",
        "<center>\n",
        " <p style=\"text-align: center;\">\n",
        "<img src=\"https://github.com/AguaClara/UASB/blob/master/Images/2_27.HEIC?raw=true\" height = 300 />\n",
        "  </p>\n",
        "\n",
        "**Figure 7:** West Test Meter at IAWWTF\n",
        "</center> \n",
        "\n",
        "### Room Temperature\n",
        "\n",
        "Temperature is another important parameter that was measured regularly this semester, as microbial activity thrives in warmer temperatures. While in the process of setting up the heat tape and temperature probe, the ambient temperature of the room was recorded to gauge how cold the reactor may get. The minimum temperature measured was 11.4˚C, the maximum was 17.1˚C, and the temperature when the team visits at 1:40 pm was usually around 12˚C. \n",
        "\n",
        "### Peristaltic Pump Complications\n",
        "\n",
        "Since peristaltic pump tubing becomes deformed through continuous use, the subteam decided to check that the desired flow rate of wastewater was being delivered to the reactor. A flow rate of 3.47 mL/s is required to insure a retention time of 8 hours inside the UASB reactor. It had been previously determined that the required flow rate was achieved by setting the pump to 50.0 rpm. The UASB Pilot Plant team tested the effective flow rate by pumping wastewater into a graduated cylinder for one minute intervals, and measuring the amount of water that accumulated. This method showed that the actual flow being delivered to the reactor was 3.175 mL/s, slightly under the desired rate. The team noted that the tubing in the peristaltic pump had been crushed so it was shifted so fresh tubing would be in the pump. The flow rate was then retested via the same method, and was determined to be 3.48 mL/s which was deemed sufficient to achieve the necessary retention time in the reactor. \n",
        "\n",
        "A week after the 24 hr no-flow experiment described above, the team returned to the reactor on February 28th, to find that the pump was not delivering flow, and the fresh tubing inside the peristaltic pump had been crushed in the span of a week.  The pilot plant team observed that the pump was pulling air through the tubing, instead of wastewater, indicating a blockage in the pipes leading to the peristaltic pump. The tubing system was flushed out to find baby wipes restricting flow! The wipes were discarded, and the peristaltic pump and tubing began working properly again. However, potential clogging is still something the UASB team will be keeping a close eye on this semester.\n",
        "\n",
        "### Heat Tape and Insulation \n",
        "\n",
        "*Note:* A detailed Google Colab of all heat tape and insulation calculations can be found [here](https://colab.research.google.com/drive/122u1MFX2-2xp0bY8t5X_NwWHgd6c35c4)\n",
        "\n",
        "Using the starting temperature of 11.4˚C, the power needed to heat the water to 25˚C at startup is 0.7207 Watts. The power that the heat tape can provide through the insulation of the PVC reactor is 432.1 Watts, which is more than enough to heat the water at startup of the heat tape.\n",
        "\n",
        "As the heat tape feedback loop starts cycling, the water would need to be heated from 21˚C to 25˚C, which requires 0.2116 Watts. The power that the heat tape would be able to provide via conduction through the insulation of the reactor is 321.7 Watts, which again is more than enough to maintain this feeback loop.\n",
        "\n",
        "To ensure the heating of the water to the desired temperature, it is not necessary to use any form of insulation other than that of the PVC pipe. However, insulation could be considered to reduce electricity costs associated with turning on and off the heating tape frequently.\n"
      ]
    },
    {
      "cell_type": "markdown",
      "metadata": {
        "id": "eN6KMbhf_Fh1"
      },
      "source": [
        "## Conclusions\n",
        "\n",
        "*Not Needed for Report Draft 1*"
      ]
    },
    {
      "cell_type": "markdown",
      "metadata": {
        "id": "cDM7ZnXw-pti"
      },
      "source": [
        "## Future Work\n",
        "\n",
        "*Not Needed for Report Draft 1*"
      ]
    },
    {
      "cell_type": "markdown",
      "metadata": {
        "id": "towEyAkg7Lvh"
      },
      "source": [
        "## Bibliography\n",
        "\n",
        "Abbasi, T., Abbasi, S.A., 2012. Formation and impact of granules in fostering clean energy production and wastewater treatment in upflow anaerobic sludge blanket (UASB) reactors. RENEWABLE & SUSTAINABLE ENERGY REVIEWS 16, 1696–1708. https://doi.org/10.1016/j.rser.2011.11.017\n",
        "\n",
        "Abdalla, K. Z. (2014). Correlation between Biochemical Oxygen Demand and Chemical Oxygen Demand for Various Wastewater Treatment Plants in Egypt to Obtain the Biodegradability Indices. International Journal of Sciences: Basic and Applied Research (IJSBAR), 13(1), 42–48. Retrieved from https://pdfs.semanticscholar.org/2629/9e0f5b734f1b1b14de684c79caa4d91f081b.pdf\n",
        "\n",
        "Abdelgadir, A., Chen, X., Liu, J., Xie, X., Zhang, J., Zhang, K., Wang, H., Liu, N. (2014). Characteristics, Process Parameters, and Inner Components of Anaerobic Bioreactors. BIOMED RESEARCH INTERNATIONAL. https://doi.org/10.1155/2014/841573\n",
        "\n",
        "Cazaudehore, G.; Schraauwers, B.; Peyrelasse, C.; Lagnet, C.; Monlau, F.. (2019). Determination of chemical oxygen demand of agricultural wastes by combining acid hydrolysis and commercial COD kit analysis. Journal of Environmental Management, 250, doi:10.1016/j.jenvman.2019.109464. \n",
        "\n",
        "Chong, S., Sen, T. K., Kayaalp, A., & Ang, H. M. (2012). The performance enhancements of upflow anaerobic sludge blanket (UASB) reactors for domestic sludge treatment – A State-of-the-art review. Water Research, 46(11), 3434–3470. https://doi.org/10.1016/J.WATRES.2012.03.066\n",
        "\n",
        "Escudie, R., Cresson, R., Delgenes, J.-P., Bernet, N. (2011). Control of start-up and operation of anaerobic biofilm reactors: An overview of 15 years of research. WATER RESEARCH 45, 1–10. https://doi.org/10.1016/j.watres.2010.07.081\n",
        "\n",
        "Ghaniyari-Benis, S., Borja, R., Monemian, S.A., Goodarzi, V. (2009). Anaerobic treatment of synthetic medium-strength wastewater using a multistage biofilm reactor. BIORESOURCE TECHNOLOGY 100, 1740–1745. https://doi.org/10.1016/j.biortech.2008.09.046\n",
        "\n",
        "Gu, Juan-Juan; Hu, Hui-Chao; Chai, Xin-Sheng; Tian, Ying-Xin; Barnes, Donald G.; Huang, Shaobin. (2013). A new method for the determination of biological oxygen demand in domestic wastewater by headspace gas chromatography. Journal of Chromatography A, 1308, 32-36. doi:10.1016/j.chroma.2013.07.098. \n",
        "\n",
        "Khan, A.A., Gaur, R.Z., Tyagi, V.K., Khursheed, A., Lew, B., Mehrotra, I., Kazmi, A.A. (2011). Sustainable options of post treatment of UASB effluent treating sewage: A review. RESOURCES CONSERVATION AND RECYCLING 55, 1232–1251. https://doi.org/10.1016/j.resconrec.2011.05.017\n",
        "\n",
        "Latif, M.A., Ghufran, R., Wahid, Z.A., Ahmad, A. (2011). Integrated application of upflow anaerobic sludge blanket reactor for the treatment of wastewaters. WATER RESEARCH 45, 4683–4699. https://doi.org/10.1016/j.watres.2011.05.049\n",
        "\n",
        "Montalvo, S., Guerrero, L., Borja, R., Sanchez, E., Milan, Z., Cortes, I., Angeles de la la Rubia, M. (2012). Application of natural zeolites in anaerobic digestion processes: A review. APPLIED CLAY SCIENCE 58, 125–133. https://doi.org/10.1016/j.clay.2012.01.013\n",
        "\n",
        "Saravanan, V., Sreekrishnan, T.R. (2006). Modelling anaerobic biofilm reactors - A review. JOURNAL OF ENVIRONMENTAL MANAGEMENT 81, 1–18. https://doi.org/10.1016/j.jenvman.2005.10.002\n",
        "\n",
        "Shoener, B.D., Bradley, I.M., Cusick, R.D., Guest, J.S. (2014). Energy positive domestic wastewater treatment: the roles of anaerobic and phototrophic technologies. ENVIRONMENTAL SCIENCE-PROCESSES & IMPACTS 16, 1204–1222. https://doi.org/10.1039/c3em00711a\n",
        "\n",
        "Subramanyam, R. (2013). Physicochemical and Morphological Characteristics of Granular Sludge in Upflow Anaerobic Sludge Blanket Reactors. ENVIRONMENTAL ENGINEERING SCIENCE 30, 201–212. https://doi.org/10.1089/ees.2012.0347\n"
      ]
    },
    {
      "cell_type": "markdown",
      "metadata": {
        "id": "USamdL-q-pxE"
      },
      "source": [
        "## Manual \n",
        "\n",
        "*The Fall 2019 Fabrication Manual can be found [here](https://colab.research.google.com/drive/1zH5OSLZTqCiaCzPmeThUA1cQXdPcWN5o).*"
      ]
    },
    {
      "cell_type": "markdown",
      "metadata": {
        "id": "fO9w7b5YOWZf"
      },
      "source": [
        "### Heat Tape Installation\n",
        "\n",
        "1. Drill a hole near the top of the reactor with a 7/16’’ drill bit.\n",
        "1. Thread the hole with a 1/4’’ tap size and 18 NPT.\n",
        "1. Add a push-to-connect wrapped in teflon tape that fits a temperature probe.\n",
        "1. Connect the temperature probe to the ProCoDa box as a sensor through a relay box. \n",
        "1. Wrap the heat tape around the reactor where the sludge blanket is.\n",
        "1. Plug in the heat tape into a relay box that has an outlet. \n",
        "1. Plug the relay box to a power source and connect it to ProCoDa in the back as a device.  \n",
        "1. Download the [ProCoDa Method File](https://github.com/AguaClara/UASB/blob/4d39d33a2ab27c3fd9984d0b5361d338df77eb07/HeatTapeMethodUASB.pcm?raw=true) to turn the heat tape on and off as the temperature of water in the reactor changes. \n"
      ]
    }
  ]
}