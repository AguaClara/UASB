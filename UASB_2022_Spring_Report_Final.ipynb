{
  "nbformat": 4,
  "nbformat_minor": 0,
  "metadata": {
    "colab": {
      "name": "UASB 2022 Spring Report Final",
      "provenance": [],
      "collapsed_sections": [],
      "include_colab_link": true
    },
    "kernelspec": {
      "name": "python3",
      "display_name": "Python 3"
    }
  },
  "cells": [
    {
      "cell_type": "markdown",
      "metadata": {
        "id": "view-in-github",
        "colab_type": "text"
      },
      "source": [
        "<a href=\"https://colab.research.google.com/github/AguaClara/UASB/blob/master/UASB_2022_Spring_Report_Final.ipynb\" target=\"_parent\"><img src=\"https://colab.research.google.com/assets/colab-badge.svg\" alt=\"Open In Colab\"/></a>"
      ]
    },
    {
      "cell_type": "markdown",
      "metadata": {
        "id": "TLAmaRBfCmiy"
      },
      "source": [
        "# Upflow Anaerobic Sludge Blanket, Spring 2022\n",
        "#### Erica Ruan, Badyn Milstein Touesnard, Lindsey Conboy, Yuhjin Chung\n",
        "#### 03/25/22"
      ]
    },
    {
      "cell_type": "markdown",
      "metadata": {
        "id": "BfeU4k7OCphn"
      },
      "source": [
        "## Abstract\n",
        "The Upflow Anaerobic Sludge Blanket (UASB) team has been furthering the design and testing of a gravity-powered wastewater treatment system that can transform waste into energy. This semester, the team is continuing testing of the gas collection system of the UASB. The membrane reactor, which acts as a polishing step for the system, has been running in the lab and the team has been testing the reactor’s gas content and effluent, as well as the influent and effluent of the UASB. The team has expanded upon the data for several lab tests which will guide future improvements to the UASB."
      ]
    },
    {
      "cell_type": "markdown",
      "metadata": {
        "id": "EqtwU-gRCrj9"
      },
      "source": [
        "## Introduction\n",
        "### Research Overview and Goals\n",
        "The fight for safe access to clean drinking water is continuous and requires critical thinking from a variety of perspectives. Untreated wastewater is a human health risk that contributes to water-borne diseases such as typhoid fever, cholera, and dysentery. The United Nations World Water Assessment Programme (2017) estimates that over 80% of the world’s wastewater is released into the environment without treatment, putting both ecosystems and human health at risk.\n",
        "\n",
        "There is a need for new, simple treatment systems that can be implemented in areas where wastewater currently goes untreated. Not all treatment systems are created equally, so designing a variety of adaptable systems is crucial to best meet the needs of specific communities. Conventional wastewater treatment methods used in the United States are not suitable for many small rural communities as they are expensive, energy intensive, and use mechanical parts that require a reliable source of electricity. The objective of the UASB team’s research is to develop a small-scale, decentralized wastewater treatment system that will be affordable and accessible to rural communities. Upflow Anaerobic Sludge Blanket (UASB) technology can remove organic matter from wastewater and be designed to operate without electricity. The unique benefit of UASB technology is that methane gas is a product of treatment. This can be collected (most simply in old car tires) and used as an energy source. After wastewater is treated with a UASB, it goes through a membrane reactor as a finishing step. The effluent from this reactor then needs further treatment.\n",
        "\n",
        "The UASB subteam received two grants (Phase I and Phase II) as part of the EPA People, Prosperity, and the Planet (P3) program to support small-scale testing of a prototype UASB reactor at the Ithaca Area Wastewater Treatment Facility (IAWWTF). Phase I of research focused on developing a complete design for a gravity-powered UASB reactor, including a gas capture system and influent dosing system. Phase II research (the current phase) focuses on four main goals:\n",
        "\n",
        "1. Improving the influent dosing system and floatables removal.\n",
        "\n",
        "2. Characterizing startup and performance of gravity-powered UASB reactors.\n",
        "\n",
        "3. Determining appropriate options for effluent post treatment and biogas utilization.\n",
        "\n",
        "4. Iterating designs and installing and testing a distributed UASB reactor in Honduras.\n",
        "\n",
        "For the Spring 2022 semester, the main goal for the team was to refine the gas collection system of the UASB at IAWWTF and upgrade the size of the Membrane Reactor. There is still no gas being collected when wastewater is being treated with the UASB. The gas system has not been fully refined and the team will continue investigating the issue next semester. This needs to be further addressed before more research is conducted regarding the gas composition. This is an important issue to address because it halts further energy research. The team focused on transferring the membrane reactor to a larger vessel and replacing the tubes with a new system that is more suitable for the wastewater. Research was done to make sure the upscale Carboy can hold gas without leaks. Further general wastewater testing was done including COD, ammonium assay, and turbidity tests during the semester. This will be used to guide fabrication of the UASB system in the future.\n",
        "\n"
      ]
    },
    {
      "cell_type": "markdown",
      "metadata": {
        "id": "AXPcXaaQt5ec"
      },
      "source": [
        "### UASB Experimental Setup"
      ]
    },
    {
      "cell_type": "markdown",
      "metadata": {
        "id": "KgDgVQcGc2g2"
      },
      "source": [
        "####Connection to IAWWTF Wastewater\n",
        "The influent wastewater comes from the IAWWTF’s primary influent (after it has been filtered for large, suspended solids). The connection to the facility’s influent wastewater contains a tee (Figure 1a), splitting the pipe into two directions. Wastewater is pulled through the vertical branch of the pipe (Figure 1b) by a peristaltic pump (Figure 1c), and travels to the UASB reactor through clear, flexible tubing (Figure 1d). The horizontal branch (Figure 1e) of the pipe serves two purposes: first, it provides an access point to push water through the system in the case of clogging. Second, it provides an easy way to divide the flow of wastewater into different directions, allowing multiple UASB reactors to be installed in parallel. To add another UASB reactor to the system, the fernco (Figure 1e, boxed) can be loosened to split the horizontal branch of pipe into two pieces, and an additional tee can be installed in between the fixed end and the capped end (Figure 1f) of the pipe. An additional pumping system for the new UASB reactor can be added by either stacking another pump-head onto the peristaltic pump already present, or adding a new peristaltic pump entirely. \n",
        "\n",
        " \n",
        "<center>\n",
        "<img src=\"https://github.com/AguaClara/UASB/blob/master/Images/20191212_InfluentConnectionLabeled.png?raw=true\" height = 300 />\n",
        "<img src=\"https://github.com/AguaClara/UASB/blob/master/Images/202003_InfluentFlexTubingLabeled.png?raw=true\" height = 300 />\n",
        "<img src=\"https://github.com/AguaClara/UASB/blob/master/Images/202003_InfluentFlexTubingConnectionLabeled.png?raw=true\" height = 250\n",
        " />\n",
        " \n",
        "**Figure 1:** The UASB reactor’s influent connection to wastewater at the Ithaca Area Wastewater Treatment Facility (IAWWTF): a) tee, b) vertical branch, c) peristaltic pump, d) clear flexible tubing, e) horizontal branch, f) capped-end of the horizontal branch, g) peristaltic pump tubing.\n",
        "</center> \n",
        " \n",
        "The peristaltic pump tubing (Figure 1g) tends to wear out over the course of operation, and can fail if it becomes so flattened that wastewater cannot get through or if the tubing splits. The state of the peristaltic pump tubing should therefore be monitored on a regular basis. \n",
        "\n",
        "\n"
      ]
    },
    {
      "cell_type": "markdown",
      "metadata": {
        "id": "pO7eEjTtHqPe"
      },
      "source": [
        "#### UASB Holding Tank and Influent Pipe\n",
        "Wastewater traveling from the peristaltic pump enters the UASB reactor through a holding tank on top of the reactor (Figure 2). For the pulsed flow reactor, water collects in a tipping bucket until it reaches a volume predetermined by the placement of the pivots on the side of the bucket (Figure 3). Once filled, the bucket tips, sending a pulse of wastewater down the pulse pipe approximately every 15 minutes (Figure 4). A clear plastic sheet installed on top of the holding tank prevents wastewater from splashing. \n",
        "\n",
        "\n",
        "\n",
        "<center>\n",
        " <p style=\"text-align: center;\">\n",
        "<img src=\"https://github.com/AguaClara/UASB/blob/master/Images/Wastewater%20Flow%20Through%20AguaClara%20UASB.png?raw=true\" height =300 />\n",
        "  </p>\n",
        "\n",
        "**Figure 2 :** The red arrows demonstrate the direction of flow through the UASB reactor.\n",
        "</center>\n",
        "\n",
        "\n",
        "<center>\n",
        " <p style=\"text-align: center;\">\n",
        "<img src=\"https://github.com/AguaClara/UASB/blob/master/Images/top%20view%20of%20influent%20system%20editt.png?raw=true\" height =300 />\n",
        "  </p>\n",
        "\n",
        "**Figure 3:** A top view of the holding tank showing the tipping bucket for the pulsed-flow UASB reactor\n",
        "</center>\n",
        "\n",
        "\n",
        "<center>\n",
        " <p style=\"text-align: center;\">\n",
        "<img src=\"https://github.com/AguaClara/UASB/blob/master/Images/201907_UASBpulseFlow.gif?raw=true\" height =300 />\n",
        "  </p>\n",
        "\n",
        "**Figure 4:** A pulse of water enters the UASB reactor by traveling down the pulse pipe and the influent pipe. An elbow directs the influent water straight downwards into the reactor. The flow of water reverses when it hits the bottom of the reactor and flows straight upwards through the sludge granules (granules not pictured)\n",
        "</center>\n",
        "\n",
        "\n",
        "When the continuous flow design is fully implemented, the clear-flex tubing connected to the peristaltic pump (Figure 1d) will be fed directly into the influent pipe, rather than a tipping bucket system. The team may also consider removing the holding tank and pulse pipe from the continuous flow design in the future. \n",
        "\n",
        "The purpose of the pulse pipe (Figure 6) is to slow down the incoming wastewater to allow gas bubbles to escape. The pulse pipe is designed so that the head gain (ie. the change in water level) inside the main body of the reactor per dump is equal to the volume of water in one dump of the tipping bucket divided by the cross-sectional area of the pulse pipe. The holding tank also contains a drain valve on the bottom primarily for cleaning purposes (Figure 6 and Figure 2). \n",
        "\n",
        "\n",
        "\n",
        "<center>\n",
        " <p style=\"text-align: center;\">\n",
        "<img src=\"https://github.com/AguaClara/UASB/blob/master/Images/Top%20View%20Tipping%20Bucket%20Apparatus%20AguaClara%20UASB.png?raw=true\" height =300 />\n",
        "  </p>\n",
        "\n",
        "**Figure 6 :** A top view of the AguaClara UASB reactor, showing the pulse pipe, tipping bucket, effluent pipe, emergency drain, and the location of the connection to the biogas collection tubing.  Note that the current tipping bucket design uses a rectangular container and not a round bucket placed in a square frame shown here. \n",
        "</center>\n",
        "\n"
      ]
    },
    {
      "cell_type": "markdown",
      "metadata": {
        "id": "mi3PTC_MHw6H"
      },
      "source": [
        "#### Inside the UASB Reactor\n",
        "A series of elbows directs wastewater from the influent pipe straight downwards into the reactor (Figure 7). The flow of water immediately reverses direction when it hits the bottom of the reactor and flows upwards through the bed of sludge granules (Figure 8). Sludge granules are aggregates of organic matter which contain communities of anaerobic microorganisms embedded inside (Figure 9). These microorganisms consume organic waste in the wastewater as it passes through. \n",
        "\n",
        "\n",
        "<center>\n",
        " <p style=\"text-align: center;\">\n",
        "<img src=\"https://github.com/AguaClara/UASB/blob/master/Images/Influent%20Elbows%20Labeled.png?raw=true\" height =300 />\n",
        "  </p>\n",
        "\n",
        "**Figure 7:** Red arrows demonstrate the flow of water into the main body of the UASB reactor. A series of elbows direct the water from the influent pipe straight downwards into the reactor. The water reverses directions and then flows upwards. \n",
        "</center>\n",
        "\n",
        "\n",
        "<center>\n",
        " <p style=\"text-align: center;\">\n",
        "<img src=\"https://github.com/AguaClara/UASB/blob/master/Images/Sludge%20Blanket%20Labeled.png?raw=true\" height =300 />\n",
        "  </p>\n",
        "\n",
        "**Figure 8:** Sludge granules inside of the UASB reactor. The arrow indicates the direction of water flow. The yellow glow is created by a flashlight shining through the reactor. \n",
        "</center>\n",
        "\n",
        "\n",
        "<center>\n",
        " <p style=\"text-align: center;\">\n",
        "<img src=\"https://github.com/AguaClara/UASB/blob/master/Images/202003_Sludge%20Granules.JPG?raw=true\" height =300 />\n",
        "  </p>\n",
        "\n",
        "**Figure 9:** Sludge granules found in the UASB reactor April 2020\n",
        "</center>"
      ]
    },
    {
      "cell_type": "markdown",
      "metadata": {
        "id": "QX8IjTmVH0lO"
      },
      "source": [
        "####  Effluent Pipe System\n",
        "Clean water exits the UASB reactor through the effluent pipe system near the top of the reactor (Figure 10 and Figure 11). A wye fitting splits the effluent pipe system into two directions: one contains a valve on one end to facilitate effluent sampling (labeled a) and the other brings the UASB treated waste back to the IAWWTF primary settling tank for formal treatment (labeled b). The open-ended vertical pvc pipe (labeled c) protruding from the effluent line serves as a vent and prevents biogas from being sucked into the effluent by maintaining atmospheric pressure inside the reactor.\n",
        "\n",
        "In order to take effluent samples from the reactor, the valve on the waste line (labeled b) must first be closed so that water flows towards the sampling valve (labeled a). Then, after a pulse of water enters the reactor from the tipping bucket, the sampling valve can be opened to collect the effluent wastewater. After taking a sample, both valve handles must be returned to their original positions to avoid the overflow of wastewater out through the vent and onto the floor. \n",
        "\n",
        " \n",
        "<center>\n",
        " <p style=\"text-align: center;\">\n",
        "<img src=\"https://github.com/AguaClara/UASB/blob/master/Images/Effluent%20Tubing%20Labeled.png?raw=true\" height =300 />\n",
        "  </p>\n",
        " \n",
        "**Figure 10:** A CAD drawing of the UASB effluent system: a) sampling line, b) waste line, c) vent\n",
        "</center>\n",
        " \n",
        " \n",
        "<center>\n",
        " <p style=\"text-align: center;\">\n",
        "<img src=\"https://github.com/AguaClara/UASB/blob/master/Images/Effluent%20Wye%20Labeled.png?raw=true\" height =300 />\n",
        "  </p>\n",
        " \n",
        "**Figure 11:** A close-up of the UASB effluent line: a) sampling line with the valve shown in the closed position, b) waste line, with the valve shown in the open position. Note that the tape measure attached to the side of the reactor is used to measure the height of the sludge blanket for the clear-walled UASB reactor.\n",
        "</center>"
      ]
    },
    {
      "cell_type": "markdown",
      "metadata": {
        "id": "IQrTPRsUH5HM"
      },
      "source": [
        "#### Sludge Weir, FOG Weir, & Sampling Ports\n",
        "##### Sludge Weir\n",
        "Periodically, excess sludge granules need to be removed from the reactor. This is accomplished by a weir, which consists of a 2-foot pipe cut at a 45 degree angle at one end (Figure 12 b). When sludge granules build up inside of the reactor to the height of the sludge weir opening, they fall into the weir and can be removed from the reactor by opening a valve (valve not pictured in Figure 12).\n",
        "##### FOG Weir\n",
        "Floatables are wastes such as fats, oils, and grease (FOG) that accumulate on the surface of the water, and are removed from the reactor using a weir (Figure 12 a) in a similar way that excess sludge granules are removed. The 45 degree angle end of the FOG weir sits slightly above the water level to skim FOG from the top of the water. When the valve  on the end of the FOG weir (not pictured) is opened, a mixture of FOG and water is drained from the reactor. \n",
        "##### Sludge Sampling Ports\n",
        "The sludge sampling ports consist of evenly spaced PVC pipe stubs with a ball valve attached on the outer end (Figure 12 c). The purpose of the sludge sampling ports is to be able to take samples of the sludge blanket at different heights along the reactor. This is especially important for determining the height of the sludge blanket for a UASB reactor that uses white PVC for the main reactor body rather than clear PVC. Note that the clear UASB reactor has a measuring tape attached to the side of the reactor for easy measuring of the sludge blanket height (Figure 11)\n",
        "\n",
        "\n",
        "<center>\n",
        " <p style=\"text-align: center;\">\n",
        "<img src=\"https://github.com/AguaClara/UASB/blob/master/Images/CADModel_SludgeAndFogWeirs.PNG?raw=true\" height =300 />\n",
        "  </p>\n",
        "\n",
        "**Figure 12:** a) FOG weir, b) sludge weir, c) sampling ports. Note that the complete effluent tubing system is not shown in this diagram.\n",
        "</center>"
      ]
    },
    {
      "cell_type": "markdown",
      "metadata": {
        "id": "12pIuXyRH-O7"
      },
      "source": [
        "#### Gas Collection Measuring & Storage System\n",
        "\n",
        "Biogas produced by microorganisms in the anaerobic digestion process exits the reactor at the very top through clear flexible tubing. It then travels through a wet test meter which is a measuring device that records the total volume of gas that has passed through it (Figure 13). The wet test meter is used to measure biogas production rates, which are important for quantifying reactor performance. A timelapse camera aimed at the face of the wet test meter collects data remotely over the course of the day by taking pictures at 1-hour intervals (Figure 14). The rate of data collection can be adjusted manually on the camera as needed. Average biogas production rate is calculated for a specific period of time as follows:\n",
        "\n",
        "$$Q_{avg} =\\frac{V_2 - V_1}{\\Delta t}$$\n",
        "Where,\n",
        "\n",
        "$V_2$ = the wet test meter volume reading at the end of the time period\n",
        "\n",
        "$V_1$ = the wet test meter volume reading at the beginning of the time period\n",
        "\n",
        "$\\Delta t$ = the time period\n",
        "\n",
        "For more information on how to read a wet test meter, see the instructions in [this](https://docs.google.com/document/d/1HWJ884loZ8cqnuQFut8nooVC-YEBmlgIgDZ69sgw4No/edit?usp=sharing) document.\n",
        "\n",
        "\n",
        "<center>\n",
        " <p style=\"text-align: center;\">\n",
        "<img src=\"https://github.com/AguaClara/UASB/blob/master/Images/202003_WetTestMeter.JPG?raw=true\" height =300 />\n",
        "  </p>\n",
        "\n",
        "**Figure 13:** The wet test meter displays how much gas passed through it to indicate the amount of biogas produced by the UASB reactor.\n",
        "</center>\n",
        "\n",
        "\n",
        "<center>\n",
        " <p style=\"text-align: center;\">\n",
        "<img src=\"https://github.com/AguaClara/UASB/blob/master/Images/202003_WetTestAndCamera_Setup_Sideview.JPG?raw=true\" height =300 />\n",
        "  </p>\n",
        "\n",
        "**Figure 14:** A time lapse camera (right) takes pictures of the wet test meter (left) at regular intervals, allowing for remote monitoring of biogas production.\n",
        "</center>\n",
        "\n",
        "Biogas flowing through the wet test meter is collected and stored in a 60 L clear plastic bag designed for gas storage (Figure 15). When the gas bag is filled, the gas inside can be flared to convert any methane (a highly potent greenhouse gas) into CO2 (a less potent greenhouse gas) before release. Note that the details of this flaring system have not been developed yet.\n",
        "\n",
        " \n",
        "<center>\n",
        " <p style=\"text-align: center;\">\n",
        "<img src=\"https://github.com/AguaClara/UASB/blob/master/Images/Biogas%20bag.png?raw=true\" height =300 />\n",
        "  </p>\n",
        " \n",
        "**Figure 15:** The gas bag used to collect biogas from the UASB reactor\n",
        "</center>\n",
        "\n",
        "Also note that this setup only applies to a laboratory setting.The end goal is to generate enough biogas from anaerobic digestion that a family could burn it for stovetop cooking. Therefore, instead of a wet test meter and a gas collection bag, biogas generated by a UASB reactor implemented in a small community would travel directly to a storage tank for cooking fuel. \n"
      ]
    },
    {
      "cell_type": "markdown",
      "metadata": {
        "id": "LxDzXrxQICHE"
      },
      "source": [
        "#### Temperature Control System\n",
        "In order to maintain temperatures inside the UASB reactor conducive to biological activity, the bottom half of the reactor is wrapped with heat tape (Figure 16) which turns on and off automatically depending on the temperature of the effluent water. A temperature probe installed through a port near the top of the reactor (Figure 17) measures the temperature of the treated water and transfers this information to a Process Control and Data Acquisition system called ProCoDA. ProCoDA consists of both the hardware and software through which the temperature probe and the heat tape are able to communicate. The heat tape is connected to the ProCoDA hardware through a relay box. \n",
        "\n",
        "<center>\n",
        " <p style=\"text-align: center;\">\n",
        "<img src=\"https://github.com/AguaClara/UASB/blob/master/Images/202003_UASBReactor.JPG?raw=true\" height =300 />\n",
        "  </p>\n",
        "\n",
        "**Figure 16:** Heat tape wrapped around UASB reactor at the IAWWTF\n",
        "</center>\n",
        "\n",
        "\n",
        "<center>\n",
        " <p style=\"text-align: center;\">\n",
        "<img src=\"https://github.com/AguaClara/UASB/blob/master/Images/202003_TempProbeInstallation.JPG?raw=true\" height =300 />\n",
        "  </p>\n",
        "\n",
        "**Figure 17:** Temperature probe inserted near the top of the reactor\n",
        "</center>\n",
        "\n",
        "ProCoDA is a free and open-source software that can be downloaded [here](https://github.com/monroews/LabVIEW/wiki/ProCoDA). The ProCoDA file used to control the temperature of the UASB reactor can be found [Here](https://github.com/AguaClara/UASB/blob/4d39d33a2ab27c3fd9984d0b5361d338df77eb07/HeatTapeMethodUASB.pcm?raw=true). For a brief overview on how to use ProCoDA, visit the [AguaClara github tutorial](https://aguaclara.github.io/aguaclara_tutorial/research/procoda.html) or for a more in-depth description of ProCoDAs functionality and usages, visit this [Environmental Engineering Laboratory Textbook](https://monroews.github.io/EnvEngLabTextbook/ProCoDA/ProCoDA.html) developed at Cornell University. \n",
        "\n",
        "The purchased heat tape reaches a constant temperature of 49˚C at equilibrium. However, the ProCoDA box is currently programmed to turn on the heat tape through the relay box whenever the temperature of the effluent water falls below 21˚C. Similarly, it is turned off when the effluent water reaches 25˚C. These temperature ranges can be adjusted easily through the ProCoDA software as needed to ensure the reactor temperature remains in the desired temperature range"
      ]
    },
    {
      "cell_type": "markdown",
      "metadata": {
        "id": "Vb78_jedzgrX"
      },
      "source": [
        "## Literature Review\n",
        "### Upflow Anaerobic Sludge Blanket Reactor\n",
        "   \n",
        "Current wastewater systems in the US have incredibly high costs and operate at a scale too large for developing countries.  Similar to Aguaclara water purification, smaller, modular designs are needed to fit the economic and logistical needs of these developing countries. \n",
        "\n",
        "Conventional wastewater treatment in the United States is a multistep process that is energy-consuming, lengthy and costly (Kassab et al., 2010). In the US, wastewater treatment includes preliminary, primary, secondary and tertiary treatment, and disinfection. Preliminary treatment removes garbage and other large solids, typically through coarse screening. Primary treatment is a physical step of the treatment that removes settleable organic and inorganic solids by sedimentation. Secondary treatment removes residual organics and suspended solids (Ma et al., 2015). Tertiary treatment removes nitrogen and phosphorus, heavy metals, dissolved solids, and suspended solids. Disinfection by chlorine is the last step of the process. Overall, conventional wastewater treatment systems have long retention times, require large land areas, and have a high fixed cost per capita (Chong et al,. 2012). These high fixed costs make conventional wastewater treatment systems inaccessible for small communities. \n",
        "\n",
        "For developing countries, biological treatment processes are more common, since they require lower capital investments and operational costs without chemical or energy input (Mittal, 2011).  Upflow Anaerobic Sludge Blanket (UASB) reactors are a well established technology for wastewater use in the global south. Traditional UASB  reactors are used as a preliminary wastewater treatment process to remove suspended solid organic matter in wastewater (Chong et. al, 2012). UASB reactors rely mainly on gravity and biological processes to remove organic matter and convert it to biogas, instead of using fuel or electricity. They are anaerobic reactors which do not require energy-intensive or expensive aeration. Organic pollutants are converted into biogas, primarily composed of methane (CH4) and carbon dioxide (CO2) and may also contain hydrogen sulfide (H2S) (Abbasi & Abbasi, 2012). Biogas can be collected and used for fuel, or burned to reduce greenhouse gases emissions. Biogas as fuel is promising in areas that do not have access to electricity (Chong et al., 2012).\n",
        "\n",
        "A UASB reactor is a single tank in which wastewater enters and flows upwards through a sludge blanket made up of anaerobic microorganisms, as shown in Figure 18. This blanket filters and cleans wastewater by removing organic contaminants and pathogens. UASB reactors are more feasible for small communities since they are less energy intensive, highly efficient in treating high COD loads, and form biogas. This biogas includes methane as a byproduct which can be captured and used for heating or energy production if electricity is unavailable. \n",
        "\n",
        "\n",
        "<center>\n",
        " <p style=\"text-align: center;\">\n",
        "<img src=\"https://raw.githubusercontent.com/AguaClara/UASB/master/Images/Conventional_UASB.PNG\" height =300 />\n",
        "  </p>\n",
        "\n",
        "**Figure 18:** This diagram shows a conventional Upflow Anaerobic Sludge Blanket Reactor (Chen, 2017)\n",
        "</center>\n",
        "\n",
        "UASBs utilize mixed cultures of anaerobic microorganisms to biologically process and remove organic matter (OM), chemical oxygen demand (COD), biological oxygen demand (BOD), and suspended solids (SS). They are designed to operate at short hydraulic retention times (HRT) and long solids retention time (SRT) to increase loading capacity and improve sludge stabilization. Due to the dispersion of influent to maximize sludge contact, UASBs can achieve optimal levels of primary treatment quite quickly compared to other anaerobic treatment processes. In alternative processes such as anaerobic filters, anaerobic baffled reactors, and septic tanks, water passes over an exposed surface of sludge and organic matter is treated as it diffuses through (Chong et. al, 2012).\n",
        "\n",
        "While UASBs are able to provide treatment quickly, like other anaerobic treatment methods, post-treatment is often required through trickling filters or secondary clarifiers to achieve ideal reduction in BOD, COD, and nutrients (Abbasi & Abbasi, 2012)."
      ]
    },
    {
      "cell_type": "markdown",
      "metadata": {
        "id": "VBJQTUrWIRUx"
      },
      "source": [
        "### Anaerobic Digestion\n",
        " \n",
        "There are multiple biological processes that occur during anaerobic digestion in a UASB. A few key processes are hydrolysis, acidogenesis, acetogenesis, and methanogenesis(Figure 19).\n",
        " \n",
        " \n",
        "<center>\n",
        " <p style=\"text-align: center;\">\n",
        "<img src=\"https://static-01.hindawi.com/articles/bmri/volume-2014/841573/figures/841573.fig.002.jpg\" height = 500 />\n",
        "  </p>\n",
        " \n",
        "**Figure 19:** A Diagram of Biological Processes Occurring During Anaerobic Digestion (Abdelgadir, A., et. al, 2014)\n",
        "</center>\n",
        " \n",
        "#### Hydrolysis\n",
        "The first step to anaerobic digestion is hydrolysis. This process is driven by hydrolytic enzymes that are secreted by microbes (Abdelgadir, A., et. al, 2014). These enzymes break down complex organic compounds into simpler compounds such as monomers. For example, polysaccharides such as cellulose will hydrolyze to sugars. \\\n",
        "$$Lipids \\rightarrow Fatty Acids$$\n",
        "$$Polysaccharides \\rightarrow Monosaccharides$$\n",
        "$$Protein \\rightarrow Amino Acids$$\n",
        "$$C_{24}H_{40}O_{20}:H_2O+3H_2O \\rightarrow 4C_6H_{12}O_6$$ \n",
        " \n",
        " \n",
        "#### Acidogenesis\n",
        "During acidogenesis, which is also known as fermentation, acidogenic bacteria transform the simpler compounds into carbon dioxide, hydrogen, ammonia, and organic acids. While most of the products from acidogenesis are substrates available for methanogenic microbes, approximately 30% of the products are short chain fatty acids or alcohols (K. M. Kangle, et. al 2011). Thus, acetogenesis is needed to break down the short chain fatty acids and alcohols.\n",
        "$$C_6H_{12}O_6\\rightarrow2CH_3CH_2OH+2CO_2$$\n",
        "$$C_6H_{12}O_6+2H_2\\rightarrow 2CH_3CH_2COOH+2H_2O$$\n",
        "$$C_6H_{12}O_6+2H_2O \\rightarrow 2CH_3COOH+2CO_2+4H_2$$\n",
        " \n",
        "#### Acetogenesis\n",
        "These short chain fatty acids and alcohols are next converted into carbon dioxide, acetic acid, and hydrogen by acetogenic bacteria. \n",
        "$$CH_3CH_2COO^-+3H_2O \\rightarrow CH_3COO^-+H^++HCO_3^-+3H_2$$\n",
        "$$C_6H_{12}O_6+2H_2O \\rightarrow 2CH_3COOH+2CO_2+4H_2$$\n",
        "$$CH_3CH_2OH+2H_2O \\rightarrow CH_3COO^-+2H_2+H^+$$\n",
        " \n",
        "#### Methanogenesis\n",
        "Finally, carbon dioxide, acetic acid, and hydrogen are transformed by methanogens into methane and carbon dioxide. Methanogens can be divided into two groups: acetate and H2/CO2 consumers. \n",
        "$$CH_3COOH \\rightarrow CH_4+CO_2$$\n",
        "$$CO_2+4H_2 \\rightarrow CH_4+2H_2O$$\n"
      ]
    },
    {
      "cell_type": "markdown",
      "metadata": {
        "id": "cEabODdHIXAR"
      },
      "source": [
        "### Measuring Reactor Performance\n",
        "Both biological oxygen demand (BOD) and chemical oxygen demand (COD) measure the amount of organic matter present in wastewater. BOD refers to the amount of dissolved oxygen needed by microorganisms to decompose organic waste (Gu et. al, 2013). In contrast, COD refers to the amount of oxygen needed to chemically oxidize the organic compounds present (Cazaudehore et. al, 2019). \n",
        " \n",
        "The BOD test is typically conducted at wastewater plants, even though measuring organic content in this way is not very practical. The biggest drawback to the BOD test is that it does not provide immediate feedback about water quality. The standard BOD test is conducted over a 5 day period, and the results are not read until the 5 day. This wait makes BOD tests unsuitable for determining short term trends in water quality. Additionally, the BOD test itself is extremely labor intensive and time consuming. In contrast, the COD test is relatively easy to conduct, and the results can be determined within 3-4 hours. \n",
        " \n",
        "Under certain conditions there is a correlation between the COD and BOD of a sample. The ratio of BOD to COD is called the biodegradability index (BI), and is highly dependent on the type of waste and reactor (Zarka, 2014). The biodegradability index can be found by creating a plot of BOD vs. COD values. BOD is typically 50% of COD in domestic wastewater. \n",
        "\n",
        "\n"
      ]
    },
    {
      "cell_type": "markdown",
      "metadata": {
        "id": "u3iW-D5jIeka"
      },
      "source": [
        "### Efficiency of UASB Reactors\n",
        "\n",
        "Some factors affecting the efficiency of UASB reactors are the temperature and pH. The ideal temperature for a UASB reactor should be around 35 °C (Ghaniyari-Benis et. al, 2009). Temperature affects the growth of microorganisms as well as BOD and COD removal (Abdelgadir et. al, 2014). For example, at 35 °C, bacteria can generate in 3 days. In 10°C, it can take up to 50 days for bacteria to generate (Escudie et. al, 2011). At 15 °C, COD removal can decrease to 50% from the optimal 70% (Khan et. al, 2011). Additionally, methane production can be affected by the temperature of the wastewater effluent. Although methane is relatively insoluble (Henry's constant = 776 bar•L/mol), the lower the temperature, the higher the methane solubility and therefore an increase in energy loss (Shoener et al,. 2014). Moreover, the optimal pH for microbial growth is 6.8 - 7.2 and low pH can inhibit methanogenesis (Latif et. al, 2011). The pH inside the granules can also affect the rate of substrate conversion (Saravanan et. al, 2006). Additionally, the structure of the granules can affect the efficiency of the UASB. Some models include the multi-layer model (Figure 20), syntrophic microcolony model, non-layered structure model, and granule cluster structure (Figure 21).\n",
        "\n",
        "\n",
        "<center>\n",
        " <p style=\"text-align: center;\">\n",
        "<img src=\"https://ars.els-cdn.com/content/image/1-s2.0-S0301479705003439-gr6.jpg\" height =100 />\n",
        "  </p>\n",
        "\n",
        "**Figure 20:** This figure is a multi-layer model of a granule with three layers (Saravanan et al., 2006). \n",
        "</center>\n",
        "\n",
        "\n",
        "<center>\n",
        " <p style=\"text-align: center;\">\n",
        "<img src=\"https://ars.els-cdn.com/content/image/1-s2.0-S0301479705003439-gr7.jpg\" height =100 /> \n",
        "  </p>\n",
        "\n",
        "**Figure 21:** This figure is a granule cluster structure with aggregates (Saravanan et al., 2006).\n",
        "</center>"
      ]
    },
    {
      "cell_type": "markdown",
      "metadata": {
        "id": "gjO2G3huIi1z"
      },
      "source": [
        "### Biogas Production Parameters\n",
        "\n",
        "The UASB reactor heavily relies on microorganisms to anaerobically breakdown organic matter in wastewater, a byproduct of which is biogas, more specifically, methane and carbon dioxide. As mentioned previously, biogas can be used as fuel for common household uses. Due to its reliance on live microorganisms, many factors and parameters contribute to the health of sludge granules, and therefore their production of biogas. These factors can also affect the cost and the efficiency of each reactor, and for the goals of supplying developing communities with wastewater treatment, it is best to keep costs low and the reactor efficient to ensure that the reactors are economically viable. Some parameters include, but are not limited to, pH, temperature, and hydraulic retention rate (Yadvika et al, 2004).\n",
        "\n",
        "In addition to additives, there are many operational parameters that can affect biogas production. One of the most important parameters being temperature. There are different ranges of temperature for anaerobic fermentation: psychrophilic, mesophilic, and thermophilic, each of which ranges from less than 30˚C, between 30˚C to 40˚C, and between 50˚C to 60˚C (Yadvika et al, 2004). The optimum temperature range (based on many studies) for an anaerobic digester is the mesophilic range. It is also favorable to construct reactors facing the sun to prevent drastic temperature drops (Yadvika et al, 2004).\n",
        "\n",
        "Another important parameter is pH. pH can vary a lot due to the biogas that microbes produce. The desired range for pH is 6.8 – 7.2, and fatty acid concentration should be less than 2000 mg/L (Yadvika et al, 2004). It was also found that biomethanation at pH 5.0 and 4.0 was 67% and 34% respectively relative to production at pH 7.0 (Jain et al, 1998). These findings indicate keeping these microbes in an optimal pH environment is crucial for biogas production.\n",
        "\n",
        "Hydraulic retention times (HRT) can also affect biogas production. Shorter retention times increases the risk of active bacteria leaving during the washout period, and longer retention times carry a larger financial burden, as it requires larger volume to support the same flow rate (Yadvika et al, 2004). Driven by the lower economic costs, researchers have tried to reduce HRT without compromising the production of biogas. It was found that the optimum period was 16 to 20 days (Yadvika et al, 2004).\n",
        "\n",
        "There have also been studies on how different additives like powdered leaves stimulate the production of biogas. A study of the effect of the addition of tomato-plant wastes to rabbit waste improved methane production by over 40%, given the same proportions of waste, for several hydraulic retention rates (Trujillo et al, 1993). These additives are economically feasible and produce great results, as seen by the much higher efficiency in biogas production. "
      ]
    },
    {
      "cell_type": "markdown",
      "metadata": {
        "id": "FLDOXtNqCtAW"
      },
      "source": [
        "### Ammonia Removal with Ammamox\n",
        "In current processes of removing ammonia and methane from the wastewater, there are a lot of methane emissions. Methane has a much greater global warming potential, 34 times that of carbon dioxide (IPCC, 2013). Due to this significant release of methane, wastewater treatment plants have a significantly higher carbon footprint than they would otherwise have (Daelman et al., 2014, Daelman et al., 2013).\n",
        "\n",
        "There have been attempts to curb this issue with minimal results thus far. One proposed solution was to couple denitrifying anaerobic methane oxidation (DAMO) organisms with Anammox. The pairing of these two processes would use methane and remove nitrogen (Chen et al., 2014, Shi et al., 2013). Annamox bacteria and DAMO organisms have slow growth rates (Jetten et al., 1997, Strous et al., 1998)(Ettwig et al., 2009, Kampman et al., 2012), so they are well paired with each other. One attempt to solve this problem was by Shi et al. (2013). They  developed an Anammox-DAMO biofilm in a biofilm reactor. The issue with their design was that in order to convert ammonium to nitrate it requires partial nitritation, but the dissolved methane would be stripped during aeration. Winkler et al. (2015) also came up with a design that would use Anammox bacteria and DAMO bacteria in a granular sludge reactor. Once again though, the partial nitration step coming before this would strip the methane.\n",
        "\n",
        "The design proposed by Xueming et al. (2015) is a membrane biofilm reactor which combines partial nitritation-Anammox and DAMO processes to remove ammonia and methane from the anaerobic digestion where oxygen is added. The study used total nitrogen and methane not methane and ammonia. The study found that after the simultaneous ammonium and dissolved methane removal from the anaerobic digestion liquor was able to remove ammonium, total nitrogen, and dissolved methane with efficiencies up to 99.5% for ammonia, 95.9%for nitrogen, and 93.4% for methane.\n",
        "\n",
        " Influent surface loading, oxygen surface loading, and biofilm thickness also have an impact on removal efficiency (Xueming et al. 2015). There are optimal values of each that will produce better results in gas removal. Biofilm thickness should be around 750um for optimal gas removal (Xueming et al. 2015). By adjusting the hydraulic retention time (HRT) and oxygen surface loading and keeping the biofilm thickness around 750um the removal efficiencies of methane can reach up to 98% and nitrogen removal can reach up to 96%. This information can be used to gain insight on simultaneously removing ammonia and methane (Xueming et al. 2015).\n",
        "\n",
        "\n",
        "The simulation by Xueming et al. (2015) was a small-scale replication of a real facility. The volume used was 1m^3 and the biofilm surface area of the reactor is 0.96m^3. Although this is a relatively small simulation compared to actual wastewater treatment plants, it is larger than the membrane reactor in Dr.Richardson’s lab. Something to consider when or if applying this study to the membrane reactor is that the simulation had a HRT of 4-8days which is a lot longer than the current membrane reactor’s HRT.\n",
        "\n",
        "The simulation by Xueming et al. (2015) also focused on nitrogen and methane so the projections of this study onto methane and ammonium are not confirmed at this time. It may not be feasible to measure biofilm thickness on the membrane reactor in the lab but it is possibly something that could be checked on in the small reactor in Dr.Richardson's lab and be modified in the future.\n"
      ]
    },
    {
      "cell_type": "markdown",
      "metadata": {
        "id": "7v8ogFCVEsOa"
      },
      "source": [
        "## Previous Work\n"
      ]
    },
    {
      "cell_type": "markdown",
      "metadata": {
        "id": "lHnuYHFJ47ci"
      },
      "source": [
        "### Summer 2016\n",
        "The UASB team was formed in the Summer of 2016. The objective of the team was to design and implement a functional lab-scale UASB reactor to treat synthetic blackwater. Blackwater is wastewater from toilets; synthetic blackwater is a mixture of proteins, lipids and starches mixed together (usually with a few other chemicals as well; recipes for synthetic wastewater vary) The team constructed four small-scale UASB reactors and found that those small-scale reactors could successfully treat synthetic wastewater. The team also found that increased wastewater concentration and higher residence times resulted in higher biogas removal and increased Chemical Oxygen Demand (COD) removal.\n",
        " \n",
        "\n",
        "\n"
      ]
    },
    {
      "cell_type": "markdown",
      "metadata": {
        "id": "-MDrUofNJTJq"
      },
      "source": [
        "### Fall 2016\n",
        "In the fall of 2016, the UASB team underwent several changes. First, the team altered the design of the small-scale UASB reactors by implementing shorter and narrower influent lines. The team also changed the synthetic wastewater recipe. More specifically, the team substituted glucose with insoluble carbon compounds. The team also researched retention time in the reactors with fluoride tracer tests, and found a HRT of 3.22 hours in one of the reactors (close to the target of 4 hours).\n",
        " "
      ]
    },
    {
      "cell_type": "markdown",
      "metadata": {
        "id": "D0ziPCc9JWeb"
      },
      "source": [
        "### Spring 2017\n",
        "During the spring of 2017, the team worked on assessing the efficiency of two modifications to the UASB reactor: plate settlers and the submerged gas collection lid. After conducting granule settling tests, the team was unable to conclude whether or not plate settlers significantly improve solid retention time. The team also conducted a Submerged Gas Capture Lid Test and concluded that a check valve would be useful to allow for continuous collection into a gas tank without the loss of biogas.\n",
        " "
      ]
    },
    {
      "cell_type": "markdown",
      "metadata": {
        "id": "evUAevktJb2c"
      },
      "source": [
        "### Summer 2017\n",
        "In the summer of 2017, the UASB team continued with similar research and testing to that of the Spring 2017 semester. This time, the team determined that large, bulky plate settlers were not required for a full scale reactor. Instead, a smaller settling apparatus, such as a sloped exit weir, can achieve similar sludge retention time (SRT).\n",
        " "
      ]
    },
    {
      "cell_type": "markdown",
      "metadata": {
        "id": "LUhr9htCJedX"
      },
      "source": [
        "### Fall 2017\n",
        "During the fall of 2017, the team made critical design assumptions such ass: a reactor diameter of 3 feet, a reactor height of 7 feet, a 4 hour hydraulic residence time, and a flow rate of .036 L/s. The team also designed a biogas capture lid. In this system, as biogas is produced in the reactor, it displaces water out from under the lid. Gas is then stored there until it is manually removed. In addition, the team wrote Python calculations in Jupyter notebook (available on GitHub) to estimate biogas production based on COD input. Finally, the team decided to add plate settlers back to the effluent tube to prevent dislodged granules from escaping the reactor and  worked on designing a sludge weir for the UASB reactor.\n",
        " "
      ]
    },
    {
      "cell_type": "markdown",
      "metadata": {
        "id": "g6MnP7EOJgvy"
      },
      "source": [
        "### Spring 2018\n",
        "UASB continued efforts to improve the design of the pilot-scale UASB reactor in Spring 2018. After extensive research, the team chose top influent flow - where the wastewater flows down the inlet pipe until it reaches the bottom of the tank -  in order to prevent clogs. Next, the team decided to incorporate pulse flow into the reactor through either a tipping bucket design or a siphon.\n",
        "UASB also worked on biogas production. The team wrote code to estimate COD concentration of influent, the temperature of the reactor, and biogas production rate based on the flow rate through the reactor. The team decided on a gas bag system to store biogas and also wrote code to determine the required volume and dimensions for the lid of the biogas system. The team looked into removal of fats, oils and greases (FOG) and developed a design for the pilot UASB reactor's sludge sampling and removal system. Lastly, the team wrote code to calculate the optimal size of the pilot UASB reactor's tube settler, the number of plates required, and the overall height of the settling arm.\n",
        " "
      ]
    },
    {
      "cell_type": "markdown",
      "metadata": {
        "id": "MHwjjB5DJkjr"
      },
      "source": [
        "### Summer 2018\n",
        "The summer team continued work on the hydraulic design of the UASB system.  The major design project was creating the tipping bucket system to deliver wastewater in pulses. The system consists of a pivoting bucket which fills with wastewater before tipping and delivering the wastewater in a large pulse at a high flow rate. After brainstorming the idea, the team designed and tested models to determine optimal design and flow rates for the system. The team also continued developing code for the entire system, and made a Computer Aided Design (CAD) [model of the UASB reactor](https://cornell47.autodesk360.com/g/shares/SH7f1edQT22b515c761e1224485004ae7e44?viewState=NoIgbgDAdAjCA0IDeAdEAXAngBwKZoC40ARXAZwEsBzAOzXjQEMyzd1C0IBOAEx4GYeAFgBsAWgBMjAGY8xQgKwTxjLl3H8A7KoBGEABwQd-IZrQBfEAF0gA) using Fusion 360.\n",
        " "
      ]
    },
    {
      "cell_type": "markdown",
      "metadata": {
        "id": "qTqZV4IGJms8"
      },
      "source": [
        "### Fall 2018\n",
        "During the fall of 2018, the team tested a benchtop UASB model in the lab. Because actual sludge granules were not readily available, the team used tapioca to model the sludge blanket. Tapioca has similar material properties as sludge, inexpensive and readily available made it a suitable alternate material. Red dye was added to the water to identify preferential paths in the UASB reactor. Preferential pathways are the uneven distribution of wastewater flow throughout the reactor; the presence of these make the UASB reactor less efficient.\n",
        "The result of the testing shows that the layer of tapioca did not lift entirely off the bottom of the reactor, but instead it stretched as influent “wastewater” traveled through it. The red dye in the influent revealed the formation of preferential pathways through the tapioca layer.\n",
        " "
      ]
    },
    {
      "cell_type": "markdown",
      "metadata": {
        "id": "DNiCalVYJoys"
      },
      "source": [
        "### Spring 2019\n",
        "During the Spring 2019 Semester, the team focused on completing a design for the UASB reactor that will be fabricated and tested at the Ithaca Area Wastewater Treatment Facility (IAWWTF). The team decided to make reactor canisters out of 10\" diameter clear PVC pipe, so that multiple reactors could be tested at the IAWWTF to determine whether or not pulsated flow affects reactor efficiency. To design the reactors, the team made a python class to represent the hydraulics of the UASB reactors and made an [onShape](https://cad.onshape.com/documents/5b375d42804fe92275d92ea2/w/cd20213a21780e7c93073fc1/e/88dae7ab80356e3bfbbda91f) model of the reactors.\n",
        " "
      ]
    },
    {
      "cell_type": "markdown",
      "metadata": {
        "id": "yQ6h7UObJqhp"
      },
      "source": [
        "### Summer 2019\n",
        "During the Summer of 2019, the team completed the fabrication of the first pilot pulsated UASB and brought it to the IAWWTF for installation. During fabrication, the team tested out the ideal pivot point on the tipping bucket to dump out a specific amount of water for each pulse, worked out kinks in the fabrication process such as gluing the flanges onto the 10” pipe, and wrote an extensive fabrication manual. \n",
        " "
      ]
    },
    {
      "cell_type": "markdown",
      "metadata": {
        "id": "LUB7hVcAJtWc"
      },
      "source": [
        "### Fall 2019\n",
        "In Fall 2019, a reactor with pulsed flow was installed at the Ithaca Area Wastewater Treatment Facility (IAWWTF) and sludge granules were added to initiate organic decomposition. The team monitored the growth of the sludge blanket throughout the semester. Near the end of the semester, the team ran one round of Biological Oxygen Demand (BOD), Chemical Oxygen Demand (COD), Phosphorus (PHOS), and Fecal Coliform (Bacti) tests on the effluent to assess its quality. The fecal coliform test indicated that the level of bacteria in the effluent is extremely high but UASBs are not usually meant to remove bacteria and pathogens. From the BOD and COD tests, the results showed that the UASB’s BOD and COD concentrations are about halfway between the wastewater plant’s influent and primary. \n",
        " "
      ]
    },
    {
      "cell_type": "markdown",
      "metadata": {
        "id": "mtFRLbGlJxyb"
      },
      "source": [
        "### Spring 2020\n",
        "At the start of Spring 2020, the team began to closely monitor select parameters of the installed UASB. pH, sludge blanket height, wet test meter/biogas produced, and room temperature were all recorded in [this spreadsheet](https://docs.google.com/spreadsheets/d/1PljL4R5JXXJFVJyiDmP10JYdl03GN7sYJFytbTsUkqQ/edit?usp=sharing). The temperature of Ithaca’s wastewater is significantly lower than 20˚C to 25˚C, which is the ideal temperature for the sludge granules. A temperature probe, heat tape, ProCoDa box, and relay box were installed to monitor the temperature of the effluent inside the reactor. However, the team was shut down due to the Covid-19 pandemic. The reactor was deconstructed and healthy sludge granules were found from inside the reactor.\n"
      ]
    },
    {
      "cell_type": "markdown",
      "metadata": {
        "id": "WSHRgnq7J0ER"
      },
      "source": [
        "### Fall 2020\n",
        "Due to the COVID-19 pandemic and construction at the Ithaca Area Wastewater Treatment Facility (IAWWTF), UASB research was paused for the Fall 2020 semester."
      ]
    },
    {
      "cell_type": "markdown",
      "metadata": {
        "id": "MU5rsJXfrp6y"
      },
      "source": [
        "### Spring 2021\n",
        "In Spring 2021, the team focused on troubleshooting the current gas collection system of the UASB reactor by comparing gas flow rate measurements from two different devices: a MilliGascounter and a wet test meter. The team ran [experiments](https://docs.google.com/spreadsheets/d/1bWQnL9i-dW9NmhcIrj8LvNhfsV0LHxXzFCJB4gBV9Aw/edit?usp=sharing) and found that the wet test meter was able to precisely and accurately measure gas flow rates down to 5 mL/min. The team’s model of the MilliGascounter will not work accurately for biogas due to chemical interactions, but the wet test meter is sufficient. The team also worked on compiling key design decisions and calculations into a concise and easily digestible [form](https://docs.google.com/document/d/164XzhqBxfKn19QAkwA88QqF6RE_DOA16t2av_1VrxHY/edit?usp=sharing).\n"
      ]
    },
    {
      "cell_type": "markdown",
      "metadata": {
        "id": "0yiuS3GRpElg"
      },
      "source": [
        "### Summer 2021\n",
        "During the Summer of 2021, the team worked on testing membrane biofilm reactors (MBFR) to potentially introduce as a polishing step to remove dissolved methane and ammonia from the UASB effluent. When testing the ammonia concentration of the influent and effluent of a MBFR, the results were 2.519866 mg N/L and 0.57179 mg N/L respectively. This shows that MBFR are efficient when it comes to nitrogen removal.\n"
      ]
    },
    {
      "cell_type": "markdown",
      "source": [
        "## Fall 2021\n",
        "\n",
        "In fall 2021, a series of tests were conducted that focused on pH, biogas production and efficiency, and ammonia. Litmus paper was used to test the pH of the effluent and a nearly neutral pH was detected, which indicates an environment where organic pollutants will not accumulate. To test the volume of biogas formed, a wet test meter was used; however, due to loose flanges, there were failures in the gas collection system of the UASB. To measure efficiency, the biogas went through gas chromatography tests to determine the composition of nitrogen, oxygen, and methane. The data revealed that no methane is found. From ammonia testing via color change and absorbance analysis, the change in ammonia concentration was almost the same after running the influent and effluent sourced from the IAWWTF. Subsequently, the team used membrane biofilm reactors to collect wastewater into a bag to trap gases. Only a permeable tube permitted the entry of oxygen to remove ammonia and dissolved methane. However, this test resulted in a significant amount of ammonia remaining in the effluent while having a loss of ammonium from the influent."
      ],
      "metadata": {
        "id": "O2xWdgH8yymc"
      }
    },
    {
      "cell_type": "markdown",
      "metadata": {
        "id": "A9c0Dr8rCujT"
      },
      "source": [
        "## Methods\n",
        "\n",
        "### UASB Measurements at the IAWWTF\n",
        "The team was able to get the UASB reactor running again at the IAWWTF this semester. The team collected data from the reactor such as pH, biogas production, and biogas efficiency. The influent and effluent was also analyzed using ammonia testing.\n",
        "\n",
        "#### Biogas Volume Measurement\n",
        "As mentioned briefly in the “Gas Collection Measuring & Storage System” in the “Introduction”, a wet test meter (Figure 13) is used to measure the volume of biogas being produced. This device measures gas volume because the dials will turn as gas passes through it. For more information on how to read a wet test meter, see the instructions in [this](https://docs.google.com/document/d/1HWJ884loZ8cqnuQFut8nooVC-YEBmlgIgDZ69sgw4No/edit?usp=sharing) document.\n",
        "\n",
        "#### Biogas Efficiency Measurement\n",
        "With the biogas collected, the team will determine the composition using gas chromatography. This is so the efficiency will be known when it comes to burning the biogas for energy. To do this, the team will burn a sample of the biogas in the gas chromatograph (Figure 22), which uses helium as a carrier gas. This machine will determine the nitrogen, oxygen, and methane composition in a gas mixture.\n",
        "\n",
        "<center>\n",
        " <p style=\"text-align: center;\">\n",
        "<img src=\"https://github.com/AguaClara/UASB/blob/master/Images/Gas%20Chromatograph.JPG?raw=true\" height =300 /> \n",
        "  </p>\n",
        "\n",
        "**Figure 22:** Gas chromatograph that uses helium as carrier gas to detect methane.\n",
        "</center>\n",
        "\n",
        "\n",
        "### Ammonia Testing\n",
        "An ammonia testing procedure from a previous project (former PhD student Edgidio, Richardson Lab) was used to find the ammonia levels of before and after running effluent through the UASB and membrane reactor to see whether there was a significant change. After the samples were prepared on a microplate, salicylate reagent, base solution, and hypochlorite reagent were mixed into each sample, which resulted in chemical reactions that led to the samples to change color. The color change was dependent on the ammonia levels present in the sample. Duplicates were made each time to ensure that the readings were precise. The TECAN machine was then used to measure the absorbance of the colors. The absorbance was translated into ammonia concentration by the machine’s corresponding software (Magellan V 7.1).\n",
        "\n",
        "<center>\n",
        " <p style=\"text-align: center;\">\n",
        "<img src=\"https://github.com/AguaClara/UASB/blob/master/Images/TECAN%20Machine.png?raw=true\" height =300 /> \n",
        "  </p>\n",
        "\n",
        "**Figure 23:** TECAN machine and Magellan V 7.1 Software used\n",
        "</center>\n",
        "\n",
        "### COD Testing\n",
        "\n",
        "A standard COD procedure was used to find the COD levels of UASB influent and effluent as well as of the Membrane Reactor Effluent. A standard curve was developed using a commercially purchased COD standard solution (1000mg/L) and diluting it to several different levels. Then, the true samples were mixed with COD vial solution, a strong oxidizer, to fully digest all bioavailable carbon in the samples. The vials holding these mixtures were heated at 150 degrees C for 2 hours and then allowed to cool. Then using a TECAN machine (Figure 23) the samples were measured for their absorbance at 620nm wavelength and these values were compared to the standards developed earlier to determine the COD of the samples in mg/L.\n",
        "\n",
        "### Membrane Reactor Set-Up\n",
        "\n",
        "Wastewater was fed into a 800 mL membrane reactor (Figure 24) using a peristaltic pump (1.3 mL/min flow rate) for a retention time of about 11 hours. The wastewater was collected from the UASB effluent into a collapsible bag to eliminate headspace so that no gas can diffuse into the sample. The membrane reactor has tubing connected to the cap. This tubing is permeable and oxygen from a tank is pumped into it at low concentrations to help the inoculant grow and remove ammonia and dissolved methane. \n",
        "\n",
        "\n",
        "<center>\n",
        "<p style=\"text-align: center;\">\n",
        "<img src=\"https://github.com/AguaClara/UASB/blob/master/Images/lab%20set-up%20membrane.JPG?raw=true\" height =300 /> \n",
        "  </p>\n",
        "\n",
        "**Figure 24:** Lab Set-Up of Membrane Reactor\n",
        "</center>\n"
      ]
    },
    {
      "cell_type": "markdown",
      "source": [
        "## Results and Analysis\n",
        "#### Carboy Gas Composition Measurement\n",
        "<center>\n",
        "\n",
        "**Table 1:** Pure Nitrogen Gas Composition (03/19/22)\n",
        "\n",
        "| Peak | Peak Area | \n",
        "| :---: | :---: |\n",
        "| 1 | 1.65 |\n",
        "| 2 | 116.2 |\n",
        "\n",
        "\n",
        "**Table 2:** Room Air Composition (02/20/22)\n",
        "\n",
        "| Peak | Time (min) | Peak Area | \n",
        "| :---: | :---: | :---: |\n",
        "| 1 | 0.48 | 21.48 |\n",
        "| 2 | 0.94 | 81.16 |\n",
        "\n",
        "\n",
        "\n",
        "</center>\n",
        "\n",
        "<center>\n",
        "\n",
        "<img src=\"https://github.com/AguaClara/UASB/blob/master/Screenshot%202022-03-29%20005449%20(1).png?raw=true\" height = 300 />\n",
        "\n",
        "**Figure 25:** Curve for Oxygen Partial Pressure\n",
        "\n",
        "</center>\n",
        "\n",
        "Gas Chromatography readings of pure nitrogen and room air were used to create a curve (Figure 25) to convert Peak Area to Partial Pressure in future Gas Chromatography readings.\n",
        "\n",
        "<center>\n",
        "\n",
        "**Table 3:** Carboy Gas Composition from Gas Chromatograph after Nitrogen Gas Flush (No Inner Tube) (03/27/22)\n",
        "\n",
        "3 Minutes After Nitrogen Flush\n",
        "\n",
        "| Peak | Peak Area | \n",
        "| :---: | :---: |\n",
        "| 1 | 8.25 |\n",
        "| 2 | 96.7 |\n",
        "\n",
        "20 Minutes After Nitrogen Flush\n",
        "\n",
        "| Peak | Peak Area | \n",
        "| :---: | :---: |\n",
        "| 1 | 8.9 |\n",
        "| 2 | 102.6 |\n",
        "\n",
        "2 Hours After Nitrogen Flush\n",
        "\n",
        "| Peak | Peak Area | \n",
        "| :---: | :---: |\n",
        "| 1 | 8.57 |\n",
        "| 2 | 103 |\n",
        "\n",
        "24 Hours After Nitrogen Flush\n",
        "\n",
        "| Peak | Peak Area | \n",
        "| :---: | :---: |\n",
        "| 1 | 8.49 |\n",
        "| 2 | 96.24 |\n",
        "\n",
        "</center>\n",
        "\n",
        "<center>\n",
        "<img src=\"https://github.com/AguaClara/UASB/blob/master/Screenshot%202022-04-29%20202908.png?raw=true\" height = 300 />\n",
        "\n",
        "**Figure 26:** Readings from Table 3 Added to the Curve.\n",
        "\n",
        "</center>\n",
        "\n",
        "Peak 1 indicates the peak area in microvolt-s of oxygen and Peak 2 indicates the peak area of nitrogen. If seen, the third peak indicates the concentration of methane. The data shows that the gas sample from the Carboy has approximately no oxygen present after being flushed with nitrogen gas. Thus, this can approximately be correlated to a partial pressure of zero for oxygen and the following relationship can be defined.\n",
        "\n",
        "  Using this regression line, it can be determined that after one day, the average partial pressure of O2 in the Carboy over 3 trials is 0.0103 atm. This means that the Carboy is sealed well and very little O2 is able to enter the space. \n",
        "\n",
        "#### Carboy Gas Composition Measurement with Bike Inner Tube\n",
        "\n",
        "In order to determine if a bike inner tube can diffuse oxygen from inside to outside, an inner tube filled with room air was placed inside the carboy. Then the carboy was flushed with nitrogen gas and GC readings were done over time.\n",
        "\n",
        "<center>\n",
        "\n",
        "**Table 4:** Carboy Gas Composition from Gas Chromatograph after Nitrogen Gas Flush (With Inner Tube) (03/27/22)\n",
        "\n",
        "3 Minutes After Nitrogen Flush\n",
        "\n",
        "| Peak | Peak Area | \n",
        "| :---: | :---: |\n",
        "| 1 | 2.86 |\n",
        "| 2 | 108.2 |\n",
        "\n",
        "24 Hours After Nitrogen Flush\n",
        "\n",
        "| Peak | Peak Area | \n",
        "| :---: | :---: |\n",
        "| 1 | 3.79 |\n",
        "| 2 | 97.00 |\n",
        "\n",
        "5 Days After Nitrogen Flush\n",
        "\n",
        "| Peak | Peak Area | \n",
        "| :---: | :---: |\n",
        "| 1 | 8.85 |\n",
        "| 2 | 93.01 |\n",
        "\n",
        "26 Days After Nitrogen Flush\n",
        "\n",
        "| Peak | Peak Area | \n",
        "| :---: | :---: |\n",
        "| 1 | 1.89 |\n",
        "| 2 | 7.63 |\n",
        "\n",
        "\n",
        "<img src=\"https://github.com/AguaClara/UASB/blob/master/Screenshot%202022-04-29%20205310.png?raw=true\" height = 300 />\n",
        "\n",
        "**Figure 27:** Readings from Table 4 added to the Curve.\n",
        "\n",
        "</center>\n",
        "\n",
        "It is clear that over time some Oxygen did diffuse into the Carboy Space (Figure 27). Further research will need to be done to determine whether this was from a leak or other error, however.\n",
        "\n",
        "\n",
        "###Gas Chromatography for the Membrane Reactor\n",
        "Gas chromatography was run on the gas in the headspace of the membrane reactor throughout February to April 2022.\n",
        "\n",
        "<center>\n",
        "<img src=\"https://github.com/AguaClara/UASB/blob/master/Images/MembraneReactorGC_SP22.jpg?raw=true\" height = 300 />\n",
        "\n",
        "**Figure 28:** Membrane Reactor Gas Chromatography for Oxygen, Nitrogen, and Methane\n",
        "\n",
        "</center>\n",
        "These results show a decrease in methane gas in the headspace of the membrane reactor over the months testing was done. Nitrogen was less stable but there are not enough data points to determine whether there are outliers or if the nitrogen levels in the headspace are fluctuating. Oxygen seemed to increase presence over the few months then decrease again, but for the most part it stayed around the same partial pressure indicating it was not changing too much.\n",
        "\n",
        "###Ammonium Assay\n",
        "<center>\n",
        " \n",
        "**Table 5:** Absorbances of Influent and Effluent Samples of the UASB Reactor\n",
        " \n",
        "| Sample | TECAN Run 1 | TECAN Run 2 | Avg of 2 Runs | mg N / L |\n",
        "| :---: | :---: | :---: | :---: | :---: |\n",
        "| STD6 | 0.357 | 0.480 | 0.4185 | 2 |\n",
        "| STD5 | 0.169 |0.166|0.1675| 1 |\n",
        "| STD4 | 0.094|0.095|0.0945| 0.5 |\n",
        "| STD3 | 0.061|0.037|0.049| 0.25 |\n",
        "| STD2 | 0.047|0.074|0.0605| 0.125 |\n",
        "| Blank | 0.038|0.04|0.039| 0 |\n",
        "| UASB Influent Sample | 0.236|0.298|0.267|**1.278** |\n",
        "| UASB Effluent Sample | 0.286|0.304|0.295|**1.415** |\n",
        "|BFMR Effluent Sample | 0.347|0.345|0.346|**1.666**|\n",
        "\n",
        "\n",
        "<img src=\"https://github.com/AguaClara/UASB/blob/master/Images/Ammonium_Testing_03292022.png?raw=true\" height = 300 />\n",
        "\n",
        "**Figure 29:** Standard Curve of Ammonium Concentration to Absorbance\n",
        "\n",
        "</center>\n",
        "\n",
        "According to the standard curve (Figure 29), the unknown concentrations of ammonium in the UASB influent, UASB effluent, and the membrane reactor effluent are 1.30 mg N/L, 1.44 mg N/L, and 1.71 mg N/L, respectively. According to this data, the concentration of ammonium is increasing as the wastewater progresses through treatment. However, this data is not reflective of the ammonium concentration in fresh wastewater. The influent and effluent samples were stored for over a week before the ammonium assay occured. During this time, the ammonium could have been decomposed by the microbes in the water, resulting in the decrease in ammonium concentration. The actual concentration of ammonium in both the influent and effluent of UASB should be much higher. Since the effluent of the membrane reactor was collected within less than an hour of testing, the concentration is reflective of the actual ammonium concentration in the sample. An ammonium concentration of 1.71 mg N/L is quite low, which shows that the membrane reactor is removing ammonium.\n",
        "\n",
        "<center>\n",
        "<img src=\"https://github.com/AguaClara/UASB/blob/master/Images/Screen%20Shot%202022-04-29%20at%2011.16.56%20PM.png?raw=true\" height = 300 />\n",
        "\n",
        "**Figure 30:** Ammonium Concentration Measured \n",
        "</center>\n",
        "\n",
        "Ammonium concentration was calculated for weekly samples that were collected from March 15th 2022 to April 14th 2022. The results are shown in Figure 29. The graph shows consistency for the most part with the ammonium concentrations for the UASB influent, UASB effluent, and BioFilm Membrane Reactor being similar. Figure 30 also shows the the membrane reactor was not removing but adding ammonium to the influent in the beginning, which could have been the effects of many factors. One factor being that protein degradation results in the release of amine groups, which can reactor with other molecules in the influent to make ammonium. As the wastewater sits for longer periods of time, protein degradation is more likely to happen. Another reason could have been due to the fact that the membrane reactor took a bit of time to adjust when it was initially turned on. Further testing is needed. \n",
        "\n",
        "\n",
        "### COD Assay\n",
        "\n",
        "<center>\n",
        "<img src=\"https://github.com/AguaClara/UASB/blob/master/Images/COD_Testing_03292022.png?raw=true\" height = 300 />\n",
        "\n",
        "**Figure 31:** Standard Curve of COD Concentration to Absorbance\n",
        "\n",
        "</center>\n",
        "\n",
        "According to the standard curve (Figure 31), the unknown concentrations of COD in the UASB influent and UASB effluent for the samples taken on 03/21/2022 are 180.2 mg N/L and 100.2 mg N/L, respectively, which shows a 44.4% removal rate. The unknown concentrations of COD in the UASB influent, UASB effluent, and the membrane reactor effluent for the samples taken on 03/22/2022 are 211.8 mg N/L, 197.7 mg N/L, and 106.0 mg N/L, respectively, which shows a 6.68% removal rate for the UASB. The significantly lower removal rate could have been due to the dirty storage container that was used to store the effluent of the UASB. The initial test is more representative of the removal rate of COD in the UASB.\n",
        "\n"
      ],
      "metadata": {
        "id": "MriTGZPYXUjJ"
      }
    },
    {
      "cell_type": "markdown",
      "source": [
        "## Conclusions\n",
        "The team has learned that the aforementioned methods are quite successful in reducing O2 and achieving an ideal ammonium concentration in influent and effluent samples. The next steps of action for the team is to reduce sources of error, including sample collection methods. For instance, in gas chromatography, the goal is to minimize the amount of room air that can interfere with the biogas sample. For collecting samples from the reactor, clean tanks must be used for accurate results as proven by the COD assay results. The team’s findings for this term indicate that the tests for wastewater are effective, so the team will continue to investigate the testing procedures but with a more frequent, consistent routine with new samples freshly sourced from the IAWWTF."
      ],
      "metadata": {
        "id": "bPNHoNOnXgpU"
      }
    },
    {
      "cell_type": "markdown",
      "metadata": {
        "id": "QbOeP4KiC7p2"
      },
      "source": [
        "## Future Work\n",
        "Now that the prototype membrane reactor is up and running the team is going to be working on a membrane reactor with a 20L capacity. The first step is going to be calculating the surface area needed on the reactor tubing and fitting and sealing the head unit on the reactor. The plan is to use bike tubing for the permeation tubing as it is more accessible than specific lab tubing. Another thing to consider is that currently the prototype reactor is wrapped in tin foil to prevent sunlight from reaching the fluid in the reactor and causing unwanted growth that would not typically occur when the membrane reactor is actually in use. The vesicle that is going to be used for the upscale is opaque and will likely let in less light, but it may still be necessary to lessen the light input even more.\n",
        "\n",
        "Another thing that is in the future works is increased COD testing. COD testing has been done once thus far this semester and the plan is to up this to once every 2-4 weeks in order to keep evaluating the state of the reactor and tweak things as needed. Continuing COD testing, ammonium testing, and gas chromatography will be increasingly important as the large scale membrane reactor is set up in order to ensure it is working like the prototype and how it should work.\n",
        "\n",
        "\n",
        "Finally, continuing the work from previous semesters in sealing the UASB at the IWWTP so that gas can be collected is going to be a focus.\n"
      ]
    },
    {
      "cell_type": "markdown",
      "source": [
        "#Manual\n",
        "\n",
        "###About the UASB Reactor\n",
        "\n",
        "About the Membrane Reactor\n",
        "The membrane reactor is sequentially after the UASB reactor. The effluent from the UASB reactor is then fed into the membrane reactor. Effluent is taken from the UASB reactor at the IAWWTF and brought to the lab to be used as membrane reactor influent. The UASB effluent is stored in the flexible bags in the fridge until use. The flow rate of the reactor is 1.872L/day so UASB Subteam members must be sure to check on the reactor every few days to ensure there is water left in the bag and to empty the Membrane reactor effluent. \n",
        "\n",
        "###Experiments and Testing\n",
        "All of the following tests are run on UASB reactor influent, UASB reactor effluent, and Membrane reactor effluent.\n",
        "\n",
        "Ammonium testing\n",
        "Ammonium testing can be done regularly as changes are made to the UASB and membrane reactors to gauge how changes are impacting the water treatment. The TECAN in the Gu lab is used because the one in the Richardson lab is not working at the moment. Group members should coordinate with Gu Lab to use their TECAN when necessary. Procedure for ammonium testing can be found below.\n",
        "\n",
        "https://github.com/AguaClara/UASB/blob/master/Ammonium%20Microplate%20Protocol_EFT.pdf\n",
        "\n",
        "####COD testing\n",
        "The standard curve for COD testing only needs to be done the first time the test is being run. For any subsequent tests the original standard curve can be used. Procedure for the COD testing can be found below.\n",
        "\n",
        "https://github.com/AguaClara/UASB/blob/master/Chemical%20Oxygen%20Demand.pdf\n",
        "\n",
        "####Gas Chromatography\n",
        "Biogas was collected from the UASB membrane reactor containing the effluent. The composition of gasses is determined via gas chromatography by using a helium gas carrier. Different peaks presented on the monitor will indicate the composition of nitrogen, oxygen, and methane (increasing atomic mass order) in each sample. Procedure for the gas chromatography testing can be found below.\n",
        "\n",
        "https://github.com/AguaClara/UASB/blob/master/Gas%20Chromatograph%20(GC)%20Operation%20in%20Hollister%20152.pdf\n",
        "\n",
        "\n",
        "####Turbidity\n",
        "Turbidity testing can be done every once in a while to check in on how many particles are in the water samples. The two small jars on the left side of the case are filled with samples for testing and should be rinsed and put back after use. The procedure for turbidity testing can be found below."
      ],
      "metadata": {
        "id": "tsv1SRRp2-n7"
      }
    },
    {
      "cell_type": "markdown",
      "metadata": {
        "id": "SUMdPWfy0Zyk"
      },
      "source": [
        "## Bibliography\n",
        "Abbasi, T., & Abbasi, S. A. (2012). Formation and impact of granules in    fostering clean energy production and wastewater treatment in upflow anaerobic sludge blanket (UASB) reactors. Renewable and Sustainable Energy Reviews, 16(3), 1696–1708. https://doi.org/10.1016/j.rser.2011.11.017\n",
        "\n",
        "Abdelgadir, A., Chen, X., Liu, J., Xie, X., Zhang, J., Zhang, K., Wang, H., & Liu, N. (2014). Characteristics, Process Parameters, and Inner Components of Anaerobic Bioreactors. BioMed Research International, 2014, e841573. https://doi.org/10.1155/2014/841573\n",
        "\n",
        "Cazaudehore, G., Schraauwers, B., Peyrelasse, C., Lagnet, C., & Monlau, F. (2019). Determination of chemical oxygen demand of agricultural wastes by combining acid hydrolysis and commercial COD kit analysis. Journal of Environmental Management, 250, 109464. https://doi.org/10.1016/j.jenvman.2019.10946\n",
        "\n",
        "Chen, X., Guo, J., Xie, G.-J., Liu, Y., Yuan, Z., & Ni, B.-J. (2015). A new approach to simultaneous ammonium and dissolved methane removal from anaerobic digestion liquor: A model-based investigation of feasibility. Water Research, 85, 295–303.\n",
        "\n",
        "Chen, Z. (2017). Upflow Anaerobic Sludge Blanket (UASB), Summer 2017. AguaClara Cornell. Retrieved from https://www.overleaf.com/project/5e47ee48580a4b0001012158\n",
        "\n",
        "Chernicharo, C. A. de L., Sperling, M. von, & Chernicharo, C. A. de L. (2007). Anaerobic reactors. IWA Publ.\n",
        "\n",
        "Chong, S., Sen, T. K., Kayaalp, A., & Ang, H. M. (2012). The performance enhancements of upflow anaerobic sludge blanket (UASB) reactors for domestic sludge treatment – A State-of-the-art review. Water Research, 46(11), 3434–3470. https://doi.org/10.1016/j.watres.2012.03.066\n",
        "\n",
        "Escudié, R., Cresson, R., Delgenès, J.-P., & Bernet, N. (2011). Control of start-up and operation of anaerobic biofilm reactors: An overview of 15 years of research. Water Research, 45(1), 1–10. https://doi.org/10.1016/j.watres.2010.07.081\n",
        "\n",
        "Ghaniyari-Benis, S., Borja, R., Monemian, S. A., & Goodarzi, V. (2009). Anaerobic treatment of synthetic medium-strength wastewater using a multistage biofilm reactor. Bioresource Technology, 100(5), 1740–1745. https://doi.org/10.1016/j.biortech.2008.09.046\n",
        "\n",
        "Gu, J.-J., Hu, H.-C., Chai, X.-S., Tian, Y.-X., Barnes, D. G., & Huang, S. (2013). A new method for the determination of biological oxygen demand in domestic wastewater by headspace gas chromatography. Journal of Chromatography A, 1308, 32–36. https://doi.org/10.1016/j.chroma.2013.07.098\n",
        "\n",
        "Jain, S., Mattiasson, B. Acclimatization of Methanogenic Consortia for Low pH Biomethanation Process. Biotechnology Letters 20, 771–775 (1998). https://doi.org/10.1023/B:BILE.0000015920.45724.29\n",
        "\n",
        "Kangle, K., Kore, S., & S, K. (2011). Recent Trends in Anaerobic Codigestion: A Review. Universal Journal of Environmental Research and Technology 2249 0256, 2, 210–219.\n",
        "\n",
        "Kassab, G., Halalsheh, M., Klapwijk, A., Fayyad, M., & van Lier, J. B. (2010). Sequential anaerobic–aerobic treatment for domestic wastewater – A review. Bioresource Technology, 101(10), 3299–3310. https://doi.org/10.1016/j.biortech.2009.12.039\n",
        "\n",
        "Khan, A. A., Gaur, R. Z., Tyagi, V. K., Khursheed, A., Lew, B., Mehrotra, I., & Kazmi, A. A. (2011). Sustainable options of post treatment of UASB effluent treating sewage: A review. Resources, Conservation and Recycling, 55(12), 1232–1251. https://doi.org/10.1016/j.resconrec.2011.05.017\n",
        "\n",
        "Latif, M. A., Ghufran, R., Wahid, Z. A., & Ahmad, A. (2011). Integrated application of upflow anaerobic sludge blanket reactor for the treatment of wastewaters. Water Research, 45(16), 4683–4699. https://doi.org/10.1016/j.watres.2011.05.049\n",
        "\n",
        "Logan, B. E., Hermanowicz, S. W., & Parker,A. S. (1987). A Fundamental Model for Trickling Filter Process Design. Journal (Water Pollution Control Federation), 59(12), 1029–1042.\n",
        "\n",
        "Ma, X. (Cissy), Xue, X., González-Mejía, A., Garland, J., & Cashdollar, J. (2015). Sustainable Water Systems for the City of Tomorrow—A Conceptual Framework. Sustainability, 7(9), 12071–12105. https://doi.org/10.3390/su70912071\n",
        "\n",
        "Mittal, Arun. “Biological Wastewater Treatment.” Water Today, Aug. 2011, pp. 32–44\n",
        "\n",
        "Nathalie Dyane Miranda Slompo, Larissa Quartaroli, Grietje Zeeman, Gustavo Henrique Ribeiro da Silva, Luiz Antonio Daniel; Black water treatment by an upflow anaerobic sludge blanket (UASB) reactor: a pilot study. Water Sci Technol 15 October 2019; 80 (8): 1505–1511. doi: https://doi.org/10.2166/wst.2019.402\n",
        "\n",
        "Saravanan, V., & Sreekrishnan, T. R. (2006). Modelling anaerobic biofilm reactors—A review. Journal of Environmental Management, 81(1), 1–18. https://doi.org/10.1016/j.jenvman.2005.10.002\n",
        "\n",
        "Shoener, B. D., Bradley, I. M., Cusick, R. D., & Guest, J. S. (2014). Energy positive domestic wastewater treatment: The roles of anaerobic and phototrophic technologies. Environmental Science: Processes & Impacts, 16(6), 1204–1222. https://doi.org/10.1039/C3EM00711A\n",
        "\n",
        "Slompo, N. D. M., Quartaroli, L., Zeeman, G., da Silva, G. H. R., & Daniel, L. A. (2019). Black water treatment by an upflow anaerobic sludge blanket (UASB) reactor: A pilot study. Water Science and Technology, 80(8), 1505–1511. https://doi.org/10.2166/wst.2019.402\n",
        "\n",
        "Trujillo, D., Pérez, J., & Cebreros, F. (1993). Energy recovery from wastes. anaerobic digestion of tomato plant mixed with rabbit wastes. Bioresource Technology, 45(2), 81-83. doi:10.1016/0960-8524(93)90093-q\n",
        "\n",
        "WWAP (United Nations World Water Assessment Programme). 2017. The United Nations World Water Development Report 2017: Wastewater, The Untapped Resource. Paris, UNESCO.\n",
        "Yadvika, Santosh, Sreekrishnan, T., Kohli, S., & Rana, V. (2004). Enhancement of biogas production from solid substrates using different techniques––a review. Bioresource Technology, 95(1), 1-10. doi:10.1016/j.biortech.2004.02.010\n",
        "Zarka, E., Damietta, Gamalia, E., Dakahlia, E., Mubarak, E., & Alexandria. (2014). Correlation between Biochemical Oxygen Demand and Chemical Oxygen Demand for Various Wastewater Treatment Plants in Egypt to Obtain the Biodegradability Indices. https://pdfs.semanticscholar.org/2629/9e0f5b734f1b1b14de684c79caa4d91f081b.pdf \n",
        "\n"
      ]
    }
  ]
}